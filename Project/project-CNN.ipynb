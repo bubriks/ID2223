{
  "cells": [
    {
      "cell_type": "markdown",
      "metadata": {
        "id": "view-in-github",
        "colab_type": "text"
      },
      "source": [
        "<a href=\"https://colab.research.google.com/github/bubriks/ID2223/blob/main/Project/project-CNN.ipynb\" target=\"_parent\"><img src=\"https://colab.research.google.com/assets/colab-badge.svg\" alt=\"Open In Colab\"/></a>"
      ]
    },
    {
      "cell_type": "markdown",
      "metadata": {
        "id": "3jCcesIbBRF5"
      },
      "source": [
        "# **Course Project: Scalable Machine Learning and Deep Learning**\n",
        "\n",
        "## **Paolo Teta & Ralfs Zangis**\n",
        "---"
      ],
      "id": "3jCcesIbBRF5"
    },
    {
      "cell_type": "markdown",
      "metadata": {
        "id": "OH6yJ9UQB9Q8"
      },
      "source": [
        "# **Requirements**"
      ],
      "id": "OH6yJ9UQB9Q8"
    },
    {
      "cell_type": "markdown",
      "metadata": {
        "id": "0YkY6LiYBRF8"
      },
      "source": [
        "**Spark**"
      ],
      "id": "0YkY6LiYBRF8"
    },
    {
      "cell_type": "code",
      "execution_count": 1,
      "metadata": {
        "id": "ubHtKe02BRF9",
        "outputId": "446580e8-6e12-4994-dc58-6e2df10cce16",
        "colab": {
          "base_uri": "https://localhost:8080/"
        }
      },
      "outputs": [
        {
          "output_type": "stream",
          "name": "stdout",
          "text": [
            "Collecting pyspark\n",
            "  Downloading pyspark-3.2.0.tar.gz (281.3 MB)\n",
            "\u001b[K     |████████████████████████████████| 281.3 MB 39 kB/s \n",
            "\u001b[?25hCollecting py4j==0.10.9.2\n",
            "  Downloading py4j-0.10.9.2-py2.py3-none-any.whl (198 kB)\n",
            "\u001b[K     |████████████████████████████████| 198 kB 46.8 MB/s \n",
            "\u001b[?25hBuilding wheels for collected packages: pyspark\n",
            "  Building wheel for pyspark (setup.py) ... \u001b[?25l\u001b[?25hdone\n",
            "  Created wheel for pyspark: filename=pyspark-3.2.0-py2.py3-none-any.whl size=281805912 sha256=c1aa21514e946fe9c7680c002a2619c37dd88c7e2d85dba1ee87ea84a31f0ae4\n",
            "  Stored in directory: /root/.cache/pip/wheels/0b/de/d2/9be5d59d7331c6c2a7c1b6d1a4f463ce107332b1ecd4e80718\n",
            "Successfully built pyspark\n",
            "Installing collected packages: py4j, pyspark\n",
            "Successfully installed py4j-0.10.9.2 pyspark-3.2.0\n"
          ]
        }
      ],
      "source": [
        "!pip install pyspark\n",
        "\n",
        "from pyspark.sql import SparkSession\n",
        "from pyspark.sql.functions import *\n",
        "from pyspark.sql.types import *\n",
        "\n",
        "spark = SparkSession.builder.getOrCreate()"
      ],
      "id": "ubHtKe02BRF9"
    },
    {
      "cell_type": "markdown",
      "metadata": {
        "id": "zhXHoVtkBRF_"
      },
      "source": [
        "**Tensorflow**"
      ],
      "id": "zhXHoVtkBRF_"
    },
    {
      "cell_type": "code",
      "execution_count": 2,
      "metadata": {
        "id": "0wtbM0o_BRGA"
      },
      "outputs": [],
      "source": [
        "import tensorflow as tf\n",
        "\n",
        "from tensorflow import keras"
      ],
      "id": "0wtbM0o_BRGA"
    },
    {
      "cell_type": "markdown",
      "metadata": {
        "id": "a6qLl3jyBRGA"
      },
      "source": [
        "**Other**"
      ],
      "id": "a6qLl3jyBRGA"
    },
    {
      "cell_type": "code",
      "execution_count": 3,
      "metadata": {
        "id": "PL9NvKp7BRGB"
      },
      "outputs": [],
      "source": [
        "import numpy as np\n",
        "import matplotlib.pyplot as plt"
      ],
      "id": "PL9NvKp7BRGB"
    },
    {
      "cell_type": "markdown",
      "source": [
        "**Mount Google Drive**"
      ],
      "metadata": {
        "id": "zwnmOi5jbqsG"
      },
      "id": "zwnmOi5jbqsG"
    },
    {
      "cell_type": "code",
      "source": [
        "from google.colab import drive\n",
        "drive.mount('/content/drive')"
      ],
      "metadata": {
        "id": "7wV13mPobxB6",
        "outputId": "bb2b9e3d-16a1-433c-d1c6-f57b13fa495b",
        "colab": {
          "base_uri": "https://localhost:8080/"
        }
      },
      "id": "7wV13mPobxB6",
      "execution_count": 4,
      "outputs": [
        {
          "output_type": "stream",
          "name": "stdout",
          "text": [
            "Mounted at /content/drive\n"
          ]
        }
      ]
    },
    {
      "cell_type": "markdown",
      "metadata": {
        "id": "ETeRQpNeBRGB"
      },
      "source": [
        "---\n",
        "# **1. Get the data**"
      ],
      "id": "ETeRQpNeBRGB"
    },
    {
      "cell_type": "markdown",
      "source": [
        "**Link:** https://drive.google.com/file/d/1Du-gZz1LU-StWbahzckG1EmSLC-FuW5S/view?usp=sharing"
      ],
      "metadata": {
        "id": "eomw05S-d1zQ"
      },
      "id": "eomw05S-d1zQ"
    },
    {
      "cell_type": "code",
      "execution_count": 7,
      "metadata": {
        "id": "-HfN5B73BRGC"
      },
      "outputs": [],
      "source": [
        "schema = StructType([\n",
        "    StructField(\"emotion\", IntegerType(), True),\n",
        "    StructField(\"pixels\", StringType(), True),\n",
        "    StructField(\"Usage\", StringType(), True)])\n",
        "\n",
        "data = spark.read.csv(\"/content/drive/MyDrive/Colab Notebooks/dataset-project.csv\", header=True, schema=schema)\n",
        "data = data.withColumn(\"id\",monotonically_increasing_id())\n",
        "data = data.withColumn(\"pixels\",split(col(\"pixels\"),\" \").cast(\"array<int>\"))"
      ],
      "id": "-HfN5B73BRGC"
    },
    {
      "cell_type": "markdown",
      "metadata": {
        "id": "M7dQEVh0BRGI"
      },
      "source": [
        "---\n",
        "# **2. Look at the data**"
      ],
      "id": "M7dQEVh0BRGI"
    },
    {
      "cell_type": "code",
      "execution_count": 8,
      "metadata": {
        "id": "pNiAlZzkBRGJ",
        "outputId": "7dc51f3c-86e1-44bc-c8a9-d9995f7e72ec",
        "colab": {
          "base_uri": "https://localhost:8080/"
        }
      },
      "outputs": [
        {
          "output_type": "stream",
          "name": "stdout",
          "text": [
            "root\n",
            " |-- emotion: integer (nullable = true)\n",
            " |-- pixels: array (nullable = true)\n",
            " |    |-- element: integer (containsNull = true)\n",
            " |-- Usage: string (nullable = true)\n",
            " |-- id: long (nullable = false)\n",
            "\n",
            "(35887, 4)\n"
          ]
        }
      ],
      "source": [
        "data.printSchema()\n",
        "print((data.count(), len(data.columns)))"
      ],
      "id": "pNiAlZzkBRGJ"
    },
    {
      "cell_type": "code",
      "execution_count": 9,
      "metadata": {
        "id": "UKLFab50BRGK",
        "outputId": "767e6d56-4623-44b8-f873-066c98084cdd",
        "colab": {
          "base_uri": "https://localhost:8080/"
        }
      },
      "outputs": [
        {
          "output_type": "stream",
          "name": "stdout",
          "text": [
            "+-------+--------------------+--------+---+\n",
            "|emotion|              pixels|   Usage| id|\n",
            "+-------+--------------------+--------+---+\n",
            "|      0|[70, 80, 82, 72, ...|Training|  0|\n",
            "|      0|[151, 150, 147, 1...|Training|  1|\n",
            "|      2|[231, 212, 156, 1...|Training|  2|\n",
            "|      4|[24, 32, 36, 30, ...|Training|  3|\n",
            "|      6|[4, 0, 0, 0, 0, 0...|Training|  4|\n",
            "+-------+--------------------+--------+---+\n",
            "only showing top 5 rows\n",
            "\n"
          ]
        }
      ],
      "source": [
        "data.show(5)"
      ],
      "id": "UKLFab50BRGK"
    },
    {
      "cell_type": "code",
      "execution_count": 10,
      "metadata": {
        "id": "PlO9GU4IBRGL",
        "outputId": "434fac76-787f-4594-dbc3-30d73b0cdb17",
        "colab": {
          "base_uri": "https://localhost:8080/"
        }
      },
      "outputs": [
        {
          "output_type": "execute_result",
          "data": {
            "text/plain": [
              "4953"
            ]
          },
          "metadata": {},
          "execution_count": 10
        }
      ],
      "source": [
        "data.filter(col(\"emotion\") == 0).count()"
      ],
      "id": "PlO9GU4IBRGL"
    },
    {
      "cell_type": "code",
      "execution_count": 11,
      "metadata": {
        "id": "rNLQKkW2BRGM",
        "outputId": "065c68b9-f73d-4ec7-b5ba-a5a408b335fe",
        "colab": {
          "base_uri": "https://localhost:8080/"
        }
      },
      "outputs": [
        {
          "output_type": "execute_result",
          "data": {
            "text/plain": [
              "[Row(Usage='Training'), Row(Usage='PublicTest'), Row(Usage='PrivateTest')]"
            ]
          },
          "metadata": {},
          "execution_count": 11
        }
      ],
      "source": [
        "data.select(\"Usage\").distinct().collect()"
      ],
      "id": "rNLQKkW2BRGM"
    },
    {
      "cell_type": "code",
      "execution_count": 12,
      "metadata": {
        "id": "i3CB8N3dBRGM",
        "outputId": "4b1445f3-08c2-40d9-eb37-8145d5ceaae7",
        "colab": {
          "base_uri": "https://localhost:8080/"
        }
      },
      "outputs": [
        {
          "output_type": "stream",
          "name": "stdout",
          "text": [
            "+-------+-----+\n",
            "|emotion|count|\n",
            "+-------+-----+\n",
            "|      0| 4953|\n",
            "|      1|  547|\n",
            "|      2| 5121|\n",
            "|      3| 8989|\n",
            "|      4| 6077|\n",
            "|      5| 4002|\n",
            "|      6| 6198|\n",
            "+-------+-----+\n",
            "\n"
          ]
        }
      ],
      "source": [
        "data.groupBy(col(\"emotion\")).count().sort(asc(\"emotion\")).show()"
      ],
      "id": "i3CB8N3dBRGM"
    },
    {
      "cell_type": "code",
      "execution_count": 17,
      "metadata": {
        "id": "1jcwFPcpBRGN",
        "outputId": "85b370a5-fe11-4d3e-fa2d-b5bf9a93fb5c",
        "colab": {
          "base_uri": "https://localhost:8080/",
          "height": 311
        }
      },
      "outputs": [
        {
          "output_type": "execute_result",
          "data": {
            "text/plain": [
              "<matplotlib.image.AxesImage at 0x7f6077b5c350>"
            ]
          },
          "metadata": {},
          "execution_count": 17
        },
        {
          "output_type": "display_data",
          "data": {
            "image/png": "[encoded data removed]",
            "text/plain": [
              "<Figure size 432x288 with 1 Axes>"
            ]
          },
          "metadata": {
            "needs_background": "light"
          }
        }
      ],
      "source": [
        "emotion_labels = [\"Angry\", \"Disgust\", \"Fear\", \"Happy\", \"Sad\", \"Surprise\", \"Neutral\"]\n",
        "\n",
        "dataId = 1\n",
        "\n",
        "row = data.filter(col(\"id\") == dataId).first()\n",
        "plt.figure(dataId)\n",
        "pixelArray = np.asarray(row[\"pixels\"])\n",
        "plt.suptitle(emotion_labels[row[\"emotion\"]])\n",
        "plt.imshow(pixelArray.reshape((48, 48)), interpolation='none', cmap='gray')"
      ],
      "id": "1jcwFPcpBRGN"
    },
    {
      "cell_type": "markdown",
      "metadata": {
        "id": "8T2C4H-nBRGO"
      },
      "source": [
        "---\n",
        "# **3. Prediction**"
      ],
      "id": "8T2C4H-nBRGO"
    },
    {
      "cell_type": "code",
      "execution_count": 18,
      "metadata": {
        "id": "L5AKjaBMBRGP"
      },
      "outputs": [],
      "source": [
        "train_set = data.filter(col(\"Usage\") == \"Training\")\n",
        "val_set = data.filter(col(\"Usage\") == \"PublicTest\")\n",
        "test_set = data.filter(col(\"Usage\") == \"PrivateTest\")"
      ],
      "id": "L5AKjaBMBRGP"
    },
    {
      "cell_type": "code",
      "execution_count": 18,
      "metadata": {
        "id": "3FJ07YWLBz6t"
      },
      "outputs": [],
      "source": [
        ""
      ],
      "id": "3FJ07YWLBz6t"
    },
    {
      "cell_type": "code",
      "execution_count": 18,
      "metadata": {
        "id": "IvIklfLrBRGP"
      },
      "outputs": [],
      "source": [
        ""
      ],
      "id": "IvIklfLrBRGP"
    },
    {
      "cell_type": "code",
      "source": [
        ""
      ],
      "metadata": {
        "id": "E_NEkOLhdKoG"
      },
      "id": "E_NEkOLhdKoG",
      "execution_count": 18,
      "outputs": []
    },
    {
      "cell_type": "code",
      "execution_count": 19,
      "metadata": {
        "id": "4z6syzYcBRGP"
      },
      "outputs": [],
      "source": [
        "%matplotlib notebook\n",
        "\n",
        "import cv2\n",
        "import matplotlib.pyplot as plt\n",
        "import signal"
      ],
      "id": "4z6syzYcBRGP"
    },
    {
      "cell_type": "code",
      "execution_count": 20,
      "metadata": {
        "id": "HLIwkGEkbkh9"
      },
      "outputs": [],
      "source": [
        "def signal_handler(signal, frame):\n",
        "    # KeyboardInterrupt detected, exiting\n",
        "    global is_interrupted\n",
        "    is_interrupted = True"
      ],
      "id": "HLIwkGEkbkh9"
    },
    {
      "cell_type": "code",
      "execution_count": 24,
      "metadata": {
        "id": "DxB6ZTeabkh9"
      },
      "outputs": [],
      "source": [
        "vc = cv2.VideoCapture(0)\n",
        "\n",
        "plt.ion()\n",
        "\n",
        "if vc.isOpened(): # try to get the first frame\n",
        "    is_capturing, frame = vc.read()\n",
        "    frame = cv2.cvtColor(frame, cv2.COLOR_BGR2RGB)    # makes the blues image look real colored\n",
        "    webcam_preview = plt.imshow(frame)    \n",
        "else:\n",
        "    is_capturing = False\n",
        "\n",
        "signal.signal(signal.SIGINT, signal_handler)\n",
        "is_interrupted = False\n",
        "while is_capturing:\n",
        "    is_capturing, frame = vc.read()\n",
        "    frame = cv2.cvtColor(frame, cv2.COLOR_BGR2RGB)    # makes the blues image look real colored\n",
        "    webcam_preview.set_data(frame)\n",
        "    plt.draw()\n",
        "\n",
        "    try:    # Avoids a NotImplementedError caused by `plt.pause`\n",
        "        plt.pause(0.05)\n",
        "    except Exception:\n",
        "        pass\n",
        "    if is_interrupted:\n",
        "        vc.release()\n",
        "        break"
      ],
      "id": "DxB6ZTeabkh9"
    },
    {
      "cell_type": "code",
      "execution_count": 22,
      "metadata": {
        "id": "PKcBbZYEbkh-"
      },
      "outputs": [],
      "source": [
        ""
      ],
      "id": "PKcBbZYEbkh-"
    }
  ],
  "metadata": {
    "colab": {
      "name": "project-CNN.ipynb",
      "provenance": [],
      "include_colab_link": true
    },
    "kernelspec": {
      "display_name": "Python 3 (ipykernel)",
      "language": "python",
      "name": "python3"
    },
    "language_info": {
      "codemirror_mode": {
        "name": "ipython",
        "version": 3
      },
      "file_extension": ".py",
      "mimetype": "text/x-python",
      "name": "python",
      "nbconvert_exporter": "python",
      "pygments_lexer": "ipython3",
      "version": "3.8.10"
    },
    "accelerator": "GPU"
  },
  "nbformat": 4,
  "nbformat_minor": 5
}