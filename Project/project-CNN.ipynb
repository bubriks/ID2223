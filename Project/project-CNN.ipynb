{
  "cells": [
    {
      "cell_type": "markdown",
      "metadata": {
        "id": "view-in-github",
        "colab_type": "text"
      },
      "source": [
        "<a href=\"https://colab.research.google.com/github/bubriks/ID2223/blob/main/Project/project-CNN.ipynb\" target=\"_parent\"><img src=\"https://colab.research.google.com/assets/colab-badge.svg\" alt=\"Open In Colab\"/></a>"
      ]
    },
    {
      "cell_type": "markdown",
      "metadata": {
        "id": "3jCcesIbBRF5"
      },
      "source": [
        "# **Course Project: Scalable Machine Learning and Deep Learning**\n",
        "\n",
        "## **Paolo Teta & Ralfs Zangis**\n",
        "---"
      ],
      "id": "3jCcesIbBRF5"
    },
    {
      "cell_type": "markdown",
      "metadata": {
        "id": "OH6yJ9UQB9Q8"
      },
      "source": [
        "# **Requirements**"
      ],
      "id": "OH6yJ9UQB9Q8"
    },
    {
      "cell_type": "markdown",
      "metadata": {
        "id": "zhXHoVtkBRF_"
      },
      "source": [
        "**Tensorflow**"
      ],
      "id": "zhXHoVtkBRF_"
    },
    {
      "cell_type": "code",
      "execution_count": 1,
      "metadata": {
        "id": "0wtbM0o_BRGA"
      },
      "outputs": [],
      "source": [
        "import tensorflow as tf\n",
        "import tensorflow.keras.backend as K"
      ],
      "id": "0wtbM0o_BRGA"
    },
    {
      "cell_type": "markdown",
      "metadata": {
        "id": "a6qLl3jyBRGA"
      },
      "source": [
        "**Other**"
      ],
      "id": "a6qLl3jyBRGA"
    },
    {
      "cell_type": "code",
      "execution_count": 2,
      "metadata": {
        "id": "PL9NvKp7BRGB"
      },
      "outputs": [],
      "source": [
        "import os\n",
        "import numpy as np\n",
        "import pandas as pd\n",
        "import seaborn as sns\n",
        "import matplotlib.pyplot as plt\n",
        "from sklearn.metrics import confusion_matrix"
      ],
      "id": "PL9NvKp7BRGB"
    },
    {
      "cell_type": "markdown",
      "source": [
        "**Mount Google Drive**"
      ],
      "metadata": {
        "id": "zwnmOi5jbqsG"
      },
      "id": "zwnmOi5jbqsG"
    },
    {
      "cell_type": "code",
      "source": [
        "from google.colab import drive\n",
        "drive.mount('/content/drive')"
      ],
      "metadata": {
        "id": "7wV13mPobxB6",
        "outputId": "7faf3c38-30e7-44bb-8fe1-2e3c5efae0fc",
        "colab": {
          "base_uri": "https://localhost:8080/"
        }
      },
      "id": "7wV13mPobxB6",
      "execution_count": 3,
      "outputs": [
        {
          "output_type": "stream",
          "name": "stdout",
          "text": [
            "Drive already mounted at /content/drive; to attempt to forcibly remount, call drive.mount(\"/content/drive\", force_remount=True).\n"
          ]
        }
      ]
    },
    {
      "cell_type": "markdown",
      "metadata": {
        "id": "ETeRQpNeBRGB"
      },
      "source": [
        "---\n",
        "# **1. Get the data**"
      ],
      "id": "ETeRQpNeBRGB"
    },
    {
      "cell_type": "markdown",
      "source": [
        "**Link:** https://drive.google.com/file/d/1Du-gZz1LU-StWbahzckG1EmSLC-FuW5S/view?usp=sharing"
      ],
      "metadata": {
        "id": "eomw05S-d1zQ"
      },
      "id": "eomw05S-d1zQ"
    },
    {
      "cell_type": "code",
      "execution_count": 4,
      "metadata": {
        "id": "-HfN5B73BRGC"
      },
      "outputs": [],
      "source": [
        "df = pd.read_csv(\"/content/drive/MyDrive/Colab Notebooks/dataset-project.csv\")"
      ],
      "id": "-HfN5B73BRGC"
    },
    {
      "cell_type": "code",
      "source": [
        "df[\"pixels\"] = [[int(y) for y in x.split(\" \")] for x in df[\"pixels\"]]"
      ],
      "metadata": {
        "id": "Lua61AS-Cinv"
      },
      "id": "Lua61AS-Cinv",
      "execution_count": 5,
      "outputs": []
    },
    {
      "cell_type": "markdown",
      "metadata": {
        "id": "M7dQEVh0BRGI"
      },
      "source": [
        "---\n",
        "# **2. Explore the data**"
      ],
      "id": "M7dQEVh0BRGI"
    },
    {
      "cell_type": "code",
      "source": [
        "print(df)"
      ],
      "metadata": {
        "colab": {
          "base_uri": "https://localhost:8080/"
        },
        "id": "tpvRUdkBSl4g",
        "outputId": "13dd665b-9dde-4952-8284-94ab2778fdad"
      },
      "id": "tpvRUdkBSl4g",
      "execution_count": 6,
      "outputs": [
        {
          "output_type": "stream",
          "name": "stdout",
          "text": [
            "       emotion                                             pixels        usage\n",
            "0            0  [70, 80, 82, 72, 58, 58, 60, 63, 54, 58, 60, 4...     Training\n",
            "1            0  [151, 150, 147, 155, 148, 133, 111, 140, 170, ...     Training\n",
            "2            2  [231, 212, 156, 164, 174, 138, 161, 173, 182, ...     Training\n",
            "3            4  [24, 32, 36, 30, 32, 23, 19, 20, 30, 41, 21, 2...     Training\n",
            "4            6  [4, 0, 0, 0, 0, 0, 0, 0, 0, 0, 0, 0, 3, 15, 23...     Training\n",
            "...        ...                                                ...          ...\n",
            "35882        6  [50, 36, 17, 22, 23, 29, 33, 39, 34, 37, 37, 3...  PrivateTest\n",
            "35883        3  [178, 174, 172, 173, 181, 188, 191, 194, 196, ...  PrivateTest\n",
            "35884        0  [17, 17, 16, 23, 28, 22, 19, 17, 25, 26, 20, 2...  PrivateTest\n",
            "35885        3  [30, 28, 28, 29, 31, 30, 42, 68, 79, 81, 77, 6...  PrivateTest\n",
            "35886        2  [19, 13, 14, 12, 13, 16, 21, 33, 50, 57, 71, 8...  PrivateTest\n",
            "\n",
            "[35887 rows x 3 columns]\n"
          ]
        }
      ]
    },
    {
      "cell_type": "code",
      "execution_count": 7,
      "metadata": {
        "id": "pNiAlZzkBRGJ",
        "outputId": "c428b244-f35b-4818-f521-6bfaf898a00b",
        "colab": {
          "base_uri": "https://localhost:8080/"
        }
      },
      "outputs": [
        {
          "output_type": "execute_result",
          "data": {
            "text/plain": [
              "emotion     int64\n",
              "pixels     object\n",
              "usage      object\n",
              "dtype: object"
            ]
          },
          "metadata": {},
          "execution_count": 7
        }
      ],
      "source": [
        "df.dtypes"
      ],
      "id": "pNiAlZzkBRGJ"
    },
    {
      "cell_type": "code",
      "source": [
        "print(df.count())"
      ],
      "metadata": {
        "colab": {
          "base_uri": "https://localhost:8080/"
        },
        "id": "rGG6LxpcSwrU",
        "outputId": "213a0b47-f6a1-4a76-e963-d38143b42cbf"
      },
      "id": "rGG6LxpcSwrU",
      "execution_count": 8,
      "outputs": [
        {
          "output_type": "stream",
          "name": "stdout",
          "text": [
            "emotion    35887\n",
            "pixels     35887\n",
            "usage      35887\n",
            "dtype: int64\n"
          ]
        }
      ]
    },
    {
      "cell_type": "code",
      "execution_count": 9,
      "metadata": {
        "id": "rNLQKkW2BRGM",
        "outputId": "2370bde5-6f8b-4df8-83af-454b60128fe2",
        "colab": {
          "base_uri": "https://localhost:8080/"
        }
      },
      "outputs": [
        {
          "output_type": "stream",
          "name": "stdout",
          "text": [
            "Training       28709\n",
            "PublicTest      3589\n",
            "PrivateTest     3589\n",
            "Name: usage, dtype: int64\n"
          ]
        }
      ],
      "source": [
        "print(df[\"usage\"].value_counts())"
      ],
      "id": "rNLQKkW2BRGM"
    },
    {
      "cell_type": "code",
      "execution_count": 10,
      "metadata": {
        "id": "i3CB8N3dBRGM",
        "outputId": "f0e9db57-b546-428e-8493-bbcc0a742dcb",
        "colab": {
          "base_uri": "https://localhost:8080/"
        }
      },
      "outputs": [
        {
          "output_type": "stream",
          "name": "stdout",
          "text": [
            "0    4953\n",
            "1     547\n",
            "2    5121\n",
            "3    8989\n",
            "4    6077\n",
            "5    4002\n",
            "6    6198\n",
            "Name: emotion, dtype: int64\n"
          ]
        }
      ],
      "source": [
        "print(df[\"emotion\"].value_counts(sort=False))"
      ],
      "id": "i3CB8N3dBRGM"
    },
    {
      "cell_type": "markdown",
      "source": [
        "Reshape pixels"
      ],
      "metadata": {
        "id": "opt-C3xqeOAl"
      },
      "id": "opt-C3xqeOAl"
    },
    {
      "cell_type": "code",
      "source": [
        "df[\"pixels\"] = [np.reshape(x, (48, 48)) for x in df[\"pixels\"]]"
      ],
      "metadata": {
        "id": "4DgsMEL8ZU9B"
      },
      "id": "4DgsMEL8ZU9B",
      "execution_count": 11,
      "outputs": []
    },
    {
      "cell_type": "markdown",
      "source": [
        "Show example data"
      ],
      "metadata": {
        "id": "oviiDdxKFpYU"
      },
      "id": "oviiDdxKFpYU"
    },
    {
      "cell_type": "code",
      "execution_count": 12,
      "metadata": {
        "id": "1jcwFPcpBRGN",
        "outputId": "162b2a90-fd82-40bf-b907-817e93f79199",
        "colab": {
          "base_uri": "https://localhost:8080/",
          "height": 282
        }
      },
      "outputs": [
        {
          "output_type": "execute_result",
          "data": {
            "text/plain": [
              "<matplotlib.image.AxesImage at 0x7f00d7cc4a10>"
            ]
          },
          "metadata": {},
          "execution_count": 12
        },
        {
          "output_type": "display_data",
          "data": {
            "image/png": "[encoded data removed]",
            "text/plain": [
              "<Figure size 432x288 with 1 Axes>"
            ]
          },
          "metadata": {
            "needs_background": "light"
          }
        }
      ],
      "source": [
        "emotion_labels = [\"Angry\", \"Disgust\", \"Fear\", \"Happy\", \"Sad\", \"Surprise\", \"Neutral\"]\n",
        "\n",
        "dataId = 1\n",
        "\n",
        "row = df.iloc[dataId]\n",
        "plt.figure(dataId)\n",
        "pixelArray = np.asarray(row[\"pixels\"])\n",
        "plt.title(emotion_labels[row[\"emotion\"]])\n",
        "plt.axis('off')\n",
        "plt.imshow(pixelArray, interpolation='none', cmap='gray')"
      ],
      "id": "1jcwFPcpBRGN"
    },
    {
      "cell_type": "markdown",
      "metadata": {
        "id": "8T2C4H-nBRGO"
      },
      "source": [
        "---\n",
        "# **3. Prepare data**"
      ],
      "id": "8T2C4H-nBRGO"
    },
    {
      "cell_type": "markdown",
      "source": [
        "Get total number of unique labels"
      ],
      "metadata": {
        "id": "fbYHg-LFDdI8"
      },
      "id": "fbYHg-LFDdI8"
    },
    {
      "cell_type": "code",
      "source": [
        "labels_num = len(df[\"emotion\"].unique())"
      ],
      "metadata": {
        "id": "QNG2qy4zM1th"
      },
      "id": "QNG2qy4zM1th",
      "execution_count": 13,
      "outputs": []
    },
    {
      "cell_type": "markdown",
      "source": [
        "Rename for easier understanding"
      ],
      "metadata": {
        "id": "dzhnYlHOHEhP"
      },
      "id": "dzhnYlHOHEhP"
    },
    {
      "cell_type": "code",
      "source": [
        "df = df.rename(columns = {\"emotion\": \"label\", \"pixels\": \"features\"}, inplace = False)"
      ],
      "metadata": {
        "id": "F_lSUY48GxxB"
      },
      "id": "F_lSUY48GxxB",
      "execution_count": 14,
      "outputs": []
    },
    {
      "cell_type": "markdown",
      "source": [
        "Separate dataset"
      ],
      "metadata": {
        "id": "xEoHwbckY7Wh"
      },
      "id": "xEoHwbckY7Wh"
    },
    {
      "cell_type": "code",
      "execution_count": 15,
      "metadata": {
        "id": "L5AKjaBMBRGP"
      },
      "outputs": [],
      "source": [
        "train_df = df[df[\"usage\"] == \"Training\"][[\"label\", \"features\"]]\n",
        "val_df = df[df[\"usage\"] == \"PublicTest\"][[\"label\", \"features\"]]\n",
        "test_df = df[df[\"usage\"] == \"PrivateTest\"][[\"label\", \"features\"]]\n",
        "df = None # to save memory"
      ],
      "id": "L5AKjaBMBRGP"
    },
    {
      "cell_type": "markdown",
      "source": [
        "---\n",
        "# **4. Make model**"
      ],
      "metadata": {
        "id": "uodD5fAVwVVu"
      },
      "id": "uodD5fAVwVVu"
    },
    {
      "cell_type": "code",
      "source": [
        "def getXY(df):\n",
        "    x = np.array(train_df[\"features\"].tolist())\n",
        "    y = np.array(train_df[\"label\"])\n",
        "    return (x, y)\n",
        "\n",
        "train_x, train_y = getXY(train_df)\n",
        "val_x, val_y = getXY(val_df)\n",
        "test_x, test_y = getXY(test_df)"
      ],
      "metadata": {
        "id": "RRi6dAQgIAr4"
      },
      "id": "RRi6dAQgIAr4",
      "execution_count": 16,
      "outputs": []
    },
    {
      "cell_type": "code",
      "source": [
        "model = tf.keras.Sequential([\n",
        "    tf.keras.layers.Conv2D(48, kernel_size=3, activation='elu', input_shape=(48, 48, 1)),\n",
        "    tf.keras.layers.MaxPooling2D(pool_size=(2, 2)),\n",
        "    tf.keras.layers.Conv2D(128, kernel_size=3, activation='elu'),\n",
        "    tf.keras.layers.MaxPooling2D(pool_size=(2, 2)),\n",
        "    tf.keras.layers.Conv2D(256, kernel_size=3, activation='elu', padding='same'),\n",
        "    tf.keras.layers.MaxPooling2D(pool_size=(3, 3)),\n",
        "    tf.keras.layers.Conv2D(512, kernel_size=3, activation='elu', padding='same'),\n",
        "    tf.keras.layers.MaxPooling2D(pool_size=(3, 3)),\n",
        "    tf.keras.layers.Flatten(),\n",
        "    tf.keras.layers.Dense(64, activation='elu'),\n",
        "    tf.keras.layers.Dropout(0.2),\n",
        "    tf.keras.layers.Dense(labels_num, activation='softmax')\n",
        "])\n",
        "\n",
        "model.compile(optimizer='adam',\n",
        "              loss=tf.keras.losses.SparseCategoricalCrossentropy(from_logits=True),\n",
        "              metrics=['accuracy'])"
      ],
      "metadata": {
        "id": "ZcUMnhw_w6w3"
      },
      "id": "ZcUMnhw_w6w3",
      "execution_count": 17,
      "outputs": []
    },
    {
      "cell_type": "code",
      "source": [
        "print(model.summary())"
      ],
      "metadata": {
        "id": "WmMBUm6-LadY",
        "outputId": "0a673775-d3fc-4fa1-f9a7-534f476c966c",
        "colab": {
          "base_uri": "https://localhost:8080/"
        }
      },
      "id": "WmMBUm6-LadY",
      "execution_count": 18,
      "outputs": [
        {
          "output_type": "stream",
          "name": "stdout",
          "text": [
            "Model: \"sequential\"\n",
            "_________________________________________________________________\n",
            " Layer (type)                Output Shape              Param #   \n",
            "=================================================================\n",
            " conv2d (Conv2D)             (None, 46, 46, 48)        480       \n",
            "                                                                 \n",
            " max_pooling2d (MaxPooling2D  (None, 23, 23, 48)       0         \n",
            " )                                                               \n",
            "                                                                 \n",
            " conv2d_1 (Conv2D)           (None, 21, 21, 128)       55424     \n",
            "                                                                 \n",
            " max_pooling2d_1 (MaxPooling  (None, 10, 10, 128)      0         \n",
            " 2D)                                                             \n",
            "                                                                 \n",
            " conv2d_2 (Conv2D)           (None, 10, 10, 256)       295168    \n",
            "                                                                 \n",
            " max_pooling2d_2 (MaxPooling  (None, 3, 3, 256)        0         \n",
            " 2D)                                                             \n",
            "                                                                 \n",
            " conv2d_3 (Conv2D)           (None, 3, 3, 512)         1180160   \n",
            "                                                                 \n",
            " max_pooling2d_3 (MaxPooling  (None, 1, 1, 512)        0         \n",
            " 2D)                                                             \n",
            "                                                                 \n",
            " flatten (Flatten)           (None, 512)               0         \n",
            "                                                                 \n",
            " dense (Dense)               (None, 64)                32832     \n",
            "                                                                 \n",
            " dropout (Dropout)           (None, 64)                0         \n",
            "                                                                 \n",
            " dense_1 (Dense)             (None, 7)                 455       \n",
            "                                                                 \n",
            "=================================================================\n",
            "Total params: 1,564,519\n",
            "Trainable params: 1,564,519\n",
            "Non-trainable params: 0\n",
            "_________________________________________________________________\n",
            "None\n"
          ]
        }
      ]
    },
    {
      "cell_type": "code",
      "source": [
        "tf.keras.utils.plot_model(model)"
      ],
      "metadata": {
        "colab": {
          "base_uri": "https://localhost:8080/",
          "height": 1000
        },
        "id": "PZw58G4e0f37",
        "outputId": "a414b048-c481-4d6c-c4f7-fc099c3a0855"
      },
      "id": "PZw58G4e0f37",
      "execution_count": 19,
      "outputs": [
        {
          "output_type": "execute_result",
          "data": {
            "image/png": "[encoded data removed]",
            "text/plain": [
              "<IPython.core.display.Image object>"
            ]
          },
          "metadata": {},
          "execution_count": 19
        }
      ]
    },
    {
      "cell_type": "markdown",
      "source": [
        "---\n",
        "# **5. Train model**"
      ],
      "metadata": {
        "id": "FPYH_e2zwY-e"
      },
      "id": "FPYH_e2zwY-e"
    },
    {
      "cell_type": "code",
      "source": [
        "model_path = '/content/drive/MyDrive/Colab Notebooks/model.h5'\n",
        "\n",
        "if os.path.exists(model_path):\n",
        "    model = tf.keras.models.load_model(model_path)\n",
        "else:\n",
        "    history = model.fit(train_x, train_y, epochs=50, \n",
        "                        validation_data=(val_x, val_y))\n",
        "    model.save(model_path)"
      ],
      "metadata": {
        "id": "fDE3V6hM1CFd",
        "outputId": "ce2c08af-141d-4162-9b83-472338d7e17a",
        "colab": {
          "base_uri": "https://localhost:8080/"
        }
      },
      "id": "fDE3V6hM1CFd",
      "execution_count": 20,
      "outputs": [
        {
          "output_type": "stream",
          "name": "stdout",
          "text": [
            "Epoch 1/50\n"
          ]
        },
        {
          "output_type": "stream",
          "name": "stderr",
          "text": [
            "/usr/local/lib/python3.7/dist-packages/tensorflow/python/util/dispatch.py:1096: UserWarning: \"`sparse_categorical_crossentropy` received `from_logits=True`, but the `output` argument was produced by a sigmoid or softmax activation and thus does not represent logits. Was this intended?\"\n",
            "  return dispatch_target(*args, **kwargs)\n"
          ]
        },
        {
          "output_type": "stream",
          "name": "stdout",
          "text": [
            "898/898 [==============================] - 24s 24ms/step - loss: 2.1419 - accuracy: 0.2125 - val_loss: 1.7769 - val_accuracy: 0.2156\n",
            "Epoch 2/50\n",
            "898/898 [==============================] - 21s 24ms/step - loss: 1.7710 - accuracy: 0.2819 - val_loss: 1.5437 - val_accuracy: 0.3905\n",
            "Epoch 3/50\n",
            "898/898 [==============================] - 27s 30ms/step - loss: 1.5871 - accuracy: 0.3634 - val_loss: 1.3986 - val_accuracy: 0.4508\n",
            "Epoch 4/50\n",
            "898/898 [==============================] - 27s 30ms/step - loss: 1.4384 - accuracy: 0.4317 - val_loss: 1.2762 - val_accuracy: 0.5070\n",
            "Epoch 5/50\n",
            "898/898 [==============================] - 26s 29ms/step - loss: 1.3419 - accuracy: 0.4780 - val_loss: 1.1999 - val_accuracy: 0.5416\n",
            "Epoch 6/50\n",
            "898/898 [==============================] - 21s 24ms/step - loss: 1.2584 - accuracy: 0.5171 - val_loss: 1.1446 - val_accuracy: 0.5545\n",
            "Epoch 7/50\n",
            "898/898 [==============================] - 26s 29ms/step - loss: 1.1888 - accuracy: 0.5490 - val_loss: 1.0467 - val_accuracy: 0.5959\n",
            "Epoch 8/50\n",
            "898/898 [==============================] - 21s 24ms/step - loss: 1.1194 - accuracy: 0.5763 - val_loss: 1.0090 - val_accuracy: 0.6166\n",
            "Epoch 9/50\n",
            "898/898 [==============================] - 21s 24ms/step - loss: 1.0595 - accuracy: 0.6011 - val_loss: 0.9231 - val_accuracy: 0.6513\n",
            "Epoch 10/50\n",
            "898/898 [==============================] - 21s 24ms/step - loss: 0.9968 - accuracy: 0.6213 - val_loss: 0.8429 - val_accuracy: 0.6825\n",
            "Epoch 11/50\n",
            "898/898 [==============================] - 21s 24ms/step - loss: 0.9323 - accuracy: 0.6520 - val_loss: 0.7810 - val_accuracy: 0.7094\n",
            "Epoch 12/50\n",
            "898/898 [==============================] - 26s 29ms/step - loss: 0.8859 - accuracy: 0.6676 - val_loss: 0.7555 - val_accuracy: 0.7309\n",
            "Epoch 13/50\n",
            "898/898 [==============================] - 26s 29ms/step - loss: 1.0591 - accuracy: 0.6104 - val_loss: 0.9843 - val_accuracy: 0.6230\n",
            "Epoch 14/50\n",
            "898/898 [==============================] - 21s 24ms/step - loss: 0.9306 - accuracy: 0.6526 - val_loss: 0.7493 - val_accuracy: 0.7234\n",
            "Epoch 15/50\n",
            "898/898 [==============================] - 21s 24ms/step - loss: 0.8260 - accuracy: 0.6936 - val_loss: 0.6510 - val_accuracy: 0.7602\n",
            "Epoch 16/50\n",
            "898/898 [==============================] - 26s 29ms/step - loss: 0.7442 - accuracy: 0.7242 - val_loss: 0.5704 - val_accuracy: 0.7891\n",
            "Epoch 17/50\n",
            "898/898 [==============================] - 26s 29ms/step - loss: 0.6740 - accuracy: 0.7507 - val_loss: 0.5599 - val_accuracy: 0.7919\n",
            "Epoch 18/50\n",
            "898/898 [==============================] - 26s 29ms/step - loss: 0.6100 - accuracy: 0.7790 - val_loss: 0.4347 - val_accuracy: 0.8413\n",
            "Epoch 19/50\n",
            "898/898 [==============================] - 26s 29ms/step - loss: 0.5522 - accuracy: 0.7980 - val_loss: 0.4537 - val_accuracy: 0.8350\n",
            "Epoch 20/50\n",
            "898/898 [==============================] - 26s 29ms/step - loss: 0.5075 - accuracy: 0.8192 - val_loss: 0.3788 - val_accuracy: 0.8642\n",
            "Epoch 21/50\n",
            "898/898 [==============================] - 26s 29ms/step - loss: 0.4818 - accuracy: 0.8285 - val_loss: 0.3499 - val_accuracy: 0.8766\n",
            "Epoch 22/50\n",
            "898/898 [==============================] - 21s 24ms/step - loss: 0.4479 - accuracy: 0.8410 - val_loss: 0.3082 - val_accuracy: 0.8909\n",
            "Epoch 23/50\n",
            "898/898 [==============================] - 21s 24ms/step - loss: 0.4207 - accuracy: 0.8529 - val_loss: 0.3446 - val_accuracy: 0.8797\n",
            "Epoch 24/50\n",
            "898/898 [==============================] - 26s 29ms/step - loss: 0.4021 - accuracy: 0.8604 - val_loss: 0.2852 - val_accuracy: 0.9010\n",
            "Epoch 25/50\n",
            "898/898 [==============================] - 26s 29ms/step - loss: 0.3734 - accuracy: 0.8726 - val_loss: 0.2757 - val_accuracy: 0.9049\n",
            "Epoch 26/50\n",
            "898/898 [==============================] - 21s 24ms/step - loss: 0.3718 - accuracy: 0.8737 - val_loss: 0.2278 - val_accuracy: 0.9206\n",
            "Epoch 27/50\n",
            "898/898 [==============================] - 26s 29ms/step - loss: 0.3474 - accuracy: 0.8843 - val_loss: 0.2078 - val_accuracy: 0.9339\n",
            "Epoch 28/50\n",
            "898/898 [==============================] - 21s 24ms/step - loss: 3.8461 - accuracy: 0.8577 - val_loss: 0.1999 - val_accuracy: 0.9339\n",
            "Epoch 29/50\n",
            "898/898 [==============================] - 21s 24ms/step - loss: 0.2616 - accuracy: 0.9115 - val_loss: 0.1703 - val_accuracy: 0.9422\n",
            "Epoch 30/50\n",
            "898/898 [==============================] - 26s 29ms/step - loss: 0.2644 - accuracy: 0.9130 - val_loss: 0.1642 - val_accuracy: 0.9442\n",
            "Epoch 31/50\n",
            "898/898 [==============================] - 26s 29ms/step - loss: 0.2547 - accuracy: 0.9165 - val_loss: 0.1850 - val_accuracy: 0.9388\n",
            "Epoch 32/50\n",
            "898/898 [==============================] - 21s 24ms/step - loss: 0.2565 - accuracy: 0.9185 - val_loss: 0.1682 - val_accuracy: 0.9441\n",
            "Epoch 33/50\n",
            "898/898 [==============================] - 21s 24ms/step - loss: 0.2621 - accuracy: 0.9162 - val_loss: 0.1789 - val_accuracy: 0.9418\n",
            "Epoch 34/50\n",
            "898/898 [==============================] - 21s 24ms/step - loss: 0.2551 - accuracy: 0.9184 - val_loss: 0.1695 - val_accuracy: 0.9433\n",
            "Epoch 35/50\n",
            "898/898 [==============================] - 26s 29ms/step - loss: 0.2457 - accuracy: 0.9233 - val_loss: 0.1315 - val_accuracy: 0.9586\n",
            "Epoch 36/50\n",
            "898/898 [==============================] - 21s 24ms/step - loss: 0.2241 - accuracy: 0.9301 - val_loss: 0.1481 - val_accuracy: 0.9536\n",
            "Epoch 37/50\n",
            "898/898 [==============================] - 21s 24ms/step - loss: 0.2419 - accuracy: 0.9249 - val_loss: 0.1184 - val_accuracy: 0.9627\n",
            "Epoch 38/50\n",
            "898/898 [==============================] - 26s 29ms/step - loss: 0.2391 - accuracy: 0.9241 - val_loss: 0.1639 - val_accuracy: 0.9495\n",
            "Epoch 39/50\n",
            "898/898 [==============================] - 22s 24ms/step - loss: 0.2425 - accuracy: 0.9271 - val_loss: 0.1307 - val_accuracy: 0.9582\n",
            "Epoch 40/50\n",
            "898/898 [==============================] - 26s 29ms/step - loss: 0.2294 - accuracy: 0.9304 - val_loss: 0.1205 - val_accuracy: 0.9624\n",
            "Epoch 41/50\n",
            "898/898 [==============================] - 26s 29ms/step - loss: 0.2152 - accuracy: 0.9353 - val_loss: 0.1324 - val_accuracy: 0.9586\n",
            "Epoch 42/50\n",
            "898/898 [==============================] - 21s 24ms/step - loss: 0.2261 - accuracy: 0.9315 - val_loss: 0.1464 - val_accuracy: 0.9549\n",
            "Epoch 43/50\n",
            "898/898 [==============================] - 26s 29ms/step - loss: 0.2321 - accuracy: 0.9318 - val_loss: 0.1228 - val_accuracy: 0.9627\n",
            "Epoch 44/50\n",
            "898/898 [==============================] - 22s 24ms/step - loss: 0.1943 - accuracy: 0.9414 - val_loss: 0.1306 - val_accuracy: 0.9582\n",
            "Epoch 45/50\n",
            "898/898 [==============================] - 26s 29ms/step - loss: 0.2143 - accuracy: 0.9363 - val_loss: 0.1370 - val_accuracy: 0.9585\n",
            "Epoch 46/50\n",
            "898/898 [==============================] - 22s 24ms/step - loss: 0.2177 - accuracy: 0.9366 - val_loss: 0.1463 - val_accuracy: 0.9560\n",
            "Epoch 47/50\n",
            "898/898 [==============================] - 21s 24ms/step - loss: 0.2167 - accuracy: 0.9367 - val_loss: 0.1318 - val_accuracy: 0.9601\n",
            "Epoch 48/50\n",
            "898/898 [==============================] - 22s 24ms/step - loss: 0.2048 - accuracy: 0.9414 - val_loss: 0.1507 - val_accuracy: 0.9540\n",
            "Epoch 49/50\n",
            "898/898 [==============================] - 26s 29ms/step - loss: 0.2104 - accuracy: 0.9405 - val_loss: 0.1594 - val_accuracy: 0.9525\n",
            "Epoch 50/50\n",
            "898/898 [==============================] - 21s 24ms/step - loss: 0.2043 - accuracy: 0.9437 - val_loss: 0.1136 - val_accuracy: 0.9685\n"
          ]
        }
      ]
    },
    {
      "cell_type": "code",
      "source": [
        "plt.plot(history.history['accuracy'], label='accuracy')\n",
        "plt.plot(history.history['val_accuracy'], label = 'val_accuracy')\n",
        "plt.xlabel('Epoch')\n",
        "plt.ylabel('Accuracy')\n",
        "plt.title('Model accuracy')\n",
        "plt.legend(loc='lower right')"
      ],
      "metadata": {
        "colab": {
          "base_uri": "https://localhost:8080/",
          "height": 312
        },
        "id": "kcaHwgOf1xpT",
        "outputId": "d8cbf569-6585-4c70-83e9-de254fbc1f0b"
      },
      "id": "kcaHwgOf1xpT",
      "execution_count": 21,
      "outputs": [
        {
          "output_type": "execute_result",
          "data": {
            "text/plain": [
              "<matplotlib.legend.Legend at 0x7f01528aa110>"
            ]
          },
          "metadata": {},
          "execution_count": 21
        },
        {
          "output_type": "display_data",
          "data": {
            "image/png": "[encoded data removed]",
            "text/plain": [
              "<Figure size 432x288 with 1 Axes>"
            ]
          },
          "metadata": {
            "needs_background": "light"
          }
        }
      ]
    },
    {
      "cell_type": "code",
      "source": [
        "plt.plot(history.history['loss'], label='loss')\n",
        "plt.plot(history.history['val_loss'], label = 'val_loss')\n",
        "plt.xlabel('Epoch')\n",
        "plt.ylabel('Loss')\n",
        "plt.title('Model loss')\n",
        "plt.legend(loc='lower left')"
      ],
      "metadata": {
        "colab": {
          "base_uri": "https://localhost:8080/",
          "height": 312
        },
        "id": "PPSozNet50AN",
        "outputId": "c9dfac49-90d5-49c6-ccf6-e68ff3d57b80"
      },
      "id": "PPSozNet50AN",
      "execution_count": 22,
      "outputs": [
        {
          "output_type": "execute_result",
          "data": {
            "text/plain": [
              "<matplotlib.legend.Legend at 0x7f01527ce4d0>"
            ]
          },
          "metadata": {},
          "execution_count": 22
        },
        {
          "output_type": "display_data",
          "data": {
            "image/png": "[encoded data removed]",
            "text/plain": [
              "<Figure size 432x288 with 1 Axes>"
            ]
          },
          "metadata": {
            "needs_background": "light"
          }
        }
      ]
    },
    {
      "cell_type": "markdown",
      "source": [
        "---\n",
        "# **6. Prediction**"
      ],
      "metadata": {
        "id": "-_6OJJ-Hv47f"
      },
      "id": "-_6OJJ-Hv47f"
    },
    {
      "cell_type": "code",
      "execution_count": 23,
      "metadata": {
        "id": "IvIklfLrBRGP",
        "outputId": "adedea6b-aedf-4ff7-c33f-c15c44f6f3e4",
        "colab": {
          "base_uri": "https://localhost:8080/"
        }
      },
      "outputs": [
        {
          "output_type": "stream",
          "name": "stdout",
          "text": [
            "898/898 - 6s - loss: 0.1136 - accuracy: 0.9685 - 6s/epoch - 6ms/step\n",
            "\n",
            "Test accuracy: 0.9684767723083496\n"
          ]
        }
      ],
      "source": [
        "test_loss, test_acc = model.evaluate(test_x, test_y, verbose=2)\n",
        "\n",
        "print('\\nTest accuracy:', test_acc)"
      ],
      "id": "IvIklfLrBRGP"
    },
    {
      "cell_type": "code",
      "source": [
        "test_pred = model.predict(test_x, verbose=1)\n",
        "test_pred = np.argmax(test_pred, axis=1)"
      ],
      "metadata": {
        "id": "7CzyR3pdVwrP",
        "outputId": "6eac1e81-d686-4909-af01-c9a0ea1f1aa1",
        "colab": {
          "base_uri": "https://localhost:8080/"
        }
      },
      "id": "7CzyR3pdVwrP",
      "execution_count": 24,
      "outputs": [
        {
          "output_type": "stream",
          "name": "stdout",
          "text": [
            "898/898 [==============================] - 5s 5ms/step\n"
          ]
        }
      ]
    },
    {
      "cell_type": "code",
      "source": [
        "cm = confusion_matrix(test_y, test_pred)\n",
        "\n",
        "plt.figure(figsize=(20,10))\n",
        "sns.heatmap(cm/np.sum(cm), annot=True, fmt='.2%', cmap='Blues')\n",
        "tick_marks = np.arange(len(emotion_labels))\n",
        "plt.xticks(tick_marks, emotion_labels, rotation=45)\n",
        "plt.yticks(tick_marks, emotion_labels)\n",
        "plt.ylabel('True expression')\n",
        "plt.xlabel('Predicted expression')\n",
        "plt.show()"
      ],
      "metadata": {
        "id": "GrodkYU_3abT",
        "outputId": "ecc037aa-3de0-4216-b144-7049202cff37",
        "colab": {
          "base_uri": "https://localhost:8080/",
          "height": 647
        }
      },
      "id": "GrodkYU_3abT",
      "execution_count": 25,
      "outputs": [
        {
          "output_type": "display_data",
          "data": {
            "image/png": "[encoded data removed]",
            "text/plain": [
              "<Figure size 1440x720 with 2 Axes>"
            ]
          },
          "metadata": {
            "needs_background": "light"
          }
        }
      ]
    },
    {
      "cell_type": "markdown",
      "source": [
        "---"
      ],
      "metadata": {
        "id": "kAXTgCT61Pc0"
      },
      "id": "kAXTgCT61Pc0"
    }
  ],
  "metadata": {
    "colab": {
      "name": "project-CNN.ipynb",
      "provenance": [],
      "include_colab_link": true
    },
    "kernelspec": {
      "display_name": "Python 3 (ipykernel)",
      "language": "python",
      "name": "python3"
    },
    "language_info": {
      "codemirror_mode": {
        "name": "ipython",
        "version": 3
      },
      "file_extension": ".py",
      "mimetype": "text/x-python",
      "name": "python",
      "nbconvert_exporter": "python",
      "pygments_lexer": "ipython3",
      "version": "3.8.10"
    },
    "accelerator": "GPU"
  },
  "nbformat": 4,
  "nbformat_minor": 5
}