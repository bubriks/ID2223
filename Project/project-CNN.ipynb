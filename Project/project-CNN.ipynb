{
  "cells": [
    {
      "cell_type": "markdown",
      "metadata": {
        "id": "view-in-github",
        "colab_type": "text"
      },
      "source": [
        "<a href=\"https://colab.research.google.com/github/bubriks/ID2223/blob/main/Project/project-CNN.ipynb\" target=\"_parent\"><img src=\"https://colab.research.google.com/assets/colab-badge.svg\" alt=\"Open In Colab\"/></a>"
      ]
    },
    {
      "cell_type": "markdown",
      "metadata": {
        "id": "3jCcesIbBRF5"
      },
      "source": [
        "# **Course Project: Scalable Machine Learning and Deep Learning**\n",
        "\n",
        "## **Paolo Teta & Ralfs Zangis**\n",
        "---"
      ],
      "id": "3jCcesIbBRF5"
    },
    {
      "cell_type": "markdown",
      "metadata": {
        "id": "OH6yJ9UQB9Q8"
      },
      "source": [
        "# **Requirements**"
      ],
      "id": "OH6yJ9UQB9Q8"
    },
    {
      "cell_type": "markdown",
      "metadata": {
        "id": "zhXHoVtkBRF_"
      },
      "source": [
        "**Tensorflow**"
      ],
      "id": "zhXHoVtkBRF_"
    },
    {
      "cell_type": "code",
      "execution_count": 1,
      "metadata": {
        "id": "0wtbM0o_BRGA"
      },
      "outputs": [],
      "source": [
        "import tensorflow as tf\n",
        "import tensorflow.keras.backend as K"
      ],
      "id": "0wtbM0o_BRGA"
    },
    {
      "cell_type": "markdown",
      "metadata": {
        "id": "a6qLl3jyBRGA"
      },
      "source": [
        "**Other**"
      ],
      "id": "a6qLl3jyBRGA"
    },
    {
      "cell_type": "code",
      "execution_count": 2,
      "metadata": {
        "id": "PL9NvKp7BRGB"
      },
      "outputs": [],
      "source": [
        "import os\n",
        "import numpy as np\n",
        "import pandas as pd\n",
        "import seaborn as sns\n",
        "import matplotlib.pyplot as plt\n",
        "from sklearn.metrics import confusion_matrix"
      ],
      "id": "PL9NvKp7BRGB"
    },
    {
      "cell_type": "markdown",
      "source": [
        "**Mount Google Drive**"
      ],
      "metadata": {
        "id": "zwnmOi5jbqsG"
      },
      "id": "zwnmOi5jbqsG"
    },
    {
      "cell_type": "code",
      "source": [
        "from google.colab import drive\n",
        "drive.mount('/content/drive')"
      ],
      "metadata": {
        "id": "7wV13mPobxB6",
        "outputId": "ab4ad5e0-f8ee-448c-8fdb-5383a831aded",
        "colab": {
          "base_uri": "https://localhost:8080/"
        }
      },
      "id": "7wV13mPobxB6",
      "execution_count": 3,
      "outputs": [
        {
          "output_type": "stream",
          "name": "stdout",
          "text": [
            "Mounted at /content/drive\n"
          ]
        }
      ]
    },
    {
      "cell_type": "markdown",
      "metadata": {
        "id": "ETeRQpNeBRGB"
      },
      "source": [
        "---\n",
        "# **1. Get the data**"
      ],
      "id": "ETeRQpNeBRGB"
    },
    {
      "cell_type": "markdown",
      "source": [
        "**Link:** https://drive.google.com/file/d/1Du-gZz1LU-StWbahzckG1EmSLC-FuW5S/view?usp=sharing"
      ],
      "metadata": {
        "id": "eomw05S-d1zQ"
      },
      "id": "eomw05S-d1zQ"
    },
    {
      "cell_type": "code",
      "execution_count": 4,
      "metadata": {
        "id": "-HfN5B73BRGC"
      },
      "outputs": [],
      "source": [
        "df = pd.read_csv(\"/content/drive/MyDrive/Colab Notebooks/dataset-project.csv\")"
      ],
      "id": "-HfN5B73BRGC"
    },
    {
      "cell_type": "code",
      "source": [
        "df[\"pixels\"] = [[int(y) for y in x.split(\" \")] for x in df[\"pixels\"]]"
      ],
      "metadata": {
        "id": "Lua61AS-Cinv"
      },
      "id": "Lua61AS-Cinv",
      "execution_count": 5,
      "outputs": []
    },
    {
      "cell_type": "markdown",
      "metadata": {
        "id": "M7dQEVh0BRGI"
      },
      "source": [
        "---\n",
        "# **2. Explore the data**"
      ],
      "id": "M7dQEVh0BRGI"
    },
    {
      "cell_type": "code",
      "source": [
        "print(df)"
      ],
      "metadata": {
        "colab": {
          "base_uri": "https://localhost:8080/"
        },
        "id": "tpvRUdkBSl4g",
        "outputId": "d18f22bf-9bca-4e0d-884b-960a664df124"
      },
      "id": "tpvRUdkBSl4g",
      "execution_count": 6,
      "outputs": [
        {
          "output_type": "stream",
          "name": "stdout",
          "text": [
            "       emotion                                             pixels        usage\n",
            "0            0  [70, 80, 82, 72, 58, 58, 60, 63, 54, 58, 60, 4...     Training\n",
            "1            0  [151, 150, 147, 155, 148, 133, 111, 140, 170, ...     Training\n",
            "2            2  [231, 212, 156, 164, 174, 138, 161, 173, 182, ...     Training\n",
            "3            4  [24, 32, 36, 30, 32, 23, 19, 20, 30, 41, 21, 2...     Training\n",
            "4            6  [4, 0, 0, 0, 0, 0, 0, 0, 0, 0, 0, 0, 3, 15, 23...     Training\n",
            "...        ...                                                ...          ...\n",
            "35882        6  [50, 36, 17, 22, 23, 29, 33, 39, 34, 37, 37, 3...  PrivateTest\n",
            "35883        3  [178, 174, 172, 173, 181, 188, 191, 194, 196, ...  PrivateTest\n",
            "35884        0  [17, 17, 16, 23, 28, 22, 19, 17, 25, 26, 20, 2...  PrivateTest\n",
            "35885        3  [30, 28, 28, 29, 31, 30, 42, 68, 79, 81, 77, 6...  PrivateTest\n",
            "35886        2  [19, 13, 14, 12, 13, 16, 21, 33, 50, 57, 71, 8...  PrivateTest\n",
            "\n",
            "[35887 rows x 3 columns]\n"
          ]
        }
      ]
    },
    {
      "cell_type": "code",
      "execution_count": 7,
      "metadata": {
        "id": "pNiAlZzkBRGJ",
        "outputId": "3809159d-57d0-4bce-f787-805c8b28c9e9",
        "colab": {
          "base_uri": "https://localhost:8080/"
        }
      },
      "outputs": [
        {
          "output_type": "execute_result",
          "data": {
            "text/plain": [
              "emotion     int64\n",
              "pixels     object\n",
              "usage      object\n",
              "dtype: object"
            ]
          },
          "metadata": {},
          "execution_count": 7
        }
      ],
      "source": [
        "df.dtypes"
      ],
      "id": "pNiAlZzkBRGJ"
    },
    {
      "cell_type": "code",
      "source": [
        "print(df.count())"
      ],
      "metadata": {
        "colab": {
          "base_uri": "https://localhost:8080/"
        },
        "id": "rGG6LxpcSwrU",
        "outputId": "bfae0871-edc0-4039-a90f-8139175e3217"
      },
      "id": "rGG6LxpcSwrU",
      "execution_count": 8,
      "outputs": [
        {
          "output_type": "stream",
          "name": "stdout",
          "text": [
            "emotion    35887\n",
            "pixels     35887\n",
            "usage      35887\n",
            "dtype: int64\n"
          ]
        }
      ]
    },
    {
      "cell_type": "code",
      "execution_count": 9,
      "metadata": {
        "id": "rNLQKkW2BRGM",
        "outputId": "92bcafbd-73ee-4341-9747-079b0cc22a85",
        "colab": {
          "base_uri": "https://localhost:8080/"
        }
      },
      "outputs": [
        {
          "output_type": "stream",
          "name": "stdout",
          "text": [
            "Training       28709\n",
            "PrivateTest     3589\n",
            "PublicTest      3589\n",
            "Name: usage, dtype: int64\n"
          ]
        }
      ],
      "source": [
        "print(df[\"usage\"].value_counts())"
      ],
      "id": "rNLQKkW2BRGM"
    },
    {
      "cell_type": "code",
      "execution_count": 10,
      "metadata": {
        "id": "i3CB8N3dBRGM",
        "outputId": "96dd63e5-3c68-4428-f556-bca94004f333",
        "colab": {
          "base_uri": "https://localhost:8080/"
        }
      },
      "outputs": [
        {
          "output_type": "stream",
          "name": "stdout",
          "text": [
            "0    4953\n",
            "1     547\n",
            "2    5121\n",
            "3    8989\n",
            "4    6077\n",
            "5    4002\n",
            "6    6198\n",
            "Name: emotion, dtype: int64\n"
          ]
        }
      ],
      "source": [
        "print(df[\"emotion\"].value_counts(sort=False))"
      ],
      "id": "i3CB8N3dBRGM"
    },
    {
      "cell_type": "markdown",
      "source": [
        "Reshape pixels"
      ],
      "metadata": {
        "id": "opt-C3xqeOAl"
      },
      "id": "opt-C3xqeOAl"
    },
    {
      "cell_type": "code",
      "source": [
        "df[\"pixels\"] = [np.reshape(x, (48, 48)) for x in df[\"pixels\"]]"
      ],
      "metadata": {
        "id": "4DgsMEL8ZU9B"
      },
      "id": "4DgsMEL8ZU9B",
      "execution_count": 11,
      "outputs": []
    },
    {
      "cell_type": "markdown",
      "source": [
        "Show example data"
      ],
      "metadata": {
        "id": "oviiDdxKFpYU"
      },
      "id": "oviiDdxKFpYU"
    },
    {
      "cell_type": "code",
      "execution_count": 12,
      "metadata": {
        "id": "1jcwFPcpBRGN",
        "outputId": "a018ac46-ff3a-4b2d-8695-4fee11b50b48",
        "colab": {
          "base_uri": "https://localhost:8080/",
          "height": 283
        }
      },
      "outputs": [
        {
          "output_type": "execute_result",
          "data": {
            "text/plain": [
              "<matplotlib.image.AxesImage at 0x7fb5a3bcbc90>"
            ]
          },
          "metadata": {},
          "execution_count": 12
        },
        {
          "output_type": "display_data",
          "data": {
            "image/png": "[encoded data removed]",
            "text/plain": [
              "<Figure size 432x288 with 1 Axes>"
            ]
          },
          "metadata": {
            "needs_background": "light"
          }
        }
      ],
      "source": [
        "emotion_labels = [\"Angry\", \"Disgust\", \"Fear\", \"Happy\", \"Sad\", \"Surprise\", \"Neutral\"]\n",
        "\n",
        "dataId = 1\n",
        "\n",
        "row = df.iloc[dataId]\n",
        "plt.figure(dataId)\n",
        "pixelArray = np.asarray(row[\"pixels\"])\n",
        "plt.title(emotion_labels[row[\"emotion\"]])\n",
        "plt.axis('off')\n",
        "plt.imshow(pixelArray, interpolation='none', cmap='gray')"
      ],
      "id": "1jcwFPcpBRGN"
    },
    {
      "cell_type": "markdown",
      "metadata": {
        "id": "8T2C4H-nBRGO"
      },
      "source": [
        "---\n",
        "# **3. Prepare data**"
      ],
      "id": "8T2C4H-nBRGO"
    },
    {
      "cell_type": "markdown",
      "source": [
        "Get total number of unique labels"
      ],
      "metadata": {
        "id": "fbYHg-LFDdI8"
      },
      "id": "fbYHg-LFDdI8"
    },
    {
      "cell_type": "code",
      "source": [
        "labels_num = len(df[\"emotion\"].unique())"
      ],
      "metadata": {
        "id": "QNG2qy4zM1th"
      },
      "id": "QNG2qy4zM1th",
      "execution_count": 13,
      "outputs": []
    },
    {
      "cell_type": "markdown",
      "source": [
        "Rename for easier understanding"
      ],
      "metadata": {
        "id": "dzhnYlHOHEhP"
      },
      "id": "dzhnYlHOHEhP"
    },
    {
      "cell_type": "code",
      "source": [
        "df = df.rename(columns = {\"emotion\": \"label\", \"pixels\": \"features\"}, inplace = False)"
      ],
      "metadata": {
        "id": "F_lSUY48GxxB"
      },
      "id": "F_lSUY48GxxB",
      "execution_count": 14,
      "outputs": []
    },
    {
      "cell_type": "markdown",
      "source": [
        "Separate dataset"
      ],
      "metadata": {
        "id": "xEoHwbckY7Wh"
      },
      "id": "xEoHwbckY7Wh"
    },
    {
      "cell_type": "code",
      "execution_count": 15,
      "metadata": {
        "id": "L5AKjaBMBRGP"
      },
      "outputs": [],
      "source": [
        "train_df = df[df[\"usage\"] == \"Training\"][[\"label\", \"features\"]]\n",
        "val_df = df[df[\"usage\"] == \"PublicTest\"][[\"label\", \"features\"]]\n",
        "test_df = df[df[\"usage\"] == \"PrivateTest\"][[\"label\", \"features\"]]\n",
        "df = None # to save memory"
      ],
      "id": "L5AKjaBMBRGP"
    },
    {
      "cell_type": "markdown",
      "source": [
        "---\n",
        "# **4. Make model**"
      ],
      "metadata": {
        "id": "uodD5fAVwVVu"
      },
      "id": "uodD5fAVwVVu"
    },
    {
      "cell_type": "code",
      "source": [
        "def getXY(df):\n",
        "    x = np.array(train_df[\"features\"].tolist())\n",
        "    y = np.array(train_df[\"label\"])\n",
        "    return (x, y)\n",
        "\n",
        "train_x, train_y = getXY(train_df)\n",
        "val_x, val_y = getXY(val_df)\n",
        "test_x, test_y = getXY(test_df)"
      ],
      "metadata": {
        "id": "RRi6dAQgIAr4"
      },
      "id": "RRi6dAQgIAr4",
      "execution_count": 16,
      "outputs": []
    },
    {
      "cell_type": "code",
      "source": [
        "model = tf.keras.Sequential([\n",
        "    tf.keras.layers.Conv2D(16, kernel_size=3, activation='elu', padding='same', input_shape=(48, 48, 1)),\n",
        "    tf.keras.layers.MaxPooling2D(pool_size=2, strides=2),\n",
        "    tf.keras.layers.Conv2D(32, kernel_size=3, activation='elu', padding='same'),\n",
        "    tf.keras.layers.MaxPooling2D(pool_size=2, strides=2),\n",
        "    tf.keras.layers.Conv2D(64, kernel_size=3, activation='elu', padding='same'),\n",
        "    tf.keras.layers.MaxPooling2D(pool_size=3, strides=3),\n",
        "    tf.keras.layers.Flatten(),\n",
        "    tf.keras.layers.Dense(512, activation='elu'),\n",
        "    tf.keras.layers.Dropout(0.2),\n",
        "    tf.keras.layers.Dense(labels_num, activation='softmax')\n",
        "])\n",
        "\n",
        "model.compile(optimizer='adam',\n",
        "              loss=tf.keras.losses.SparseCategoricalCrossentropy(from_logits=True),\n",
        "              metrics=['accuracy'])"
      ],
      "metadata": {
        "id": "ZcUMnhw_w6w3"
      },
      "id": "ZcUMnhw_w6w3",
      "execution_count": 17,
      "outputs": []
    },
    {
      "cell_type": "code",
      "source": [
        "print(model.summary())"
      ],
      "metadata": {
        "id": "WmMBUm6-LadY",
        "outputId": "8a7e2e45-b5d2-4c88-f6a7-32ac1216b666",
        "colab": {
          "base_uri": "https://localhost:8080/"
        }
      },
      "id": "WmMBUm6-LadY",
      "execution_count": 18,
      "outputs": [
        {
          "output_type": "stream",
          "name": "stdout",
          "text": [
            "Model: \"sequential\"\n",
            "_________________________________________________________________\n",
            " Layer (type)                Output Shape              Param #   \n",
            "=================================================================\n",
            " conv2d (Conv2D)             (None, 48, 48, 16)        160       \n",
            "                                                                 \n",
            " max_pooling2d (MaxPooling2D  (None, 24, 24, 16)       0         \n",
            " )                                                               \n",
            "                                                                 \n",
            " conv2d_1 (Conv2D)           (None, 24, 24, 32)        4640      \n",
            "                                                                 \n",
            " max_pooling2d_1 (MaxPooling  (None, 12, 12, 32)       0         \n",
            " 2D)                                                             \n",
            "                                                                 \n",
            " conv2d_2 (Conv2D)           (None, 12, 12, 64)        18496     \n",
            "                                                                 \n",
            " max_pooling2d_2 (MaxPooling  (None, 4, 4, 64)         0         \n",
            " 2D)                                                             \n",
            "                                                                 \n",
            " flatten (Flatten)           (None, 1024)              0         \n",
            "                                                                 \n",
            " dense (Dense)               (None, 512)               524800    \n",
            "                                                                 \n",
            " dropout (Dropout)           (None, 512)               0         \n",
            "                                                                 \n",
            " dense_1 (Dense)             (None, 7)                 3591      \n",
            "                                                                 \n",
            "=================================================================\n",
            "Total params: 551,687\n",
            "Trainable params: 551,687\n",
            "Non-trainable params: 0\n",
            "_________________________________________________________________\n",
            "None\n"
          ]
        }
      ]
    },
    {
      "cell_type": "code",
      "source": [
        "tf.keras.utils.plot_model(model)"
      ],
      "metadata": {
        "colab": {
          "base_uri": "https://localhost:8080/",
          "height": 1000
        },
        "id": "PZw58G4e0f37",
        "outputId": "54cf6884-f7c5-491d-fa10-4476ac4a20f8"
      },
      "id": "PZw58G4e0f37",
      "execution_count": 19,
      "outputs": [
        {
          "output_type": "execute_result",
          "data": {
            "image/png": "[encoded data removed]",
            "text/plain": [
              "<IPython.core.display.Image object>"
            ]
          },
          "metadata": {},
          "execution_count": 19
        }
      ]
    },
    {
      "cell_type": "markdown",
      "source": [
        "---\n",
        "# **5. Train model**"
      ],
      "metadata": {
        "id": "FPYH_e2zwY-e"
      },
      "id": "FPYH_e2zwY-e"
    },
    {
      "cell_type": "code",
      "source": [
        "model_path = '/content/drive/MyDrive/Colab Notebooks/model.h5'\n",
        "\n",
        "if os.path.exists(model_path):\n",
        "    model = tf.keras.models.load_model(model_path)\n",
        "else:\n",
        "    history = model.fit(train_x, train_y, epochs=50, \n",
        "                        validation_data=(val_x, val_y))\n",
        "    model.save(model_path)"
      ],
      "metadata": {
        "id": "fDE3V6hM1CFd",
        "outputId": "6d7dcaac-10ed-44db-bc39-bcb686635191",
        "colab": {
          "base_uri": "https://localhost:8080/"
        }
      },
      "id": "fDE3V6hM1CFd",
      "execution_count": 20,
      "outputs": [
        {
          "output_type": "stream",
          "name": "stdout",
          "text": [
            "Epoch 1/50\n"
          ]
        },
        {
          "output_type": "stream",
          "name": "stderr",
          "text": [
            "/usr/local/lib/python3.7/dist-packages/tensorflow/python/util/dispatch.py:1096: UserWarning: \"`sparse_categorical_crossentropy` received `from_logits=True`, but the `output` argument was produced by a sigmoid or softmax activation and thus does not represent logits. Was this intended?\"\n",
            "  return dispatch_target(*args, **kwargs)\n"
          ]
        },
        {
          "output_type": "stream",
          "name": "stdout",
          "text": [
            "898/898 [==============================] - 22s 15ms/step - loss: 2.1633 - accuracy: 0.3118 - val_loss: 1.4711 - val_accuracy: 0.4371\n",
            "Epoch 2/50\n",
            "898/898 [==============================] - 13s 14ms/step - loss: 1.5246 - accuracy: 0.4208 - val_loss: 1.3087 - val_accuracy: 0.5080\n",
            "Epoch 3/50\n",
            "898/898 [==============================] - 12s 14ms/step - loss: 1.3634 - accuracy: 0.4814 - val_loss: 1.1542 - val_accuracy: 0.5616\n",
            "Epoch 4/50\n",
            "898/898 [==============================] - 11s 12ms/step - loss: 1.2412 - accuracy: 0.5328 - val_loss: 1.0051 - val_accuracy: 0.6253\n",
            "Epoch 5/50\n",
            "898/898 [==============================] - 12s 14ms/step - loss: 1.1268 - accuracy: 0.5796 - val_loss: 0.9427 - val_accuracy: 0.6512\n",
            "Epoch 6/50\n",
            "898/898 [==============================] - 12s 14ms/step - loss: 1.0154 - accuracy: 0.6207 - val_loss: 0.7783 - val_accuracy: 0.7198\n",
            "Epoch 7/50\n",
            "898/898 [==============================] - 11s 12ms/step - loss: 0.9007 - accuracy: 0.6678 - val_loss: 0.6990 - val_accuracy: 0.7438\n",
            "Epoch 8/50\n",
            "898/898 [==============================] - 12s 14ms/step - loss: 0.7674 - accuracy: 0.7168 - val_loss: 0.5132 - val_accuracy: 0.8237\n",
            "Epoch 9/50\n",
            "898/898 [==============================] - 12s 14ms/step - loss: 0.6530 - accuracy: 0.7636 - val_loss: 0.4455 - val_accuracy: 0.8502\n",
            "Epoch 10/50\n",
            "898/898 [==============================] - 11s 12ms/step - loss: 0.5489 - accuracy: 0.8022 - val_loss: 0.2933 - val_accuracy: 0.8965\n",
            "Epoch 11/50\n",
            "898/898 [==============================] - 12s 14ms/step - loss: 0.4781 - accuracy: 0.8293 - val_loss: 0.2191 - val_accuracy: 0.9291\n",
            "Epoch 12/50\n",
            "898/898 [==============================] - 10s 12ms/step - loss: 0.4407 - accuracy: 0.8485 - val_loss: 0.2247 - val_accuracy: 0.9227\n",
            "Epoch 13/50\n",
            "898/898 [==============================] - 12s 14ms/step - loss: 0.3775 - accuracy: 0.8704 - val_loss: 0.1729 - val_accuracy: 0.9429\n",
            "Epoch 14/50\n",
            "898/898 [==============================] - 12s 14ms/step - loss: 0.3571 - accuracy: 0.8766 - val_loss: 0.1886 - val_accuracy: 0.9369\n",
            "Epoch 15/50\n",
            "898/898 [==============================] - 10s 11ms/step - loss: 0.3408 - accuracy: 0.8849 - val_loss: 0.1760 - val_accuracy: 0.9410\n",
            "Epoch 16/50\n",
            "898/898 [==============================] - 10s 11ms/step - loss: 0.3294 - accuracy: 0.8912 - val_loss: 0.1594 - val_accuracy: 0.9472\n",
            "Epoch 17/50\n",
            "898/898 [==============================] - 12s 14ms/step - loss: 0.2992 - accuracy: 0.9006 - val_loss: 0.1364 - val_accuracy: 0.9552\n",
            "Epoch 18/50\n",
            "898/898 [==============================] - 11s 12ms/step - loss: 0.2989 - accuracy: 0.9030 - val_loss: 0.1179 - val_accuracy: 0.9600\n",
            "Epoch 19/50\n",
            "898/898 [==============================] - 10s 12ms/step - loss: 0.2936 - accuracy: 0.9054 - val_loss: 0.1213 - val_accuracy: 0.9603\n",
            "Epoch 20/50\n",
            "898/898 [==============================] - 10s 12ms/step - loss: 0.2577 - accuracy: 0.9170 - val_loss: 0.1252 - val_accuracy: 0.9589\n",
            "Epoch 21/50\n",
            "898/898 [==============================] - 10s 12ms/step - loss: 0.2759 - accuracy: 0.9120 - val_loss: 0.1168 - val_accuracy: 0.9621\n",
            "Epoch 22/50\n",
            "898/898 [==============================] - 12s 14ms/step - loss: 0.2831 - accuracy: 0.9116 - val_loss: 0.1236 - val_accuracy: 0.9593\n",
            "Epoch 23/50\n",
            "898/898 [==============================] - 11s 12ms/step - loss: 0.2685 - accuracy: 0.9156 - val_loss: 0.1076 - val_accuracy: 0.9643\n",
            "Epoch 24/50\n",
            "898/898 [==============================] - 12s 14ms/step - loss: 0.2458 - accuracy: 0.9245 - val_loss: 0.1196 - val_accuracy: 0.9622\n",
            "Epoch 25/50\n",
            "898/898 [==============================] - 12s 14ms/step - loss: 0.2780 - accuracy: 0.9159 - val_loss: 0.0867 - val_accuracy: 0.9723\n",
            "Epoch 26/50\n",
            "898/898 [==============================] - 12s 14ms/step - loss: 0.2359 - accuracy: 0.9271 - val_loss: 0.1134 - val_accuracy: 0.9632\n",
            "Epoch 27/50\n",
            "898/898 [==============================] - 12s 14ms/step - loss: 0.2270 - accuracy: 0.9296 - val_loss: 0.0809 - val_accuracy: 0.9754\n",
            "Epoch 28/50\n",
            "898/898 [==============================] - 12s 14ms/step - loss: 0.2481 - accuracy: 0.9269 - val_loss: 0.1239 - val_accuracy: 0.9596\n",
            "Epoch 29/50\n",
            "898/898 [==============================] - 12s 14ms/step - loss: 0.2467 - accuracy: 0.9239 - val_loss: 0.0796 - val_accuracy: 0.9743\n",
            "Epoch 30/50\n",
            "898/898 [==============================] - 11s 12ms/step - loss: 0.2302 - accuracy: 0.9316 - val_loss: 0.1138 - val_accuracy: 0.9635\n",
            "Epoch 31/50\n",
            "898/898 [==============================] - 13s 14ms/step - loss: 0.2524 - accuracy: 0.9242 - val_loss: 0.0801 - val_accuracy: 0.9748\n",
            "Epoch 32/50\n",
            "898/898 [==============================] - 12s 14ms/step - loss: 0.2214 - accuracy: 0.9341 - val_loss: 0.0804 - val_accuracy: 0.9736\n",
            "Epoch 33/50\n",
            "898/898 [==============================] - 12s 14ms/step - loss: 0.2170 - accuracy: 0.9337 - val_loss: 0.0581 - val_accuracy: 0.9813\n",
            "Epoch 34/50\n",
            "898/898 [==============================] - 10s 12ms/step - loss: 0.2253 - accuracy: 0.9339 - val_loss: 0.0655 - val_accuracy: 0.9798\n",
            "Epoch 35/50\n",
            "898/898 [==============================] - 11s 12ms/step - loss: 0.2146 - accuracy: 0.9359 - val_loss: 0.0710 - val_accuracy: 0.9780\n",
            "Epoch 36/50\n",
            "898/898 [==============================] - 11s 12ms/step - loss: 0.2325 - accuracy: 0.9332 - val_loss: 0.0899 - val_accuracy: 0.9712\n",
            "Epoch 37/50\n",
            "898/898 [==============================] - 11s 12ms/step - loss: 0.2068 - accuracy: 0.9398 - val_loss: 0.0608 - val_accuracy: 0.9809\n",
            "Epoch 38/50\n",
            "898/898 [==============================] - 11s 12ms/step - loss: 0.2377 - accuracy: 0.9334 - val_loss: 0.0490 - val_accuracy: 0.9842\n",
            "Epoch 39/50\n",
            "898/898 [==============================] - 13s 14ms/step - loss: 0.2188 - accuracy: 0.9380 - val_loss: 0.0574 - val_accuracy: 0.9819\n",
            "Epoch 40/50\n",
            "898/898 [==============================] - 13s 14ms/step - loss: 0.1865 - accuracy: 0.9446 - val_loss: 0.0639 - val_accuracy: 0.9797\n",
            "Epoch 41/50\n",
            "898/898 [==============================] - 13s 15ms/step - loss: 0.2276 - accuracy: 0.9371 - val_loss: 0.0876 - val_accuracy: 0.9726\n",
            "Epoch 42/50\n",
            "898/898 [==============================] - 11s 12ms/step - loss: 0.2217 - accuracy: 0.9383 - val_loss: 0.0741 - val_accuracy: 0.9762\n",
            "Epoch 43/50\n",
            "898/898 [==============================] - 11s 12ms/step - loss: 0.2068 - accuracy: 0.9406 - val_loss: 0.0515 - val_accuracy: 0.9837\n",
            "Epoch 44/50\n",
            "898/898 [==============================] - 12s 14ms/step - loss: 0.2041 - accuracy: 0.9447 - val_loss: 0.0873 - val_accuracy: 0.9717\n",
            "Epoch 45/50\n",
            "898/898 [==============================] - 11s 12ms/step - loss: 0.2089 - accuracy: 0.9417 - val_loss: 0.0730 - val_accuracy: 0.9769\n",
            "Epoch 46/50\n",
            "898/898 [==============================] - 12s 14ms/step - loss: 0.2117 - accuracy: 0.9436 - val_loss: 0.0576 - val_accuracy: 0.9808\n",
            "Epoch 47/50\n",
            "898/898 [==============================] - 11s 12ms/step - loss: 0.2150 - accuracy: 0.9403 - val_loss: 0.0788 - val_accuracy: 0.9751\n",
            "Epoch 48/50\n",
            "898/898 [==============================] - 13s 15ms/step - loss: 0.2025 - accuracy: 0.9448 - val_loss: 0.0493 - val_accuracy: 0.9843\n",
            "Epoch 49/50\n",
            "898/898 [==============================] - 11s 13ms/step - loss: 0.2102 - accuracy: 0.9422 - val_loss: 0.0755 - val_accuracy: 0.9766\n",
            "Epoch 50/50\n",
            "898/898 [==============================] - 13s 15ms/step - loss: 0.2243 - accuracy: 0.9395 - val_loss: 0.0581 - val_accuracy: 0.9819\n"
          ]
        }
      ]
    },
    {
      "cell_type": "code",
      "source": [
        "plt.plot(history.history['accuracy'], label='accuracy')\n",
        "plt.plot(history.history['val_accuracy'], label = 'val_accuracy')\n",
        "plt.xlabel('Epoch')\n",
        "plt.ylabel('Accuracy')\n",
        "plt.title('Model accuracy')\n",
        "plt.legend(loc='lower right')"
      ],
      "metadata": {
        "colab": {
          "base_uri": "https://localhost:8080/",
          "height": 313
        },
        "id": "kcaHwgOf1xpT",
        "outputId": "51ee96a0-6af5-46ed-a88e-34982d48b231"
      },
      "id": "kcaHwgOf1xpT",
      "execution_count": 21,
      "outputs": [
        {
          "output_type": "execute_result",
          "data": {
            "text/plain": [
              "<matplotlib.legend.Legend at 0x7fb5a0376d50>"
            ]
          },
          "metadata": {},
          "execution_count": 21
        },
        {
          "output_type": "display_data",
          "data": {
            "image/png": "[encoded data removed]",
            "text/plain": [
              "<Figure size 432x288 with 1 Axes>"
            ]
          },
          "metadata": {
            "needs_background": "light"
          }
        }
      ]
    },
    {
      "cell_type": "code",
      "source": [
        "plt.plot(history.history['loss'], label='loss')\n",
        "plt.plot(history.history['val_loss'], label = 'val_loss')\n",
        "plt.xlabel('Epoch')\n",
        "plt.ylabel('Loss')\n",
        "plt.title('Model loss')\n",
        "plt.legend(loc='lower left')"
      ],
      "metadata": {
        "colab": {
          "base_uri": "https://localhost:8080/",
          "height": 313
        },
        "id": "PPSozNet50AN",
        "outputId": "c30049e0-e543-47ac-b4aa-869dce9f0c39"
      },
      "id": "PPSozNet50AN",
      "execution_count": 22,
      "outputs": [
        {
          "output_type": "execute_result",
          "data": {
            "text/plain": [
              "<matplotlib.legend.Legend at 0x7fb5a0252750>"
            ]
          },
          "metadata": {},
          "execution_count": 22
        },
        {
          "output_type": "display_data",
          "data": {
            "image/png": "[encoded data removed]",
            "text/plain": [
              "<Figure size 432x288 with 1 Axes>"
            ]
          },
          "metadata": {
            "needs_background": "light"
          }
        }
      ]
    },
    {
      "cell_type": "markdown",
      "source": [
        "---\n",
        "# **6. Prediction**"
      ],
      "metadata": {
        "id": "-_6OJJ-Hv47f"
      },
      "id": "-_6OJJ-Hv47f"
    },
    {
      "cell_type": "code",
      "execution_count": 23,
      "metadata": {
        "id": "IvIklfLrBRGP",
        "outputId": "103fe281-cedd-4b83-a824-78525c79a48c",
        "colab": {
          "base_uri": "https://localhost:8080/"
        }
      },
      "outputs": [
        {
          "output_type": "stream",
          "name": "stdout",
          "text": [
            "898/898 - 3s - loss: 0.0581 - accuracy: 0.9819 - 3s/epoch - 4ms/step\n",
            "\n",
            "Test accuracy: 0.9819220304489136\n"
          ]
        }
      ],
      "source": [
        "test_loss, test_acc = model.evaluate(test_x, test_y, verbose=2)\n",
        "\n",
        "print('\\nTest accuracy:', test_acc)"
      ],
      "id": "IvIklfLrBRGP"
    },
    {
      "cell_type": "code",
      "source": [
        "test_pred = model.predict(test_x, verbose=1)\n",
        "test_pred = np.argmax(test_pred, axis=1)"
      ],
      "metadata": {
        "id": "7CzyR3pdVwrP",
        "outputId": "c96fb148-aa6b-43ad-b72a-eb5e7fa5fe63",
        "colab": {
          "base_uri": "https://localhost:8080/"
        }
      },
      "id": "7CzyR3pdVwrP",
      "execution_count": 24,
      "outputs": [
        {
          "output_type": "stream",
          "name": "stdout",
          "text": [
            "898/898 [==============================] - 3s 3ms/step\n"
          ]
        }
      ]
    },
    {
      "cell_type": "code",
      "source": [
        "cm = confusion_matrix(test_y, test_pred)\n",
        "\n",
        "plt.figure(figsize=(20,10))\n",
        "sns.heatmap(cm/np.sum(cm), annot=True, fmt='.2%', cmap='Blues')\n",
        "tick_marks = np.arange(len(emotion_labels))\n",
        "plt.xticks(tick_marks, emotion_labels, rotation=45)\n",
        "plt.yticks(tick_marks, emotion_labels)\n",
        "plt.ylabel('True expression')\n",
        "plt.xlabel('Predicted expression')\n",
        "plt.show()"
      ],
      "metadata": {
        "id": "GrodkYU_3abT",
        "outputId": "06e00cde-db48-4e2c-afbb-156853714279",
        "colab": {
          "base_uri": "https://localhost:8080/",
          "height": 647
        }
      },
      "id": "GrodkYU_3abT",
      "execution_count": 25,
      "outputs": [
        {
          "output_type": "display_data",
          "data": {
            "image/png": "[encoded data removed]",
            "text/plain": [
              "<Figure size 1440x720 with 2 Axes>"
            ]
          },
          "metadata": {
            "needs_background": "light"
          }
        }
      ]
    },
    {
      "cell_type": "markdown",
      "source": [
        "---"
      ],
      "metadata": {
        "id": "kAXTgCT61Pc0"
      },
      "id": "kAXTgCT61Pc0"
    }
  ],
  "metadata": {
    "colab": {
      "name": "project-CNN.ipynb",
      "provenance": [],
      "include_colab_link": true
    },
    "kernelspec": {
      "display_name": "Python 3 (ipykernel)",
      "language": "python",
      "name": "python3"
    },
    "language_info": {
      "codemirror_mode": {
        "name": "ipython",
        "version": 3
      },
      "file_extension": ".py",
      "mimetype": "text/x-python",
      "name": "python",
      "nbconvert_exporter": "python",
      "pygments_lexer": "ipython3",
      "version": "3.8.10"
    },
    "accelerator": "GPU"
  },
  "nbformat": 4,
  "nbformat_minor": 5
}