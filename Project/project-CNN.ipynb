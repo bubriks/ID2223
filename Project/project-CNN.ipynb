{
 "cells": [
  {
   "cell_type": "markdown",
   "id": "51ca0d4c",
   "metadata": {},
   "source": [
    "# Course Project - Paolo Teta & Ralfs Zangis\n",
    "---"
   ]
  },
  {
   "cell_type": "code",
   "execution_count": 1,
   "id": "ba866aa1",
   "metadata": {},
   "outputs": [],
   "source": [
    "from pyspark.sql import SparkSession\n",
    "from pyspark.sql.functions import *\n",
    "\n",
    "spark = SparkSession.builder.getOrCreate()"
   ]
  },
  {
   "cell_type": "code",
   "execution_count": 2,
   "id": "574ba61a",
   "metadata": {},
   "outputs": [
    {
     "name": "stdout",
     "output_type": "stream",
     "text": [
      "2.3.0\n",
      "2.4.0\n"
     ]
    }
   ],
   "source": [
    "#!pip install tensorflow-gpu==2.0\n",
    "\n",
    "import tensorflow as tf # import tensorflow under the alias \"tf\"\n",
    "from tensorflow import keras\n",
    "\n",
    "print(tf.__version__)\n",
    "print(keras.__version__)"
   ]
  },
  {
   "cell_type": "code",
   "execution_count": 23,
   "id": "07361c05",
   "metadata": {},
   "outputs": [],
   "source": [
    "import numpy as np # linear algebra\n",
    "import pandas as pd # data processing, CSV file I/O (e.g. pd.read_csv)\n",
    "\n",
    "from tensorflow.keras.models import Sequential\n",
    "from tensorflow.keras.layers import Dense, Dropout, Activation, Flatten\n",
    "from tensorflow.keras.layers import Conv2D, MaxPooling2D, BatchNormalization\n",
    "from tensorflow.keras.callbacks import EarlyStopping\n",
    "from tensorflow.keras.regularizers import l2\n",
    "from tensorflow.keras.losses import categorical_crossentropy\n",
    "from tensorflow.keras.optimizers import Adam\n",
    "\n",
    "import matplotlib.pyplot as plt"
   ]
  },
  {
   "cell_type": "markdown",
   "id": "a3131554",
   "metadata": {},
   "source": [
    "---\n",
    "# 1. Get the data"
   ]
  },
  {
   "cell_type": "code",
   "execution_count": 4,
   "id": "d3f07dd0",
   "metadata": {},
   "outputs": [],
   "source": [
    "data = spark.read.option(\"header\", True).option(\"inferSchema\", \"true\").csv(\"./dataset.csv\")"
   ]
  },
  {
   "cell_type": "markdown",
   "id": "4d175612",
   "metadata": {},
   "source": [
    "---\n",
    "# 2. Look at the data"
   ]
  },
  {
   "cell_type": "code",
   "execution_count": 6,
   "id": "9974a155",
   "metadata": {},
   "outputs": [
    {
     "name": "stdout",
     "output_type": "stream",
     "text": [
      "root\n",
      " |-- emotion: integer (nullable = true)\n",
      " |-- pixels: string (nullable = true)\n",
      " |-- usage: string (nullable = true)\n",
      "\n",
      "(35887, 3)\n"
     ]
    }
   ],
   "source": [
    "data.printSchema()\n",
    "print((data.count(), len(data.columns)))"
   ]
  },
  {
   "cell_type": "code",
   "execution_count": 7,
   "id": "88f01e64",
   "metadata": {},
   "outputs": [
    {
     "name": "stdout",
     "output_type": "stream",
     "text": [
      "+-------+--------------------+--------+\n",
      "|emotion|              pixels|   usage|\n",
      "+-------+--------------------+--------+\n",
      "|      0|70 80 82 72 58 58...|Training|\n",
      "|      0|151 150 147 155 1...|Training|\n",
      "|      2|231 212 156 164 1...|Training|\n",
      "|      4|24 32 36 30 32 23...|Training|\n",
      "|      6|4 0 0 0 0 0 0 0 0...|Training|\n",
      "+-------+--------------------+--------+\n",
      "only showing top 5 rows\n",
      "\n"
     ]
    }
   ],
   "source": [
    "data.show(5)"
   ]
  },
  {
   "cell_type": "code",
   "execution_count": 9,
   "id": "3d14d906",
   "metadata": {},
   "outputs": [
    {
     "data": {
      "text/plain": [
       "4953"
      ]
     },
     "execution_count": 9,
     "metadata": {},
     "output_type": "execute_result"
    }
   ],
   "source": [
    "data.filter(col(\"emotion\") == 0).count()"
   ]
  },
  {
   "cell_type": "code",
   "execution_count": 21,
   "id": "4ddd063b",
   "metadata": {},
   "outputs": [
    {
     "name": "stdout",
     "output_type": "stream",
     "text": [
      "+-------+-----+\n",
      "|emotion|count|\n",
      "+-------+-----+\n",
      "|      0| 4953|\n",
      "|      1|  547|\n",
      "|      2| 5121|\n",
      "|      3| 8989|\n",
      "|      4| 6077|\n",
      "|      5| 4002|\n",
      "|      6| 6198|\n",
      "+-------+-----+\n",
      "\n",
      "Total number of records in the dataset = 35887\n"
     ]
    }
   ],
   "source": [
    "data.groupBy(col(\"emotion\")).count().sort(asc(\"emotion\")).show()\n",
    "print(f\"Total number of records in the dataset = {data.count()}\")"
   ]
  },
  {
   "cell_type": "markdown",
   "id": "2622ebf7",
   "metadata": {},
   "source": [
    "---\n",
    "# 3. "
   ]
  },
  {
   "cell_type": "code",
   "execution_count": null,
   "id": "e23e3036",
   "metadata": {},
   "outputs": [],
   "source": []
  }
 ],
 "metadata": {
  "kernelspec": {
   "display_name": "Python 3 (ipykernel)",
   "language": "python",
   "name": "python3"
  },
  "language_info": {
   "codemirror_mode": {
    "name": "ipython",
    "version": 3
   },
   "file_extension": ".py",
   "mimetype": "text/x-python",
   "name": "python",
   "nbconvert_exporter": "python",
   "pygments_lexer": "ipython3",
   "version": "3.8.12"
  }
 },
 "nbformat": 4,
 "nbformat_minor": 5
}
