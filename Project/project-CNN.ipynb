{
  "cells": [
    {
      "cell_type": "markdown",
      "metadata": {
        "id": "view-in-github",
        "colab_type": "text"
      },
      "source": [
        "<a href=\"https://colab.research.google.com/github/bubriks/ID2223/blob/main/Project/project-CNN.ipynb\" target=\"_parent\"><img src=\"https://colab.research.google.com/assets/colab-badge.svg\" alt=\"Open In Colab\"/></a>"
      ]
    },
    {
      "cell_type": "markdown",
      "metadata": {
        "id": "3jCcesIbBRF5"
      },
      "source": [
        "# **Course Project: Scalable Machine Learning and Deep Learning**\n",
        "\n",
        "## **Paolo Teta & Ralfs Zangis**\n",
        "---"
      ],
      "id": "3jCcesIbBRF5"
    },
    {
      "cell_type": "markdown",
      "metadata": {
        "id": "OH6yJ9UQB9Q8"
      },
      "source": [
        "# **Requirements**"
      ],
      "id": "OH6yJ9UQB9Q8"
    },
    {
      "cell_type": "markdown",
      "metadata": {
        "id": "zhXHoVtkBRF_"
      },
      "source": [
        "**Tensorflow**"
      ],
      "id": "zhXHoVtkBRF_"
    },
    {
      "cell_type": "code",
      "execution_count": 1,
      "metadata": {
        "id": "0wtbM0o_BRGA"
      },
      "outputs": [],
      "source": [
        "import tensorflow as tf\n",
        "import tensorflow.keras.backend as K"
      ],
      "id": "0wtbM0o_BRGA"
    },
    {
      "cell_type": "markdown",
      "metadata": {
        "id": "a6qLl3jyBRGA"
      },
      "source": [
        "**Other**"
      ],
      "id": "a6qLl3jyBRGA"
    },
    {
      "cell_type": "code",
      "execution_count": 2,
      "metadata": {
        "id": "PL9NvKp7BRGB"
      },
      "outputs": [],
      "source": [
        "import numpy as np\n",
        "import pandas as pd\n",
        "import matplotlib.pyplot as plt"
      ],
      "id": "PL9NvKp7BRGB"
    },
    {
      "cell_type": "markdown",
      "source": [
        "**Mount Google Drive**"
      ],
      "metadata": {
        "id": "zwnmOi5jbqsG"
      },
      "id": "zwnmOi5jbqsG"
    },
    {
      "cell_type": "code",
      "source": [
        "from google.colab import drive\n",
        "drive.mount('/content/drive')"
      ],
      "metadata": {
        "id": "7wV13mPobxB6",
        "outputId": "6b945a1c-5ec5-497c-ad5c-7ba2367a2c2f",
        "colab": {
          "base_uri": "https://localhost:8080/"
        }
      },
      "id": "7wV13mPobxB6",
      "execution_count": 3,
      "outputs": [
        {
          "output_type": "stream",
          "name": "stdout",
          "text": [
            "Drive already mounted at /content/drive; to attempt to forcibly remount, call drive.mount(\"/content/drive\", force_remount=True).\n"
          ]
        }
      ]
    },
    {
      "cell_type": "markdown",
      "metadata": {
        "id": "ETeRQpNeBRGB"
      },
      "source": [
        "---\n",
        "# **1. Get the data**"
      ],
      "id": "ETeRQpNeBRGB"
    },
    {
      "cell_type": "markdown",
      "source": [
        "**Link:** https://drive.google.com/file/d/1Du-gZz1LU-StWbahzckG1EmSLC-FuW5S/view?usp=sharing"
      ],
      "metadata": {
        "id": "eomw05S-d1zQ"
      },
      "id": "eomw05S-d1zQ"
    },
    {
      "cell_type": "code",
      "execution_count": 87,
      "metadata": {
        "id": "-HfN5B73BRGC"
      },
      "outputs": [],
      "source": [
        "df = pd.read_csv(\"/content/drive/MyDrive/Colab Notebooks/dataset-project.csv\")\n",
        "df[\"pixels\"] = [[int(y) for y in x.split(\" \")] for x in df[\"pixels\"]]"
      ],
      "id": "-HfN5B73BRGC"
    },
    {
      "cell_type": "markdown",
      "metadata": {
        "id": "M7dQEVh0BRGI"
      },
      "source": [
        "---\n",
        "# **2. Explore the data**"
      ],
      "id": "M7dQEVh0BRGI"
    },
    {
      "cell_type": "code",
      "source": [
        "print(df)"
      ],
      "metadata": {
        "id": "tpvRUdkBSl4g",
        "outputId": "af86ac69-2973-478f-b82d-aa6db5957cef",
        "colab": {
          "base_uri": "https://localhost:8080/"
        }
      },
      "id": "tpvRUdkBSl4g",
      "execution_count": 88,
      "outputs": [
        {
          "output_type": "stream",
          "name": "stdout",
          "text": [
            "       emotion                                             pixels        usage\n",
            "0            0  [70, 80, 82, 72, 58, 58, 60, 63, 54, 58, 60, 4...     Training\n",
            "1            0  [151, 150, 147, 155, 148, 133, 111, 140, 170, ...     Training\n",
            "2            2  [231, 212, 156, 164, 174, 138, 161, 173, 182, ...     Training\n",
            "3            4  [24, 32, 36, 30, 32, 23, 19, 20, 30, 41, 21, 2...     Training\n",
            "4            6  [4, 0, 0, 0, 0, 0, 0, 0, 0, 0, 0, 0, 3, 15, 23...     Training\n",
            "...        ...                                                ...          ...\n",
            "35882        6  [50, 36, 17, 22, 23, 29, 33, 39, 34, 37, 37, 3...  PrivateTest\n",
            "35883        3  [178, 174, 172, 173, 181, 188, 191, 194, 196, ...  PrivateTest\n",
            "35884        0  [17, 17, 16, 23, 28, 22, 19, 17, 25, 26, 20, 2...  PrivateTest\n",
            "35885        3  [30, 28, 28, 29, 31, 30, 42, 68, 79, 81, 77, 6...  PrivateTest\n",
            "35886        2  [19, 13, 14, 12, 13, 16, 21, 33, 50, 57, 71, 8...  PrivateTest\n",
            "\n",
            "[35887 rows x 3 columns]\n"
          ]
        }
      ]
    },
    {
      "cell_type": "code",
      "execution_count": 89,
      "metadata": {
        "id": "pNiAlZzkBRGJ",
        "outputId": "bbbd8f12-eb53-4410-dbfa-0ab7d1714ddd",
        "colab": {
          "base_uri": "https://localhost:8080/"
        }
      },
      "outputs": [
        {
          "output_type": "execute_result",
          "data": {
            "text/plain": [
              "emotion     int64\n",
              "pixels     object\n",
              "usage      object\n",
              "dtype: object"
            ]
          },
          "metadata": {},
          "execution_count": 89
        }
      ],
      "source": [
        "df.dtypes"
      ],
      "id": "pNiAlZzkBRGJ"
    },
    {
      "cell_type": "code",
      "source": [
        "print(df.count())"
      ],
      "metadata": {
        "id": "rGG6LxpcSwrU",
        "outputId": "26bedfdd-0fc3-4672-9f68-3108b7a2a2d6",
        "colab": {
          "base_uri": "https://localhost:8080/"
        }
      },
      "id": "rGG6LxpcSwrU",
      "execution_count": 90,
      "outputs": [
        {
          "output_type": "stream",
          "name": "stdout",
          "text": [
            "emotion    35887\n",
            "pixels     35887\n",
            "usage      35887\n",
            "dtype: int64\n"
          ]
        }
      ]
    },
    {
      "cell_type": "code",
      "execution_count": 91,
      "metadata": {
        "id": "rNLQKkW2BRGM",
        "outputId": "206977c3-fc25-4177-98cf-612ae2ffb852",
        "colab": {
          "base_uri": "https://localhost:8080/"
        }
      },
      "outputs": [
        {
          "output_type": "stream",
          "name": "stdout",
          "text": [
            "['Training' 'PublicTest' 'PrivateTest']\n"
          ]
        }
      ],
      "source": [
        "print(df[\"usage\"].unique())"
      ],
      "id": "rNLQKkW2BRGM"
    },
    {
      "cell_type": "code",
      "execution_count": 92,
      "metadata": {
        "id": "i3CB8N3dBRGM",
        "outputId": "7ec423c7-82df-4c89-85d7-7608e30a786e",
        "colab": {
          "base_uri": "https://localhost:8080/"
        }
      },
      "outputs": [
        {
          "output_type": "stream",
          "name": "stdout",
          "text": [
            "3    8989\n",
            "6    6198\n",
            "4    6077\n",
            "2    5121\n",
            "0    4953\n",
            "5    4002\n",
            "1     547\n",
            "Name: emotion, dtype: int64\n"
          ]
        }
      ],
      "source": [
        "print(df[\"emotion\"].value_counts())"
      ],
      "id": "i3CB8N3dBRGM"
    },
    {
      "cell_type": "code",
      "execution_count": 93,
      "metadata": {
        "id": "1jcwFPcpBRGN",
        "outputId": "9de77425-dcf7-4fdb-8ac8-809a1ae27a4d",
        "colab": {
          "base_uri": "https://localhost:8080/",
          "height": 295
        }
      },
      "outputs": [
        {
          "output_type": "execute_result",
          "data": {
            "text/plain": [
              "<matplotlib.image.AxesImage at 0x7f0431507910>"
            ]
          },
          "metadata": {},
          "execution_count": 93
        },
        {
          "output_type": "display_data",
          "data": {
            "image/png": "[encoded data removed]",
            "text/plain": [
              "<Figure size 432x288 with 1 Axes>"
            ]
          },
          "metadata": {
            "needs_background": "light"
          }
        }
      ],
      "source": [
        "emotion_labels = [\"Angry\", \"Disgust\", \"Fear\", \"Happy\", \"Sad\", \"Surprise\", \"Neutral\"]\n",
        "\n",
        "dataId = 1\n",
        "\n",
        "row = df.iloc[dataId]\n",
        "plt.figure(dataId)\n",
        "pixelArray = np.asarray(row[\"pixels\"])\n",
        "plt.suptitle(emotion_labels[row[\"emotion\"]])\n",
        "plt.axis('off')\n",
        "plt.imshow(pixelArray.reshape((48, 48)), interpolation='none', cmap='gray')"
      ],
      "id": "1jcwFPcpBRGN"
    },
    {
      "cell_type": "markdown",
      "metadata": {
        "id": "8T2C4H-nBRGO"
      },
      "source": [
        "---\n",
        "# **3. Prepare data**"
      ],
      "id": "8T2C4H-nBRGO"
    },
    {
      "cell_type": "markdown",
      "source": [
        "Reshape pixels"
      ],
      "metadata": {
        "id": "opt-C3xqeOAl"
      },
      "id": "opt-C3xqeOAl"
    },
    {
      "cell_type": "code",
      "source": [
        "df[\"pixels\"] = [np.reshape(x, (1, 48, 48)) for x in df[\"pixels\"]]"
      ],
      "metadata": {
        "id": "4DgsMEL8ZU9B"
      },
      "id": "4DgsMEL8ZU9B",
      "execution_count": 94,
      "outputs": []
    },
    {
      "cell_type": "markdown",
      "source": [
        "Separate dataset"
      ],
      "metadata": {
        "id": "xEoHwbckY7Wh"
      },
      "id": "xEoHwbckY7Wh"
    },
    {
      "cell_type": "code",
      "execution_count": 95,
      "metadata": {
        "id": "L5AKjaBMBRGP"
      },
      "outputs": [],
      "source": [
        "train_df = df[df[\"usage\"] == \"Training\"]\n",
        "val_df = df[df[\"usage\"] == \"PublicTest\"]\n",
        "test_df = df[df[\"usage\"] == \"PrivateTest\"]\n",
        "df = None #to save memory"
      ],
      "id": "L5AKjaBMBRGP"
    },
    {
      "cell_type": "markdown",
      "source": [
        "---\n",
        "# **4. Make model**"
      ],
      "metadata": {
        "id": "uodD5fAVwVVu"
      },
      "id": "uodD5fAVwVVu"
    },
    {
      "cell_type": "code",
      "execution_count": 110,
      "metadata": {
        "id": "3FJ07YWLBz6t",
        "outputId": "a6e6a2ee-3d05-4d65-d280-8cb009a830ab",
        "colab": {
          "base_uri": "https://localhost:8080/",
          "height": 248
        }
      },
      "outputs": [
        {
          "output_type": "display_data",
          "data": {
            "image/png": "[encoded data removed]",
            "text/plain": [
              "<Figure size 432x288 with 9 Axes>"
            ]
          },
          "metadata": {
            "needs_background": "light"
          }
        }
      ],
      "source": [
        "datagen = tf.keras.preprocessing.image.ImageDataGenerator( \n",
        "    rescale=1./255,\n",
        "    rotation_range = 10,\n",
        "    horizontal_flip = True,\n",
        "    width_shift_range=0.1,\n",
        "    height_shift_range=0.1,\n",
        "    fill_mode = 'nearest')\n",
        "\n",
        "x = np.array(train_df['pixels'].tolist())\n",
        "y = np.array(train_df['emotion'])\n",
        "\n",
        "datagen.fit(x)\n",
        "\n",
        "train_flow = datagen.flow(x, y, batch_size=9)\n",
        "\n",
        "for X_batch, y_batch in train_flow:\n",
        "    for i in range(0, 9):\n",
        "        plt.axis('off')\n",
        "        plt.subplot(330 + 1 + i)\n",
        "        plt.imshow(X_batch[i].reshape(48, 48), cmap=plt.get_cmap('gray'))\n",
        "    plt.axis('off')\n",
        "    plt.show()\n",
        "    break"
      ],
      "id": "3FJ07YWLBz6t"
    },
    {
      "cell_type": "code",
      "source": [
        "K.set_image_data_format('channels_first')\n",
        "\n",
        "def swish_activation(x):\n",
        "    return (K.sigmoid(x) * x)\n",
        "\n",
        "model = tf.keras.Sequential()\n",
        "\n",
        "model.add(tf.keras.layers.Conv2D(32, (3, 3), activation='relu', padding=\"same\", input_shape=(1,48,48)))\n",
        "model.add(tf.keras.layers.Conv2D(32, (3, 3), padding=\"same\", activation='relu'))\n",
        "model.add(tf.keras.layers.MaxPooling2D(pool_size=(2, 2)))\n",
        "model.add(tf.keras.layers.Conv2D(64, (3, 3), activation='relu', padding=\"same\"))\n",
        "model.add(tf.keras.layers.Conv2D(64, (3, 3), padding=\"same\", activation='relu'))\n",
        "model.add(tf.keras.layers.MaxPooling2D(pool_size=(2, 2)))\n",
        "model.add(tf.keras.layers.Conv2D(96, (3, 3), dilation_rate=(2, 2), activation='relu', padding=\"same\"))\n",
        "model.add(tf.keras.layers.Conv2D(96, (3, 3), padding=\"valid\", activation='relu'))\n",
        "model.add(tf.keras.layers.MaxPooling2D(pool_size=(2, 2)))\n",
        "model.add(tf.keras.layers.Conv2D(128, (3, 3), dilation_rate=(2, 2), activation='relu', padding=\"same\"))\n",
        "model.add(tf.keras.layers.Conv2D(128, (3, 3), padding=\"valid\", activation='relu'))\n",
        "model.add(tf.keras.layers.MaxPooling2D(pool_size=(2, 2)))\n",
        "model.add(tf.keras.layers.Flatten())\n",
        "model.add(tf.keras.layers.Dense(64, activation=swish_activation))\n",
        "model.add(tf.keras.layers.Dropout(0.4))\n",
        "model.add(tf.keras.layers.Dense(7 , activation='sigmoid'))\n",
        "\n",
        "model.compile(loss='binary_crossentropy',\n",
        "              optimizer='adam' ,\n",
        "              metrics=['accuracy'])\n",
        "\n",
        "print(model.summary())"
      ],
      "metadata": {
        "colab": {
          "base_uri": "https://localhost:8080/"
        },
        "id": "ZcUMnhw_w6w3",
        "outputId": "11f50ac5-bda2-45bf-d1f0-19f9501cbf30"
      },
      "id": "ZcUMnhw_w6w3",
      "execution_count": 101,
      "outputs": [
        {
          "output_type": "stream",
          "name": "stdout",
          "text": [
            "Model: \"sequential\"\n",
            "_________________________________________________________________\n",
            " Layer (type)                Output Shape              Param #   \n",
            "=================================================================\n",
            " conv2d (Conv2D)             (None, 32, 48, 48)        320       \n",
            "                                                                 \n",
            " conv2d_1 (Conv2D)           (None, 32, 48, 48)        9248      \n",
            "                                                                 \n",
            " max_pooling2d (MaxPooling2D  (None, 32, 24, 24)       0         \n",
            " )                                                               \n",
            "                                                                 \n",
            " conv2d_2 (Conv2D)           (None, 64, 24, 24)        18496     \n",
            "                                                                 \n",
            " conv2d_3 (Conv2D)           (None, 64, 24, 24)        36928     \n",
            "                                                                 \n",
            " max_pooling2d_1 (MaxPooling  (None, 64, 12, 12)       0         \n",
            " 2D)                                                             \n",
            "                                                                 \n",
            " conv2d_4 (Conv2D)           (None, 96, 12, 12)        55392     \n",
            "                                                                 \n",
            " conv2d_5 (Conv2D)           (None, 96, 10, 10)        83040     \n",
            "                                                                 \n",
            " max_pooling2d_2 (MaxPooling  (None, 96, 5, 5)         0         \n",
            " 2D)                                                             \n",
            "                                                                 \n",
            " conv2d_6 (Conv2D)           (None, 128, 5, 5)         110720    \n",
            "                                                                 \n",
            " conv2d_7 (Conv2D)           (None, 128, 3, 3)         147584    \n",
            "                                                                 \n",
            " max_pooling2d_3 (MaxPooling  (None, 128, 1, 1)        0         \n",
            " 2D)                                                             \n",
            "                                                                 \n",
            " flatten (Flatten)           (None, 128)               0         \n",
            "                                                                 \n",
            " dense (Dense)               (None, 64)                8256      \n",
            "                                                                 \n",
            " dropout (Dropout)           (None, 64)                0         \n",
            "                                                                 \n",
            " dense_1 (Dense)             (None, 7)                 455       \n",
            "                                                                 \n",
            "=================================================================\n",
            "Total params: 470,439\n",
            "Trainable params: 470,439\n",
            "Non-trainable params: 0\n",
            "_________________________________________________________________\n",
            "None\n"
          ]
        }
      ]
    },
    {
      "cell_type": "code",
      "source": [
        "tf.keras.utils.plot_model(model)"
      ],
      "metadata": {
        "colab": {
          "base_uri": "https://localhost:8080/",
          "height": 1000
        },
        "id": "PZw58G4e0f37",
        "outputId": "e532ab14-e003-4904-f072-1bb73163eb3a"
      },
      "id": "PZw58G4e0f37",
      "execution_count": 102,
      "outputs": [
        {
          "output_type": "execute_result",
          "data": {
            "image/png": "[encoded data removed]",
            "text/plain": [
              "<IPython.core.display.Image object>"
            ]
          },
          "metadata": {},
          "execution_count": 102
        }
      ]
    },
    {
      "cell_type": "markdown",
      "source": [
        "---\n",
        "# **5. Train model**"
      ],
      "metadata": {
        "id": "FPYH_e2zwY-e"
      },
      "id": "FPYH_e2zwY-e"
    },
    {
      "cell_type": "code",
      "source": [
        "model.compile(loss='binary_crossentropy', optimizer='adam' , metrics=['accuracy'])"
      ],
      "metadata": {
        "id": "fDE3V6hM1CFd"
      },
      "id": "fDE3V6hM1CFd",
      "execution_count": 103,
      "outputs": []
    },
    {
      "cell_type": "code",
      "source": [
        "lr_reduce = tf.keras.callbacks.ReduceLROnPlateau(monitor='val_acc', factor=0.1, min_delta=0.0001, patience=1, verbose=1)"
      ],
      "metadata": {
        "id": "-yZ6B1TVwncn"
      },
      "id": "-yZ6B1TVwncn",
      "execution_count": 100,
      "outputs": []
    },
    {
      "cell_type": "code",
      "source": [
        "batch_size = 128\n",
        "epochs = 14\n",
        "\n",
        "x = np.array(train_df['pixels'].tolist())\n",
        "y = np.array(train_df['emotion'])\n",
        "\n",
        "x_1 = np.array(val_df['pixels'].tolist())\n",
        "y_1 = np.array(val_df['emotion'])\n",
        "\n",
        "history = model.fit_generator(\n",
        "    train_flow,\n",
        "    callbacks=[lr_reduce],\n",
        "    validation_data=(x_1, y_1),\n",
        "    epochs = epochs,\n",
        "    verbose = 2)"
      ],
      "metadata": {
        "colab": {
          "base_uri": "https://localhost:8080/",
          "height": 816
        },
        "id": "r9uqR6C-0sZM",
        "outputId": "66c51997-e7d2-4336-dcf5-c25a012c578d"
      },
      "id": "r9uqR6C-0sZM",
      "execution_count": 111,
      "outputs": [
        {
          "output_type": "stream",
          "name": "stdout",
          "text": [
            "Epoch 1/14\n"
          ]
        },
        {
          "output_type": "stream",
          "name": "stderr",
          "text": [
            "/usr/local/lib/python3.7/dist-packages/ipykernel_launcher.py:15: UserWarning: `Model.fit_generator` is deprecated and will be removed in a future version. Please use `Model.fit`, which supports generators.\n",
            "  from ipykernel import kernelapp as app\n"
          ]
        },
        {
          "output_type": "error",
          "ename": "ValueError",
          "evalue": "ignored",
          "traceback": [
            "\u001b[0;31m---------------------------------------------------------------------------\u001b[0m",
            "\u001b[0;31mValueError\u001b[0m                                Traceback (most recent call last)",
            "\u001b[0;32m<ipython-input-111-6591fbf7758b>\u001b[0m in \u001b[0;36m<module>\u001b[0;34m()\u001b[0m\n\u001b[1;32m     13\u001b[0m     \u001b[0mvalidation_data\u001b[0m\u001b[0;34m=\u001b[0m\u001b[0;34m(\u001b[0m\u001b[0mx_1\u001b[0m\u001b[0;34m,\u001b[0m \u001b[0my_1\u001b[0m\u001b[0;34m)\u001b[0m\u001b[0;34m,\u001b[0m\u001b[0;34m\u001b[0m\u001b[0;34m\u001b[0m\u001b[0m\n\u001b[1;32m     14\u001b[0m     \u001b[0mepochs\u001b[0m \u001b[0;34m=\u001b[0m \u001b[0mepochs\u001b[0m\u001b[0;34m,\u001b[0m\u001b[0;34m\u001b[0m\u001b[0;34m\u001b[0m\u001b[0m\n\u001b[0;32m---> 15\u001b[0;31m     verbose = 2)\n\u001b[0m",
            "\u001b[0;32m/usr/local/lib/python3.7/dist-packages/keras/engine/training.py\u001b[0m in \u001b[0;36mfit_generator\u001b[0;34m(self, generator, steps_per_epoch, epochs, verbose, callbacks, validation_data, validation_steps, validation_freq, class_weight, max_queue_size, workers, use_multiprocessing, shuffle, initial_epoch)\u001b[0m\n\u001b[1;32m   2028\u001b[0m         \u001b[0muse_multiprocessing\u001b[0m\u001b[0;34m=\u001b[0m\u001b[0muse_multiprocessing\u001b[0m\u001b[0;34m,\u001b[0m\u001b[0;34m\u001b[0m\u001b[0;34m\u001b[0m\u001b[0m\n\u001b[1;32m   2029\u001b[0m         \u001b[0mshuffle\u001b[0m\u001b[0;34m=\u001b[0m\u001b[0mshuffle\u001b[0m\u001b[0;34m,\u001b[0m\u001b[0;34m\u001b[0m\u001b[0;34m\u001b[0m\u001b[0m\n\u001b[0;32m-> 2030\u001b[0;31m         initial_epoch=initial_epoch)\n\u001b[0m\u001b[1;32m   2031\u001b[0m \u001b[0;34m\u001b[0m\u001b[0m\n\u001b[1;32m   2032\u001b[0m   \u001b[0;34m@\u001b[0m\u001b[0mdoc_controls\u001b[0m\u001b[0;34m.\u001b[0m\u001b[0mdo_not_generate_docs\u001b[0m\u001b[0;34m\u001b[0m\u001b[0;34m\u001b[0m\u001b[0m\n",
            "\u001b[0;32m/usr/local/lib/python3.7/dist-packages/keras/utils/traceback_utils.py\u001b[0m in \u001b[0;36merror_handler\u001b[0;34m(*args, **kwargs)\u001b[0m\n\u001b[1;32m     65\u001b[0m     \u001b[0;32mexcept\u001b[0m \u001b[0mException\u001b[0m \u001b[0;32mas\u001b[0m \u001b[0me\u001b[0m\u001b[0;34m:\u001b[0m  \u001b[0;31m# pylint: disable=broad-except\u001b[0m\u001b[0;34m\u001b[0m\u001b[0;34m\u001b[0m\u001b[0m\n\u001b[1;32m     66\u001b[0m       \u001b[0mfiltered_tb\u001b[0m \u001b[0;34m=\u001b[0m \u001b[0m_process_traceback_frames\u001b[0m\u001b[0;34m(\u001b[0m\u001b[0me\u001b[0m\u001b[0;34m.\u001b[0m\u001b[0m__traceback__\u001b[0m\u001b[0;34m)\u001b[0m\u001b[0;34m\u001b[0m\u001b[0;34m\u001b[0m\u001b[0m\n\u001b[0;32m---> 67\u001b[0;31m       \u001b[0;32mraise\u001b[0m \u001b[0me\u001b[0m\u001b[0;34m.\u001b[0m\u001b[0mwith_traceback\u001b[0m\u001b[0;34m(\u001b[0m\u001b[0mfiltered_tb\u001b[0m\u001b[0;34m)\u001b[0m \u001b[0;32mfrom\u001b[0m \u001b[0;32mNone\u001b[0m\u001b[0;34m\u001b[0m\u001b[0;34m\u001b[0m\u001b[0m\n\u001b[0m\u001b[1;32m     68\u001b[0m     \u001b[0;32mfinally\u001b[0m\u001b[0;34m:\u001b[0m\u001b[0;34m\u001b[0m\u001b[0;34m\u001b[0m\u001b[0m\n\u001b[1;32m     69\u001b[0m       \u001b[0;32mdel\u001b[0m \u001b[0mfiltered_tb\u001b[0m\u001b[0;34m\u001b[0m\u001b[0;34m\u001b[0m\u001b[0m\n",
            "\u001b[0;32m/usr/local/lib/python3.7/dist-packages/tensorflow/python/framework/func_graph.py\u001b[0m in \u001b[0;36mautograph_handler\u001b[0;34m(*args, **kwargs)\u001b[0m\n\u001b[1;32m   1127\u001b[0m           \u001b[0;32mexcept\u001b[0m \u001b[0mException\u001b[0m \u001b[0;32mas\u001b[0m \u001b[0me\u001b[0m\u001b[0;34m:\u001b[0m  \u001b[0;31m# pylint:disable=broad-except\u001b[0m\u001b[0;34m\u001b[0m\u001b[0;34m\u001b[0m\u001b[0m\n\u001b[1;32m   1128\u001b[0m             \u001b[0;32mif\u001b[0m \u001b[0mhasattr\u001b[0m\u001b[0;34m(\u001b[0m\u001b[0me\u001b[0m\u001b[0;34m,\u001b[0m \u001b[0;34m\"ag_error_metadata\"\u001b[0m\u001b[0;34m)\u001b[0m\u001b[0;34m:\u001b[0m\u001b[0;34m\u001b[0m\u001b[0;34m\u001b[0m\u001b[0m\n\u001b[0;32m-> 1129\u001b[0;31m               \u001b[0;32mraise\u001b[0m \u001b[0me\u001b[0m\u001b[0;34m.\u001b[0m\u001b[0mag_error_metadata\u001b[0m\u001b[0;34m.\u001b[0m\u001b[0mto_exception\u001b[0m\u001b[0;34m(\u001b[0m\u001b[0me\u001b[0m\u001b[0;34m)\u001b[0m\u001b[0;34m\u001b[0m\u001b[0;34m\u001b[0m\u001b[0m\n\u001b[0m\u001b[1;32m   1130\u001b[0m             \u001b[0;32melse\u001b[0m\u001b[0;34m:\u001b[0m\u001b[0;34m\u001b[0m\u001b[0;34m\u001b[0m\u001b[0m\n\u001b[1;32m   1131\u001b[0m               \u001b[0;32mraise\u001b[0m\u001b[0;34m\u001b[0m\u001b[0;34m\u001b[0m\u001b[0m\n",
            "\u001b[0;31mValueError\u001b[0m: in user code:\n\n    File \"/usr/local/lib/python3.7/dist-packages/keras/engine/training.py\", line 878, in train_function  *\n        return step_function(self, iterator)\n    File \"/usr/local/lib/python3.7/dist-packages/keras/engine/training.py\", line 867, in step_function  **\n        outputs = model.distribute_strategy.run(run_step, args=(data,))\n    File \"/usr/local/lib/python3.7/dist-packages/keras/engine/training.py\", line 860, in run_step  **\n        outputs = model.train_step(data)\n    File \"/usr/local/lib/python3.7/dist-packages/keras/engine/training.py\", line 810, in train_step\n        y, y_pred, sample_weight, regularization_losses=self.losses)\n    File \"/usr/local/lib/python3.7/dist-packages/keras/engine/compile_utils.py\", line 201, in __call__\n        loss_value = loss_obj(y_t, y_p, sample_weight=sw)\n    File \"/usr/local/lib/python3.7/dist-packages/keras/losses.py\", line 141, in __call__\n        losses = call_fn(y_true, y_pred)\n    File \"/usr/local/lib/python3.7/dist-packages/keras/losses.py\", line 245, in call  **\n        return ag_fn(y_true, y_pred, **self._fn_kwargs)\n    File \"/usr/local/lib/python3.7/dist-packages/keras/losses.py\", line 1807, in binary_crossentropy\n        backend.binary_crossentropy(y_true, y_pred, from_logits=from_logits),\n    File \"/usr/local/lib/python3.7/dist-packages/keras/backend.py\", line 5158, in binary_crossentropy\n        return tf.nn.sigmoid_cross_entropy_with_logits(labels=target, logits=output)\n\n    ValueError: `logits` and `labels` must have the same shape, received ((None, 7) vs (None, 1)).\n"
          ]
        }
      ]
    },
    {
      "cell_type": "code",
      "source": [
        "plt.plot(history.history['acc'])\n",
        "plt.plot(history.history['val_acc'])\n",
        "plt.title('model accuracy')\n",
        "plt.ylabel('accuracy')\n",
        "plt.xlabel('epoch')\n",
        "plt.legend(['train', 'test'], loc='upper left')\n",
        "plt.show()\n",
        "# summarize history for loss\n",
        "plt.plot(history.history['loss'])\n",
        "plt.plot(history.history['val_loss'])\n",
        "plt.title('model loss')\n",
        "plt.ylabel('loss')\n",
        "plt.xlabel('epoch')\n",
        "plt.legend(['train', 'test'], loc='upper left')\n",
        "plt.show()"
      ],
      "metadata": {
        "colab": {
          "base_uri": "https://localhost:8080/",
          "height": 244
        },
        "id": "kcaHwgOf1xpT",
        "outputId": "8e55c7c2-f123-4567-8aea-275fac406abd"
      },
      "id": "kcaHwgOf1xpT",
      "execution_count": 21,
      "outputs": [
        {
          "output_type": "error",
          "ename": "NameError",
          "evalue": "ignored",
          "traceback": [
            "\u001b[0;31m---------------------------------------------------------------------------\u001b[0m",
            "\u001b[0;31mNameError\u001b[0m                                 Traceback (most recent call last)",
            "\u001b[0;32m<ipython-input-21-2661688c08ef>\u001b[0m in \u001b[0;36m<module>\u001b[0;34m()\u001b[0m\n\u001b[0;32m----> 1\u001b[0;31m \u001b[0mplt\u001b[0m\u001b[0;34m.\u001b[0m\u001b[0mplot\u001b[0m\u001b[0;34m(\u001b[0m\u001b[0mhistory\u001b[0m\u001b[0;34m.\u001b[0m\u001b[0mhistory\u001b[0m\u001b[0;34m[\u001b[0m\u001b[0;34m'acc'\u001b[0m\u001b[0;34m]\u001b[0m\u001b[0;34m)\u001b[0m\u001b[0;34m\u001b[0m\u001b[0;34m\u001b[0m\u001b[0m\n\u001b[0m\u001b[1;32m      2\u001b[0m \u001b[0mplt\u001b[0m\u001b[0;34m.\u001b[0m\u001b[0mplot\u001b[0m\u001b[0;34m(\u001b[0m\u001b[0mhistory\u001b[0m\u001b[0;34m.\u001b[0m\u001b[0mhistory\u001b[0m\u001b[0;34m[\u001b[0m\u001b[0;34m'val_acc'\u001b[0m\u001b[0;34m]\u001b[0m\u001b[0;34m)\u001b[0m\u001b[0;34m\u001b[0m\u001b[0;34m\u001b[0m\u001b[0m\n\u001b[1;32m      3\u001b[0m \u001b[0mplt\u001b[0m\u001b[0;34m.\u001b[0m\u001b[0mtitle\u001b[0m\u001b[0;34m(\u001b[0m\u001b[0;34m'model accuracy'\u001b[0m\u001b[0;34m)\u001b[0m\u001b[0;34m\u001b[0m\u001b[0;34m\u001b[0m\u001b[0m\n\u001b[1;32m      4\u001b[0m \u001b[0mplt\u001b[0m\u001b[0;34m.\u001b[0m\u001b[0mylabel\u001b[0m\u001b[0;34m(\u001b[0m\u001b[0;34m'accuracy'\u001b[0m\u001b[0;34m)\u001b[0m\u001b[0;34m\u001b[0m\u001b[0;34m\u001b[0m\u001b[0m\n\u001b[1;32m      5\u001b[0m \u001b[0mplt\u001b[0m\u001b[0;34m.\u001b[0m\u001b[0mxlabel\u001b[0m\u001b[0;34m(\u001b[0m\u001b[0;34m'epoch'\u001b[0m\u001b[0;34m)\u001b[0m\u001b[0;34m\u001b[0m\u001b[0;34m\u001b[0m\u001b[0m\n",
            "\u001b[0;31mNameError\u001b[0m: name 'history' is not defined"
          ]
        }
      ]
    },
    {
      "cell_type": "markdown",
      "source": [
        "---\n",
        "# **6. Prediction**"
      ],
      "metadata": {
        "id": "-_6OJJ-Hv47f"
      },
      "id": "-_6OJJ-Hv47f"
    },
    {
      "cell_type": "code",
      "execution_count": null,
      "metadata": {
        "id": "IvIklfLrBRGP"
      },
      "outputs": [],
      "source": [
        ""
      ],
      "id": "IvIklfLrBRGP"
    },
    {
      "cell_type": "code",
      "source": [
        ""
      ],
      "metadata": {
        "id": "E_NEkOLhdKoG"
      },
      "id": "E_NEkOLhdKoG",
      "execution_count": null,
      "outputs": []
    },
    {
      "cell_type": "code",
      "execution_count": null,
      "metadata": {
        "id": "4z6syzYcBRGP"
      },
      "outputs": [],
      "source": [
        "%matplotlib notebook\n",
        "\n",
        "import cv2\n",
        "import matplotlib.pyplot as plt\n",
        "import signal"
      ],
      "id": "4z6syzYcBRGP"
    },
    {
      "cell_type": "code",
      "execution_count": null,
      "metadata": {
        "id": "HLIwkGEkbkh9"
      },
      "outputs": [],
      "source": [
        "def signal_handler(signal, frame):\n",
        "    # KeyboardInterrupt detected, exiting\n",
        "    global is_interrupted\n",
        "    is_interrupted = True"
      ],
      "id": "HLIwkGEkbkh9"
    },
    {
      "cell_type": "code",
      "execution_count": null,
      "metadata": {
        "id": "DxB6ZTeabkh9"
      },
      "outputs": [],
      "source": [
        "vc = cv2.VideoCapture(0)\n",
        "\n",
        "plt.ion()\n",
        "\n",
        "if vc.isOpened(): # try to get the first frame\n",
        "    is_capturing, frame = vc.read()\n",
        "    frame = cv2.cvtColor(frame, cv2.COLOR_BGR2RGB)    # makes the blues image look real colored\n",
        "    webcam_preview = plt.imshow(frame)    \n",
        "else:\n",
        "    is_capturing = False\n",
        "\n",
        "signal.signal(signal.SIGINT, signal_handler)\n",
        "is_interrupted = False\n",
        "while is_capturing:\n",
        "    is_capturing, frame = vc.read()\n",
        "    frame = cv2.cvtColor(frame, cv2.COLOR_BGR2RGB)    # makes the blues image look real colored\n",
        "    webcam_preview.set_data(frame)\n",
        "    plt.draw()\n",
        "\n",
        "    try:    # Avoids a NotImplementedError caused by `plt.pause`\n",
        "        plt.pause(0.05)\n",
        "    except Exception:\n",
        "        pass\n",
        "    if is_interrupted:\n",
        "        vc.release()\n",
        "        break"
      ],
      "id": "DxB6ZTeabkh9"
    },
    {
      "cell_type": "code",
      "execution_count": null,
      "metadata": {
        "id": "PKcBbZYEbkh-"
      },
      "outputs": [],
      "source": [
        ""
      ],
      "id": "PKcBbZYEbkh-"
    }
  ],
  "metadata": {
    "colab": {
      "name": "project-CNN.ipynb",
      "provenance": [],
      "include_colab_link": true
    },
    "kernelspec": {
      "display_name": "Python 3 (ipykernel)",
      "language": "python",
      "name": "python3"
    },
    "language_info": {
      "codemirror_mode": {
        "name": "ipython",
        "version": 3
      },
      "file_extension": ".py",
      "mimetype": "text/x-python",
      "name": "python",
      "nbconvert_exporter": "python",
      "pygments_lexer": "ipython3",
      "version": "3.8.10"
    },
    "accelerator": "GPU"
  },
  "nbformat": 4,
  "nbformat_minor": 5
}