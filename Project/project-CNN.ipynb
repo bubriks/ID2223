{
  "cells": [
    {
      "cell_type": "markdown",
      "metadata": {
        "id": "view-in-github",
        "colab_type": "text"
      },
      "source": [
        "<a href=\"https://colab.research.google.com/github/bubriks/ID2223/blob/main/Project/project-CNN.ipynb\" target=\"_parent\"><img src=\"https://colab.research.google.com/assets/colab-badge.svg\" alt=\"Open In Colab\"/></a>"
      ]
    },
    {
      "cell_type": "markdown",
      "metadata": {
        "id": "3jCcesIbBRF5"
      },
      "source": [
        "# **Course Project: Scalable Machine Learning and Deep Learning**\n",
        "\n",
        "## **Paolo Teta & Ralfs Zangis**\n",
        "---"
      ],
      "id": "3jCcesIbBRF5"
    },
    {
      "cell_type": "markdown",
      "metadata": {
        "id": "OH6yJ9UQB9Q8"
      },
      "source": [
        "# **Requirements**"
      ],
      "id": "OH6yJ9UQB9Q8"
    },
    {
      "cell_type": "markdown",
      "metadata": {
        "id": "zhXHoVtkBRF_"
      },
      "source": [
        "**Tensorflow**"
      ],
      "id": "zhXHoVtkBRF_"
    },
    {
      "cell_type": "code",
      "execution_count": 1,
      "metadata": {
        "id": "0wtbM0o_BRGA"
      },
      "outputs": [],
      "source": [
        "import tensorflow as tf\n",
        "import tensorflow.keras.backend as K"
      ],
      "id": "0wtbM0o_BRGA"
    },
    {
      "cell_type": "markdown",
      "metadata": {
        "id": "a6qLl3jyBRGA"
      },
      "source": [
        "**Other**"
      ],
      "id": "a6qLl3jyBRGA"
    },
    {
      "cell_type": "code",
      "execution_count": 2,
      "metadata": {
        "id": "PL9NvKp7BRGB"
      },
      "outputs": [],
      "source": [
        "import os\n",
        "import numpy as np\n",
        "import pandas as pd\n",
        "import matplotlib.pyplot as plt"
      ],
      "id": "PL9NvKp7BRGB"
    },
    {
      "cell_type": "markdown",
      "source": [
        "**Mount Google Drive**"
      ],
      "metadata": {
        "id": "zwnmOi5jbqsG"
      },
      "id": "zwnmOi5jbqsG"
    },
    {
      "cell_type": "code",
      "source": [
        "from google.colab import drive\n",
        "drive.mount('/content/drive')"
      ],
      "metadata": {
        "id": "7wV13mPobxB6",
        "outputId": "f74fdf0f-d5ad-4b75-d2d0-768f23890cf8",
        "colab": {
          "base_uri": "https://localhost:8080/"
        }
      },
      "id": "7wV13mPobxB6",
      "execution_count": 3,
      "outputs": [
        {
          "output_type": "stream",
          "name": "stdout",
          "text": [
            "Drive already mounted at /content/drive; to attempt to forcibly remount, call drive.mount(\"/content/drive\", force_remount=True).\n"
          ]
        }
      ]
    },
    {
      "cell_type": "markdown",
      "metadata": {
        "id": "ETeRQpNeBRGB"
      },
      "source": [
        "---\n",
        "# **1. Get the data**"
      ],
      "id": "ETeRQpNeBRGB"
    },
    {
      "cell_type": "markdown",
      "source": [
        "**Link:** https://drive.google.com/file/d/1Du-gZz1LU-StWbahzckG1EmSLC-FuW5S/view?usp=sharing"
      ],
      "metadata": {
        "id": "eomw05S-d1zQ"
      },
      "id": "eomw05S-d1zQ"
    },
    {
      "cell_type": "code",
      "execution_count": 4,
      "metadata": {
        "id": "-HfN5B73BRGC"
      },
      "outputs": [],
      "source": [
        "df = pd.read_csv(\"/content/drive/MyDrive/Colab Notebooks/dataset-project.csv\")\n",
        "df[\"pixels\"] = [[int(y) for y in x.split(\" \")] for x in df[\"pixels\"]]"
      ],
      "id": "-HfN5B73BRGC"
    },
    {
      "cell_type": "markdown",
      "metadata": {
        "id": "M7dQEVh0BRGI"
      },
      "source": [
        "---\n",
        "# **2. Explore the data**"
      ],
      "id": "M7dQEVh0BRGI"
    },
    {
      "cell_type": "code",
      "source": [
        "print(df)"
      ],
      "metadata": {
        "colab": {
          "base_uri": "https://localhost:8080/"
        },
        "id": "tpvRUdkBSl4g",
        "outputId": "caa0be3a-5c29-4fbc-9139-96395ced3710"
      },
      "id": "tpvRUdkBSl4g",
      "execution_count": 5,
      "outputs": [
        {
          "output_type": "stream",
          "name": "stdout",
          "text": [
            "       emotion                                             pixels        usage\n",
            "0            0  [70, 80, 82, 72, 58, 58, 60, 63, 54, 58, 60, 4...     Training\n",
            "1            0  [151, 150, 147, 155, 148, 133, 111, 140, 170, ...     Training\n",
            "2            2  [231, 212, 156, 164, 174, 138, 161, 173, 182, ...     Training\n",
            "3            4  [24, 32, 36, 30, 32, 23, 19, 20, 30, 41, 21, 2...     Training\n",
            "4            6  [4, 0, 0, 0, 0, 0, 0, 0, 0, 0, 0, 0, 3, 15, 23...     Training\n",
            "...        ...                                                ...          ...\n",
            "35882        6  [50, 36, 17, 22, 23, 29, 33, 39, 34, 37, 37, 3...  PrivateTest\n",
            "35883        3  [178, 174, 172, 173, 181, 188, 191, 194, 196, ...  PrivateTest\n",
            "35884        0  [17, 17, 16, 23, 28, 22, 19, 17, 25, 26, 20, 2...  PrivateTest\n",
            "35885        3  [30, 28, 28, 29, 31, 30, 42, 68, 79, 81, 77, 6...  PrivateTest\n",
            "35886        2  [19, 13, 14, 12, 13, 16, 21, 33, 50, 57, 71, 8...  PrivateTest\n",
            "\n",
            "[35887 rows x 3 columns]\n"
          ]
        }
      ]
    },
    {
      "cell_type": "code",
      "execution_count": 6,
      "metadata": {
        "id": "pNiAlZzkBRGJ",
        "outputId": "1b97f668-78d7-4549-d9eb-ec643cd61b1f",
        "colab": {
          "base_uri": "https://localhost:8080/"
        }
      },
      "outputs": [
        {
          "output_type": "execute_result",
          "data": {
            "text/plain": [
              "emotion     int64\n",
              "pixels     object\n",
              "usage      object\n",
              "dtype: object"
            ]
          },
          "metadata": {},
          "execution_count": 6
        }
      ],
      "source": [
        "df.dtypes"
      ],
      "id": "pNiAlZzkBRGJ"
    },
    {
      "cell_type": "code",
      "source": [
        "print(df.count())"
      ],
      "metadata": {
        "colab": {
          "base_uri": "https://localhost:8080/"
        },
        "id": "rGG6LxpcSwrU",
        "outputId": "707c1cf5-223c-433f-9617-cbc1a44d5564"
      },
      "id": "rGG6LxpcSwrU",
      "execution_count": 7,
      "outputs": [
        {
          "output_type": "stream",
          "name": "stdout",
          "text": [
            "emotion    35887\n",
            "pixels     35887\n",
            "usage      35887\n",
            "dtype: int64\n"
          ]
        }
      ]
    },
    {
      "cell_type": "code",
      "execution_count": 8,
      "metadata": {
        "id": "rNLQKkW2BRGM",
        "outputId": "21d0027e-46a1-432e-c2ee-6cf61769493f",
        "colab": {
          "base_uri": "https://localhost:8080/"
        }
      },
      "outputs": [
        {
          "output_type": "stream",
          "name": "stdout",
          "text": [
            "Training       28709\n",
            "PrivateTest     3589\n",
            "PublicTest      3589\n",
            "Name: usage, dtype: int64\n"
          ]
        }
      ],
      "source": [
        "print(df[\"usage\"].value_counts())"
      ],
      "id": "rNLQKkW2BRGM"
    },
    {
      "cell_type": "code",
      "execution_count": 9,
      "metadata": {
        "id": "i3CB8N3dBRGM",
        "outputId": "a65d6b77-d608-44e9-ed4a-a70d674d9764",
        "colab": {
          "base_uri": "https://localhost:8080/"
        }
      },
      "outputs": [
        {
          "output_type": "stream",
          "name": "stdout",
          "text": [
            "0    4953\n",
            "1     547\n",
            "2    5121\n",
            "3    8989\n",
            "4    6077\n",
            "5    4002\n",
            "6    6198\n",
            "Name: emotion, dtype: int64\n"
          ]
        }
      ],
      "source": [
        "print(df[\"emotion\"].value_counts(sort=False))"
      ],
      "id": "i3CB8N3dBRGM"
    },
    {
      "cell_type": "markdown",
      "source": [
        "Reshape pixels"
      ],
      "metadata": {
        "id": "opt-C3xqeOAl"
      },
      "id": "opt-C3xqeOAl"
    },
    {
      "cell_type": "code",
      "source": [
        "df[\"pixels\"] = [np.reshape(x, (48, 48)) for x in df[\"pixels\"]]"
      ],
      "metadata": {
        "id": "4DgsMEL8ZU9B"
      },
      "id": "4DgsMEL8ZU9B",
      "execution_count": 10,
      "outputs": []
    },
    {
      "cell_type": "markdown",
      "source": [
        "Show example data"
      ],
      "metadata": {
        "id": "oviiDdxKFpYU"
      },
      "id": "oviiDdxKFpYU"
    },
    {
      "cell_type": "code",
      "execution_count": 11,
      "metadata": {
        "id": "1jcwFPcpBRGN",
        "outputId": "12b7962a-b5b3-4ab4-fa1b-908deec15fd6",
        "colab": {
          "base_uri": "https://localhost:8080/",
          "height": 282
        }
      },
      "outputs": [
        {
          "output_type": "execute_result",
          "data": {
            "text/plain": [
              "<matplotlib.image.AxesImage at 0x7f896b0e7210>"
            ]
          },
          "metadata": {},
          "execution_count": 11
        },
        {
          "output_type": "display_data",
          "data": {
            "image/png": "[encoded data removed]",
            "text/plain": [
              "<Figure size 432x288 with 1 Axes>"
            ]
          },
          "metadata": {
            "needs_background": "light"
          }
        }
      ],
      "source": [
        "emotion_labels = [\"Angry\", \"Disgust\", \"Fear\", \"Happy\", \"Sad\", \"Surprise\", \"Neutral\"]\n",
        "\n",
        "dataId = 1\n",
        "\n",
        "row = df.iloc[dataId]\n",
        "plt.figure(dataId)\n",
        "pixelArray = np.asarray(row[\"pixels\"])\n",
        "plt.title(emotion_labels[row[\"emotion\"]])\n",
        "plt.axis('off')\n",
        "plt.imshow(pixelArray, interpolation='none', cmap='gray')"
      ],
      "id": "1jcwFPcpBRGN"
    },
    {
      "cell_type": "markdown",
      "metadata": {
        "id": "8T2C4H-nBRGO"
      },
      "source": [
        "---\n",
        "# **3. Prepare data**"
      ],
      "id": "8T2C4H-nBRGO"
    },
    {
      "cell_type": "code",
      "source": [
        "labels_num = len(df[\"emotion\"].unique())"
      ],
      "metadata": {
        "id": "QNG2qy4zM1th"
      },
      "id": "QNG2qy4zM1th",
      "execution_count": 12,
      "outputs": []
    },
    {
      "cell_type": "markdown",
      "source": [
        "Rename"
      ],
      "metadata": {
        "id": "dzhnYlHOHEhP"
      },
      "id": "dzhnYlHOHEhP"
    },
    {
      "cell_type": "code",
      "source": [
        "df = df.rename(columns = {\"emotion\": \"label\", \"pixels\": \"features\"}, inplace = False)"
      ],
      "metadata": {
        "id": "F_lSUY48GxxB"
      },
      "id": "F_lSUY48GxxB",
      "execution_count": 13,
      "outputs": []
    },
    {
      "cell_type": "markdown",
      "source": [
        "Separate dataset"
      ],
      "metadata": {
        "id": "xEoHwbckY7Wh"
      },
      "id": "xEoHwbckY7Wh"
    },
    {
      "cell_type": "code",
      "execution_count": 14,
      "metadata": {
        "id": "L5AKjaBMBRGP"
      },
      "outputs": [],
      "source": [
        "train_df = df[df[\"usage\"] == \"Training\"][[\"label\", \"features\"]]\n",
        "val_df = df[df[\"usage\"] == \"PublicTest\"][[\"label\", \"features\"]]\n",
        "test_df = df[df[\"usage\"] == \"PrivateTest\"][[\"label\", \"features\"]]\n",
        "df = None # to save memory"
      ],
      "id": "L5AKjaBMBRGP"
    },
    {
      "cell_type": "markdown",
      "source": [
        "---\n",
        "# **4. Make model**"
      ],
      "metadata": {
        "id": "uodD5fAVwVVu"
      },
      "id": "uodD5fAVwVVu"
    },
    {
      "cell_type": "code",
      "source": [
        "def getXY(df):\n",
        "    x = np.array(train_df[\"features\"].tolist())\n",
        "    y = np.array(train_df[\"label\"])\n",
        "    return (x, y)\n",
        "\n",
        "train_x, train_y = getXY(train_df)\n",
        "val_x, val_y = getXY(val_df)\n",
        "test_x, test_y = getXY(test_df)"
      ],
      "metadata": {
        "id": "RRi6dAQgIAr4"
      },
      "id": "RRi6dAQgIAr4",
      "execution_count": 15,
      "outputs": []
    },
    {
      "cell_type": "code",
      "source": [
        "model = tf.keras.Sequential([\n",
        "    tf.keras.layers.Conv2D(48, kernel_size=3, activation='relu', input_shape=(48, 48, 1)),\n",
        "    tf.keras.layers.MaxPooling2D((2, 2)),\n",
        "    tf.keras.layers.Conv2D(48, kernel_size=3, activation='relu'),\n",
        "    tf.keras.layers.MaxPooling2D((2, 2)),\n",
        "    tf.keras.layers.Conv2D(48, kernel_size=3, activation='relu'),\n",
        "    tf.keras.layers.Flatten(),\n",
        "    tf.keras.layers.Dense(64, activation='relu'),\n",
        "    tf.keras.layers.Dense(labels_num)\n",
        "])\n",
        "\n",
        "model.compile(optimizer='adam',\n",
        "              loss=tf.keras.losses.SparseCategoricalCrossentropy(from_logits=True),\n",
        "              metrics=['accuracy'])"
      ],
      "metadata": {
        "id": "ZcUMnhw_w6w3"
      },
      "id": "ZcUMnhw_w6w3",
      "execution_count": 16,
      "outputs": []
    },
    {
      "cell_type": "code",
      "source": [
        "print(model.summary())"
      ],
      "metadata": {
        "id": "WmMBUm6-LadY",
        "outputId": "d598214d-8452-4f04-b611-5e953dd00f04",
        "colab": {
          "base_uri": "https://localhost:8080/"
        }
      },
      "id": "WmMBUm6-LadY",
      "execution_count": 17,
      "outputs": [
        {
          "output_type": "stream",
          "name": "stdout",
          "text": [
            "Model: \"sequential\"\n",
            "_________________________________________________________________\n",
            " Layer (type)                Output Shape              Param #   \n",
            "=================================================================\n",
            " conv2d (Conv2D)             (None, 46, 46, 48)        480       \n",
            "                                                                 \n",
            " max_pooling2d (MaxPooling2D  (None, 23, 23, 48)       0         \n",
            " )                                                               \n",
            "                                                                 \n",
            " conv2d_1 (Conv2D)           (None, 21, 21, 48)        20784     \n",
            "                                                                 \n",
            " max_pooling2d_1 (MaxPooling  (None, 10, 10, 48)       0         \n",
            " 2D)                                                             \n",
            "                                                                 \n",
            " conv2d_2 (Conv2D)           (None, 8, 8, 48)          20784     \n",
            "                                                                 \n",
            " flatten (Flatten)           (None, 3072)              0         \n",
            "                                                                 \n",
            " dense (Dense)               (None, 64)                196672    \n",
            "                                                                 \n",
            " dense_1 (Dense)             (None, 7)                 455       \n",
            "                                                                 \n",
            "=================================================================\n",
            "Total params: 239,175\n",
            "Trainable params: 239,175\n",
            "Non-trainable params: 0\n",
            "_________________________________________________________________\n",
            "None\n"
          ]
        }
      ]
    },
    {
      "cell_type": "code",
      "source": [
        "tf.keras.utils.plot_model(model)"
      ],
      "metadata": {
        "colab": {
          "base_uri": "https://localhost:8080/",
          "height": 856
        },
        "id": "PZw58G4e0f37",
        "outputId": "b96cddf2-3c9f-43ae-e6f0-9d112bbaaaab"
      },
      "id": "PZw58G4e0f37",
      "execution_count": 18,
      "outputs": [
        {
          "output_type": "execute_result",
          "data": {
            "image/png": "[encoded data removed]",
            "text/plain": [
              "<IPython.core.display.Image object>"
            ]
          },
          "metadata": {},
          "execution_count": 18
        }
      ]
    },
    {
      "cell_type": "markdown",
      "source": [
        "---\n",
        "# **5. Train model**"
      ],
      "metadata": {
        "id": "FPYH_e2zwY-e"
      },
      "id": "FPYH_e2zwY-e"
    },
    {
      "cell_type": "code",
      "source": [
        "model_path = 'content/drive/MyDrive/Colab Notebooks/model_.h5'\n",
        "\n",
        "if os.path.exists(model_path):\n",
        "    model = tf.keras.models.load_model(model_path)\n",
        "else:\n",
        "    history = model.fit(train_x, train_y, epochs=50, \n",
        "                        validation_data=(val_x, val_y))\n",
        "    model.save(model_path)"
      ],
      "metadata": {
        "id": "fDE3V6hM1CFd",
        "outputId": "3591408f-2b71-4c6a-d347-fb90e40d95e3",
        "colab": {
          "base_uri": "https://localhost:8080/"
        }
      },
      "id": "fDE3V6hM1CFd",
      "execution_count": 23,
      "outputs": [
        {
          "output_type": "stream",
          "name": "stdout",
          "text": [
            "Epoch 1/50\n",
            "898/898 [==============================] - 17s 17ms/step - loss: 1.0987 - accuracy: 0.5863 - val_loss: 0.9742 - val_accuracy: 0.6341\n",
            "Epoch 2/50\n",
            "898/898 [==============================] - 14s 16ms/step - loss: 1.0100 - accuracy: 0.6215 - val_loss: 0.9133 - val_accuracy: 0.6706\n",
            "Epoch 3/50\n",
            "898/898 [==============================] - 18s 20ms/step - loss: 0.9332 - accuracy: 0.6507 - val_loss: 0.8151 - val_accuracy: 0.7033\n",
            "Epoch 4/50\n",
            "898/898 [==============================] - 18s 21ms/step - loss: 0.8508 - accuracy: 0.6847 - val_loss: 0.7076 - val_accuracy: 0.7474\n",
            "Epoch 5/50\n",
            "898/898 [==============================] - 16s 18ms/step - loss: 0.7940 - accuracy: 0.7088 - val_loss: 0.6559 - val_accuracy: 0.7630\n",
            "Epoch 6/50\n",
            "898/898 [==============================] - 13s 14ms/step - loss: 0.7181 - accuracy: 0.7352 - val_loss: 0.6076 - val_accuracy: 0.7786\n",
            "Epoch 7/50\n",
            "898/898 [==============================] - 13s 14ms/step - loss: 0.6588 - accuracy: 0.7592 - val_loss: 0.6041 - val_accuracy: 0.7827\n",
            "Epoch 8/50\n",
            "898/898 [==============================] - 14s 16ms/step - loss: 0.6185 - accuracy: 0.7746 - val_loss: 0.5366 - val_accuracy: 0.8070\n",
            "Epoch 9/50\n",
            "898/898 [==============================] - 14s 15ms/step - loss: 0.5612 - accuracy: 0.7952 - val_loss: 0.4683 - val_accuracy: 0.8343\n",
            "Epoch 10/50\n",
            "898/898 [==============================] - 13s 14ms/step - loss: 0.5086 - accuracy: 0.8169 - val_loss: 0.4207 - val_accuracy: 0.8521\n",
            "Epoch 11/50\n",
            "898/898 [==============================] - 14s 16ms/step - loss: 0.4922 - accuracy: 0.8256 - val_loss: 0.3757 - val_accuracy: 0.8660\n",
            "Epoch 12/50\n",
            "898/898 [==============================] - 14s 16ms/step - loss: 0.4403 - accuracy: 0.8429 - val_loss: 0.3291 - val_accuracy: 0.8847\n",
            "Epoch 13/50\n",
            "898/898 [==============================] - 13s 15ms/step - loss: 0.4300 - accuracy: 0.8488 - val_loss: 0.3331 - val_accuracy: 0.8863\n",
            "Epoch 14/50\n",
            "898/898 [==============================] - 14s 16ms/step - loss: 0.3970 - accuracy: 0.8603 - val_loss: 0.3410 - val_accuracy: 0.8800\n",
            "Epoch 15/50\n",
            "898/898 [==============================] - 13s 14ms/step - loss: 0.3699 - accuracy: 0.8676 - val_loss: 0.3630 - val_accuracy: 0.8736\n",
            "Epoch 16/50\n",
            "898/898 [==============================] - 14s 15ms/step - loss: 0.3533 - accuracy: 0.8734 - val_loss: 0.3806 - val_accuracy: 0.8679\n",
            "Epoch 17/50\n",
            "898/898 [==============================] - 13s 15ms/step - loss: 0.3451 - accuracy: 0.8797 - val_loss: 0.3004 - val_accuracy: 0.8956\n",
            "Epoch 18/50\n",
            "898/898 [==============================] - 14s 16ms/step - loss: 0.3175 - accuracy: 0.8906 - val_loss: 0.2440 - val_accuracy: 0.9155\n",
            "Epoch 19/50\n",
            "898/898 [==============================] - 13s 15ms/step - loss: 0.3014 - accuracy: 0.8974 - val_loss: 0.2553 - val_accuracy: 0.9130\n",
            "Epoch 20/50\n",
            "898/898 [==============================] - 13s 14ms/step - loss: 0.3095 - accuracy: 0.8938 - val_loss: 0.2393 - val_accuracy: 0.9172\n",
            "Epoch 21/50\n",
            "898/898 [==============================] - 14s 16ms/step - loss: 0.2870 - accuracy: 0.9007 - val_loss: 0.2258 - val_accuracy: 0.9229\n",
            "Epoch 22/50\n",
            "898/898 [==============================] - 14s 15ms/step - loss: 0.2742 - accuracy: 0.9062 - val_loss: 0.2059 - val_accuracy: 0.9307\n",
            "Epoch 23/50\n",
            "898/898 [==============================] - 14s 16ms/step - loss: 0.2617 - accuracy: 0.9110 - val_loss: 0.2202 - val_accuracy: 0.9254\n",
            "Epoch 24/50\n",
            "898/898 [==============================] - 13s 14ms/step - loss: 0.2431 - accuracy: 0.9188 - val_loss: 0.2071 - val_accuracy: 0.9299\n",
            "Epoch 25/50\n",
            "898/898 [==============================] - 13s 14ms/step - loss: 0.2566 - accuracy: 0.9170 - val_loss: 0.2225 - val_accuracy: 0.9246\n",
            "Epoch 26/50\n",
            "898/898 [==============================] - 14s 15ms/step - loss: 0.2315 - accuracy: 0.9216 - val_loss: 0.1849 - val_accuracy: 0.9349\n",
            "Epoch 27/50\n",
            "898/898 [==============================] - 13s 14ms/step - loss: 0.2229 - accuracy: 0.9260 - val_loss: 0.1794 - val_accuracy: 0.9396\n",
            "Epoch 28/50\n",
            "898/898 [==============================] - 13s 15ms/step - loss: 0.2207 - accuracy: 0.9263 - val_loss: 0.2134 - val_accuracy: 0.9266\n",
            "Epoch 29/50\n",
            "898/898 [==============================] - 14s 16ms/step - loss: 0.2624 - accuracy: 0.9148 - val_loss: 0.2069 - val_accuracy: 0.9299\n",
            "Epoch 30/50\n",
            "898/898 [==============================] - 13s 14ms/step - loss: 0.2004 - accuracy: 0.9336 - val_loss: 0.2109 - val_accuracy: 0.9315\n",
            "Epoch 31/50\n",
            "898/898 [==============================] - 13s 14ms/step - loss: 0.1977 - accuracy: 0.9344 - val_loss: 0.2009 - val_accuracy: 0.9338\n",
            "Epoch 32/50\n",
            "898/898 [==============================] - 14s 16ms/step - loss: 0.1970 - accuracy: 0.9342 - val_loss: 0.1730 - val_accuracy: 0.9446\n",
            "Epoch 33/50\n",
            "898/898 [==============================] - 13s 14ms/step - loss: 0.2092 - accuracy: 0.9312 - val_loss: 0.2215 - val_accuracy: 0.9303\n",
            "Epoch 34/50\n",
            "898/898 [==============================] - 14s 15ms/step - loss: 0.2047 - accuracy: 0.9349 - val_loss: 0.1865 - val_accuracy: 0.9409\n",
            "Epoch 35/50\n",
            "898/898 [==============================] - 13s 14ms/step - loss: 0.2218 - accuracy: 0.9304 - val_loss: 0.1648 - val_accuracy: 0.9448\n",
            "Epoch 36/50\n",
            "898/898 [==============================] - 13s 14ms/step - loss: 0.1745 - accuracy: 0.9431 - val_loss: 0.1809 - val_accuracy: 0.9416\n",
            "Epoch 37/50\n",
            "898/898 [==============================] - 14s 15ms/step - loss: 0.1879 - accuracy: 0.9394 - val_loss: 0.1387 - val_accuracy: 0.9587\n",
            "Epoch 38/50\n",
            "898/898 [==============================] - 14s 16ms/step - loss: 0.2040 - accuracy: 0.9356 - val_loss: 0.1569 - val_accuracy: 0.9501\n",
            "Epoch 39/50\n",
            "898/898 [==============================] - 14s 15ms/step - loss: 0.2012 - accuracy: 0.9401 - val_loss: 0.1248 - val_accuracy: 0.9587\n",
            "Epoch 40/50\n",
            "898/898 [==============================] - 14s 16ms/step - loss: 0.1686 - accuracy: 0.9475 - val_loss: 0.1742 - val_accuracy: 0.9482\n",
            "Epoch 41/50\n",
            "898/898 [==============================] - 14s 16ms/step - loss: 0.1803 - accuracy: 0.9438 - val_loss: 0.1325 - val_accuracy: 0.9589\n",
            "Epoch 42/50\n",
            "898/898 [==============================] - 13s 14ms/step - loss: 0.1640 - accuracy: 0.9488 - val_loss: 0.1229 - val_accuracy: 0.9612\n",
            "Epoch 43/50\n",
            "898/898 [==============================] - 14s 16ms/step - loss: 0.1716 - accuracy: 0.9461 - val_loss: 0.1350 - val_accuracy: 0.9569\n",
            "Epoch 44/50\n",
            "898/898 [==============================] - 13s 15ms/step - loss: 0.1626 - accuracy: 0.9486 - val_loss: 0.1306 - val_accuracy: 0.9590\n",
            "Epoch 45/50\n",
            "898/898 [==============================] - 13s 14ms/step - loss: 0.1614 - accuracy: 0.9503 - val_loss: 0.1437 - val_accuracy: 0.9551\n",
            "Epoch 46/50\n",
            "898/898 [==============================] - 13s 14ms/step - loss: 0.1657 - accuracy: 0.9510 - val_loss: 0.1735 - val_accuracy: 0.9453\n",
            "Epoch 47/50\n",
            "898/898 [==============================] - 14s 16ms/step - loss: 0.1745 - accuracy: 0.9479 - val_loss: 0.1311 - val_accuracy: 0.9597\n",
            "Epoch 48/50\n",
            "898/898 [==============================] - 14s 15ms/step - loss: 0.1564 - accuracy: 0.9517 - val_loss: 0.1399 - val_accuracy: 0.9556\n",
            "Epoch 49/50\n",
            "898/898 [==============================] - 14s 16ms/step - loss: 0.1610 - accuracy: 0.9513 - val_loss: 0.2263 - val_accuracy: 0.9337\n",
            "Epoch 50/50\n",
            "898/898 [==============================] - 14s 16ms/step - loss: 0.1485 - accuracy: 0.9560 - val_loss: 0.1207 - val_accuracy: 0.9619\n"
          ]
        }
      ]
    },
    {
      "cell_type": "code",
      "source": [
        "plt.plot(history.history['accuracy'], label='accuracy')\n",
        "plt.plot(history.history['val_accuracy'], label = 'val_accuracy')\n",
        "plt.xlabel('Epoch')\n",
        "plt.ylabel('Accuracy')\n",
        "plt.title('Model accuracy')\n",
        "plt.legend(loc='lower right')"
      ],
      "metadata": {
        "colab": {
          "base_uri": "https://localhost:8080/",
          "height": 312
        },
        "id": "kcaHwgOf1xpT",
        "outputId": "0317b6f0-ad46-4be7-ab0f-3bba054280de"
      },
      "id": "kcaHwgOf1xpT",
      "execution_count": 24,
      "outputs": [
        {
          "output_type": "execute_result",
          "data": {
            "text/plain": [
              "<matplotlib.legend.Legend at 0x7f896ae92fd0>"
            ]
          },
          "metadata": {},
          "execution_count": 24
        },
        {
          "output_type": "display_data",
          "data": {
            "image/png": "[encoded data removed]",
            "text/plain": [
              "<Figure size 432x288 with 1 Axes>"
            ]
          },
          "metadata": {
            "needs_background": "light"
          }
        }
      ]
    },
    {
      "cell_type": "code",
      "source": [
        "plt.plot(history.history['loss'], label='loss')\n",
        "plt.plot(history.history['val_loss'], label = 'val_loss')\n",
        "plt.xlabel('Epoch')\n",
        "plt.ylabel('Loss')\n",
        "plt.title('Model loss')\n",
        "plt.legend(loc='lower left')"
      ],
      "metadata": {
        "id": "PPSozNet50AN",
        "outputId": "aed86349-7962-46ba-9087-26a77469a2bd",
        "colab": {
          "base_uri": "https://localhost:8080/",
          "height": 312
        }
      },
      "id": "PPSozNet50AN",
      "execution_count": 25,
      "outputs": [
        {
          "output_type": "execute_result",
          "data": {
            "text/plain": [
              "<matplotlib.legend.Legend at 0x7f896ae29890>"
            ]
          },
          "metadata": {},
          "execution_count": 25
        },
        {
          "output_type": "display_data",
          "data": {
            "image/png": "[encoded data removed]",
            "text/plain": [
              "<Figure size 432x288 with 1 Axes>"
            ]
          },
          "metadata": {
            "needs_background": "light"
          }
        }
      ]
    },
    {
      "cell_type": "markdown",
      "source": [
        "---\n",
        "# **6. Prediction**"
      ],
      "metadata": {
        "id": "-_6OJJ-Hv47f"
      },
      "id": "-_6OJJ-Hv47f"
    },
    {
      "cell_type": "code",
      "execution_count": 26,
      "metadata": {
        "id": "IvIklfLrBRGP",
        "outputId": "05f6802c-82bd-4ec5-d89b-a6518ad2b74c",
        "colab": {
          "base_uri": "https://localhost:8080/"
        }
      },
      "outputs": [
        {
          "output_type": "stream",
          "name": "stdout",
          "text": [
            "898/898 - 4s - loss: 0.1207 - accuracy: 0.9619 - 4s/epoch - 5ms/step\n",
            "\n",
            "Test accuracy: 0.9618586301803589\n"
          ]
        }
      ],
      "source": [
        "test_loss, test_acc = model.evaluate(test_x, test_y, verbose=2)\n",
        "\n",
        "print('\\nTest accuracy:', test_acc)"
      ],
      "id": "IvIklfLrBRGP"
    },
    {
      "cell_type": "code",
      "source": [
        ""
      ],
      "metadata": {
        "id": "GrodkYU_3abT"
      },
      "id": "GrodkYU_3abT",
      "execution_count": 26,
      "outputs": []
    }
  ],
  "metadata": {
    "colab": {
      "name": "project-CNN.ipynb",
      "provenance": [],
      "include_colab_link": true
    },
    "kernelspec": {
      "display_name": "Python 3 (ipykernel)",
      "language": "python",
      "name": "python3"
    },
    "language_info": {
      "codemirror_mode": {
        "name": "ipython",
        "version": 3
      },
      "file_extension": ".py",
      "mimetype": "text/x-python",
      "name": "python",
      "nbconvert_exporter": "python",
      "pygments_lexer": "ipython3",
      "version": "3.8.10"
    },
    "accelerator": "GPU"
  },
  "nbformat": 4,
  "nbformat_minor": 5
}