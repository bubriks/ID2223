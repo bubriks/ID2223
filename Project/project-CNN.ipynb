{
  "cells": [
    {
      "cell_type": "markdown",
      "metadata": {
        "id": "view-in-github",
        "colab_type": "text"
      },
      "source": [
        "<a href=\"https://colab.research.google.com/github/bubriks/ID2223/blob/main/Project/project-CNN.ipynb\" target=\"_parent\"><img src=\"https://colab.research.google.com/assets/colab-badge.svg\" alt=\"Open In Colab\"/></a>"
      ]
    },
    {
      "cell_type": "markdown",
      "metadata": {
        "id": "3jCcesIbBRF5"
      },
      "source": [
        "# **Course Project: Scalable Machine Learning and Deep Learning**\n",
        "\n",
        "## **Paolo Teta & Ralfs Zangis**\n",
        "---"
      ],
      "id": "3jCcesIbBRF5"
    },
    {
      "cell_type": "markdown",
      "metadata": {
        "id": "OH6yJ9UQB9Q8"
      },
      "source": [
        "# **Requirements**"
      ],
      "id": "OH6yJ9UQB9Q8"
    },
    {
      "cell_type": "markdown",
      "metadata": {
        "id": "zhXHoVtkBRF_"
      },
      "source": [
        "**Tensorflow**"
      ],
      "id": "zhXHoVtkBRF_"
    },
    {
      "cell_type": "code",
      "execution_count": 1,
      "metadata": {
        "id": "0wtbM0o_BRGA"
      },
      "outputs": [],
      "source": [
        "import tensorflow as tf\n",
        "import tensorflow.keras.backend as K"
      ],
      "id": "0wtbM0o_BRGA"
    },
    {
      "cell_type": "markdown",
      "metadata": {
        "id": "a6qLl3jyBRGA"
      },
      "source": [
        "**Other**"
      ],
      "id": "a6qLl3jyBRGA"
    },
    {
      "cell_type": "code",
      "execution_count": 2,
      "metadata": {
        "id": "PL9NvKp7BRGB"
      },
      "outputs": [],
      "source": [
        "import os\n",
        "import numpy as np\n",
        "import pandas as pd\n",
        "import matplotlib.pyplot as plt"
      ],
      "id": "PL9NvKp7BRGB"
    },
    {
      "cell_type": "markdown",
      "source": [
        "**Mount Google Drive**"
      ],
      "metadata": {
        "id": "zwnmOi5jbqsG"
      },
      "id": "zwnmOi5jbqsG"
    },
    {
      "cell_type": "code",
      "source": [
        "from google.colab import drive\n",
        "drive.mount('/content/drive')"
      ],
      "metadata": {
        "id": "7wV13mPobxB6",
        "outputId": "e9c3ca8b-d4ca-4c17-8909-3e96ce062483",
        "colab": {
          "base_uri": "https://localhost:8080/"
        }
      },
      "id": "7wV13mPobxB6",
      "execution_count": 3,
      "outputs": [
        {
          "output_type": "stream",
          "name": "stdout",
          "text": [
            "Drive already mounted at /content/drive; to attempt to forcibly remount, call drive.mount(\"/content/drive\", force_remount=True).\n"
          ]
        }
      ]
    },
    {
      "cell_type": "markdown",
      "metadata": {
        "id": "ETeRQpNeBRGB"
      },
      "source": [
        "---\n",
        "# **1. Get the data**"
      ],
      "id": "ETeRQpNeBRGB"
    },
    {
      "cell_type": "markdown",
      "source": [
        "**Link:** https://drive.google.com/file/d/1Du-gZz1LU-StWbahzckG1EmSLC-FuW5S/view?usp=sharing"
      ],
      "metadata": {
        "id": "eomw05S-d1zQ"
      },
      "id": "eomw05S-d1zQ"
    },
    {
      "cell_type": "code",
      "execution_count": 4,
      "metadata": {
        "id": "-HfN5B73BRGC"
      },
      "outputs": [],
      "source": [
        "df = pd.read_csv(\"/content/drive/MyDrive/Colab Notebooks/dataset-project.csv\")\n",
        "df[\"pixels\"] = [[int(y) for y in x.split(\" \")] for x in df[\"pixels\"]]"
      ],
      "id": "-HfN5B73BRGC"
    },
    {
      "cell_type": "markdown",
      "metadata": {
        "id": "M7dQEVh0BRGI"
      },
      "source": [
        "---\n",
        "# **2. Explore the data**"
      ],
      "id": "M7dQEVh0BRGI"
    },
    {
      "cell_type": "code",
      "source": [
        "print(df)"
      ],
      "metadata": {
        "colab": {
          "base_uri": "https://localhost:8080/"
        },
        "id": "tpvRUdkBSl4g",
        "outputId": "d4572396-6e4e-409a-8d7e-7e9452282b9c"
      },
      "id": "tpvRUdkBSl4g",
      "execution_count": 5,
      "outputs": [
        {
          "output_type": "stream",
          "name": "stdout",
          "text": [
            "       emotion                                             pixels        usage\n",
            "0            0  [70, 80, 82, 72, 58, 58, 60, 63, 54, 58, 60, 4...     Training\n",
            "1            0  [151, 150, 147, 155, 148, 133, 111, 140, 170, ...     Training\n",
            "2            2  [231, 212, 156, 164, 174, 138, 161, 173, 182, ...     Training\n",
            "3            4  [24, 32, 36, 30, 32, 23, 19, 20, 30, 41, 21, 2...     Training\n",
            "4            6  [4, 0, 0, 0, 0, 0, 0, 0, 0, 0, 0, 0, 3, 15, 23...     Training\n",
            "...        ...                                                ...          ...\n",
            "35882        6  [50, 36, 17, 22, 23, 29, 33, 39, 34, 37, 37, 3...  PrivateTest\n",
            "35883        3  [178, 174, 172, 173, 181, 188, 191, 194, 196, ...  PrivateTest\n",
            "35884        0  [17, 17, 16, 23, 28, 22, 19, 17, 25, 26, 20, 2...  PrivateTest\n",
            "35885        3  [30, 28, 28, 29, 31, 30, 42, 68, 79, 81, 77, 6...  PrivateTest\n",
            "35886        2  [19, 13, 14, 12, 13, 16, 21, 33, 50, 57, 71, 8...  PrivateTest\n",
            "\n",
            "[35887 rows x 3 columns]\n"
          ]
        }
      ]
    },
    {
      "cell_type": "code",
      "execution_count": 6,
      "metadata": {
        "id": "pNiAlZzkBRGJ",
        "outputId": "ff2e8101-299c-41a9-a105-6dfd711a48d0",
        "colab": {
          "base_uri": "https://localhost:8080/"
        }
      },
      "outputs": [
        {
          "output_type": "execute_result",
          "data": {
            "text/plain": [
              "emotion     int64\n",
              "pixels     object\n",
              "usage      object\n",
              "dtype: object"
            ]
          },
          "metadata": {},
          "execution_count": 6
        }
      ],
      "source": [
        "df.dtypes"
      ],
      "id": "pNiAlZzkBRGJ"
    },
    {
      "cell_type": "code",
      "source": [
        "print(df.count())"
      ],
      "metadata": {
        "colab": {
          "base_uri": "https://localhost:8080/"
        },
        "id": "rGG6LxpcSwrU",
        "outputId": "364fd326-0e87-4182-ef64-77fbfff4fd6f"
      },
      "id": "rGG6LxpcSwrU",
      "execution_count": 7,
      "outputs": [
        {
          "output_type": "stream",
          "name": "stdout",
          "text": [
            "emotion    35887\n",
            "pixels     35887\n",
            "usage      35887\n",
            "dtype: int64\n"
          ]
        }
      ]
    },
    {
      "cell_type": "code",
      "execution_count": 8,
      "metadata": {
        "id": "rNLQKkW2BRGM",
        "outputId": "3688e731-d572-4062-f89b-155a985c15aa",
        "colab": {
          "base_uri": "https://localhost:8080/"
        }
      },
      "outputs": [
        {
          "output_type": "stream",
          "name": "stdout",
          "text": [
            "Training       28709\n",
            "PrivateTest     3589\n",
            "PublicTest      3589\n",
            "Name: usage, dtype: int64\n"
          ]
        }
      ],
      "source": [
        "print(df[\"usage\"].value_counts())"
      ],
      "id": "rNLQKkW2BRGM"
    },
    {
      "cell_type": "code",
      "execution_count": 9,
      "metadata": {
        "id": "i3CB8N3dBRGM",
        "outputId": "d4e78e33-1ebc-4484-fab4-43152e7ed87e",
        "colab": {
          "base_uri": "https://localhost:8080/"
        }
      },
      "outputs": [
        {
          "output_type": "stream",
          "name": "stdout",
          "text": [
            "0    4953\n",
            "1     547\n",
            "2    5121\n",
            "3    8989\n",
            "4    6077\n",
            "5    4002\n",
            "6    6198\n",
            "Name: emotion, dtype: int64\n"
          ]
        }
      ],
      "source": [
        "print(df[\"emotion\"].value_counts(sort=False))"
      ],
      "id": "i3CB8N3dBRGM"
    },
    {
      "cell_type": "markdown",
      "source": [
        "Reshape pixels"
      ],
      "metadata": {
        "id": "opt-C3xqeOAl"
      },
      "id": "opt-C3xqeOAl"
    },
    {
      "cell_type": "code",
      "source": [
        "df[\"pixels\"] = [np.reshape(x, (48, 48)) for x in df[\"pixels\"]]"
      ],
      "metadata": {
        "id": "4DgsMEL8ZU9B"
      },
      "id": "4DgsMEL8ZU9B",
      "execution_count": 10,
      "outputs": []
    },
    {
      "cell_type": "markdown",
      "source": [
        "Show example data"
      ],
      "metadata": {
        "id": "oviiDdxKFpYU"
      },
      "id": "oviiDdxKFpYU"
    },
    {
      "cell_type": "code",
      "execution_count": 11,
      "metadata": {
        "id": "1jcwFPcpBRGN",
        "outputId": "efe8b990-a999-4808-f4e3-eefc5169f749",
        "colab": {
          "base_uri": "https://localhost:8080/",
          "height": 282
        }
      },
      "outputs": [
        {
          "output_type": "execute_result",
          "data": {
            "text/plain": [
              "<matplotlib.image.AxesImage at 0x7f90cee58fd0>"
            ]
          },
          "metadata": {},
          "execution_count": 11
        },
        {
          "output_type": "display_data",
          "data": {
            "image/png": "[encoded data removed]",
            "text/plain": [
              "<Figure size 432x288 with 1 Axes>"
            ]
          },
          "metadata": {
            "needs_background": "light"
          }
        }
      ],
      "source": [
        "emotion_labels = [\"Angry\", \"Disgust\", \"Fear\", \"Happy\", \"Sad\", \"Surprise\", \"Neutral\"]\n",
        "\n",
        "dataId = 1\n",
        "\n",
        "row = df.iloc[dataId]\n",
        "plt.figure(dataId)\n",
        "pixelArray = np.asarray(row[\"pixels\"])\n",
        "plt.title(emotion_labels[row[\"emotion\"]])\n",
        "plt.axis('off')\n",
        "plt.imshow(pixelArray, interpolation='none', cmap='gray')"
      ],
      "id": "1jcwFPcpBRGN"
    },
    {
      "cell_type": "markdown",
      "metadata": {
        "id": "8T2C4H-nBRGO"
      },
      "source": [
        "---\n",
        "# **3. Prepare data**"
      ],
      "id": "8T2C4H-nBRGO"
    },
    {
      "cell_type": "code",
      "source": [
        "labels_num = len(df[\"emotion\"].unique())"
      ],
      "metadata": {
        "id": "QNG2qy4zM1th"
      },
      "id": "QNG2qy4zM1th",
      "execution_count": 12,
      "outputs": []
    },
    {
      "cell_type": "markdown",
      "source": [
        "Rename"
      ],
      "metadata": {
        "id": "dzhnYlHOHEhP"
      },
      "id": "dzhnYlHOHEhP"
    },
    {
      "cell_type": "code",
      "source": [
        "df = df.rename(columns = {\"emotion\": \"label\", \"pixels\": \"features\"}, inplace = False)"
      ],
      "metadata": {
        "id": "F_lSUY48GxxB"
      },
      "id": "F_lSUY48GxxB",
      "execution_count": 13,
      "outputs": []
    },
    {
      "cell_type": "markdown",
      "source": [
        "Separate dataset"
      ],
      "metadata": {
        "id": "xEoHwbckY7Wh"
      },
      "id": "xEoHwbckY7Wh"
    },
    {
      "cell_type": "code",
      "execution_count": 14,
      "metadata": {
        "id": "L5AKjaBMBRGP"
      },
      "outputs": [],
      "source": [
        "train_df = df[df[\"usage\"] == \"Training\"][[\"label\", \"features\"]]\n",
        "val_df = df[df[\"usage\"] == \"PublicTest\"][[\"label\", \"features\"]]\n",
        "test_df = df[df[\"usage\"] == \"PrivateTest\"][[\"label\", \"features\"]]\n",
        "df = None # to save memory"
      ],
      "id": "L5AKjaBMBRGP"
    },
    {
      "cell_type": "markdown",
      "source": [
        "---\n",
        "# **4. Make model**"
      ],
      "metadata": {
        "id": "uodD5fAVwVVu"
      },
      "id": "uodD5fAVwVVu"
    },
    {
      "cell_type": "code",
      "source": [
        "def getXY(df):\n",
        "    x = np.array(train_df[\"features\"].tolist())\n",
        "    y = np.array(train_df[\"label\"])\n",
        "    return (x, y)\n",
        "\n",
        "train_x, train_y = getXY(train_df)\n",
        "val_x, val_y = getXY(val_df)\n",
        "test_x, test_y = getXY(test_df)"
      ],
      "metadata": {
        "id": "RRi6dAQgIAr4"
      },
      "id": "RRi6dAQgIAr4",
      "execution_count": 15,
      "outputs": []
    },
    {
      "cell_type": "code",
      "source": [
        "model = tf.keras.Sequential([\n",
        "    tf.keras.layers.Conv2D(48, kernel_size=3, activation='relu', input_shape=(48, 48, 1)),\n",
        "    tf.keras.layers.MaxPooling2D((2, 2)),\n",
        "    tf.keras.layers.Conv2D(48, kernel_size=3, activation='relu'),\n",
        "    tf.keras.layers.MaxPooling2D((2, 2)),\n",
        "    tf.keras.layers.Conv2D(48, kernel_size=3, activation='relu'),\n",
        "    tf.keras.layers.Flatten(),\n",
        "    tf.keras.layers.Dense(64, activation='relu'),\n",
        "    tf.keras.layers.Dense(labels_num)\n",
        "])\n",
        "\n",
        "model.compile(optimizer='adam',\n",
        "              loss=tf.keras.losses.SparseCategoricalCrossentropy(from_logits=True),\n",
        "              metrics=['accuracy'])"
      ],
      "metadata": {
        "id": "ZcUMnhw_w6w3"
      },
      "id": "ZcUMnhw_w6w3",
      "execution_count": 16,
      "outputs": []
    },
    {
      "cell_type": "code",
      "source": [
        "print(model.summary())"
      ],
      "metadata": {
        "id": "WmMBUm6-LadY",
        "outputId": "b63808d1-ea4e-456d-c651-060346bda1e2",
        "colab": {
          "base_uri": "https://localhost:8080/"
        }
      },
      "id": "WmMBUm6-LadY",
      "execution_count": 17,
      "outputs": [
        {
          "output_type": "stream",
          "name": "stdout",
          "text": [
            "Model: \"sequential\"\n",
            "_________________________________________________________________\n",
            " Layer (type)                Output Shape              Param #   \n",
            "=================================================================\n",
            " conv2d (Conv2D)             (None, 46, 46, 48)        480       \n",
            "                                                                 \n",
            " max_pooling2d (MaxPooling2D  (None, 23, 23, 48)       0         \n",
            " )                                                               \n",
            "                                                                 \n",
            " conv2d_1 (Conv2D)           (None, 21, 21, 48)        20784     \n",
            "                                                                 \n",
            " max_pooling2d_1 (MaxPooling  (None, 10, 10, 48)       0         \n",
            " 2D)                                                             \n",
            "                                                                 \n",
            " conv2d_2 (Conv2D)           (None, 8, 8, 48)          20784     \n",
            "                                                                 \n",
            " flatten (Flatten)           (None, 3072)              0         \n",
            "                                                                 \n",
            " dense (Dense)               (None, 64)                196672    \n",
            "                                                                 \n",
            " dense_1 (Dense)             (None, 7)                 455       \n",
            "                                                                 \n",
            "=================================================================\n",
            "Total params: 239,175\n",
            "Trainable params: 239,175\n",
            "Non-trainable params: 0\n",
            "_________________________________________________________________\n",
            "None\n"
          ]
        }
      ]
    },
    {
      "cell_type": "code",
      "source": [
        "tf.keras.utils.plot_model(model)"
      ],
      "metadata": {
        "colab": {
          "base_uri": "https://localhost:8080/",
          "height": 856
        },
        "id": "PZw58G4e0f37",
        "outputId": "19bf9236-4dc8-4754-af0b-16b8b1cae5a6"
      },
      "id": "PZw58G4e0f37",
      "execution_count": 18,
      "outputs": [
        {
          "output_type": "execute_result",
          "data": {
            "image/png": "[encoded data removed]",
            "text/plain": [
              "<IPython.core.display.Image object>"
            ]
          },
          "metadata": {},
          "execution_count": 18
        }
      ]
    },
    {
      "cell_type": "markdown",
      "source": [
        "---\n",
        "# **5. Train model**"
      ],
      "metadata": {
        "id": "FPYH_e2zwY-e"
      },
      "id": "FPYH_e2zwY-e"
    },
    {
      "cell_type": "code",
      "source": [
        "model_path = '/content/drive/MyDrive/Colab Notebooks/model.h5'\n",
        "\n",
        "if os.path.exists(model_path):\n",
        "    model = tf.keras.models.load_model(model_path)\n",
        "else:\n",
        "    history = model.fit(train_x, train_y, epochs=50, \n",
        "                        validation_data=(val_x, val_y))\n",
        "    model.save(model_path)"
      ],
      "metadata": {
        "id": "fDE3V6hM1CFd",
        "outputId": "52db40db-d877-43de-f30a-4e0a83055b54",
        "colab": {
          "base_uri": "https://localhost:8080/"
        }
      },
      "id": "fDE3V6hM1CFd",
      "execution_count": 19,
      "outputs": [
        {
          "output_type": "stream",
          "name": "stdout",
          "text": [
            "Epoch 1/50\n",
            "898/898 [==============================] - 17s 17ms/step - loss: 1.9409 - accuracy: 0.2830 - val_loss: 1.6631 - val_accuracy: 0.3470\n",
            "Epoch 2/50\n",
            "898/898 [==============================] - 14s 16ms/step - loss: 1.6018 - accuracy: 0.3747 - val_loss: 1.5264 - val_accuracy: 0.4055\n",
            "Epoch 3/50\n",
            "898/898 [==============================] - 14s 16ms/step - loss: 1.4962 - accuracy: 0.4218 - val_loss: 1.4103 - val_accuracy: 0.4563\n",
            "Epoch 4/50\n",
            "898/898 [==============================] - 16s 18ms/step - loss: 1.4158 - accuracy: 0.4546 - val_loss: 1.3148 - val_accuracy: 0.4938\n",
            "Epoch 5/50\n",
            "898/898 [==============================] - 14s 16ms/step - loss: 1.3364 - accuracy: 0.4859 - val_loss: 1.2849 - val_accuracy: 0.5105\n",
            "Epoch 6/50\n",
            "898/898 [==============================] - 15s 17ms/step - loss: 1.2565 - accuracy: 0.5205 - val_loss: 1.1628 - val_accuracy: 0.5584\n",
            "Epoch 7/50\n",
            "898/898 [==============================] - 14s 16ms/step - loss: 1.1818 - accuracy: 0.5526 - val_loss: 1.0918 - val_accuracy: 0.5929\n",
            "Epoch 8/50\n",
            "898/898 [==============================] - 15s 17ms/step - loss: 1.1038 - accuracy: 0.5845 - val_loss: 0.9709 - val_accuracy: 0.6421\n",
            "Epoch 9/50\n",
            "898/898 [==============================] - 15s 17ms/step - loss: 1.0221 - accuracy: 0.6158 - val_loss: 0.8730 - val_accuracy: 0.6832\n",
            "Epoch 10/50\n",
            "898/898 [==============================] - 14s 16ms/step - loss: 0.9392 - accuracy: 0.6477 - val_loss: 0.8213 - val_accuracy: 0.6942\n",
            "Epoch 11/50\n",
            "898/898 [==============================] - 14s 16ms/step - loss: 0.8610 - accuracy: 0.6773 - val_loss: 0.7374 - val_accuracy: 0.7277\n",
            "Epoch 12/50\n",
            "898/898 [==============================] - 15s 17ms/step - loss: 0.7871 - accuracy: 0.7098 - val_loss: 0.7639 - val_accuracy: 0.7200\n",
            "Epoch 13/50\n",
            "898/898 [==============================] - 14s 16ms/step - loss: 0.7113 - accuracy: 0.7367 - val_loss: 0.6173 - val_accuracy: 0.7747\n",
            "Epoch 14/50\n",
            "898/898 [==============================] - 15s 17ms/step - loss: 0.6472 - accuracy: 0.7617 - val_loss: 0.5159 - val_accuracy: 0.8111\n",
            "Epoch 15/50\n",
            "898/898 [==============================] - 15s 17ms/step - loss: 0.5999 - accuracy: 0.7805 - val_loss: 0.5073 - val_accuracy: 0.8156\n",
            "Epoch 16/50\n",
            "898/898 [==============================] - 14s 16ms/step - loss: 0.5482 - accuracy: 0.7994 - val_loss: 0.4626 - val_accuracy: 0.8334\n",
            "Epoch 17/50\n",
            "898/898 [==============================] - 14s 16ms/step - loss: 0.5038 - accuracy: 0.8147 - val_loss: 0.4521 - val_accuracy: 0.8357\n",
            "Epoch 18/50\n",
            "898/898 [==============================] - 14s 16ms/step - loss: 0.4828 - accuracy: 0.8240 - val_loss: 0.4637 - val_accuracy: 0.8301\n",
            "Epoch 19/50\n",
            "898/898 [==============================] - 15s 17ms/step - loss: 0.4513 - accuracy: 0.8373 - val_loss: 0.3682 - val_accuracy: 0.8680\n",
            "Epoch 20/50\n",
            "898/898 [==============================] - 15s 17ms/step - loss: 0.4154 - accuracy: 0.8510 - val_loss: 0.3316 - val_accuracy: 0.8817\n",
            "Epoch 21/50\n",
            "898/898 [==============================] - 14s 16ms/step - loss: 0.4040 - accuracy: 0.8550 - val_loss: 0.3742 - val_accuracy: 0.8655\n",
            "Epoch 22/50\n",
            "898/898 [==============================] - 15s 17ms/step - loss: 0.3893 - accuracy: 0.8622 - val_loss: 0.3083 - val_accuracy: 0.8884\n",
            "Epoch 23/50\n",
            "898/898 [==============================] - 14s 16ms/step - loss: 0.3426 - accuracy: 0.8778 - val_loss: 0.3610 - val_accuracy: 0.8683\n",
            "Epoch 24/50\n",
            "898/898 [==============================] - 15s 17ms/step - loss: 0.3442 - accuracy: 0.8794 - val_loss: 0.2974 - val_accuracy: 0.8932\n",
            "Epoch 25/50\n",
            "898/898 [==============================] - 15s 17ms/step - loss: 0.3225 - accuracy: 0.8841 - val_loss: 0.2630 - val_accuracy: 0.9072\n",
            "Epoch 26/50\n",
            "898/898 [==============================] - 15s 17ms/step - loss: 0.3288 - accuracy: 0.8851 - val_loss: 0.2490 - val_accuracy: 0.9135\n",
            "Epoch 27/50\n",
            "898/898 [==============================] - 14s 16ms/step - loss: 0.2967 - accuracy: 0.8968 - val_loss: 0.2601 - val_accuracy: 0.9068\n",
            "Epoch 28/50\n",
            "898/898 [==============================] - 15s 17ms/step - loss: 0.2962 - accuracy: 0.8962 - val_loss: 0.2518 - val_accuracy: 0.9094\n",
            "Epoch 29/50\n",
            "898/898 [==============================] - 15s 17ms/step - loss: 0.2814 - accuracy: 0.9013 - val_loss: 0.2182 - val_accuracy: 0.9234\n",
            "Epoch 30/50\n",
            "898/898 [==============================] - 14s 16ms/step - loss: 0.2759 - accuracy: 0.9039 - val_loss: 0.2004 - val_accuracy: 0.9304\n",
            "Epoch 31/50\n",
            "898/898 [==============================] - 15s 17ms/step - loss: 0.2631 - accuracy: 0.9092 - val_loss: 0.1999 - val_accuracy: 0.9310\n",
            "Epoch 32/50\n",
            "898/898 [==============================] - 14s 16ms/step - loss: 0.2585 - accuracy: 0.9109 - val_loss: 0.2869 - val_accuracy: 0.9007\n",
            "Epoch 33/50\n",
            "898/898 [==============================] - 15s 17ms/step - loss: 0.2524 - accuracy: 0.9153 - val_loss: 0.1843 - val_accuracy: 0.9363\n",
            "Epoch 34/50\n",
            "898/898 [==============================] - 14s 16ms/step - loss: 0.2360 - accuracy: 0.9169 - val_loss: 0.1860 - val_accuracy: 0.9359\n",
            "Epoch 35/50\n",
            "898/898 [==============================] - 14s 16ms/step - loss: 0.2303 - accuracy: 0.9211 - val_loss: 0.2779 - val_accuracy: 0.9041\n",
            "Epoch 36/50\n",
            "898/898 [==============================] - 14s 16ms/step - loss: 0.2385 - accuracy: 0.9179 - val_loss: 0.2408 - val_accuracy: 0.9147\n",
            "Epoch 37/50\n",
            "898/898 [==============================] - 14s 16ms/step - loss: 0.2347 - accuracy: 0.9225 - val_loss: 0.1900 - val_accuracy: 0.9361\n",
            "Epoch 38/50\n",
            "898/898 [==============================] - 14s 16ms/step - loss: 0.2308 - accuracy: 0.9230 - val_loss: 0.1588 - val_accuracy: 0.9461\n",
            "Epoch 39/50\n",
            "898/898 [==============================] - 14s 16ms/step - loss: 0.1937 - accuracy: 0.9333 - val_loss: 0.1747 - val_accuracy: 0.9396\n",
            "Epoch 40/50\n",
            "898/898 [==============================] - 15s 17ms/step - loss: 0.2056 - accuracy: 0.9309 - val_loss: 0.1722 - val_accuracy: 0.9424\n",
            "Epoch 41/50\n",
            "898/898 [==============================] - 14s 16ms/step - loss: 0.2303 - accuracy: 0.9255 - val_loss: 0.1634 - val_accuracy: 0.9471\n",
            "Epoch 42/50\n",
            "898/898 [==============================] - 14s 16ms/step - loss: 0.2079 - accuracy: 0.9311 - val_loss: 0.2528 - val_accuracy: 0.9153\n",
            "Epoch 43/50\n",
            "898/898 [==============================] - 15s 17ms/step - loss: 0.2312 - accuracy: 0.9244 - val_loss: 0.2134 - val_accuracy: 0.9314\n",
            "Epoch 44/50\n",
            "898/898 [==============================] - 14s 16ms/step - loss: 0.2246 - accuracy: 0.9261 - val_loss: 0.1410 - val_accuracy: 0.9510\n",
            "Epoch 45/50\n",
            "898/898 [==============================] - 14s 16ms/step - loss: 0.1708 - accuracy: 0.9422 - val_loss: 0.1530 - val_accuracy: 0.9502\n",
            "Epoch 46/50\n",
            "898/898 [==============================] - 14s 16ms/step - loss: 0.2026 - accuracy: 0.9350 - val_loss: 0.1768 - val_accuracy: 0.9416\n",
            "Epoch 47/50\n",
            "898/898 [==============================] - 15s 17ms/step - loss: 0.2116 - accuracy: 0.9313 - val_loss: 0.2414 - val_accuracy: 0.9196\n",
            "Epoch 48/50\n",
            "898/898 [==============================] - 14s 16ms/step - loss: 0.1880 - accuracy: 0.9377 - val_loss: 0.1253 - val_accuracy: 0.9581\n",
            "Epoch 49/50\n",
            "898/898 [==============================] - 15s 17ms/step - loss: 0.1870 - accuracy: 0.9398 - val_loss: 0.2240 - val_accuracy: 0.9260\n",
            "Epoch 50/50\n",
            "898/898 [==============================] - 15s 17ms/step - loss: 0.2000 - accuracy: 0.9359 - val_loss: 0.2016 - val_accuracy: 0.9364\n"
          ]
        }
      ]
    },
    {
      "cell_type": "code",
      "source": [
        "plt.plot(history.history['accuracy'], label='accuracy')\n",
        "plt.plot(history.history['val_accuracy'], label = 'val_accuracy')\n",
        "plt.xlabel('Epoch')\n",
        "plt.ylabel('Accuracy')\n",
        "plt.title('Model accuracy')\n",
        "plt.legend(loc='lower right')"
      ],
      "metadata": {
        "colab": {
          "base_uri": "https://localhost:8080/",
          "height": 312
        },
        "id": "kcaHwgOf1xpT",
        "outputId": "ce3e8208-d51a-4404-f007-85e744c344c6"
      },
      "id": "kcaHwgOf1xpT",
      "execution_count": 20,
      "outputs": [
        {
          "output_type": "execute_result",
          "data": {
            "text/plain": [
              "<matplotlib.legend.Legend at 0x7f90c01fa8d0>"
            ]
          },
          "metadata": {},
          "execution_count": 20
        },
        {
          "output_type": "display_data",
          "data": {
            "image/png": "[encoded data removed]",
            "text/plain": [
              "<Figure size 432x288 with 1 Axes>"
            ]
          },
          "metadata": {
            "needs_background": "light"
          }
        }
      ]
    },
    {
      "cell_type": "code",
      "source": [
        "plt.plot(history.history['loss'], label='loss')\n",
        "plt.plot(history.history['val_loss'], label = 'val_loss')\n",
        "plt.xlabel('Epoch')\n",
        "plt.ylabel('Loss')\n",
        "plt.title('Model loss')\n",
        "plt.legend(loc='lower left')"
      ],
      "metadata": {
        "colab": {
          "base_uri": "https://localhost:8080/",
          "height": 312
        },
        "id": "PPSozNet50AN",
        "outputId": "f98ef7c4-dc43-42b4-fc5e-f2e098962126"
      },
      "id": "PPSozNet50AN",
      "execution_count": 21,
      "outputs": [
        {
          "output_type": "execute_result",
          "data": {
            "text/plain": [
              "<matplotlib.legend.Legend at 0x7f90cf544c90>"
            ]
          },
          "metadata": {},
          "execution_count": 21
        },
        {
          "output_type": "display_data",
          "data": {
            "image/png": "[encoded data removed]",
            "text/plain": [
              "<Figure size 432x288 with 1 Axes>"
            ]
          },
          "metadata": {
            "needs_background": "light"
          }
        }
      ]
    },
    {
      "cell_type": "markdown",
      "source": [
        "---\n",
        "# **6. Prediction**"
      ],
      "metadata": {
        "id": "-_6OJJ-Hv47f"
      },
      "id": "-_6OJJ-Hv47f"
    },
    {
      "cell_type": "code",
      "execution_count": 22,
      "metadata": {
        "id": "IvIklfLrBRGP",
        "outputId": "cd518673-677c-4cc9-e353-e958073fff10",
        "colab": {
          "base_uri": "https://localhost:8080/"
        }
      },
      "outputs": [
        {
          "output_type": "stream",
          "name": "stdout",
          "text": [
            "898/898 - 5s - loss: 0.2016 - accuracy: 0.9364 - 5s/epoch - 5ms/step\n",
            "\n",
            "Test accuracy: 0.9364311099052429\n"
          ]
        }
      ],
      "source": [
        "test_loss, test_acc = model.evaluate(test_x, test_y, verbose=2)\n",
        "\n",
        "print('\\nTest accuracy:', test_acc)"
      ],
      "id": "IvIklfLrBRGP"
    },
    {
      "cell_type": "code",
      "source": [
        ""
      ],
      "metadata": {
        "id": "GrodkYU_3abT"
      },
      "id": "GrodkYU_3abT",
      "execution_count": 22,
      "outputs": []
    }
  ],
  "metadata": {
    "colab": {
      "name": "project-CNN.ipynb",
      "provenance": [],
      "include_colab_link": true
    },
    "kernelspec": {
      "display_name": "Python 3 (ipykernel)",
      "language": "python",
      "name": "python3"
    },
    "language_info": {
      "codemirror_mode": {
        "name": "ipython",
        "version": 3
      },
      "file_extension": ".py",
      "mimetype": "text/x-python",
      "name": "python",
      "nbconvert_exporter": "python",
      "pygments_lexer": "ipython3",
      "version": "3.8.10"
    },
    "accelerator": "GPU"
  },
  "nbformat": 4,
  "nbformat_minor": 5
}