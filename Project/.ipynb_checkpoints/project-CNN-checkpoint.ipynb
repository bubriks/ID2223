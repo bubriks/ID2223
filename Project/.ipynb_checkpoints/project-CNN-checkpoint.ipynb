{
 "cells": [
  {
   "cell_type": "markdown",
   "metadata": {},
   "source": [
    "# Course Project - Paolo Teta & Ralfs Zangis\n",
    "---"
   ]
  },
  {
   "cell_type": "markdown",
   "metadata": {},
   "source": [
    "## Spark"
   ]
  },
  {
   "cell_type": "code",
   "execution_count": 59,
   "metadata": {},
   "outputs": [],
   "source": [
    "from pyspark.sql import SparkSession\n",
    "from pyspark.sql.functions import *\n",
    "from pyspark.sql.types import *\n",
    "\n",
    "spark = SparkSession.builder.getOrCreate()"
   ]
  },
  {
   "cell_type": "markdown",
   "metadata": {},
   "source": [
    "## Tensorflow"
   ]
  },
  {
   "cell_type": "code",
   "execution_count": 60,
   "metadata": {},
   "outputs": [],
   "source": [
    "import tensorflow as tf\n",
    "from tensorflow import keras"
   ]
  },
  {
   "cell_type": "markdown",
   "metadata": {},
   "source": [
    "## Other"
   ]
  },
  {
   "cell_type": "code",
   "execution_count": 61,
   "metadata": {},
   "outputs": [],
   "source": [
    "import numpy as np\n",
    "import matplotlib.pyplot as plt"
   ]
  },
  {
   "cell_type": "markdown",
   "metadata": {},
   "source": [
    "---\n",
    "# 1. Get the data"
   ]
  },
  {
   "cell_type": "code",
   "execution_count": 80,
   "metadata": {},
   "outputs": [],
   "source": [
    "schema = StructType([\n",
    "    StructField(\"emotion\", IntegerType(), True),\n",
    "    StructField(\"pixels\", StringType(), True),\n",
    "    StructField(\"Usage\", StringType(), True)])\n",
    "\n",
    "data = spark.read.csv(\"./fer2013.csv\", header=True, schema=schema)\n",
    "data = data.withColumn(\"id\",monotonically_increasing_id())\n",
    "data = data.withColumn(\"pixels\",split(col(\"pixels\"),\" \").cast(\"array<int>\"))"
   ]
  },
  {
   "cell_type": "markdown",
   "metadata": {},
   "source": [
    "---\n",
    "# 2. Look at the data"
   ]
  },
  {
   "cell_type": "code",
   "execution_count": 81,
   "metadata": {},
   "outputs": [
    {
     "name": "stdout",
     "output_type": "stream",
     "text": [
      "root\n",
      " |-- emotion: integer (nullable = true)\n",
      " |-- pixels: array (nullable = true)\n",
      " |    |-- element: integer (containsNull = true)\n",
      " |-- Usage: string (nullable = true)\n",
      " |-- id: long (nullable = false)\n",
      "\n",
      "(35887, 4)\n"
     ]
    }
   ],
   "source": [
    "data.printSchema()\n",
    "print((data.count(), len(data.columns)))"
   ]
  },
  {
   "cell_type": "code",
   "execution_count": 82,
   "metadata": {},
   "outputs": [
    {
     "name": "stdout",
     "output_type": "stream",
     "text": [
      "+-------+--------------------+--------+---+\n",
      "|emotion|              pixels|   Usage| id|\n",
      "+-------+--------------------+--------+---+\n",
      "|      0|[70, 80, 82, 72, ...|Training|  0|\n",
      "|      0|[151, 150, 147, 1...|Training|  1|\n",
      "|      2|[231, 212, 156, 1...|Training|  2|\n",
      "|      4|[24, 32, 36, 30, ...|Training|  3|\n",
      "|      6|[4, 0, 0, 0, 0, 0...|Training|  4|\n",
      "+-------+--------------------+--------+---+\n",
      "only showing top 5 rows\n",
      "\n"
     ]
    }
   ],
   "source": [
    "data.show(5)"
   ]
  },
  {
   "cell_type": "code",
   "execution_count": 83,
   "metadata": {},
   "outputs": [
    {
     "data": {
      "text/plain": [
       "4953"
      ]
     },
     "execution_count": 83,
     "metadata": {},
     "output_type": "execute_result"
    }
   ],
   "source": [
    "data.filter(col(\"emotion\") == 0).count()"
   ]
  },
  {
   "cell_type": "code",
   "execution_count": 84,
   "metadata": {},
   "outputs": [
    {
     "name": "stdout",
     "output_type": "stream",
     "text": [
      "+-------+-----+\n",
      "|emotion|count|\n",
      "+-------+-----+\n",
      "|      0| 4953|\n",
      "|      1|  547|\n",
      "|      2| 5121|\n",
      "|      3| 8989|\n",
      "|      4| 6077|\n",
      "|      5| 4002|\n",
      "|      6| 6198|\n",
      "+-------+-----+\n",
      "\n",
      "Total number of records in the dataset = 35887\n"
     ]
    }
   ],
   "source": [
    "data.groupBy(col(\"emotion\")).count().sort(asc(\"emotion\")).show()\n",
    "print(f\"Total number of records in the dataset = {data.count()}\")"
   ]
  },
  {
   "cell_type": "code",
   "execution_count": 85,
   "metadata": {},
   "outputs": [
    {
     "data": {
      "text/plain": [
       "<matplotlib.image.AxesImage at 0x7f9c6dd850d0>"
      ]
     },
     "execution_count": 85,
     "metadata": {},
     "output_type": "execute_result"
    },
    {
     "data": {
      "image/png": "[encoded data removed]",
      "text/plain": [
       "<Figure size 432x288 with 1 Axes>"
      ]
     },
     "metadata": {
      "needs_background": "light"
     },
     "output_type": "display_data"
    }
   ],
   "source": [
    "emotion_labels = [\"Angry\", \"Disgust\", \"Fear\", \"Happy\", \"Sad\", \"Surprise\", \"Neutral\"]\n",
    "\n",
    "dataId = 1\n",
    "\n",
    "row = data.filter(col(\"id\") == dataId).first()\n",
    "plt.figure(dataId)\n",
    "pixelArray = np.asarray(row[\"pixels\"])\n",
    "plt.suptitle(emotion_labels[row[\"emotion\"]])\n",
    "plt.imshow(pixelArray.reshape((48, 48)), interpolation='none', cmap='gray')"
   ]
  },
  {
   "cell_type": "markdown",
   "metadata": {},
   "source": [
    "---\n",
    "# 3. Prediction"
   ]
  },
  {
   "cell_type": "code",
   "execution_count": null,
   "metadata": {},
   "outputs": [],
   "source": [
    "train_set = data.filter(col(\"Usage\") == \"Training\")\n",
    "val_set = data.filter(col(\"Usage\") == \"PublicTest\")\n",
    "test_set = data.filter(col(\"Usage\") == \"PrivateTest\")"
   ]
  }
 ],
 "metadata": {
  "kernelspec": {
   "display_name": "Python 3",
   "language": "python",
   "name": "python3"
  },
  "language_info": {
   "codemirror_mode": {
    "name": "ipython",
    "version": 3
   },
   "file_extension": ".py",
   "mimetype": "text/x-python",
   "name": "python",
   "nbconvert_exporter": "python",
   "pygments_lexer": "ipython3",
   "version": "3.8.10"
  }
 },
 "nbformat": 4,
 "nbformat_minor": 5
}
