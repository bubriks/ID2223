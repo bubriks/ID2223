{
 "cells": [
  {
   "cell_type": "markdown",
   "metadata": {
    "colab_type": "text",
    "id": "view-in-github"
   },
   "source": [
    "<a href=\"https://colab.research.google.com/github/bubriks/ID2223/blob/main/Lab2/s-bert_lab.ipynb\" target=\"_parent\"><img src=\"https://colab.research.google.com/assets/colab-badge.svg\" alt=\"Open In Colab\"/></a>"
   ]
  },
  {
   "cell_type": "markdown",
   "metadata": {
    "id": "Ayk2EigMUvhT"
   },
   "source": [
    "# LAB-2 - Paolo Teta & Ralfs Zangis\n",
    "---\n",
    "useful:\n",
    "https://www.sbert.net/examples/training/sts/README.html#training-data"
   ]
  },
  {
   "cell_type": "markdown",
   "metadata": {
    "id": "AoufsnUq5Jrt"
   },
   "source": [
    "### Setup Colab (do NOT execute)"
   ]
  },
  {
   "cell_type": "code",
   "execution_count": 1,
   "metadata": {
    "id": "wn-2dv2dRq5f"
   },
   "outputs": [],
   "source": [
    "# from google.colab import drive\n",
    "# import os\n",
    "\n",
    "# !pip install pyspark\n",
    "# !pip install --upgrade tensorflow_hub\n",
    "# !pip install --upgrade tensorflow_text\n",
    "\n",
    "# from pyspark.sql import SparkSession\n",
    "# from pyspark.sql.functions import *\n",
    "# from pyspark.sql.types import *\n",
    "\n",
    "# spark = SparkSession.builder.getOrCreate()\n",
    "\n",
    "# drive.mount('/content/gdrive')\n",
    "# # os.mkdir(\"/content/gdrive/MyDrive/ID2223-repo/\")\n",
    "\n",
    "# # os.chdir(\"/content/gdrive/MyDrive/ID2223-repo/\")\n",
    "# # !git clone https://github.com/bubriks/ID2223.git\n",
    "\n",
    "# os.chdir(\"/content/gdrive/MyDrive/ID2223-repo/ID2223/Lab2/\")\n",
    "# !git pull\n",
    "\n",
    "# # ------------------------------ #\n",
    "\n",
    "# schema = StructType([\n",
    "#     StructField(\"genre\", StringType(), True),\n",
    "#     StructField(\"filename\", StringType(), True),\n",
    "#     StructField(\"year\", StringType(), True),\n",
    "#     StructField(\"year_id\", IntegerType(), True),\n",
    "#     StructField(\"score\", FloatType(), True),\n",
    "#     StructField(\"sentence1\", StringType(), True),\n",
    "#     StructField(\"sentence2\", StringType(), True)])\n",
    "\n",
    "# train = spark.read.csv(\"/content/gdrive/MyDrive/ID2223-repo/ID2223/Lab2/stsbenchmark/sts-test.csv\", sep ='\\t', header=False, schema=schema)\n",
    "# test = spark.read.csv(\"/content/gdrive/MyDrive/ID2223-repo/ID2223/Lab2/stsbenchmark/sts-test.csv\", sep ='\\t', header=False, schema=schema)\n",
    "# dev = spark.read.csv(\"/content/gdrive/MyDrive/ID2223-repo/ID2223/Lab2/stsbenchmark/sts-dev.csv\", sep ='\\t', header=False, schema=schema)"
   ]
  },
  {
   "cell_type": "markdown",
   "metadata": {
    "id": "xGjz7MdbR7-x"
   },
   "source": [
    "# START"
   ]
  },
  {
   "cell_type": "code",
   "execution_count": 2,
   "metadata": {
    "id": "ihn2yZTVUvhe"
   },
   "outputs": [],
   "source": [
    "from pyspark.sql import SparkSession\n",
    "from pyspark.sql.functions import *\n",
    "from pyspark.sql.types import *\n",
    "\n",
    "spark = SparkSession.builder.getOrCreate()"
   ]
  },
  {
   "cell_type": "code",
   "execution_count": 3,
   "metadata": {
    "id": "LVxdXa7jUvhh"
   },
   "outputs": [],
   "source": [
    "# !pip install --upgrade tensorflow_hub\n",
    "# !pip install --upgrade tensorflow_text\n",
    "\n",
    "import tensorflow as tf\n",
    "import transformers\n",
    "import functools\n",
    "import numpy as np\n",
    "\n",
    "from transformers import BertTokenizer, TFBertModel"
   ]
  },
  {
   "cell_type": "code",
   "execution_count": 4,
   "metadata": {
    "colab": {
     "base_uri": "https://localhost:8080/"
    },
    "id": "Cs2BXt4nUvhj",
    "outputId": "21470f00-4b38-41fe-d6a4-f37c562e64a8"
   },
   "outputs": [
    {
     "name": "stdout",
     "output_type": "stream",
     "text": [
      "+-------------+--------+--------+-------+-----+--------------------+--------------------+\n",
      "|        genre|filename|    year|year_id|score|           sentence1|           sentence2|\n",
      "+-------------+--------+--------+-------+-----+--------------------+--------------------+\n",
      "|main-captions|  MSRvid|2012test|      1|  5.0|A plane is taking...|An air plane is t...|\n",
      "|main-captions|  MSRvid|2012test|      4|  3.8|A man is playing ...|A man is playing ...|\n",
      "|main-captions|  MSRvid|2012test|      5|  3.8|A man is spreadin...|A man is spreadin...|\n",
      "|main-captions|  MSRvid|2012test|      6|  2.6|Three men are pla...|Two men are playi...|\n",
      "|main-captions|  MSRvid|2012test|      9| 4.25|A man is playing ...|A man seated is p...|\n",
      "|main-captions|  MSRvid|2012test|     11| 4.25|Some men are figh...|Two men are fight...|\n",
      "|main-captions|  MSRvid|2012test|     12|  0.5|   A man is smoking.|   A man is skating.|\n",
      "|main-captions|  MSRvid|2012test|     13|  1.6|The man is playin...|The man is playin...|\n",
      "|main-captions|  MSRvid|2012test|     14|  2.2|A man is playing ...|A woman is playin...|\n",
      "|main-captions|  MSRvid|2012test|     16|  5.0|A person is throw...|A person throws a...|\n",
      "|main-captions|  MSRvid|2012test|     17|  4.2|The man hit the o...|The man spanked t...|\n",
      "|main-captions|  MSRvid|2012test|     18|  4.6|A woman picks up ...|A woman picks up ...|\n",
      "|main-captions|  MSRvid|2012test|     19|3.867|A man is playing ...|A man is playing ...|\n",
      "|main-captions|  MSRvid|2012test|     20|4.667|A person is foldi...|Someone is foldin...|\n",
      "|main-captions|  MSRvid|2012test|     21|1.667|A man is running ...|A panda dog is ru...|\n",
      "|main-captions|  MSRvid|2012test|     22| 3.75|A dog is trying t...|A dog is trying t...|\n",
      "|main-captions|  MSRvid|2012test|     25|  5.0|The polar bear is...|A polar bear is s...|\n",
      "|main-captions|  MSRvid|2012test|     26|  0.5| A woman is writing.|A woman is swimming.|\n",
      "|main-captions|  MSRvid|2012test|     28|  3.8|A cat is rubbing ...|A cat is rubbing ...|\n",
      "|main-captions|  MSRvid|2012test|     29|  5.0|The man is riding...|A man is riding o...|\n",
      "+-------------+--------+--------+-------+-----+--------------------+--------------------+\n",
      "only showing top 20 rows\n",
      "\n"
     ]
    }
   ],
   "source": [
    "schema = StructType([\n",
    "    StructField(\"genre\", StringType(), True),\n",
    "    StructField(\"filename\", StringType(), True),\n",
    "    StructField(\"year\", StringType(), True),\n",
    "    StructField(\"year_id\", IntegerType(), True),\n",
    "    StructField(\"score\", FloatType(), True),\n",
    "    StructField(\"sentence1\", StringType(), True),\n",
    "    StructField(\"sentence2\", StringType(), True)])\n",
    "\n",
    "train = spark.read.csv(\"stsbenchmark/sts-train.csv\", sep ='\\t', header=False, schema=schema)\n",
    "test = spark.read.csv(\"stsbenchmark/sts-test.csv\", sep ='\\t', header=False, schema=schema)\n",
    "dev = spark.read.csv(\"stsbenchmark/sts-dev.csv\", sep ='\\t', header=False, schema=schema)\n",
    "\n",
    "train.show()"
   ]
  },
  {
   "cell_type": "markdown",
   "metadata": {
    "id": "wPcmwAn6Uvhm"
   },
   "source": [
    "## Normalize score column"
   ]
  },
  {
   "cell_type": "code",
   "execution_count": 5,
   "metadata": {
    "colab": {
     "base_uri": "https://localhost:8080/"
    },
    "id": "U82LiJPEUvhn",
    "outputId": "e1933797-ecd0-4691-a343-89cd4d61d3a3"
   },
   "outputs": [
    {
     "name": "stdout",
     "output_type": "stream",
     "text": [
      "+-------+--------------------+\n",
      "|summary|               score|\n",
      "+-------+--------------------+\n",
      "|  count|                1500|\n",
      "|   mean|-0.05443697837591158|\n",
      "| stddev|  0.6001942581590352|\n",
      "|    min|                -1.0|\n",
      "|    max|                 1.0|\n",
      "+-------+--------------------+\n",
      "\n"
     ]
    }
   ],
   "source": [
    "train = train.withColumn(\"score\", col(\"score\")/2.5-1)\n",
    "test = test.withColumn(\"score\", col(\"score\")/2.5-1)\n",
    "dev = dev.withColumn(\"score\", col(\"score\")/2.5-1)\n",
    "\n",
    "dev.select(\"score\").describe().show()"
   ]
  },
  {
   "cell_type": "markdown",
   "metadata": {},
   "source": [
    "## Tokenize sentences"
   ]
  },
  {
   "cell_type": "code",
   "execution_count": 6,
   "metadata": {},
   "outputs": [],
   "source": [
    "from itertools import repeat\n",
    "\n",
    "tokenizer = BertTokenizer.from_pretrained('bert-base-uncased')\n",
    "\n",
    "max_array = 200\n",
    "\n",
    "def tokenize(text):\n",
    "    array = np.array(tokenizer(text or \"\", return_tensors='tf', padding=True)[\"input_ids\"][0]).tolist()\n",
    "    diff = max_array - len(array)\n",
    "    if(diff>0):\n",
    "        array = array + list(repeat(0, diff))\n",
    "    elif(diff<0):\n",
    "        array = array[0:max_array]\n",
    "    return array\n",
    "\n",
    "tokenizeUDF = udf(lambda text: tokenize(text), ArrayType(IntegerType())) \n",
    "\n",
    "train = train.withColumn(\"sentence1_tokenized\", tokenizeUDF(col(\"sentence1\")))\n",
    "train = train.withColumn(\"sentence2_tokenized\", tokenizeUDF(col(\"sentence2\")))\n",
    "test = test.withColumn(\"sentence1_tokenized\", tokenizeUDF(col(\"sentence1\")))\n",
    "test = test.withColumn(\"sentence2_tokenized\", tokenizeUDF(col(\"sentence2\")))\n",
    "dev = dev.withColumn(\"sentence1_tokenized\", tokenizeUDF(col(\"sentence1\")))\n",
    "dev = dev.withColumn(\"sentence2_tokenized\", tokenizeUDF(col(\"sentence2\")))"
   ]
  },
  {
   "cell_type": "code",
   "execution_count": 7,
   "metadata": {},
   "outputs": [
    {
     "name": "stdout",
     "output_type": "stream",
     "text": [
      "Row(sentence2_tokenized=[101, 1037, 2158, 2003, 2652, 1037, 8928, 1012, 102, 0, 0, 0, 0, 0, 0, 0, 0, 0, 0, 0, 0, 0, 0, 0, 0, 0, 0, 0, 0, 0, 0, 0, 0, 0, 0, 0, 0, 0, 0, 0, 0, 0, 0, 0, 0, 0, 0, 0, 0, 0, 0, 0, 0, 0, 0, 0, 0, 0, 0, 0, 0, 0, 0, 0, 0, 0, 0, 0, 0, 0, 0, 0, 0, 0, 0, 0, 0, 0, 0, 0, 0, 0, 0, 0, 0, 0, 0, 0, 0, 0, 0, 0, 0, 0, 0, 0, 0, 0, 0, 0, 0, 0, 0, 0, 0, 0, 0, 0, 0, 0, 0, 0, 0, 0, 0, 0, 0, 0, 0, 0, 0, 0, 0, 0, 0, 0, 0, 0, 0, 0, 0, 0, 0, 0, 0, 0, 0, 0, 0, 0, 0, 0, 0, 0, 0, 0, 0, 0, 0, 0, 0, 0, 0, 0, 0, 0, 0, 0, 0, 0, 0, 0, 0, 0, 0, 0, 0, 0, 0, 0, 0, 0, 0, 0, 0, 0, 0, 0, 0, 0, 0, 0, 0, 0, 0, 0, 0, 0, 0, 0, 0, 0, 0, 0, 0, 0, 0, 0, 0, 0])\n"
     ]
    }
   ],
   "source": [
    "print(train.select(\"sentence2_tokenized\").collect()[1])"
   ]
  },
  {
   "cell_type": "markdown",
   "metadata": {
    "id": "h2V6GLHIUvhs"
   },
   "source": [
    "## Input layer"
   ]
  },
  {
   "cell_type": "code",
   "execution_count": 8,
   "metadata": {
    "id": "luVrEJkDUvhu"
   },
   "outputs": [],
   "source": [
    "input_ids_1 = tf.keras.layers.Input(shape=(1,), dtype=tf.int32, name='input_ids_1')\n",
    "input_ids_2 = tf.keras.layers.Input(shape=(1,), dtype=tf.int32, name='input_ids_2')"
   ]
  },
  {
   "cell_type": "markdown",
   "metadata": {
    "id": "mVQzlONmUvhv"
   },
   "source": [
    "## BERT encoder layer"
   ]
  },
  {
   "cell_type": "code",
   "execution_count": 9,
   "metadata": {
    "id": "VQO09W8qUvhw"
   },
   "outputs": [],
   "source": [
    "transformers.logging.set_verbosity_error() # to not show warnings\n",
    "\n",
    "output_1 = TFBertModel.from_pretrained(\"bert-base-uncased\", trainable=True, name=\"bert_1\")(input_ids=input_ids_1)\n",
    "output_2 = TFBertModel.from_pretrained(\"bert-base-uncased\", trainable=True, name=\"bert_2\")(input_ids=input_ids_2)"
   ]
  },
  {
   "cell_type": "markdown",
   "metadata": {
    "id": "Ub_s-YFKUvhx"
   },
   "source": [
    "## Pooled output"
   ]
  },
  {
   "cell_type": "code",
   "execution_count": 10,
   "metadata": {
    "id": "J5BKFgttUvhx"
   },
   "outputs": [],
   "source": [
    "pooled_1 = tf.reduce_mean(output_1.last_hidden_state, 1, name=\"pool_1\")\n",
    "pooled_2 = tf.reduce_mean(output_2.last_hidden_state, 1, name=\"pool_2\")"
   ]
  },
  {
   "cell_type": "markdown",
   "metadata": {
    "id": "IMfzc2zfUvhy"
   },
   "source": [
    "# Regression\n",
    "***"
   ]
  },
  {
   "cell_type": "markdown",
   "metadata": {},
   "source": [
    "## Cosine similarity"
   ]
  },
  {
   "cell_type": "code",
   "execution_count": 11,
   "metadata": {},
   "outputs": [],
   "source": [
    "cos_distance = tf.keras.layers.Dot(axes=1, normalize=True, name=\"cosine_sim\")([pooled_1, pooled_2])"
   ]
  },
  {
   "cell_type": "markdown",
   "metadata": {},
   "source": [
    "## Model"
   ]
  },
  {
   "cell_type": "code",
   "execution_count": 12,
   "metadata": {},
   "outputs": [],
   "source": [
    "regression_model = tf.keras.Model(inputs=[input_ids_1, input_ids_2], outputs=[cos_distance])"
   ]
  },
  {
   "cell_type": "code",
   "execution_count": 13,
   "metadata": {},
   "outputs": [
    {
     "name": "stdout",
     "output_type": "stream",
     "text": [
      "Model: \"model\"\n",
      "__________________________________________________________________________________________________\n",
      " Layer (type)                   Output Shape         Param #     Connected to                     \n",
      "==================================================================================================\n",
      " input_ids_1 (InputLayer)       [(None, 1)]          0           []                               \n",
      "                                                                                                  \n",
      " input_ids_2 (InputLayer)       [(None, 1)]          0           []                               \n",
      "                                                                                                  \n",
      " bert_1 (TFBertModel)           TFBaseModelOutputWi  109482240   ['input_ids_1[0][0]']            \n",
      "                                thPoolingAndCrossAt                                               \n",
      "                                tentions(last_hidde                                               \n",
      "                                n_state=(None, None                                               \n",
      "                                , 768),                                                           \n",
      "                                 pooler_output=(Non                                               \n",
      "                                e, 768),                                                          \n",
      "                                 past_key_values=No                                               \n",
      "                                ne, hidden_states=N                                               \n",
      "                                one, attentions=Non                                               \n",
      "                                e, cross_attentions                                               \n",
      "                                =None)                                                            \n",
      "                                                                                                  \n",
      " bert_2 (TFBertModel)           TFBaseModelOutputWi  109482240   ['input_ids_2[0][0]']            \n",
      "                                thPoolingAndCrossAt                                               \n",
      "                                tentions(last_hidde                                               \n",
      "                                n_state=(None, None                                               \n",
      "                                , 768),                                                           \n",
      "                                 pooler_output=(Non                                               \n",
      "                                e, 768),                                                          \n",
      "                                 past_key_values=No                                               \n",
      "                                ne, hidden_states=N                                               \n",
      "                                one, attentions=Non                                               \n",
      "                                e, cross_attentions                                               \n",
      "                                =None)                                                            \n",
      "                                                                                                  \n",
      " tf.math.reduce_mean (TFOpLambd  (None, 768)         0           ['bert_1[0][0]']                 \n",
      " a)                                                                                               \n",
      "                                                                                                  \n",
      " tf.math.reduce_mean_1 (TFOpLam  (None, 768)         0           ['bert_2[0][0]']                 \n",
      " bda)                                                                                             \n",
      "                                                                                                  \n",
      " cosine_sim (Dot)               (None, 1)            0           ['tf.math.reduce_mean[0][0]',    \n",
      "                                                                  'tf.math.reduce_mean_1[0][0]']  \n",
      "                                                                                                  \n",
      "==================================================================================================\n",
      "Total params: 218,964,480\n",
      "Trainable params: 218,964,480\n",
      "Non-trainable params: 0\n",
      "__________________________________________________________________________________________________\n"
     ]
    },
    {
     "data": {
      "image/png": "[encoded data removed]",
      "text/plain": [
       "<IPython.core.display.Image object>"
      ]
     },
     "execution_count": 13,
     "metadata": {},
     "output_type": "execute_result"
    }
   ],
   "source": [
    "regression_model.summary()\n",
    "tf.keras.utils.plot_model(regression_model)"
   ]
  },
  {
   "cell_type": "markdown",
   "metadata": {},
   "source": [
    "## Compile"
   ]
  },
  {
   "cell_type": "code",
   "execution_count": 14,
   "metadata": {},
   "outputs": [],
   "source": [
    "optimizer = tf.optimizers.Adam(0.001)\n",
    "mse = tf.keras.losses.MeanSquaredError()\n",
    "accuracy = tf.keras.metrics.Accuracy()\n",
    "\n",
    "regression_model.compile(optimizer=optimizer, loss=mse, metrics=accuracy)"
   ]
  },
  {
   "cell_type": "markdown",
   "metadata": {},
   "source": [
    "## Training"
   ]
  },
  {
   "cell_type": "code",
   "execution_count": null,
   "metadata": {},
   "outputs": [
    {
     "name": "stdout",
     "output_type": "stream",
     "text": [
      "WARNING:tensorflow:Model was constructed with shape (None, 1) for input KerasTensor(type_spec=TensorSpec(shape=(None, 1), dtype=tf.int32, name='input_ids_1'), name='input_ids_1', description=\"created by layer 'input_ids_1'\"), but it was called on an input with incompatible shape (None, 200).\n",
      "WARNING:tensorflow:Model was constructed with shape (None, 1) for input KerasTensor(type_spec=TensorSpec(shape=(None, 1), dtype=tf.int32, name='input_ids_2'), name='input_ids_2', description=\"created by layer 'input_ids_2'\"), but it was called on an input with incompatible shape (None, 200).\n",
      "WARNING:tensorflow:Gradients do not exist for variables ['bert_1/bert/pooler/dense/kernel:0', 'bert_1/bert/pooler/dense/bias:0', 'bert_2/bert/pooler/dense/kernel:0', 'bert_2/bert/pooler/dense/bias:0'] when minimizing the loss. If you're using `model.compile()`, did you forget to provide a `loss`argument?\n",
      "WARNING:tensorflow:Model was constructed with shape (None, 1) for input KerasTensor(type_spec=TensorSpec(shape=(None, 1), dtype=tf.int32, name='input_ids_1'), name='input_ids_1', description=\"created by layer 'input_ids_1'\"), but it was called on an input with incompatible shape (None, 200).\n",
      "WARNING:tensorflow:Model was constructed with shape (None, 1) for input KerasTensor(type_spec=TensorSpec(shape=(None, 1), dtype=tf.int32, name='input_ids_2'), name='input_ids_2', description=\"created by layer 'input_ids_2'\"), but it was called on an input with incompatible shape (None, 200).\n",
      "WARNING:tensorflow:Gradients do not exist for variables ['bert_1/bert/pooler/dense/kernel:0', 'bert_1/bert/pooler/dense/bias:0', 'bert_2/bert/pooler/dense/kernel:0', 'bert_2/bert/pooler/dense/bias:0'] when minimizing the loss. If you're using `model.compile()`, did you forget to provide a `loss`argument?\n"
     ]
    }
   ],
   "source": [
    "df_train = train.select(\"sentence1_tokenized\",\"sentence2_tokenized\",\"score\").toPandas()\n",
    "\n",
    "sent_1 = tf.convert_to_tensor(df_train[\"sentence1_tokenized\"].values.tolist(), dtype=tf.float32)\n",
    "sent_2 = tf.convert_to_tensor(df_train[\"sentence2_tokenized\"].values.tolist(), dtype=tf.float32)\n",
    "\n",
    "regression_model.fit([sent_1,sent_2], df_train[\"score\"], epochs=1)\n",
    "#model.predict([encoded_input_1[\"input_ids\"],encoded_input_2[\"input_ids\"]])"
   ]
  },
  {
   "cell_type": "markdown",
   "metadata": {},
   "source": [
    "# Classification\n",
    "***"
   ]
  },
  {
   "cell_type": "markdown",
   "metadata": {},
   "source": [
    "## Concatenate the sentence representations"
   ]
  },
  {
   "cell_type": "code",
   "execution_count": null,
   "metadata": {},
   "outputs": [],
   "source": [
    "num_labels = 2\n",
    "\n",
    "diff = tf.keras.layers.Subtract()([pooled_1, pooled_2])\n",
    "# pooled_1.shape[1] == number of features\n",
    "weights = tf.Variable(tf.random.truncated_normal([pooled_1.shape[1], num_labels]))\n",
    "multi = tf.matmul(diff, weights)\n",
    "softmax = tf.nn.softmax(multi)"
   ]
  },
  {
   "cell_type": "markdown",
   "metadata": {},
   "source": [
    "## Model"
   ]
  },
  {
   "cell_type": "code",
   "execution_count": null,
   "metadata": {},
   "outputs": [],
   "source": [
    "classification_model = tf.keras.Model(inputs=[input_ids_1, input_ids_2], outputs=[softmax])"
   ]
  },
  {
   "cell_type": "code",
   "execution_count": null,
   "metadata": {},
   "outputs": [],
   "source": [
    "classification_model.summary()\n",
    "tf.keras.utils.plot_model(classification_model)"
   ]
  },
  {
   "cell_type": "markdown",
   "metadata": {},
   "source": [
    "## Compile"
   ]
  },
  {
   "cell_type": "code",
   "execution_count": null,
   "metadata": {
    "id": "DY_ZRnh-Uvhy"
   },
   "outputs": [],
   "source": [
    "optimizer = tf.optimizers.Adam(0.001)\n",
    "mse = tf.keras.losses.CategoricalCrossentropy()\n",
    "accuracy = tf.keras.metrics.Accuracy()\n",
    "\n",
    "classification_model.compile(optimizer=optimizer, loss=mse, metrics=accuracy)"
   ]
  },
  {
   "cell_type": "code",
   "execution_count": null,
   "metadata": {},
   "outputs": [],
   "source": []
  }
 ],
 "metadata": {
  "accelerator": "GPU",
  "colab": {
   "include_colab_link": true,
   "name": "s-bert_lab.ipynb",
   "provenance": []
  },
  "kernelspec": {
   "display_name": "Python 3",
   "language": "python",
   "name": "python3"
  },
  "language_info": {
   "codemirror_mode": {
    "name": "ipython",
    "version": 3
   },
   "file_extension": ".py",
   "mimetype": "text/x-python",
   "name": "python",
   "nbconvert_exporter": "python",
   "pygments_lexer": "ipython3",
   "version": "3.8.10"
  }
 },
 "nbformat": 4,
 "nbformat_minor": 5
}
