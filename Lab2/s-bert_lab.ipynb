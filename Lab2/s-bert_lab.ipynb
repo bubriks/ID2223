{
 "cells": [
  {
   "cell_type": "markdown",
   "metadata": {},
   "source": [
    "# LAB-2 - Paolo Teta & Ralfs Zangis\n",
    "---\n",
    "usefull:\n",
    "https://www.sbert.net/examples/training/sts/README.html#training-data"
   ]
  },
  {
   "cell_type": "code",
   "execution_count": 1,
   "metadata": {},
   "outputs": [],
   "source": [
    "from pyspark.sql import SparkSession\n",
    "from pyspark.sql.functions import *\n",
    "from pyspark.sql.types import *\n",
    "\n",
    "spark = SparkSession.builder.getOrCreate()"
   ]
  },
  {
   "cell_type": "code",
   "execution_count": 2,
   "metadata": {},
   "outputs": [
    {
     "name": "stdout",
     "output_type": "stream",
     "text": [
      "+-------------+--------+--------+-------+-----+--------------------+--------------------+\n",
      "|        genre|filename|    year|year_id|score|           sentence1|           sentence2|\n",
      "+-------------+--------+--------+-------+-----+--------------------+--------------------+\n",
      "|main-captions|  MSRvid|2012test|      1|  5.0|A plane is taking...|An air plane is t...|\n",
      "|main-captions|  MSRvid|2012test|      4|  3.8|A man is playing ...|A man is playing ...|\n",
      "|main-captions|  MSRvid|2012test|      5|  3.8|A man is spreadin...|A man is spreadin...|\n",
      "|main-captions|  MSRvid|2012test|      6|  2.6|Three men are pla...|Two men are playi...|\n",
      "|main-captions|  MSRvid|2012test|      9| 4.25|A man is playing ...|A man seated is p...|\n",
      "|main-captions|  MSRvid|2012test|     11| 4.25|Some men are figh...|Two men are fight...|\n",
      "|main-captions|  MSRvid|2012test|     12|  0.5|   A man is smoking.|   A man is skating.|\n",
      "|main-captions|  MSRvid|2012test|     13|  1.6|The man is playin...|The man is playin...|\n",
      "|main-captions|  MSRvid|2012test|     14|  2.2|A man is playing ...|A woman is playin...|\n",
      "|main-captions|  MSRvid|2012test|     16|  5.0|A person is throw...|A person throws a...|\n",
      "|main-captions|  MSRvid|2012test|     17|  4.2|The man hit the o...|The man spanked t...|\n",
      "|main-captions|  MSRvid|2012test|     18|  4.6|A woman picks up ...|A woman picks up ...|\n",
      "|main-captions|  MSRvid|2012test|     19|3.867|A man is playing ...|A man is playing ...|\n",
      "|main-captions|  MSRvid|2012test|     20|4.667|A person is foldi...|Someone is foldin...|\n",
      "|main-captions|  MSRvid|2012test|     21|1.667|A man is running ...|A panda dog is ru...|\n",
      "|main-captions|  MSRvid|2012test|     22| 3.75|A dog is trying t...|A dog is trying t...|\n",
      "|main-captions|  MSRvid|2012test|     25|  5.0|The polar bear is...|A polar bear is s...|\n",
      "|main-captions|  MSRvid|2012test|     26|  0.5| A woman is writing.|A woman is swimming.|\n",
      "|main-captions|  MSRvid|2012test|     28|  3.8|A cat is rubbing ...|A cat is rubbing ...|\n",
      "|main-captions|  MSRvid|2012test|     29|  5.0|The man is riding...|A man is riding o...|\n",
      "+-------------+--------+--------+-------+-----+--------------------+--------------------+\n",
      "only showing top 20 rows\n",
      "\n",
      "+-------------+--------+--------+-------+-----+--------------------+--------------------+\n",
      "|        genre|filename|    year|year_id|score|           sentence1|           sentence2|\n",
      "+-------------+--------+--------+-------+-----+--------------------+--------------------+\n",
      "|main-captions|  MSRvid|2012test|     24|  2.5|A girl is styling...|A girl is brushin...|\n",
      "|main-captions|  MSRvid|2012test|     33|  3.6|A group of men pl...|A group of boys a...|\n",
      "|main-captions|  MSRvid|2012test|     45|  5.0|One woman is meas...|A woman measures ...|\n",
      "|main-captions|  MSRvid|2012test|     63|  4.2|A man is cutting ...|A man is slicing ...|\n",
      "|main-captions|  MSRvid|2012test|     66|  1.5|A man is playing ...|A man is playing ...|\n",
      "|main-captions|  MSRvid|2012test|     74|  1.8|A woman is cuttin...|A woman is cuttin...|\n",
      "|main-captions|  MSRvid|2012test|     76|  3.5|A man is riding a...|A man is riding a...|\n",
      "|main-captions|  MSRvid|2012test|     82|  2.2|A man is playing ...|A man is playing ...|\n",
      "|main-captions|  MSRvid|2012test|     92|  2.2|A man is playing ...|A lady is playing...|\n",
      "|main-captions|  MSRvid|2012test|     95|1.714|A man is playing ...|A man is playing ...|\n",
      "|main-captions|  MSRvid|2012test|     96|1.714|A man is playing ...|A man is playing ...|\n",
      "|main-captions|  MSRvid|2012test|    100|  5.0|A man is cutting ...|A man cuts an onion.|\n",
      "|main-captions|  MSRvid|2012test|    103|  0.6|   A man is cycling.|   A man is talking.|\n",
      "|main-captions|  MSRvid|2012test|    107|  4.4|A man is slicing ...|A man is cutting ...|\n",
      "|main-captions|  MSRvid|2012test|    124|  2.0|A man is slicing ...|A man is slicing ...|\n",
      "|main-captions|  MSRvid|2012test|    127|  1.8|A man is playing ...|A man is playing ...|\n",
      "|main-captions|  MSRvid|2012test|    128|  4.4|A baby panda goes...|A panda slides do...|\n",
      "|main-captions|  MSRvid|2012test|    134|  3.6|A man is singing ...|A man is playing ...|\n",
      "|main-captions|  MSRvid|2012test|    137|  3.6|A man attacks a w...|A man slaps a woman.|\n",
      "|main-captions|  MSRvid|2012test|    139|  1.2|A man is driving ...|A man is riding a...|\n",
      "+-------------+--------+--------+-------+-----+--------------------+--------------------+\n",
      "only showing top 20 rows\n",
      "\n",
      "+-------------+--------+--------+-------+-----+--------------------+--------------------+\n",
      "|        genre|filename|    year|year_id|score|           sentence1|           sentence2|\n",
      "+-------------+--------+--------+-------+-----+--------------------+--------------------+\n",
      "|main-captions|  MSRvid|2012test|      0|  5.0|A man with a hard...|A man wearing a h...|\n",
      "|main-captions|  MSRvid|2012test|      2| 4.75|A young child is ...|A child is riding...|\n",
      "|main-captions|  MSRvid|2012test|      3|  5.0|A man is feeding ...|The man is feedin...|\n",
      "|main-captions|  MSRvid|2012test|      7|  2.4|A woman is playin...|A man is playing ...|\n",
      "|main-captions|  MSRvid|2012test|      8| 2.75|A woman is playin...|A man is playing ...|\n",
      "|main-captions|  MSRvid|2012test|     10|2.615|A woman is cuttin...|A man is cutting ...|\n",
      "|main-captions|  MSRvid|2012test|     15|  5.0|A man is erasing ...|The man is erasin...|\n",
      "|main-captions|  MSRvid|2012test|     23|2.333|A woman is carryi...|A woman is carryi...|\n",
      "|main-captions|  MSRvid|2012test|     27| 3.75|Three men are pla...|Three men are on ...|\n",
      "|main-captions|  MSRvid|2012test|     36|  5.0|A woman peels a p...|A woman is peelin...|\n",
      "|main-captions|  MSRvid|2012test|     37|  3.2|People are playin...|Men are playing c...|\n",
      "|main-captions|  MSRvid|2012test|     39|1.583|A man is playing ...|A man is playing ...|\n",
      "|main-captions|  MSRvid|2012test|     41|  5.0|The cougar is cha...|A cougar is chasi...|\n",
      "|main-captions|  MSRvid|2012test|     43|  5.0|The man cut down ...|A man chops down ...|\n",
      "|main-captions|  MSRvid|2012test|     49|4.909|The man is playin...|A man is playing ...|\n",
      "|main-captions|  MSRvid|2012test|     51|  0.8|A man is finding ...|A woman is slicin...|\n",
      "|main-captions|  MSRvid|2012test|     60|  2.4|The girl sang int...|The lady sang int...|\n",
      "|main-captions|  MSRvid|2012test|     67|  5.0|A man is climbing...|A man climbs a rope.|\n",
      "|main-captions|  MSRvid|2012test|     79|  4.0|Kittens are eatin...|Kittens are eatin...|\n",
      "|main-captions|  MSRvid|2012test|     88|0.636|  A man is speaking.|  A man is spitting.|\n",
      "+-------------+--------+--------+-------+-----+--------------------+--------------------+\n",
      "only showing top 20 rows\n",
      "\n"
     ]
    }
   ],
   "source": [
    "schema = StructType([\n",
    "    StructField(\"genre\", StringType(), True),\n",
    "    StructField(\"filename\", StringType(), True),\n",
    "    StructField(\"year\", StringType(), True),\n",
    "    StructField(\"year_id\", IntegerType(), True),\n",
    "    StructField(\"score\", FloatType(), True),\n",
    "    StructField(\"sentence1\", StringType(), True),\n",
    "    StructField(\"sentence2\", StringType(), True)])\n",
    "\n",
    "train = spark.read.csv(\"stsbenchmark/sts-train.csv\", sep ='\\t', header=False, schema=schema)\n",
    "test = spark.read.csv(\"stsbenchmark/sts-test.csv\", sep ='\\t', header=False, schema=schema)\n",
    "dev = spark.read.csv(\"stsbenchmark/sts-dev.csv\", sep ='\\t', header=False, schema=schema)\n",
    "\n",
    "train.show()\n",
    "test.show()\n",
    "dev.show()"
   ]
  },
  {
   "cell_type": "markdown",
   "metadata": {},
   "source": [
    "## Normalize score"
   ]
  },
  {
   "cell_type": "code",
   "execution_count": 3,
   "metadata": {},
   "outputs": [
    {
     "name": "stdout",
     "output_type": "stream",
     "text": [
      "+-------+------------------+\n",
      "|summary|             score|\n",
      "+-------+------------------+\n",
      "|  count|              1500|\n",
      "|   mean|2.3639075540602206|\n",
      "| stddev|1.5004856453975888|\n",
      "|    min|               0.0|\n",
      "|    max|               5.0|\n",
      "+-------+------------------+\n",
      "\n"
     ]
    }
   ],
   "source": [
    "train = train.withColumn(\"score\", col(\"score\"))\n",
    "test = test.withColumn(\"score\", col(\"score\"))\n",
    "dev = dev.withColumn(\"score\", col(\"score\"))\n",
    "\n",
    "dev.select(\"score\").describe().show()"
   ]
  },
  {
   "cell_type": "code",
   "execution_count": 4,
   "metadata": {},
   "outputs": [],
   "source": [
    "import tensorflow as tf\n",
    "import tensorflow_hub as hub\n",
    "import tensorflow_text as text\n",
    "import functools\n",
    "import numpy as np"
   ]
  },
  {
   "cell_type": "code",
   "execution_count": 5,
   "metadata": {},
   "outputs": [
    {
     "name": "stdout",
     "output_type": "stream",
     "text": [
      "Keys       : ['input_type_ids', 'input_mask', 'input_word_ids']\n",
      "Shape      : (1, 128)\n",
      "Word Ids   : [ 101 2023 2003 2107 2019 6429 3185  999  102    0    0    0]\n",
      "Input Mask : [1 1 1 1 1 1 1 1 1 0 0 0]\n",
      "Type Ids   : [0 0 0 0 0 0 0 0 0 0 0 0]\n"
     ]
    }
   ],
   "source": [
    "text_test = ['this is such an amazing movie!']\n",
    "\n",
    "tfhub_handle_preprocess = 'https://tfhub.dev/tensorflow/bert_en_uncased_preprocess/3'\n",
    "\n",
    "preprocessing_layer = hub.KerasLayer(tfhub_handle_preprocess, name='preprocessing')\n",
    "\n",
    "text_preprocessed = preprocessing_layer(text_test)\n",
    "\n",
    "print(f'Keys       : {list(text_preprocessed.keys())}')\n",
    "print(f'Shape      : {text_preprocessed[\"input_word_ids\"].shape}')\n",
    "print(f'Word Ids   : {text_preprocessed[\"input_word_ids\"][0, :12]}')\n",
    "print(f'Input Mask : {text_preprocessed[\"input_mask\"][0, :12]}')\n",
    "print(f'Type Ids   : {text_preprocessed[\"input_type_ids\"][0, :12]}')"
   ]
  },
  {
   "cell_type": "code",
   "execution_count": 6,
   "metadata": {},
   "outputs": [
    {
     "name": "stdout",
     "output_type": "stream",
     "text": [
      "Loaded BERT: https://tfhub.dev/tensorflow/small_bert/bert_en_uncased_L-4_H-512_A-8/1\n",
      "Pooled Outputs Shape:(1, 512)\n",
      "Pooled Outputs Values:[ 0.7626287   0.9928098  -0.18611833  0.3667385   0.1523368   0.65504456\n",
      "  0.9681154  -0.9486271   0.00216172 -0.987773    0.06842685 -0.97630596]\n",
      "Sequence Outputs Shape:(1, 128, 512)\n",
      "Sequence Outputs Values:[[-0.28946376  0.3432126   0.3323155  ...  0.21300781  0.7102078\n",
      "  -0.05771124]\n",
      " [-0.2874204   0.31981033 -0.23018603 ...  0.58455133 -0.21329767\n",
      "   0.7269206 ]\n",
      " [-0.66157013  0.68876886 -0.8743305  ...  0.10877283 -0.26173198\n",
      "   0.47855327]\n",
      " ...\n",
      " [-0.22561157 -0.28925607 -0.07064402 ...  0.47566003  0.83277047\n",
      "   0.40025362]\n",
      " [-0.29824257 -0.2747315  -0.05450503 ...  0.4884973   1.0955352\n",
      "   0.18163386]\n",
      " [-0.44378242  0.00930739  0.07223728 ...  0.17290103  1.1833243\n",
      "   0.07897934]]\n"
     ]
    }
   ],
   "source": [
    "tfhub_handle_encoder = 'https://tfhub.dev/tensorflow/small_bert/bert_en_uncased_L-4_H-512_A-8/1'\n",
    "\n",
    "encoder = hub.KerasLayer(tfhub_handle_encoder, trainable=True, name='BERT_encoder')\n",
    "\n",
    "bert_results = encoder(text_preprocessed)\n",
    "\n",
    "print(f'Loaded BERT: {tfhub_handle_encoder}')\n",
    "print(f'Pooled Outputs Shape:{bert_results[\"pooled_output\"].shape}')\n",
    "print(f'Pooled Outputs Values:{bert_results[\"pooled_output\"][0, :12]}')\n",
    "print(f'Sequence Outputs Shape:{bert_results[\"sequence_output\"].shape}')\n",
    "print(f'Sequence Outputs Values:{bert_results[\"sequence_output\"][0, :12]}')"
   ]
  },
  {
   "cell_type": "code",
   "execution_count": 7,
   "metadata": {},
   "outputs": [
    {
     "name": "stdout",
     "output_type": "stream",
     "text": [
      "<keras.engine.functional.Functional object at 0x7f7a3d0c9070>\n",
      "Model: \"model\"\n",
      "__________________________________________________________________________________________________\n",
      " Layer (type)                   Output Shape         Param #     Connected to                     \n",
      "==================================================================================================\n",
      " text_u (InputLayer)            [(None,)]            0           []                               \n",
      "                                                                                                  \n",
      " text_v (InputLayer)            [(None,)]            0           []                               \n",
      "                                                                                                  \n",
      " preprocessing_u (KerasLayer)   {'input_word_ids':   0           ['text_u[0][0]']                 \n",
      "                                (None, 128),                                                      \n",
      "                                 'input_mask': (Non                                               \n",
      "                                e, 128),                                                          \n",
      "                                 'input_type_ids':                                                \n",
      "                                (None, 128)}                                                      \n",
      "                                                                                                  \n",
      " preprocessing_v (KerasLayer)   {'input_word_ids':   0           ['text_v[0][0]']                 \n",
      "                                (None, 128),                                                      \n",
      "                                 'input_mask': (Non                                               \n",
      "                                e, 128),                                                          \n",
      "                                 'input_type_ids':                                                \n",
      "                                (None, 128)}                                                      \n",
      "                                                                                                  \n",
      " BERT_encoder_u (KerasLayer)    {'encoder_outputs':  28763649    ['preprocessing_u[0][0]',        \n",
      "                                 [(None, 128, 512),               'preprocessing_u[0][1]',        \n",
      "                                 (None, 128, 512),                'preprocessing_u[0][2]']        \n",
      "                                 (None, 128, 512),                                                \n",
      "                                 (None, 128, 512)],                                               \n",
      "                                 'pooled_output': (                                               \n",
      "                                None, 512),                                                       \n",
      "                                 'sequence_output':                                               \n",
      "                                 (None, 128, 512),                                                \n",
      "                                 'default': (None,                                                \n",
      "                                512)}                                                             \n",
      "                                                                                                  \n",
      " BERT_encoder_v (KerasLayer)    {'encoder_outputs':  28763649    ['preprocessing_v[0][0]',        \n",
      "                                 [(None, 128, 512),               'preprocessing_v[0][1]',        \n",
      "                                 (None, 128, 512),                'preprocessing_v[0][2]']        \n",
      "                                 (None, 128, 512),                                                \n",
      "                                 (None, 128, 512)],                                               \n",
      "                                 'default': (None,                                                \n",
      "                                512),                                                             \n",
      "                                 'pooled_output': (                                               \n",
      "                                None, 512),                                                       \n",
      "                                 'sequence_output':                                               \n",
      "                                 (None, 128, 512)}                                                \n",
      "                                                                                                  \n",
      " u (Dense)                      (None, 16)           8208        ['BERT_encoder_u[0][5]']         \n",
      "                                                                                                  \n",
      " v (Dense)                      (None, 16)           8208        ['BERT_encoder_v[0][5]']         \n",
      "                                                                                                  \n",
      " concatenate (Concatenate)      (None, 32)           0           ['u[0][0]',                      \n",
      "                                                                  'v[0][0]']                      \n",
      "                                                                                                  \n",
      " classifier (Dense)             (None, 1)            33          ['concatenate[0][0]']            \n",
      "                                                                                                  \n",
      "==================================================================================================\n",
      "Total params: 57,543,747\n",
      "Trainable params: 57,543,745\n",
      "Non-trainable params: 2\n",
      "__________________________________________________________________________________________________\n"
     ]
    }
   ],
   "source": [
    "text_input_u = tf.keras.layers.Input(shape=(), dtype=tf.string, name='text_u')\n",
    "text_input_v = tf.keras.layers.Input(shape=(), dtype=tf.string, name='text_v')\n",
    "\n",
    "preprocessing_layer = hub.KerasLayer(tfhub_handle_preprocess, name='preprocessing_u')\n",
    "encoder_input_u = preprocessing_layer(text_input_u)\n",
    "preprocessing_layer = hub.KerasLayer(tfhub_handle_preprocess, name='preprocessing_v')\n",
    "encoder_input_v = preprocessing_layer(text_input_v)\n",
    "\n",
    "encoder = hub.KerasLayer(tfhub_handle_encoder, trainable=True, name='BERT_encoder_u')\n",
    "outputs_u = encoder(encoder_input_u)\n",
    "encoder = hub.KerasLayer(tfhub_handle_encoder, trainable=True, name='BERT_encoder_v')\n",
    "outputs_v = encoder(encoder_input_v)\n",
    "\n",
    "u = tf.keras.layers.Dense(16, name='u')(outputs_u['pooled_output'])\n",
    "v = tf.keras.layers.Dense(16, name='v')(outputs_v['pooled_output'])\n",
    "\n",
    "concat_layer = tf.keras.layers.Concatenate(name='concatenate')\n",
    "output_concat = concat_layer([u, v])\n",
    "\n",
    "final = tf.keras.layers.Dense(1, name='classifier')\n",
    "finaly = final(output_concat)\n",
    "\n",
    "model = tf.keras.Model(inputs=[text_input_u, text_input_v], outputs=[finaly])\n",
    "\n",
    "tf.keras.utils.plot_model(model)\n",
    "print(model)\n",
    "\n",
    "model.summary()\n",
    "\n",
    "#https://www.sbert.net/docs/training/overview.html"
   ]
  },
  {
   "cell_type": "code",
   "execution_count": null,
   "metadata": {},
   "outputs": [
    {
     "name": "stdout",
     "output_type": "stream",
     "text": [
      "sentence1    0\n",
      "sentence2    3\n",
      "score        0\n",
      "dtype: int64\n",
      "43/44 [============================>.] - ETA: 1s - loss: 4.3072 - accuracy: 0.0581"
     ]
    }
   ],
   "source": [
    "optimizer = tf.optimizers.Adam(0.001)\n",
    "model.compile(optimizer=optimizer, loss='binary_crossentropy', metrics=['accuracy'])\n",
    "\n",
    "df = test.select(\"sentence1\",\"sentence2\",\"score\").toPandas()\n",
    "\n",
    "print(df.isna().sum())\n",
    "df = df.fillna('')\n",
    "\n",
    "#import numpy as np\n",
    "#df[\"score\"] = np.asarray(df[\"score\"]).astype(np.float32)\n",
    "\n",
    "results = model.evaluate([df[\"sentence1\"],df[\"sentence2\"]],df[\"score\"])\n",
    "print(\"Results: \", results)"
   ]
  },
  {
   "cell_type": "code",
   "execution_count": null,
   "metadata": {},
   "outputs": [],
   "source": []
  },
  {
   "cell_type": "code",
   "execution_count": null,
   "metadata": {},
   "outputs": [],
   "source": []
  }
 ],
 "metadata": {
  "kernelspec": {
   "display_name": "Python 3",
   "language": "python",
   "name": "python3"
  },
  "language_info": {
   "codemirror_mode": {
    "name": "ipython",
    "version": 3
   },
   "file_extension": ".py",
   "mimetype": "text/x-python",
   "name": "python",
   "nbconvert_exporter": "python",
   "pygments_lexer": "ipython3",
   "version": "3.8.10"
  }
 },
 "nbformat": 4,
 "nbformat_minor": 5
}
