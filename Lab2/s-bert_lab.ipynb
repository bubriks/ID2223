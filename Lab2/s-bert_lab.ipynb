{
  "nbformat": 4,
  "nbformat_minor": 5,
  "metadata": {
    "kernelspec": {
      "display_name": "Python 3",
      "language": "python",
      "name": "python3"
    },
    "language_info": {
      "codemirror_mode": {
        "name": "ipython",
        "version": 3
      },
      "file_extension": ".py",
      "mimetype": "text/x-python",
      "name": "python",
      "nbconvert_exporter": "python",
      "pygments_lexer": "ipython3",
      "version": "3.8.10"
    },
    "colab": {
      "name": "s-bert_lab.ipynb",
      "provenance": [],
      "include_colab_link": true
    },
    "accelerator": "GPU"
  },
  "cells": [
    {
      "cell_type": "markdown",
      "metadata": {
        "id": "view-in-github",
        "colab_type": "text"
      },
      "source": [
        "<a href=\"https://colab.research.google.com/github/bubriks/ID2223/blob/main/Lab2/s-bert_lab.ipynb\" target=\"_parent\"><img src=\"https://colab.research.google.com/assets/colab-badge.svg\" alt=\"Open In Colab\"/></a>"
      ]
    },
    {
      "cell_type": "markdown",
      "metadata": {
        "id": "Ayk2EigMUvhT"
      },
      "source": [
        "# LAB-2 - Paolo Teta & Ralfs Zangis\n",
        "---\n",
        "useful:\n",
        "https://www.sbert.net/examples/training/sts/README.html#training-data"
      ],
      "id": "Ayk2EigMUvhT"
    },
    {
      "cell_type": "markdown",
      "metadata": {
        "id": "AoufsnUq5Jrt"
      },
      "source": [
        "## Setup Colab (do NOT execute)"
      ],
      "id": "AoufsnUq5Jrt"
    },
    {
      "cell_type": "code",
      "metadata": {
        "id": "wn-2dv2dRq5f"
      },
      "source": [
        "# from google.colab import drive\n",
        "# import os\n",
        "\n",
        "# !pip install pyspark\n",
        "# !pip install --upgrade tensorflow_hub\n",
        "# !pip install --upgrade tensorflow_text\n",
        "\n",
        "# from pyspark.sql import SparkSession\n",
        "# from pyspark.sql.functions import *\n",
        "# from pyspark.sql.types import *\n",
        "\n",
        "# spark = SparkSession.builder.getOrCreate()\n",
        "\n",
        "# drive.mount('/content/gdrive')\n",
        "# # os.mkdir(\"/content/gdrive/MyDrive/ID2223-repo/\")\n",
        "\n",
        "# # os.chdir(\"/content/gdrive/MyDrive/ID2223-repo/\")\n",
        "# # !git clone https://github.com/bubriks/ID2223.git\n",
        "\n",
        "# os.chdir(\"/content/gdrive/MyDrive/ID2223-repo/ID2223/Lab2/\")\n",
        "# !git pull\n",
        "\n",
        "# # ------------------------------ #\n",
        "\n",
        "# schema = StructType([\n",
        "#     StructField(\"genre\", StringType(), True),\n",
        "#     StructField(\"filename\", StringType(), True),\n",
        "#     StructField(\"year\", StringType(), True),\n",
        "#     StructField(\"year_id\", IntegerType(), True),\n",
        "#     StructField(\"score\", FloatType(), True),\n",
        "#     StructField(\"sentence1\", StringType(), True),\n",
        "#     StructField(\"sentence2\", StringType(), True)])\n",
        "\n",
        "# train = spark.read.csv(\"/content/gdrive/MyDrive/ID2223-repo/ID2223/Lab2/stsbenchmark/sts-test.csv\", sep ='\\t', header=False, schema=schema)\n",
        "# test = spark.read.csv(\"/content/gdrive/MyDrive/ID2223-repo/ID2223/Lab2/stsbenchmark/sts-test.csv\", sep ='\\t', header=False, schema=schema)\n",
        "# dev = spark.read.csv(\"/content/gdrive/MyDrive/ID2223-repo/ID2223/Lab2/stsbenchmark/sts-dev.csv\", sep ='\\t', header=False, schema=schema)"
      ],
      "id": "wn-2dv2dRq5f",
      "execution_count": 4,
      "outputs": []
    },
    {
      "cell_type": "markdown",
      "metadata": {
        "id": "xGjz7MdbR7-x"
      },
      "source": [
        "# START"
      ],
      "id": "xGjz7MdbR7-x"
    },
    {
      "cell_type": "code",
      "metadata": {
        "id": "ihn2yZTVUvhe"
      },
      "source": [
        "from pyspark.sql import SparkSession\n",
        "from pyspark.sql.functions import *\n",
        "from pyspark.sql.types import *\n",
        "\n",
        "spark = SparkSession.builder.getOrCreate()"
      ],
      "id": "ihn2yZTVUvhe",
      "execution_count": 5,
      "outputs": []
    },
    {
      "cell_type": "code",
      "metadata": {
        "id": "LVxdXa7jUvhh"
      },
      "source": [
        "# !pip install --upgrade tensorflow_hub\n",
        "# !pip install --upgrade tensorflow_text\n",
        "\n",
        "import tensorflow as tf\n",
        "import tensorflow_hub as hub\n",
        "import tensorflow_text as text\n",
        "\n",
        "import functools\n",
        "\n",
        "import numpy as np"
      ],
      "id": "LVxdXa7jUvhh",
      "execution_count": 6,
      "outputs": []
    },
    {
      "cell_type": "code",
      "metadata": {
        "id": "Cs2BXt4nUvhj",
        "outputId": "83c78b78-daa4-437f-d0ae-c82dccbbf573",
        "colab": {
          "base_uri": "https://localhost:8080/"
        }
      },
      "source": [
        "schema = StructType([\n",
        "    StructField(\"genre\", StringType(), True),\n",
        "    StructField(\"filename\", StringType(), True),\n",
        "    StructField(\"year\", StringType(), True),\n",
        "    StructField(\"year_id\", IntegerType(), True),\n",
        "    StructField(\"score\", FloatType(), True),\n",
        "    StructField(\"sentence1\", StringType(), True),\n",
        "    StructField(\"sentence2\", StringType(), True)])\n",
        "\n",
        "train = spark.read.csv(\"stsbenchmark/sts-train.csv\", sep ='\\t', header=False, schema=schema)\n",
        "test = spark.read.csv(\"stsbenchmark/sts-test.csv\", sep ='\\t', header=False, schema=schema)\n",
        "dev = spark.read.csv(\"stsbenchmark/sts-dev.csv\", sep ='\\t', header=False, schema=schema)\n",
        "\n",
        "train.show()\n",
        "test.show()\n",
        "dev.show()"
      ],
      "id": "Cs2BXt4nUvhj",
      "execution_count": 11,
      "outputs": [
        {
          "output_type": "stream",
          "name": "stdout",
          "text": [
            "+-------------+--------+--------+-------+-----+--------------------+--------------------+\n",
            "|        genre|filename|    year|year_id|score|           sentence1|           sentence2|\n",
            "+-------------+--------+--------+-------+-----+--------------------+--------------------+\n",
            "|main-captions|  MSRvid|2012test|     24|  2.5|A girl is styling...|A girl is brushin...|\n",
            "|main-captions|  MSRvid|2012test|     33|  3.6|A group of men pl...|A group of boys a...|\n",
            "|main-captions|  MSRvid|2012test|     45|  5.0|One woman is meas...|A woman measures ...|\n",
            "|main-captions|  MSRvid|2012test|     63|  4.2|A man is cutting ...|A man is slicing ...|\n",
            "|main-captions|  MSRvid|2012test|     66|  1.5|A man is playing ...|A man is playing ...|\n",
            "|main-captions|  MSRvid|2012test|     74|  1.8|A woman is cuttin...|A woman is cuttin...|\n",
            "|main-captions|  MSRvid|2012test|     76|  3.5|A man is riding a...|A man is riding a...|\n",
            "|main-captions|  MSRvid|2012test|     82|  2.2|A man is playing ...|A man is playing ...|\n",
            "|main-captions|  MSRvid|2012test|     92|  2.2|A man is playing ...|A lady is playing...|\n",
            "|main-captions|  MSRvid|2012test|     95|1.714|A man is playing ...|A man is playing ...|\n",
            "|main-captions|  MSRvid|2012test|     96|1.714|A man is playing ...|A man is playing ...|\n",
            "|main-captions|  MSRvid|2012test|    100|  5.0|A man is cutting ...|A man cuts an onion.|\n",
            "|main-captions|  MSRvid|2012test|    103|  0.6|   A man is cycling.|   A man is talking.|\n",
            "|main-captions|  MSRvid|2012test|    107|  4.4|A man is slicing ...|A man is cutting ...|\n",
            "|main-captions|  MSRvid|2012test|    124|  2.0|A man is slicing ...|A man is slicing ...|\n",
            "|main-captions|  MSRvid|2012test|    127|  1.8|A man is playing ...|A man is playing ...|\n",
            "|main-captions|  MSRvid|2012test|    128|  4.4|A baby panda goes...|A panda slides do...|\n",
            "|main-captions|  MSRvid|2012test|    134|  3.6|A man is singing ...|A man is playing ...|\n",
            "|main-captions|  MSRvid|2012test|    137|  3.6|A man attacks a w...|A man slaps a woman.|\n",
            "|main-captions|  MSRvid|2012test|    139|  1.2|A man is driving ...|A man is riding a...|\n",
            "+-------------+--------+--------+-------+-----+--------------------+--------------------+\n",
            "only showing top 20 rows\n",
            "\n",
            "+-------------+--------+--------+-------+-----+--------------------+--------------------+\n",
            "|        genre|filename|    year|year_id|score|           sentence1|           sentence2|\n",
            "+-------------+--------+--------+-------+-----+--------------------+--------------------+\n",
            "|main-captions|  MSRvid|2012test|     24|  2.5|A girl is styling...|A girl is brushin...|\n",
            "|main-captions|  MSRvid|2012test|     33|  3.6|A group of men pl...|A group of boys a...|\n",
            "|main-captions|  MSRvid|2012test|     45|  5.0|One woman is meas...|A woman measures ...|\n",
            "|main-captions|  MSRvid|2012test|     63|  4.2|A man is cutting ...|A man is slicing ...|\n",
            "|main-captions|  MSRvid|2012test|     66|  1.5|A man is playing ...|A man is playing ...|\n",
            "|main-captions|  MSRvid|2012test|     74|  1.8|A woman is cuttin...|A woman is cuttin...|\n",
            "|main-captions|  MSRvid|2012test|     76|  3.5|A man is riding a...|A man is riding a...|\n",
            "|main-captions|  MSRvid|2012test|     82|  2.2|A man is playing ...|A man is playing ...|\n",
            "|main-captions|  MSRvid|2012test|     92|  2.2|A man is playing ...|A lady is playing...|\n",
            "|main-captions|  MSRvid|2012test|     95|1.714|A man is playing ...|A man is playing ...|\n",
            "|main-captions|  MSRvid|2012test|     96|1.714|A man is playing ...|A man is playing ...|\n",
            "|main-captions|  MSRvid|2012test|    100|  5.0|A man is cutting ...|A man cuts an onion.|\n",
            "|main-captions|  MSRvid|2012test|    103|  0.6|   A man is cycling.|   A man is talking.|\n",
            "|main-captions|  MSRvid|2012test|    107|  4.4|A man is slicing ...|A man is cutting ...|\n",
            "|main-captions|  MSRvid|2012test|    124|  2.0|A man is slicing ...|A man is slicing ...|\n",
            "|main-captions|  MSRvid|2012test|    127|  1.8|A man is playing ...|A man is playing ...|\n",
            "|main-captions|  MSRvid|2012test|    128|  4.4|A baby panda goes...|A panda slides do...|\n",
            "|main-captions|  MSRvid|2012test|    134|  3.6|A man is singing ...|A man is playing ...|\n",
            "|main-captions|  MSRvid|2012test|    137|  3.6|A man attacks a w...|A man slaps a woman.|\n",
            "|main-captions|  MSRvid|2012test|    139|  1.2|A man is driving ...|A man is riding a...|\n",
            "+-------------+--------+--------+-------+-----+--------------------+--------------------+\n",
            "only showing top 20 rows\n",
            "\n",
            "+-------------+--------+--------+-------+-----+--------------------+--------------------+\n",
            "|        genre|filename|    year|year_id|score|           sentence1|           sentence2|\n",
            "+-------------+--------+--------+-------+-----+--------------------+--------------------+\n",
            "|main-captions|  MSRvid|2012test|      0|  5.0|A man with a hard...|A man wearing a h...|\n",
            "|main-captions|  MSRvid|2012test|      2| 4.75|A young child is ...|A child is riding...|\n",
            "|main-captions|  MSRvid|2012test|      3|  5.0|A man is feeding ...|The man is feedin...|\n",
            "|main-captions|  MSRvid|2012test|      7|  2.4|A woman is playin...|A man is playing ...|\n",
            "|main-captions|  MSRvid|2012test|      8| 2.75|A woman is playin...|A man is playing ...|\n",
            "|main-captions|  MSRvid|2012test|     10|2.615|A woman is cuttin...|A man is cutting ...|\n",
            "|main-captions|  MSRvid|2012test|     15|  5.0|A man is erasing ...|The man is erasin...|\n",
            "|main-captions|  MSRvid|2012test|     23|2.333|A woman is carryi...|A woman is carryi...|\n",
            "|main-captions|  MSRvid|2012test|     27| 3.75|Three men are pla...|Three men are on ...|\n",
            "|main-captions|  MSRvid|2012test|     36|  5.0|A woman peels a p...|A woman is peelin...|\n",
            "|main-captions|  MSRvid|2012test|     37|  3.2|People are playin...|Men are playing c...|\n",
            "|main-captions|  MSRvid|2012test|     39|1.583|A man is playing ...|A man is playing ...|\n",
            "|main-captions|  MSRvid|2012test|     41|  5.0|The cougar is cha...|A cougar is chasi...|\n",
            "|main-captions|  MSRvid|2012test|     43|  5.0|The man cut down ...|A man chops down ...|\n",
            "|main-captions|  MSRvid|2012test|     49|4.909|The man is playin...|A man is playing ...|\n",
            "|main-captions|  MSRvid|2012test|     51|  0.8|A man is finding ...|A woman is slicin...|\n",
            "|main-captions|  MSRvid|2012test|     60|  2.4|The girl sang int...|The lady sang int...|\n",
            "|main-captions|  MSRvid|2012test|     67|  5.0|A man is climbing...|A man climbs a rope.|\n",
            "|main-captions|  MSRvid|2012test|     79|  4.0|Kittens are eatin...|Kittens are eatin...|\n",
            "|main-captions|  MSRvid|2012test|     88|0.636|  A man is speaking.|  A man is spitting.|\n",
            "+-------------+--------+--------+-------+-----+--------------------+--------------------+\n",
            "only showing top 20 rows\n",
            "\n"
          ]
        }
      ]
    },
    {
      "cell_type": "markdown",
      "metadata": {
        "id": "wPcmwAn6Uvhm"
      },
      "source": [
        "## Normalize score column"
      ],
      "id": "wPcmwAn6Uvhm"
    },
    {
      "cell_type": "code",
      "metadata": {
        "id": "U82LiJPEUvhn",
        "outputId": "4bb0076d-f501-4aed-a795-22f97a297b0e",
        "colab": {
          "base_uri": "https://localhost:8080/"
        }
      },
      "source": [
        "train = train.withColumn(\"score\", col(\"score\")/2.5-1)\n",
        "test = test.withColumn(\"score\", col(\"score\")/2.5-1)\n",
        "dev = dev.withColumn(\"score\", col(\"score\")/2.5-1)\n",
        "\n",
        "dev.select(\"score\").describe().show()"
      ],
      "id": "U82LiJPEUvhn",
      "execution_count": 7,
      "outputs": [
        {
          "output_type": "stream",
          "name": "stdout",
          "text": [
            "+-------+--------------------+\n",
            "|summary|               score|\n",
            "+-------+--------------------+\n",
            "|  count|                1500|\n",
            "|   mean|-0.05443697837591158|\n",
            "| stddev|  0.6001942581590352|\n",
            "|    min|                -1.0|\n",
            "|    max|                 1.0|\n",
            "+-------+--------------------+\n",
            "\n"
          ]
        }
      ]
    },
    {
      "cell_type": "code",
      "metadata": {
        "id": "OLRFMB-_Uvhp",
        "outputId": "6b207a62-e264-4c43-a07e-5789b68c07c4",
        "colab": {
          "base_uri": "https://localhost:8080/"
        }
      },
      "source": [
        "text_test = ['this is such an amazing movie!']\n",
        "\n",
        "tfhub_handle_preprocess = 'https://tfhub.dev/tensorflow/bert_en_uncased_preprocess/3'\n",
        "\n",
        "preprocessing_layer = hub.KerasLayer(tfhub_handle_preprocess, name='preprocessing')\n",
        "\n",
        "text_preprocessed = preprocessing_layer(text_test)\n",
        "\n",
        "print(f'Keys       : {list(text_preprocessed.keys())}')\n",
        "print(f'Shape      : {text_preprocessed[\"input_word_ids\"].shape}')\n",
        "print(f'Word Ids   : {text_preprocessed[\"input_word_ids\"][0, :12]}')\n",
        "print(f'Input Mask : {text_preprocessed[\"input_mask\"][0, :12]}')\n",
        "print(f'Type Ids   : {text_preprocessed[\"input_type_ids\"][0, :12]}')"
      ],
      "id": "OLRFMB-_Uvhp",
      "execution_count": 8,
      "outputs": [
        {
          "output_type": "stream",
          "name": "stdout",
          "text": [
            "Keys       : ['input_word_ids', 'input_mask', 'input_type_ids']\n",
            "Shape      : (1, 128)\n",
            "Word Ids   : [ 101 2023 2003 2107 2019 6429 3185  999  102    0    0    0]\n",
            "Input Mask : [1 1 1 1 1 1 1 1 1 0 0 0]\n",
            "Type Ids   : [0 0 0 0 0 0 0 0 0 0 0 0]\n"
          ]
        }
      ]
    },
    {
      "cell_type": "code",
      "metadata": {
        "id": "cgHwZpK0Uvhr",
        "outputId": "ec51464d-8432-408f-b170-f1f629d4422d",
        "colab": {
          "base_uri": "https://localhost:8080/"
        }
      },
      "source": [
        "tfhub_handle_encoder = 'https://tfhub.dev/tensorflow/small_bert/bert_en_uncased_L-4_H-512_A-8/1'\n",
        "\n",
        "encoder = hub.KerasLayer(tfhub_handle_encoder, trainable=True, name='BERT_encoder')\n",
        "\n",
        "bert_results = encoder(text_preprocessed)\n",
        "\n",
        "print(f'Loaded BERT: {tfhub_handle_encoder}')\n",
        "print(f'Pooled Outputs Shape:{bert_results[\"pooled_output\"].shape}')\n",
        "print(f'Pooled Outputs Values:{bert_results[\"pooled_output\"][0, :12]}')\n",
        "print(f'Sequence Outputs Shape:{bert_results[\"sequence_output\"][0].shape}')\n",
        "print(f'Sequence Outputs Values:{bert_results[\"sequence_output\"][0, :12]}')"
      ],
      "id": "cgHwZpK0Uvhr",
      "execution_count": 9,
      "outputs": [
        {
          "output_type": "stream",
          "name": "stdout",
          "text": [
            "Loaded BERT: https://tfhub.dev/tensorflow/small_bert/bert_en_uncased_L-4_H-512_A-8/1\n",
            "Pooled Outputs Shape:(1, 512)\n",
            "Pooled Outputs Values:[ 0.7626282   0.9928099  -0.18611862  0.3667383   0.15233758  0.655044\n",
            "  0.9681154  -0.94862705  0.0021616  -0.9877732   0.06842764 -0.97630596]\n",
            "Sequence Outputs Shape:(128, 512)\n",
            "Sequence Outputs Values:[[-0.28946292  0.34321183  0.33231512 ...  0.21300802  0.7102092\n",
            "  -0.05771042]\n",
            " [-0.28741995  0.31980985 -0.23018652 ...  0.5845511  -0.21329862\n",
            "   0.72692007]\n",
            " [-0.6615692   0.68876815 -0.8743301  ...  0.1087728  -0.26173076\n",
            "   0.47855455]\n",
            " ...\n",
            " [-0.22561137 -0.2892573  -0.07064426 ...  0.47566032  0.8327724\n",
            "   0.40025347]\n",
            " [-0.2982421  -0.27473164 -0.05450544 ...  0.4884972   1.0955367\n",
            "   0.18163365]\n",
            " [-0.4437818   0.00930662  0.07223704 ...  0.17290089  1.1833239\n",
            "   0.07897975]]\n"
          ]
        }
      ]
    },
    {
      "cell_type": "markdown",
      "metadata": {
        "id": "h2V6GLHIUvhs"
      },
      "source": [
        "## Input layer"
      ],
      "id": "h2V6GLHIUvhs"
    },
    {
      "cell_type": "code",
      "metadata": {
        "id": "luVrEJkDUvhu"
      },
      "source": [
        "text_input_u = tf.keras.layers.Input(shape=(), dtype=tf.string, name='text_u')\n",
        "text_input_v = tf.keras.layers.Input(shape=(), dtype=tf.string, name='text_v')"
      ],
      "id": "luVrEJkDUvhu",
      "execution_count": 10,
      "outputs": []
    },
    {
      "cell_type": "markdown",
      "metadata": {
        "id": "mVQzlONmUvhv"
      },
      "source": [
        "## Pre-processing layer"
      ],
      "id": "mVQzlONmUvhv"
    },
    {
      "cell_type": "code",
      "metadata": {
        "id": "VQO09W8qUvhw"
      },
      "source": [
        "preprocessing_layer = hub.KerasLayer(tfhub_handle_preprocess, name='preprocessing_u')\n",
        "encoder_input_u = preprocessing_layer(text_input_u)\n",
        "preprocessing_layer = hub.KerasLayer(tfhub_handle_preprocess, name='preprocessing_v')\n",
        "encoder_input_v = preprocessing_layer(text_input_v)"
      ],
      "id": "VQO09W8qUvhw",
      "execution_count": 11,
      "outputs": []
    },
    {
      "cell_type": "markdown",
      "metadata": {
        "id": "Ub_s-YFKUvhx"
      },
      "source": [
        "## BERT encoder layer"
      ],
      "id": "Ub_s-YFKUvhx"
    },
    {
      "cell_type": "code",
      "metadata": {
        "id": "J5BKFgttUvhx"
      },
      "source": [
        "encoder = hub.KerasLayer(tfhub_handle_encoder, trainable=True, name='BERT_encoder_u')\n",
        "outputs_u = encoder(encoder_input_u)\n",
        "encoder = hub.KerasLayer(tfhub_handle_encoder, trainable=True, name='BERT_encoder_v')\n",
        "outputs_v = encoder(encoder_input_v)"
      ],
      "id": "J5BKFgttUvhx",
      "execution_count": 12,
      "outputs": []
    },
    {
      "cell_type": "markdown",
      "metadata": {
        "id": "IMfzc2zfUvhy"
      },
      "source": [
        "## Pooled output"
      ],
      "id": "IMfzc2zfUvhy"
    },
    {
      "cell_type": "code",
      "metadata": {
        "id": "DY_ZRnh-Uvhy"
      },
      "source": [
        "avg_pool_2d  = tf.keras.layers.AveragePooling2D(pool_size=(128, 1), strides=(128, 1), name='pooling_u')\n",
        "sequence_output = outputs_u[\"sequence_output\"][0]\n",
        "sequence_output = tf.reshape(sequence_output, [1, 128, 512, 1])\n",
        "pooled_u = avg_pool_2d(sequence_output)[0][0]\n",
        "\n",
        "avg_pool_2d  = tf.keras.layers.AveragePooling2D(pool_size=(128, 1), strides=(128, 1), name='pooling_v')\n",
        "sequence_output = outputs_v[\"sequence_output\"][0]\n",
        "sequence_output = tf.reshape(sequence_output, [1, 128, 512, 1])\n",
        "pooled_v = avg_pool_2d(sequence_output)[0][0]"
      ],
      "id": "DY_ZRnh-Uvhy",
      "execution_count": 14,
      "outputs": []
    },
    {
      "cell_type": "markdown",
      "metadata": {
        "id": "i9DtwE3zUvhz"
      },
      "source": [
        "## Concatenate layer"
      ],
      "id": "i9DtwE3zUvhz"
    },
    {
      "cell_type": "code",
      "metadata": {
        "id": "GI2OPzAEXMSR"
      },
      "source": [
        "#concat_layer = tf.keras.layers.Concatenate(name='concat')\n",
        "#output_concat = concat_layer([pooled_u, pooled_v])"
      ],
      "id": "GI2OPzAEXMSR",
      "execution_count": 15,
      "outputs": []
    },
    {
      "cell_type": "markdown",
      "metadata": {
        "id": "jwkD8P5YUvhz"
      },
      "source": [
        "## Output layer"
      ],
      "id": "jwkD8P5YUvhz"
    },
    {
      "cell_type": "code",
      "metadata": {
        "id": "_r6Q5uGgUvh0",
        "outputId": "a22bb594-0486-4e6a-9642-a5db589c30ec",
        "colab": {
          "base_uri": "https://localhost:8080/"
        }
      },
      "source": [
        "print(pooled_u.shape)\n",
        "cos_distance = tf.keras.layers.Dot(axes = 1, normalize=True)([tf.reshape(pooled_u, [1, 512, 1]), tf.reshape(pooled_v, [1, 512, 1])]) # where cos (x)\n",
        "print(cos_distance)\n",
        "cos_distance = tf.keras.layers.Reshape((1,))(cos_distance)\n",
        "final = tf.keras.layers.Lambda(lambda x: 1-x)(cos_distance)\n",
        "\n",
        "#print(output_concat[:,1].shape)\n",
        "\n",
        "#cosine_loss = tf.keras.losses.CosineSimilarity(axis=-1)\n",
        "#final = cosine_loss(output_concat[:,0], output_concat[:,1])\n",
        "\n",
        "print(final.shape)"
      ],
      "id": "_r6Q5uGgUvh0",
      "execution_count": 16,
      "outputs": [
        {
          "output_type": "stream",
          "name": "stdout",
          "text": [
            "(512, 1)\n",
            "KerasTensor(type_spec=TensorSpec(shape=(1, 1, 1), dtype=tf.float32, name=None), name='dot/MatMul:0', description=\"created by layer 'dot'\")\n",
            "(1, 1)\n"
          ]
        }
      ]
    },
    {
      "cell_type": "markdown",
      "metadata": {
        "id": "gxpKI7NgXREu"
      },
      "source": [
        "## Model"
      ],
      "id": "gxpKI7NgXREu"
    },
    {
      "cell_type": "code",
      "metadata": {
        "id": "glqC-2IBUvh0",
        "outputId": "c9896c89-7da9-43c0-93da-3a8494741941",
        "colab": {
          "base_uri": "https://localhost:8080/"
        }
      },
      "source": [
        "model = tf.keras.Model(inputs=[text_input_u, text_input_v], outputs=[final])\n",
        "\n",
        "tf.keras.utils.plot_model(model)\n",
        "print(model)\n",
        "\n",
        "model.summary()\n",
        "\n",
        "# https://www.sbert.net/docs/training/overview.html"
      ],
      "id": "glqC-2IBUvh0",
      "execution_count": 17,
      "outputs": [
        {
          "output_type": "stream",
          "name": "stdout",
          "text": [
            "<keras.engine.functional.Functional object at 0x7f599b53d810>\n",
            "Model: \"model\"\n",
            "__________________________________________________________________________________________________\n",
            " Layer (type)                   Output Shape         Param #     Connected to                     \n",
            "==================================================================================================\n",
            " text_u (InputLayer)            [(None,)]            0           []                               \n",
            "                                                                                                  \n",
            " text_v (InputLayer)            [(None,)]            0           []                               \n",
            "                                                                                                  \n",
            " preprocessing_u (KerasLayer)   {'input_word_ids':   0           ['text_u[0][0]']                 \n",
            "                                (None, 128),                                                      \n",
            "                                 'input_mask': (Non                                               \n",
            "                                e, 128),                                                          \n",
            "                                 'input_type_ids':                                                \n",
            "                                (None, 128)}                                                      \n",
            "                                                                                                  \n",
            " preprocessing_v (KerasLayer)   {'input_word_ids':   0           ['text_v[0][0]']                 \n",
            "                                (None, 128),                                                      \n",
            "                                 'input_type_ids':                                                \n",
            "                                (None, 128),                                                      \n",
            "                                 'input_mask': (Non                                               \n",
            "                                e, 128)}                                                          \n",
            "                                                                                                  \n",
            " BERT_encoder_u (KerasLayer)    {'default': (None,   28763649    ['preprocessing_u[0][0]',        \n",
            "                                512),                             'preprocessing_u[0][1]',        \n",
            "                                 'encoder_outputs':               'preprocessing_u[0][2]']        \n",
            "                                 [(None, 128, 512),                                               \n",
            "                                 (None, 128, 512),                                                \n",
            "                                 (None, 128, 512),                                                \n",
            "                                 (None, 128, 512)],                                               \n",
            "                                 'sequence_output':                                               \n",
            "                                 (None, 128, 512),                                                \n",
            "                                 'pooled_output': (                                               \n",
            "                                None, 512)}                                                       \n",
            "                                                                                                  \n",
            " BERT_encoder_v (KerasLayer)    {'pooled_output': (  28763649    ['preprocessing_v[0][0]',        \n",
            "                                None, 512),                       'preprocessing_v[0][1]',        \n",
            "                                 'sequence_output':               'preprocessing_v[0][2]']        \n",
            "                                 (None, 128, 512),                                                \n",
            "                                 'default': (None,                                                \n",
            "                                512),                                                             \n",
            "                                 'encoder_outputs':                                               \n",
            "                                 [(None, 128, 512),                                               \n",
            "                                 (None, 128, 512),                                                \n",
            "                                 (None, 128, 512),                                                \n",
            "                                 (None, 128, 512)]}                                               \n",
            "                                                                                                  \n",
            " tf.__operators__.getitem (Slic  (128, 512)          0           ['BERT_encoder_u[0][6]']         \n",
            " ingOpLambda)                                                                                     \n",
            "                                                                                                  \n",
            " tf.__operators__.getitem_3 (Sl  (128, 512)          0           ['BERT_encoder_v[0][6]']         \n",
            " icingOpLambda)                                                                                   \n",
            "                                                                                                  \n",
            " tf.reshape (TFOpLambda)        (1, 128, 512, 1)     0           ['tf.__operators__.getitem[0][0]'\n",
            "                                                                 ]                                \n",
            "                                                                                                  \n",
            " tf.reshape_1 (TFOpLambda)      (1, 128, 512, 1)     0           ['tf.__operators__.getitem_3[0][0\n",
            "                                                                 ]']                              \n",
            "                                                                                                  \n",
            " pooling_u (AveragePooling2D)   (1, 1, 512, 1)       0           ['tf.reshape[0][0]']             \n",
            "                                                                                                  \n",
            " pooling_v (AveragePooling2D)   (1, 1, 512, 1)       0           ['tf.reshape_1[0][0]']           \n",
            "                                                                                                  \n",
            " tf.__operators__.getitem_1 (Sl  (1, 512, 1)         0           ['pooling_u[0][0]']              \n",
            " icingOpLambda)                                                                                   \n",
            "                                                                                                  \n",
            " tf.__operators__.getitem_4 (Sl  (1, 512, 1)         0           ['pooling_v[0][0]']              \n",
            " icingOpLambda)                                                                                   \n",
            "                                                                                                  \n",
            " tf.__operators__.getitem_2 (Sl  (512, 1)            0           ['tf.__operators__.getitem_1[0][0\n",
            " icingOpLambda)                                                  ]']                              \n",
            "                                                                                                  \n",
            " tf.__operators__.getitem_5 (Sl  (512, 1)            0           ['tf.__operators__.getitem_4[0][0\n",
            " icingOpLambda)                                                  ]']                              \n",
            "                                                                                                  \n",
            " tf.reshape_2 (TFOpLambda)      (1, 512, 1)          0           ['tf.__operators__.getitem_2[0][0\n",
            "                                                                 ]']                              \n",
            "                                                                                                  \n",
            " tf.reshape_3 (TFOpLambda)      (1, 512, 1)          0           ['tf.__operators__.getitem_5[0][0\n",
            "                                                                 ]']                              \n",
            "                                                                                                  \n",
            " dot (Dot)                      (1, 1, 1)            0           ['tf.reshape_2[0][0]',           \n",
            "                                                                  'tf.reshape_3[0][0]']           \n",
            "                                                                                                  \n",
            " reshape (Reshape)              (1, 1)               0           ['dot[0][0]']                    \n",
            "                                                                                                  \n",
            " lambda (Lambda)                (1, 1)               0           ['reshape[0][0]']                \n",
            "                                                                                                  \n",
            "==================================================================================================\n",
            "Total params: 57,527,298\n",
            "Trainable params: 57,527,296\n",
            "Non-trainable params: 2\n",
            "__________________________________________________________________________________________________\n"
          ]
        }
      ]
    },
    {
      "cell_type": "markdown",
      "metadata": {
        "id": "L4NpPkr3XVGX"
      },
      "source": [
        "## Compile"
      ],
      "id": "L4NpPkr3XVGX"
    },
    {
      "cell_type": "code",
      "metadata": {
        "id": "543qnrk0Uvh1",
        "outputId": "ac12cb28-babb-4184-c83d-5b1c249e3e1a",
        "colab": {
          "base_uri": "https://localhost:8080/"
        }
      },
      "source": [
        "optimizer = tf.optimizers.Adam(0.001)\n",
        "model.compile(optimizer=optimizer, loss='binary_crossentropy', metrics=['accuracy'])\n",
        "\n",
        "df = test.select(\"sentence1\",\"sentence2\",\"score\").toPandas()\n",
        "\n",
        "print(df.isna().sum())\n",
        "df = df.fillna('')\n",
        "\n",
        "#import numpy as np\n",
        "#df[\"score\"] = np.asarray(df[\"score\"]).astype(np.float32)\n",
        "#print(list(df[\"score\"]))\n",
        "\n",
        "results = model.evaluate([df[\"sentence1\"],df[\"sentence2\"]],df[\"score\"])\n",
        "print(\"Results: \", results)"
      ],
      "id": "543qnrk0Uvh1",
      "execution_count": 18,
      "outputs": [
        {
          "output_type": "stream",
          "name": "stdout",
          "text": [
            "sentence1    0\n",
            "sentence2    3\n",
            "score        0\n",
            "dtype: int64\n",
            "44/44 [==============================] - 16s 311ms/step - loss: 0.2142 - accuracy: 0.0065\n",
            "Results:  [0.21417468786239624, 0.006526468321681023]\n"
          ]
        }
      ]
    },
    {
      "cell_type": "code",
      "metadata": {
        "id": "gI691VjdUvh2",
        "outputId": "5311fd5d-0833-4d07-bdf1-bf3d7764f5db",
        "colab": {
          "base_uri": "https://localhost:8080/"
        }
      },
      "source": [
        "print([df[\"sentence1\"][1],df[\"sentence1\"][1]])\n",
        "print(df[\"score\"][1])\n",
        "print(model.predict([df[\"sentence1\"][1:2],df[\"sentence1\"][1:2]]))"
      ],
      "id": "gI691VjdUvh2",
      "execution_count": 19,
      "outputs": [
        {
          "output_type": "stream",
          "name": "stdout",
          "text": [
            "['A group of men play soccer on the beach.', 'A group of men play soccer on the beach.']\n",
            "0.43999996185302725\n",
            "[[-2.3841858e-07]]\n"
          ]
        }
      ]
    },
    {
      "cell_type": "code",
      "metadata": {
        "id": "2fA9Yn8LUvh3"
      },
      "source": [
        "# https://titanwolf.org/Network/Articles/Article?AID=cd44a9bd-d785-4c6e-81a7-8601cc05d636\n",
        "# https://stackoverflow.com/questions/51003027/computing-cosine-similarity-between-two-tensors-in-keras"
      ],
      "id": "2fA9Yn8LUvh3",
      "execution_count": 20,
      "outputs": []
    },
    {
      "cell_type": "code",
      "metadata": {
        "id": "l52n6vGvUvh4"
      },
      "source": [
        ""
      ],
      "id": "l52n6vGvUvh4",
      "execution_count": null,
      "outputs": []
    },
    {
      "cell_type": "code",
      "metadata": {
        "id": "CmG9FZA_XaIa"
      },
      "source": [
        ""
      ],
      "id": "CmG9FZA_XaIa",
      "execution_count": null,
      "outputs": []
    },
    {
      "cell_type": "code",
      "metadata": {
        "id": "ZCRSGqJXXahm"
      },
      "source": [
        ""
      ],
      "id": "ZCRSGqJXXahm",
      "execution_count": null,
      "outputs": []
    },
    {
      "cell_type": "markdown",
      "metadata": {
        "id": "-wly94f9XfgB"
      },
      "source": [
        "## Train"
      ],
      "id": "-wly94f9XfgB"
    },
    {
      "cell_type": "code",
      "metadata": {
        "id": "6LRX3ZCtXgCw"
      },
      "source": [
        "train.show(5)"
      ],
      "id": "6LRX3ZCtXgCw",
      "execution_count": null,
      "outputs": []
    },
    {
      "cell_type": "code",
      "metadata": {
        "id": "B6mfSXn8XgTw"
      },
      "source": [
        "model.fit()"
      ],
      "id": "B6mfSXn8XgTw",
      "execution_count": null,
      "outputs": []
    },
    {
      "cell_type": "markdown",
      "metadata": {
        "id": "IfaoG7VZXgxn"
      },
      "source": [
        "## Prediction"
      ],
      "id": "IfaoG7VZXgxn"
    },
    {
      "cell_type": "code",
      "metadata": {
        "id": "jikV4CqOXhQ_"
      },
      "source": [
        "classifications = model.predict() # unseen data"
      ],
      "id": "jikV4CqOXhQ_",
      "execution_count": null,
      "outputs": []
    },
    {
      "cell_type": "markdown",
      "metadata": {
        "id": "9_BouPx2Xhqm"
      },
      "source": [
        "## Evaluation"
      ],
      "id": "9_BouPx2Xhqm"
    },
    {
      "cell_type": "code",
      "metadata": {
        "id": "I6V3ZtU1XiHh"
      },
      "source": [
        "model.evaluate()"
      ],
      "id": "I6V3ZtU1XiHh",
      "execution_count": null,
      "outputs": []
    },
    {
      "cell_type": "code",
      "metadata": {
        "id": "OewuweNJXii5"
      },
      "source": [
        ""
      ],
      "id": "OewuweNJXii5",
      "execution_count": null,
      "outputs": []
    },
    {
      "cell_type": "code",
      "metadata": {
        "id": "JxYYnMFRXi0i"
      },
      "source": [
        ""
      ],
      "id": "JxYYnMFRXi0i",
      "execution_count": null,
      "outputs": []
    },
    {
      "cell_type": "code",
      "metadata": {
        "id": "F4pjD0jeXjGi"
      },
      "source": [
        ""
      ],
      "id": "F4pjD0jeXjGi",
      "execution_count": null,
      "outputs": []
    }
  ]
}