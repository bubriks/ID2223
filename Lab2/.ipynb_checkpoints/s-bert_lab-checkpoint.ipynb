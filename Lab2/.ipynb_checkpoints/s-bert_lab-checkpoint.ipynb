{
 "cells": [
  {
   "cell_type": "markdown",
   "metadata": {},
   "source": [
    "# LAB-2 - Paolo Teta & Ralfs Zangis\n",
    "---\n",
    "usefull:\n",
    "https://www.sbert.net/examples/training/sts/README.html#training-data"
   ]
  },
  {
   "cell_type": "code",
   "execution_count": 1,
   "metadata": {},
   "outputs": [],
   "source": [
    "from pyspark.sql import SparkSession\n",
    "from pyspark.sql.functions import *\n",
    "from pyspark.sql.types import *\n",
    "\n",
    "spark = SparkSession.builder.getOrCreate()"
   ]
  },
  {
   "cell_type": "code",
   "execution_count": 2,
   "metadata": {},
   "outputs": [
    {
     "name": "stdout",
     "output_type": "stream",
     "text": [
      "+-------------+--------+--------+-------+-----+--------------------+--------------------+\n",
      "|        genre|filename|    year|year_id|score|           sentence1|           sentence2|\n",
      "+-------------+--------+--------+-------+-----+--------------------+--------------------+\n",
      "|main-captions|  MSRvid|2012test|      1|  5.0|A plane is taking...|An air plane is t...|\n",
      "|main-captions|  MSRvid|2012test|      4|  3.8|A man is playing ...|A man is playing ...|\n",
      "|main-captions|  MSRvid|2012test|      5|  3.8|A man is spreadin...|A man is spreadin...|\n",
      "|main-captions|  MSRvid|2012test|      6|  2.6|Three men are pla...|Two men are playi...|\n",
      "|main-captions|  MSRvid|2012test|      9| 4.25|A man is playing ...|A man seated is p...|\n",
      "|main-captions|  MSRvid|2012test|     11| 4.25|Some men are figh...|Two men are fight...|\n",
      "|main-captions|  MSRvid|2012test|     12|  0.5|   A man is smoking.|   A man is skating.|\n",
      "|main-captions|  MSRvid|2012test|     13|  1.6|The man is playin...|The man is playin...|\n",
      "|main-captions|  MSRvid|2012test|     14|  2.2|A man is playing ...|A woman is playin...|\n",
      "|main-captions|  MSRvid|2012test|     16|  5.0|A person is throw...|A person throws a...|\n",
      "|main-captions|  MSRvid|2012test|     17|  4.2|The man hit the o...|The man spanked t...|\n",
      "|main-captions|  MSRvid|2012test|     18|  4.6|A woman picks up ...|A woman picks up ...|\n",
      "|main-captions|  MSRvid|2012test|     19|3.867|A man is playing ...|A man is playing ...|\n",
      "|main-captions|  MSRvid|2012test|     20|4.667|A person is foldi...|Someone is foldin...|\n",
      "|main-captions|  MSRvid|2012test|     21|1.667|A man is running ...|A panda dog is ru...|\n",
      "|main-captions|  MSRvid|2012test|     22| 3.75|A dog is trying t...|A dog is trying t...|\n",
      "|main-captions|  MSRvid|2012test|     25|  5.0|The polar bear is...|A polar bear is s...|\n",
      "|main-captions|  MSRvid|2012test|     26|  0.5| A woman is writing.|A woman is swimming.|\n",
      "|main-captions|  MSRvid|2012test|     28|  3.8|A cat is rubbing ...|A cat is rubbing ...|\n",
      "|main-captions|  MSRvid|2012test|     29|  5.0|The man is riding...|A man is riding o...|\n",
      "+-------------+--------+--------+-------+-----+--------------------+--------------------+\n",
      "only showing top 20 rows\n",
      "\n",
      "+-------------+--------+--------+-------+-----+--------------------+--------------------+\n",
      "|        genre|filename|    year|year_id|score|           sentence1|           sentence2|\n",
      "+-------------+--------+--------+-------+-----+--------------------+--------------------+\n",
      "|main-captions|  MSRvid|2012test|     24|  2.5|A girl is styling...|A girl is brushin...|\n",
      "|main-captions|  MSRvid|2012test|     33|  3.6|A group of men pl...|A group of boys a...|\n",
      "|main-captions|  MSRvid|2012test|     45|  5.0|One woman is meas...|A woman measures ...|\n",
      "|main-captions|  MSRvid|2012test|     63|  4.2|A man is cutting ...|A man is slicing ...|\n",
      "|main-captions|  MSRvid|2012test|     66|  1.5|A man is playing ...|A man is playing ...|\n",
      "|main-captions|  MSRvid|2012test|     74|  1.8|A woman is cuttin...|A woman is cuttin...|\n",
      "|main-captions|  MSRvid|2012test|     76|  3.5|A man is riding a...|A man is riding a...|\n",
      "|main-captions|  MSRvid|2012test|     82|  2.2|A man is playing ...|A man is playing ...|\n",
      "|main-captions|  MSRvid|2012test|     92|  2.2|A man is playing ...|A lady is playing...|\n",
      "|main-captions|  MSRvid|2012test|     95|1.714|A man is playing ...|A man is playing ...|\n",
      "|main-captions|  MSRvid|2012test|     96|1.714|A man is playing ...|A man is playing ...|\n",
      "|main-captions|  MSRvid|2012test|    100|  5.0|A man is cutting ...|A man cuts an onion.|\n",
      "|main-captions|  MSRvid|2012test|    103|  0.6|   A man is cycling.|   A man is talking.|\n",
      "|main-captions|  MSRvid|2012test|    107|  4.4|A man is slicing ...|A man is cutting ...|\n",
      "|main-captions|  MSRvid|2012test|    124|  2.0|A man is slicing ...|A man is slicing ...|\n",
      "|main-captions|  MSRvid|2012test|    127|  1.8|A man is playing ...|A man is playing ...|\n",
      "|main-captions|  MSRvid|2012test|    128|  4.4|A baby panda goes...|A panda slides do...|\n",
      "|main-captions|  MSRvid|2012test|    134|  3.6|A man is singing ...|A man is playing ...|\n",
      "|main-captions|  MSRvid|2012test|    137|  3.6|A man attacks a w...|A man slaps a woman.|\n",
      "|main-captions|  MSRvid|2012test|    139|  1.2|A man is driving ...|A man is riding a...|\n",
      "+-------------+--------+--------+-------+-----+--------------------+--------------------+\n",
      "only showing top 20 rows\n",
      "\n",
      "+-------------+--------+--------+-------+-----+--------------------+--------------------+\n",
      "|        genre|filename|    year|year_id|score|           sentence1|           sentence2|\n",
      "+-------------+--------+--------+-------+-----+--------------------+--------------------+\n",
      "|main-captions|  MSRvid|2012test|      0|  5.0|A man with a hard...|A man wearing a h...|\n",
      "|main-captions|  MSRvid|2012test|      2| 4.75|A young child is ...|A child is riding...|\n",
      "|main-captions|  MSRvid|2012test|      3|  5.0|A man is feeding ...|The man is feedin...|\n",
      "|main-captions|  MSRvid|2012test|      7|  2.4|A woman is playin...|A man is playing ...|\n",
      "|main-captions|  MSRvid|2012test|      8| 2.75|A woman is playin...|A man is playing ...|\n",
      "|main-captions|  MSRvid|2012test|     10|2.615|A woman is cuttin...|A man is cutting ...|\n",
      "|main-captions|  MSRvid|2012test|     15|  5.0|A man is erasing ...|The man is erasin...|\n",
      "|main-captions|  MSRvid|2012test|     23|2.333|A woman is carryi...|A woman is carryi...|\n",
      "|main-captions|  MSRvid|2012test|     27| 3.75|Three men are pla...|Three men are on ...|\n",
      "|main-captions|  MSRvid|2012test|     36|  5.0|A woman peels a p...|A woman is peelin...|\n",
      "|main-captions|  MSRvid|2012test|     37|  3.2|People are playin...|Men are playing c...|\n",
      "|main-captions|  MSRvid|2012test|     39|1.583|A man is playing ...|A man is playing ...|\n",
      "|main-captions|  MSRvid|2012test|     41|  5.0|The cougar is cha...|A cougar is chasi...|\n",
      "|main-captions|  MSRvid|2012test|     43|  5.0|The man cut down ...|A man chops down ...|\n",
      "|main-captions|  MSRvid|2012test|     49|4.909|The man is playin...|A man is playing ...|\n",
      "|main-captions|  MSRvid|2012test|     51|  0.8|A man is finding ...|A woman is slicin...|\n",
      "|main-captions|  MSRvid|2012test|     60|  2.4|The girl sang int...|The lady sang int...|\n",
      "|main-captions|  MSRvid|2012test|     67|  5.0|A man is climbing...|A man climbs a rope.|\n",
      "|main-captions|  MSRvid|2012test|     79|  4.0|Kittens are eatin...|Kittens are eatin...|\n",
      "|main-captions|  MSRvid|2012test|     88|0.636|  A man is speaking.|  A man is spitting.|\n",
      "+-------------+--------+--------+-------+-----+--------------------+--------------------+\n",
      "only showing top 20 rows\n",
      "\n"
     ]
    }
   ],
   "source": [
    "schema = StructType([\n",
    "    StructField(\"genre\", StringType(), True),\n",
    "    StructField(\"filename\", StringType(), True),\n",
    "    StructField(\"year\", StringType(), True),\n",
    "    StructField(\"year_id\", IntegerType(), True),\n",
    "    StructField(\"score\", FloatType(), True),\n",
    "    StructField(\"sentence1\", StringType(), True),\n",
    "    StructField(\"sentence2\", StringType(), True)])\n",
    "\n",
    "train = spark.read.csv(\"stsbenchmark/sts-train.csv\", sep ='\\t', header=False, schema=schema)\n",
    "test = spark.read.csv(\"stsbenchmark/sts-test.csv\", sep ='\\t', header=False, schema=schema)\n",
    "dev = spark.read.csv(\"stsbenchmark/sts-dev.csv\", sep ='\\t', header=False, schema=schema)\n",
    "\n",
    "train.show()\n",
    "test.show()\n",
    "dev.show()"
   ]
  },
  {
   "cell_type": "markdown",
   "metadata": {},
   "source": [
    "## Normalize score"
   ]
  },
  {
   "cell_type": "code",
   "execution_count": 3,
   "metadata": {},
   "outputs": [],
   "source": [
    "train = train.withColumn(\"score\", col(\"score\") / 5)\n",
    "test = test.withColumn(\"score\", col(\"score\") / 5)\n",
    "dev = dev.withColumn(\"score\", col(\"score\") / 5)"
   ]
  },
  {
   "cell_type": "code",
   "execution_count": 4,
   "metadata": {},
   "outputs": [],
   "source": [
    "import tensorflow as tf\n",
    "import tensorflow_hub as hub\n",
    "import tensorflow_text as text\n",
    "import functools\n",
    "import numpy as np"
   ]
  },
  {
   "cell_type": "code",
   "execution_count": 11,
   "metadata": {},
   "outputs": [
    {
     "name": "stdout",
     "output_type": "stream",
     "text": [
      "Keys       : ['input_mask', 'input_word_ids', 'input_type_ids']\n",
      "Shape      : (1, 128)\n",
      "Word Ids   : [ 101 2023 2003 2107 2019 6429 3185  999  102    0    0    0]\n",
      "Input Mask : [1 1 1 1 1 1 1 1 1 0 0 0]\n",
      "Type Ids   : [0 0 0 0 0 0 0 0 0 0 0 0]\n"
     ]
    }
   ],
   "source": [
    "text_test = ['this is such an amazing movie!']\n",
    "\n",
    "tfhub_handle_preprocess = 'https://tfhub.dev/tensorflow/bert_en_uncased_preprocess/3'\n",
    "\n",
    "preprocessing_layer = hub.KerasLayer(tfhub_handle_preprocess, name='preprocessing')\n",
    "\n",
    "text_preprocessed = preprocessing_layer(text_test)\n",
    "\n",
    "print(f'Keys       : {list(text_preprocessed.keys())}')\n",
    "print(f'Shape      : {text_preprocessed[\"input_word_ids\"].shape}')\n",
    "print(f'Word Ids   : {text_preprocessed[\"input_word_ids\"][0, :12]}')\n",
    "print(f'Input Mask : {text_preprocessed[\"input_mask\"][0, :12]}')\n",
    "print(f'Type Ids   : {text_preprocessed[\"input_type_ids\"][0, :12]}')"
   ]
  },
  {
   "cell_type": "code",
   "execution_count": 19,
   "metadata": {},
   "outputs": [
    {
     "name": "stdout",
     "output_type": "stream",
     "text": [
      "Loaded BERT: https://tfhub.dev/tensorflow/small_bert/bert_en_uncased_L-4_H-512_A-8/1\n",
      "Pooled Outputs Shape:(1, 512)\n",
      "Pooled Outputs Values:[ 0.7626287   0.9928098  -0.18611833  0.3667385   0.1523368   0.65504456\n",
      "  0.9681154  -0.9486271   0.00216172 -0.987773    0.06842685 -0.97630596]\n",
      "Sequence Outputs Shape:(1, 128, 512)\n",
      "Sequence Outputs Values:[[-0.28946376  0.3432126   0.3323155  ...  0.21300781  0.7102078\n",
      "  -0.05771124]\n",
      " [-0.2874204   0.31981033 -0.23018603 ...  0.58455133 -0.21329767\n",
      "   0.7269206 ]\n",
      " [-0.66157013  0.68876886 -0.8743305  ...  0.10877283 -0.26173198\n",
      "   0.47855327]\n",
      " ...\n",
      " [-0.22561157 -0.28925607 -0.07064402 ...  0.47566003  0.83277047\n",
      "   0.40025362]\n",
      " [-0.29824257 -0.2747315  -0.05450503 ...  0.4884973   1.0955352\n",
      "   0.18163386]\n",
      " [-0.44378242  0.00930739  0.07223728 ...  0.17290103  1.1833243\n",
      "   0.07897934]]\n"
     ]
    }
   ],
   "source": [
    "tfhub_handle_encoder = 'https://tfhub.dev/tensorflow/small_bert/bert_en_uncased_L-4_H-512_A-8/1'\n",
    "\n",
    "encoder = hub.KerasLayer(tfhub_handle_encoder, trainable=True, name='BERT_encoder')\n",
    "\n",
    "bert_results = encoder(text_preprocessed)\n",
    "\n",
    "print(f'Loaded BERT: {tfhub_handle_encoder}')\n",
    "#print(bert_results)\n",
    "print(f'Pooled Outputs Shape:{bert_results[\"pooled_output\"].shape}')\n",
    "print(f'Pooled Outputs Values:{bert_results[\"pooled_output\"][0, :12]}')\n",
    "print(f'Sequence Outputs Shape:{bert_results[\"sequence_output\"].shape}')\n",
    "print(f'Sequence Outputs Values:{bert_results[\"sequence_output\"][0, :12]}')"
   ]
  },
  {
   "cell_type": "code",
   "execution_count": 34,
   "metadata": {},
   "outputs": [
    {
     "ename": "TypeError",
     "evalue": "'NoneType' object is not subscriptable",
     "output_type": "error",
     "traceback": [
      "\u001b[0;31m---------------------------------------------------------------------------\u001b[0m",
      "\u001b[0;31mTypeError\u001b[0m                                 Traceback (most recent call last)",
      "\u001b[0;32m<ipython-input-34-017b0eed9b33>\u001b[0m in \u001b[0;36m<module>\u001b[0;34m\u001b[0m\n\u001b[1;32m      8\u001b[0m     \u001b[0;32mreturn\u001b[0m \u001b[0mtf\u001b[0m\u001b[0;34m.\u001b[0m\u001b[0mkeras\u001b[0m\u001b[0;34m.\u001b[0m\u001b[0mModel\u001b[0m\u001b[0;34m(\u001b[0m\u001b[0;34m[\u001b[0m\u001b[0mtext_input\u001b[0m\u001b[0;34m]\u001b[0m\u001b[0;34m,\u001b[0m \u001b[0moutputs\u001b[0m\u001b[0;34m=\u001b[0m\u001b[0mnet\u001b[0m\u001b[0;34m)\u001b[0m\u001b[0;34m\u001b[0m\u001b[0;34m\u001b[0m\u001b[0m\n\u001b[1;32m      9\u001b[0m \u001b[0;34m\u001b[0m\u001b[0m\n\u001b[0;32m---> 10\u001b[0;31m \u001b[0mmodel\u001b[0m \u001b[0;34m=\u001b[0m \u001b[0mtf\u001b[0m\u001b[0;34m.\u001b[0m\u001b[0mkeras\u001b[0m\u001b[0;34m.\u001b[0m\u001b[0mlayers\u001b[0m\u001b[0;34m.\u001b[0m\u001b[0mConcatenate\u001b[0m\u001b[0;34m(\u001b[0m\u001b[0;34m)\u001b[0m\u001b[0;34m(\u001b[0m\u001b[0;34m[\u001b[0m\u001b[0mget_x\u001b[0m\u001b[0;34m(\u001b[0m\u001b[0;34m)\u001b[0m\u001b[0;34m,\u001b[0m \u001b[0mget_x\u001b[0m\u001b[0;34m(\u001b[0m\u001b[0;34m)\u001b[0m\u001b[0;34m]\u001b[0m\u001b[0;34m)\u001b[0m\u001b[0;34m\u001b[0m\u001b[0;34m\u001b[0m\u001b[0m\n\u001b[0m\u001b[1;32m     11\u001b[0m \u001b[0;34m\u001b[0m\u001b[0m\n\u001b[1;32m     12\u001b[0m \u001b[0mbert_raw_result\u001b[0m \u001b[0;34m=\u001b[0m \u001b[0mmodel\u001b[0m\u001b[0;34m(\u001b[0m\u001b[0mtf\u001b[0m\u001b[0;34m.\u001b[0m\u001b[0mconstant\u001b[0m\u001b[0;34m(\u001b[0m\u001b[0mtext_test\u001b[0m\u001b[0;34m)\u001b[0m\u001b[0;34m)\u001b[0m\u001b[0;34m\u001b[0m\u001b[0;34m\u001b[0m\u001b[0m\n",
      "\u001b[0;32m~/.local/lib/python3.8/site-packages/keras/utils/traceback_utils.py\u001b[0m in \u001b[0;36merror_handler\u001b[0;34m(*args, **kwargs)\u001b[0m\n\u001b[1;32m     65\u001b[0m     \u001b[0;32mexcept\u001b[0m \u001b[0mException\u001b[0m \u001b[0;32mas\u001b[0m \u001b[0me\u001b[0m\u001b[0;34m:\u001b[0m  \u001b[0;31m# pylint: disable=broad-except\u001b[0m\u001b[0;34m\u001b[0m\u001b[0;34m\u001b[0m\u001b[0m\n\u001b[1;32m     66\u001b[0m       \u001b[0mfiltered_tb\u001b[0m \u001b[0;34m=\u001b[0m \u001b[0m_process_traceback_frames\u001b[0m\u001b[0;34m(\u001b[0m\u001b[0me\u001b[0m\u001b[0;34m.\u001b[0m\u001b[0m__traceback__\u001b[0m\u001b[0;34m)\u001b[0m\u001b[0;34m\u001b[0m\u001b[0;34m\u001b[0m\u001b[0m\n\u001b[0;32m---> 67\u001b[0;31m       \u001b[0;32mraise\u001b[0m \u001b[0me\u001b[0m\u001b[0;34m.\u001b[0m\u001b[0mwith_traceback\u001b[0m\u001b[0;34m(\u001b[0m\u001b[0mfiltered_tb\u001b[0m\u001b[0;34m)\u001b[0m \u001b[0;32mfrom\u001b[0m \u001b[0;32mNone\u001b[0m\u001b[0;34m\u001b[0m\u001b[0;34m\u001b[0m\u001b[0m\n\u001b[0m\u001b[1;32m     68\u001b[0m     \u001b[0;32mfinally\u001b[0m\u001b[0;34m:\u001b[0m\u001b[0;34m\u001b[0m\u001b[0;34m\u001b[0m\u001b[0m\n\u001b[1;32m     69\u001b[0m       \u001b[0;32mdel\u001b[0m \u001b[0mfiltered_tb\u001b[0m\u001b[0;34m\u001b[0m\u001b[0;34m\u001b[0m\u001b[0m\n",
      "\u001b[0;32m~/.local/lib/python3.8/site-packages/keras/layers/merge.py\u001b[0m in \u001b[0;36mbuild\u001b[0;34m(self, input_shape)\u001b[0m\n\u001b[1;32m    495\u001b[0m   \u001b[0;32mdef\u001b[0m \u001b[0mbuild\u001b[0m\u001b[0;34m(\u001b[0m\u001b[0mself\u001b[0m\u001b[0;34m,\u001b[0m \u001b[0minput_shape\u001b[0m\u001b[0;34m)\u001b[0m\u001b[0;34m:\u001b[0m\u001b[0;34m\u001b[0m\u001b[0;34m\u001b[0m\u001b[0m\n\u001b[1;32m    496\u001b[0m     \u001b[0;31m# Used purely for shape validation.\u001b[0m\u001b[0;34m\u001b[0m\u001b[0;34m\u001b[0m\u001b[0;34m\u001b[0m\u001b[0m\n\u001b[0;32m--> 497\u001b[0;31m     \u001b[0;32mif\u001b[0m \u001b[0;32mnot\u001b[0m \u001b[0misinstance\u001b[0m\u001b[0;34m(\u001b[0m\u001b[0minput_shape\u001b[0m\u001b[0;34m[\u001b[0m\u001b[0;36m0\u001b[0m\u001b[0;34m]\u001b[0m\u001b[0;34m,\u001b[0m \u001b[0mtuple\u001b[0m\u001b[0;34m)\u001b[0m \u001b[0;32mor\u001b[0m \u001b[0mlen\u001b[0m\u001b[0;34m(\u001b[0m\u001b[0minput_shape\u001b[0m\u001b[0;34m)\u001b[0m \u001b[0;34m<\u001b[0m \u001b[0;36m1\u001b[0m\u001b[0;34m:\u001b[0m\u001b[0;34m\u001b[0m\u001b[0;34m\u001b[0m\u001b[0m\n\u001b[0m\u001b[1;32m    498\u001b[0m       raise ValueError(\n\u001b[1;32m    499\u001b[0m           \u001b[0;34m'A `Concatenate` layer should be called on a list of '\u001b[0m\u001b[0;34m\u001b[0m\u001b[0;34m\u001b[0m\u001b[0m\n",
      "\u001b[0;31mTypeError\u001b[0m: 'NoneType' object is not subscriptable"
     ]
    }
   ],
   "source": [
    "def get_x():\n",
    "    text_input = tf.keras.layers.Input(shape=(), dtype=tf.string, name='text')\n",
    "    encoder_inputs = preprocessing_layer(text_input)\n",
    "    outputs = encoder(encoder_inputs)\n",
    "    net = outputs['pooled_output']\n",
    "    #net = tf.keras.layers.GlobalAveragePooling1D()(net)\n",
    "    net = tf.keras.layers.Dense(1, activation=None, name='classifier')(net)\n",
    "    return tf.keras.Model([text_input], outputs=net)\n",
    "\n",
    "#model = tf.keras.layers.Concatenate()([get_x(), get_x()])\n",
    "model = get_x()\n",
    "\n",
    "bert_raw_result = model(tf.constant(text_test))\n",
    "print(tf.sigmoid(bert_raw_result))\n",
    "\n",
    "#tf.keras.utils.plot_model(model)\n",
    "model.summary()\n",
    "\n",
    "#https://www.sbert.net/docs/training/overview.html"
   ]
  },
  {
   "cell_type": "code",
   "execution_count": 35,
   "metadata": {},
   "outputs": [],
   "source": [
    "### IMPORT TOKENIZER ###\n",
    "\n",
    "MAX_SEQUENCE_LENGTH = 300\n",
    "\n",
    "def siamese_bert():\n",
    "    set_seed(33)\n",
    "    \n",
    "    opt = Adam(learning_rate=2e-5)\n",
    "    \n",
    "    id1 = Input((MAX_SEQUENCE_LENGTH,), dtype=tf.int32)\n",
    "    id2 = Input((MAX_SEQUENCE_LENGTH,), dtype=tf.int32)\n",
    "    \n",
    "    mask1 = Input((MAX_SEQUENCE_LENGTH,), dtype=tf.int32)\n",
    "    mask2 = Input((MAX_SEQUENCE_LENGTH,), dtype=tf.int32)\n",
    "    \n",
    "    atn1 = Input((MAX_SEQUENCE_LENGTH,), dtype=tf.int32)\n",
    "    atn2 = Input((MAX_SEQUENCE_LENGTH,), dtype=tf.int32)\n",
    "    \n",
    "    config = BertConfig()\n",
    "    config.output_hidden_states = False # Set to True to obtain hidden states\n",
    "    bert_model = TFBertModel.from_pretrained('bert-base-uncased', config=config)\n",
    "    \n",
    "    embedding1 = bert_model(id1, attention_mask=mask1, token_type_ids=atn1)[0]\n",
    "    embedding2 = bert_model(id2, attention_mask=mask2, token_type_ids=atn2)[0]\n",
    "    \n",
    "    x1 = GlobalAveragePooling1D()(embedding1)\n",
    "    x2 = GlobalAveragePooling1D()(embedding2)\n",
    "    \n",
    "    x = Concatenate()([x1, x2])\n",
    "    x = Dense(64, activation='relu')(x)\n",
    "    x = Dropout(0.2)(x)\n",
    "    out = Dense(len(map_label), activation='softmax')(x)\n",
    "\n",
    "    model = Model(inputs=[id1, mask1, atn1, id2, mask2, atn2], outputs=out)\n",
    "    model.compile(loss='sparse_categorical_crossentropy', optimizer=opt)\n",
    "    \n",
    "    return model"
   ]
  },
  {
   "cell_type": "code",
   "execution_count": null,
   "metadata": {},
   "outputs": [],
   "source": []
  }
 ],
 "metadata": {
  "kernelspec": {
   "display_name": "Python 3",
   "language": "python",
   "name": "python3"
  },
  "language_info": {
   "codemirror_mode": {
    "name": "ipython",
    "version": 3
   },
   "file_extension": ".py",
   "mimetype": "text/x-python",
   "name": "python",
   "nbconvert_exporter": "python",
   "pygments_lexer": "ipython3",
   "version": "3.8.10"
  }
 },
 "nbformat": 4,
 "nbformat_minor": 5
}
