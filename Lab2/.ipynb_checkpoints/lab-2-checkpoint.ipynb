{
 "cells": [
  {
   "cell_type": "markdown",
   "metadata": {
    "id": "ZXAsTICnCOE8"
   },
   "source": [
    "# **LAB-2: Scalable Machine Learning and Deep Learning**\n",
    "\n",
    "## **Paolo Teta & Ralfs Zangis**\n",
    "---\n",
    "**TASK:** Implement **S-BERT** model\n",
    "\n",
    "**Outline:**\n",
    "- Load the dataset\n",
    "- Regression\n",
    "- Classification\n",
    "- Evaluation with STS benchmark dataset (cosine similarity and Spearmean correlation)\n",
    "- Semantic search\n",
    "---"
   ]
  },
  {
   "cell_type": "markdown",
   "metadata": {},
   "source": [
    "**Download and extract the following Google Drive folder:** https://drive.google.com/drive/folders/1SbiN2jpliKi_9B0gsRTKDbMRgsFJTOjV?usp=sharing"
   ]
  },
  {
   "cell_type": "markdown",
   "metadata": {
    "id": "rnSVIDnel6l1"
   },
   "source": [
    "## **Requirements**"
   ]
  },
  {
   "cell_type": "markdown",
   "metadata": {},
   "source": [
    "### Install dependencies"
   ]
  },
  {
   "cell_type": "code",
   "execution_count": 1,
   "metadata": {},
   "outputs": [
    {
     "name": "stdout",
     "output_type": "stream",
     "text": [
      "Requirement already satisfied: sentence_transformers in c:\\users\\utente\\anaconda3\\lib\\site-packages (2.1.0)\n",
      "Requirement already satisfied: numpy in c:\\users\\utente\\anaconda3\\lib\\site-packages (from sentence_transformers) (1.18.5)\n",
      "Requirement already satisfied: scikit-learn in c:\\users\\utente\\anaconda3\\lib\\site-packages (from sentence_transformers) (1.0.1)\n",
      "Requirement already satisfied: torch>=1.6.0 in c:\\users\\utente\\anaconda3\\lib\\site-packages (from sentence_transformers) (1.9.0)\n",
      "Requirement already satisfied: tqdm in c:\\users\\utente\\anaconda3\\lib\\site-packages (from sentence_transformers) (4.62.3)\n",
      "Requirement already satisfied: scipy in c:\\users\\utente\\anaconda3\\lib\\site-packages (from sentence_transformers) (1.7.1)\n",
      "Requirement already satisfied: transformers<5.0.0,>=4.6.0 in c:\\users\\utente\\anaconda3\\lib\\site-packages (from sentence_transformers) (4.13.0)\n",
      "Requirement already satisfied: nltk in c:\\users\\utente\\anaconda3\\lib\\site-packages (from sentence_transformers) (3.6.5)\n",
      "Requirement already satisfied: torchvision in c:\\users\\utente\\anaconda3\\lib\\site-packages (from sentence_transformers) (0.10.0)\n",
      "Requirement already satisfied: sentencepiece in c:\\users\\utente\\anaconda3\\lib\\site-packages (from sentence_transformers) (0.1.96)\n",
      "Requirement already satisfied: huggingface-hub in c:\\users\\utente\\anaconda3\\lib\\site-packages (from sentence_transformers) (0.2.1)\n",
      "Requirement already satisfied: tokenizers>=0.10.3 in c:\\users\\utente\\anaconda3\\lib\\site-packages (from sentence_transformers) (0.10.3)\n",
      "Requirement already satisfied: typing_extensions in c:\\users\\utente\\anaconda3\\lib\\site-packages (from torch>=1.6.0->sentence_transformers) (3.10.0.2)\n",
      "Requirement already satisfied: regex!=2019.12.17 in c:\\users\\utente\\anaconda3\\lib\\site-packages (from transformers<5.0.0,>=4.6.0->sentence_transformers) (2021.8.3)\n",
      "Requirement already satisfied: filelock in c:\\users\\utente\\anaconda3\\lib\\site-packages (from transformers<5.0.0,>=4.6.0->sentence_transformers) (3.3.1)\n",
      "Requirement already satisfied: packaging>=20.0 in c:\\users\\utente\\anaconda3\\lib\\site-packages (from transformers<5.0.0,>=4.6.0->sentence_transformers) (21.0)\n",
      "Requirement already satisfied: sacremoses in c:\\users\\utente\\anaconda3\\lib\\site-packages (from transformers<5.0.0,>=4.6.0->sentence_transformers) (0.0.46)\n",
      "Requirement already satisfied: requests in c:\\users\\utente\\anaconda3\\lib\\site-packages (from transformers<5.0.0,>=4.6.0->sentence_transformers) (2.26.0)\n",
      "Requirement already satisfied: pyyaml>=5.1 in c:\\users\\utente\\anaconda3\\lib\\site-packages (from transformers<5.0.0,>=4.6.0->sentence_transformers) (6.0)\n",
      "Requirement already satisfied: pyparsing>=2.0.2 in c:\\users\\utente\\anaconda3\\lib\\site-packages (from packaging>=20.0->transformers<5.0.0,>=4.6.0->sentence_transformers) (3.0.4)\n",
      "Requirement already satisfied: colorama in c:\\users\\utente\\anaconda3\\lib\\site-packages (from tqdm->sentence_transformers) (0.4.4)\n",
      "Requirement already satisfied: click in c:\\users\\utente\\anaconda3\\lib\\site-packages (from nltk->sentence_transformers) (8.0.3)\n",
      "Requirement already satisfied: joblib in c:\\users\\utente\\anaconda3\\lib\\site-packages (from nltk->sentence_transformers) (1.1.0)\n",
      "Requirement already satisfied: idna<4,>=2.5 in c:\\users\\utente\\anaconda3\\lib\\site-packages (from requests->transformers<5.0.0,>=4.6.0->sentence_transformers) (3.2)\n",
      "Requirement already satisfied: urllib3<1.27,>=1.21.1 in c:\\users\\utente\\anaconda3\\lib\\site-packages (from requests->transformers<5.0.0,>=4.6.0->sentence_transformers) (1.26.7)\n",
      "Requirement already satisfied: charset-normalizer~=2.0.0 in c:\\users\\utente\\anaconda3\\lib\\site-packages (from requests->transformers<5.0.0,>=4.6.0->sentence_transformers) (2.0.4)\n",
      "Requirement already satisfied: certifi>=2017.4.17 in c:\\users\\utente\\anaconda3\\lib\\site-packages (from requests->transformers<5.0.0,>=4.6.0->sentence_transformers) (2021.10.8)\n",
      "Requirement already satisfied: six in c:\\users\\utente\\anaconda3\\lib\\site-packages (from sacremoses->transformers<5.0.0,>=4.6.0->sentence_transformers) (1.16.0)\n",
      "Requirement already satisfied: threadpoolctl>=2.0.0 in c:\\users\\utente\\anaconda3\\lib\\site-packages (from scikit-learn->sentence_transformers) (2.2.0)\n",
      "Requirement already satisfied: pillow>=5.3.0 in c:\\users\\utente\\anaconda3\\lib\\site-packages (from torchvision->sentence_transformers) (8.4.0)\n",
      "Requirement already satisfied: transformers in c:\\users\\utente\\anaconda3\\lib\\site-packages (4.13.0)\n",
      "Requirement already satisfied: regex!=2019.12.17 in c:\\users\\utente\\anaconda3\\lib\\site-packages (from transformers) (2021.8.3)\n",
      "Requirement already satisfied: numpy>=1.17 in c:\\users\\utente\\anaconda3\\lib\\site-packages (from transformers) (1.18.5)\n",
      "Requirement already satisfied: pyyaml>=5.1 in c:\\users\\utente\\anaconda3\\lib\\site-packages (from transformers) (6.0)\n",
      "Requirement already satisfied: requests in c:\\users\\utente\\anaconda3\\lib\\site-packages (from transformers) (2.26.0)\n",
      "Requirement already satisfied: sacremoses in c:\\users\\utente\\anaconda3\\lib\\site-packages (from transformers) (0.0.46)\n",
      "Requirement already satisfied: tqdm>=4.27 in c:\\users\\utente\\anaconda3\\lib\\site-packages (from transformers) (4.62.3)\n",
      "Requirement already satisfied: packaging>=20.0 in c:\\users\\utente\\anaconda3\\lib\\site-packages (from transformers) (21.0)\n",
      "Requirement already satisfied: huggingface-hub<1.0,>=0.1.0 in c:\\users\\utente\\anaconda3\\lib\\site-packages (from transformers) (0.2.1)\n",
      "Requirement already satisfied: filelock in c:\\users\\utente\\anaconda3\\lib\\site-packages (from transformers) (3.3.1)\n",
      "Requirement already satisfied: tokenizers<0.11,>=0.10.1 in c:\\users\\utente\\anaconda3\\lib\\site-packages (from transformers) (0.10.3)\n",
      "Requirement already satisfied: typing-extensions>=3.7.4.3 in c:\\users\\utente\\anaconda3\\lib\\site-packages (from huggingface-hub<1.0,>=0.1.0->transformers) (3.10.0.2)\n",
      "Requirement already satisfied: pyparsing>=2.0.2 in c:\\users\\utente\\anaconda3\\lib\\site-packages (from packaging>=20.0->transformers) (3.0.4)\n",
      "Requirement already satisfied: colorama in c:\\users\\utente\\anaconda3\\lib\\site-packages (from tqdm>=4.27->transformers) (0.4.4)\n",
      "Requirement already satisfied: charset-normalizer~=2.0.0 in c:\\users\\utente\\anaconda3\\lib\\site-packages (from requests->transformers) (2.0.4)\n",
      "Requirement already satisfied: idna<4,>=2.5 in c:\\users\\utente\\anaconda3\\lib\\site-packages (from requests->transformers) (3.2)\n",
      "Requirement already satisfied: urllib3<1.27,>=1.21.1 in c:\\users\\utente\\anaconda3\\lib\\site-packages (from requests->transformers) (1.26.7)\n",
      "Requirement already satisfied: certifi>=2017.4.17 in c:\\users\\utente\\anaconda3\\lib\\site-packages (from requests->transformers) (2021.10.8)\n",
      "Requirement already satisfied: click in c:\\users\\utente\\anaconda3\\lib\\site-packages (from sacremoses->transformers) (8.0.3)\n",
      "Requirement already satisfied: joblib in c:\\users\\utente\\anaconda3\\lib\\site-packages (from sacremoses->transformers) (1.1.0)\n",
      "Requirement already satisfied: six in c:\\users\\utente\\anaconda3\\lib\\site-packages (from sacremoses->transformers) (1.16.0)\n",
      "Requirement already satisfied: tokenizers in c:\\users\\utente\\anaconda3\\lib\\site-packages (0.10.3)\n",
      "Requirement already satisfied: torch in c:\\users\\utente\\anaconda3\\lib\\site-packages (1.9.0)\n",
      "Requirement already satisfied: typing_extensions in c:\\users\\utente\\anaconda3\\lib\\site-packages (from torch) (3.10.0.2)\n",
      "Requirement already satisfied: wget in c:\\users\\utente\\anaconda3\\lib\\site-packages (3.2)\n"
     ]
    }
   ],
   "source": [
    "!pip install sentence_transformers\n",
    "!pip install transformers\n",
    "!pip install tokenizers\n",
    "!pip install torch\n",
    "!pip install wget"
   ]
  },
  {
   "cell_type": "markdown",
   "metadata": {},
   "source": [
    "### Spark"
   ]
  },
  {
   "cell_type": "code",
   "execution_count": 2,
   "metadata": {},
   "outputs": [],
   "source": [
    "from pyspark.sql import SparkSession\n",
    "from pyspark.ml.feature import *\n",
    "from pyspark.sql.functions import *\n",
    "from pyspark.sql.types import *\n",
    "\n",
    "spark = SparkSession.builder.getOrCreate()"
   ]
  },
  {
   "cell_type": "markdown",
   "metadata": {},
   "source": [
    "### ML"
   ]
  },
  {
   "cell_type": "code",
   "execution_count": 3,
   "metadata": {},
   "outputs": [],
   "source": [
    "import tensorflow as tf\n",
    "\n",
    "from tensorflow import keras\n",
    "from tensorflow.keras import layers\n",
    "from tensorflow.keras.layers import Input\n",
    "\n",
    "from sentence_transformers import SentenceTransformer\n",
    "from sentence_transformers import LoggingHandler\n",
    "from sentence_transformers import models, losses, util\n",
    "from sentence_transformers.evaluation import EmbeddingSimilarityEvaluator\n",
    "from sentence_transformers.readers import InputExample\n",
    "\n",
    "from transformers import BertTokenizer, TFBertModel, BertConfig\n",
    "# from transformers import DistilBertTokenizer, DistilBertModel # -> smaller model"
   ]
  },
  {
   "cell_type": "markdown",
   "metadata": {},
   "source": [
    "### Other"
   ]
  },
  {
   "cell_type": "code",
   "execution_count": 90,
   "metadata": {
    "id": "yugvCJ05CMg9"
   },
   "outputs": [],
   "source": [
    "import os\n",
    "import re\n",
    "import csv\n",
    "import wget\n",
    "import json\n",
    "import math\n",
    "import scipy\n",
    "import torch\n",
    "import pickle\n",
    "import string\n",
    "import sklearn\n",
    "\n",
    "import numpy as np\n",
    "import pandas as pd\n",
    "\n",
    "from tokenizers import BertWordPieceTokenizer\n",
    "from torch.utils.data import DataLoader\n",
    "from datetime import datetime"
   ]
  },
  {
   "cell_type": "markdown",
   "metadata": {},
   "source": [
    "---"
   ]
  },
  {
   "cell_type": "markdown",
   "metadata": {
    "id": "BHTmDfTnpiYW"
   },
   "source": [
    "## **REGRESSION**"
   ]
  },
  {
   "cell_type": "markdown",
   "metadata": {
    "id": "DKMoZfeDqHOY"
   },
   "source": [
    "### Loading the datasets"
   ]
  },
  {
   "cell_type": "code",
   "execution_count": 5,
   "metadata": {},
   "outputs": [
    {
     "name": "stdout",
     "output_type": "stream",
     "text": [
      "+-------------+--------+--------+-------+-----+--------------------+--------------------+\n",
      "|        genre|filename|    year|year_id|score|           sentence1|           sentence2|\n",
      "+-------------+--------+--------+-------+-----+--------------------+--------------------+\n",
      "|main-captions|  MSRvid|2012test|      1|  5.0|A plane is taking...|An air plane is t...|\n",
      "|main-captions|  MSRvid|2012test|      4|  3.8|A man is playing ...|A man is playing ...|\n",
      "|main-captions|  MSRvid|2012test|      5|  3.8|A man is spreadin...|A man is spreadin...|\n",
      "|main-captions|  MSRvid|2012test|      6|  2.6|Three men are pla...|Two men are playi...|\n",
      "|main-captions|  MSRvid|2012test|      9| 4.25|A man is playing ...|A man seated is p...|\n",
      "|main-captions|  MSRvid|2012test|     11| 4.25|Some men are figh...|Two men are fight...|\n",
      "|main-captions|  MSRvid|2012test|     12|  0.5|   A man is smoking.|   A man is skating.|\n",
      "|main-captions|  MSRvid|2012test|     13|  1.6|The man is playin...|The man is playin...|\n",
      "|main-captions|  MSRvid|2012test|     14|  2.2|A man is playing ...|A woman is playin...|\n",
      "|main-captions|  MSRvid|2012test|     16|  5.0|A person is throw...|A person throws a...|\n",
      "|main-captions|  MSRvid|2012test|     17|  4.2|The man hit the o...|The man spanked t...|\n",
      "|main-captions|  MSRvid|2012test|     18|  4.6|A woman picks up ...|A woman picks up ...|\n",
      "|main-captions|  MSRvid|2012test|     19|3.867|A man is playing ...|A man is playing ...|\n",
      "|main-captions|  MSRvid|2012test|     20|4.667|A person is foldi...|Someone is foldin...|\n",
      "|main-captions|  MSRvid|2012test|     21|1.667|A man is running ...|A panda dog is ru...|\n",
      "|main-captions|  MSRvid|2012test|     22| 3.75|A dog is trying t...|A dog is trying t...|\n",
      "|main-captions|  MSRvid|2012test|     25|  5.0|The polar bear is...|A polar bear is s...|\n",
      "|main-captions|  MSRvid|2012test|     26|  0.5| A woman is writing.|A woman is swimming.|\n",
      "|main-captions|  MSRvid|2012test|     28|  3.8|A cat is rubbing ...|A cat is rubbing ...|\n",
      "|main-captions|  MSRvid|2012test|     29|  5.0|The man is riding...|A man is riding o...|\n",
      "+-------------+--------+--------+-------+-----+--------------------+--------------------+\n",
      "only showing top 20 rows\n",
      "\n"
     ]
    }
   ],
   "source": [
    "schema = StructType([\n",
    "    StructField(\"genre\", StringType(), True),\n",
    "    StructField(\"filename\", StringType(), True),\n",
    "    StructField(\"year\", StringType(), True),\n",
    "    StructField(\"year_id\", IntegerType(), True),\n",
    "    StructField(\"score\", FloatType(), True),\n",
    "    StructField(\"sentence1\", StringType(), True),\n",
    "    StructField(\"sentence2\", StringType(), True)])\n",
    "\n",
    "train = spark.read.csv(\"./lab2_files/dataset/stsbenchmark/sts-train.csv\", sep ='\\t', header=False, schema=schema)\n",
    "test = spark.read.csv(\"./lab2_files/dataset/stsbenchmark/sts-test.csv\", sep ='\\t', header=False, schema=schema)\n",
    "dev = spark.read.csv(\"./lab2_files/dataset/stsbenchmark/sts-dev.csv\", sep ='\\t', header=False, schema=schema)\n",
    "\n",
    "train.show()"
   ]
  },
  {
   "cell_type": "markdown",
   "metadata": {},
   "source": [
    "### Normalize"
   ]
  },
  {
   "cell_type": "code",
   "execution_count": 6,
   "metadata": {},
   "outputs": [
    {
     "name": "stdout",
     "output_type": "stream",
     "text": [
      "+-------+--------------------+\n",
      "|summary|               label|\n",
      "+-------+--------------------+\n",
      "|  count|                1500|\n",
      "|   mean|-0.05443697837591158|\n",
      "| stddev|  0.6001942581590352|\n",
      "|    min|                -1.0|\n",
      "|    max|                 1.0|\n",
      "+-------+--------------------+\n",
      "\n"
     ]
    }
   ],
   "source": [
    "train = train.withColumn(\"label\", col(\"score\")/2.5-1)\n",
    "test = test.withColumn(\"label\", col(\"score\")/2.5-1)\n",
    "dev = dev.withColumn(\"label\", col(\"score\")/2.5-1)\n",
    "\n",
    "dev.select(\"label\").describe().show()"
   ]
  },
  {
   "cell_type": "markdown",
   "metadata": {},
   "source": [
    "### Fill NAN"
   ]
  },
  {
   "cell_type": "code",
   "execution_count": 8,
   "metadata": {},
   "outputs": [],
   "source": [
    "train = train.na.fill(value=\"\",subset=[\"sentence1\", \"sentence2\"])\n",
    "test = test.na.fill(value=\"\",subset=[\"sentence1\", \"sentence2\"])\n",
    "dev = dev.na.fill(value=\"\",subset=[\"sentence1\", \"sentence2\"])"
   ]
  },
  {
   "cell_type": "markdown",
   "metadata": {},
   "source": [
    "### Create samples"
   ]
  },
  {
   "cell_type": "code",
   "execution_count": 9,
   "metadata": {},
   "outputs": [],
   "source": [
    "def CreatInputExampleList(df):\n",
    "    samples = []\n",
    "    for index, row in df.iterrows():\n",
    "        input_example = InputExample(texts=[row['sentence1'], row['sentence2']], label=row['label'])\n",
    "        samples.append(input_example)\n",
    "    return samples"
   ]
  },
  {
   "cell_type": "code",
   "execution_count": 10,
   "metadata": {
    "id": "wFbZbwrhAmQf"
   },
   "outputs": [],
   "source": [
    "df_train = train.select(\"sentence1\", \"sentence2\", \"label\").toPandas()\n",
    "\n",
    "train_samples = CreatInputExampleList(df_train)"
   ]
  },
  {
   "cell_type": "code",
   "execution_count": 11,
   "metadata": {
    "id": "NqwOffUzOCIh"
   },
   "outputs": [],
   "source": [
    "df_test = test.select(\"sentence1\", \"sentence2\", \"label\").toPandas()\n",
    "\n",
    "test_samples = CreatInputExampleList(df_test)"
   ]
  },
  {
   "cell_type": "code",
   "execution_count": 12,
   "metadata": {
    "id": "s2u5HRNUN9Po"
   },
   "outputs": [],
   "source": [
    "df_dev = dev.select(\"sentence1\", \"sentence2\", \"label\").toPandas()\n",
    "\n",
    "dev_samples = CreatInputExampleList(df_dev)"
   ]
  },
  {
   "cell_type": "markdown",
   "metadata": {
    "id": "Fc11KhHR2nH4"
   },
   "source": [
    "### **Define the model**"
   ]
  },
  {
   "cell_type": "code",
   "execution_count": 13,
   "metadata": {
    "id": "RozMxge52jC7"
   },
   "outputs": [
    {
     "data": {
      "application/vnd.jupyter.widget-view+json": {
       "model_id": "587dcc2bc4e74fc79754a95665c9b3e2",
       "version_major": 2,
       "version_minor": 0
      },
      "text/plain": [
       "Downloading:   0%|          | 0.00/570 [00:00<?, ?B/s]"
      ]
     },
     "metadata": {},
     "output_type": "display_data"
    },
    {
     "data": {
      "application/vnd.jupyter.widget-view+json": {
       "model_id": "82ac84d92b294a458bf802504f8a68e7",
       "version_major": 2,
       "version_minor": 0
      },
      "text/plain": [
       "Downloading:   0%|          | 0.00/420M [00:00<?, ?B/s]"
      ]
     },
     "metadata": {},
     "output_type": "display_data"
    },
    {
     "name": "stderr",
     "output_type": "stream",
     "text": [
      "Some weights of the model checkpoint at bert-base-uncased were not used when initializing BertModel: ['cls.predictions.bias', 'cls.predictions.transform.dense.bias', 'cls.seq_relationship.weight', 'cls.predictions.transform.LayerNorm.bias', 'cls.predictions.transform.dense.weight', 'cls.seq_relationship.bias', 'cls.predictions.decoder.weight', 'cls.predictions.transform.LayerNorm.weight']\n",
      "- This IS expected if you are initializing BertModel from the checkpoint of a model trained on another task or with another architecture (e.g. initializing a BertForSequenceClassification model from a BertForPreTraining model).\n",
      "- This IS NOT expected if you are initializing BertModel from the checkpoint of a model that you expect to be exactly identical (initializing a BertForSequenceClassification model from a BertForSequenceClassification model).\n"
     ]
    },
    {
     "data": {
      "application/vnd.jupyter.widget-view+json": {
       "model_id": "ac52db52a6ff41d6b19d0f8f94904224",
       "version_major": 2,
       "version_minor": 0
      },
      "text/plain": [
       "Downloading:   0%|          | 0.00/28.0 [00:00<?, ?B/s]"
      ]
     },
     "metadata": {},
     "output_type": "display_data"
    },
    {
     "data": {
      "application/vnd.jupyter.widget-view+json": {
       "model_id": "a99d8334167f456d8dee3f9ec286e0d0",
       "version_major": 2,
       "version_minor": 0
      },
      "text/plain": [
       "Downloading:   0%|          | 0.00/226k [00:00<?, ?B/s]"
      ]
     },
     "metadata": {},
     "output_type": "display_data"
    },
    {
     "data": {
      "application/vnd.jupyter.widget-view+json": {
       "model_id": "0f32788e8902416397dd4cf673ca5883",
       "version_major": 2,
       "version_minor": 0
      },
      "text/plain": [
       "Downloading:   0%|          | 0.00/455k [00:00<?, ?B/s]"
      ]
     },
     "metadata": {},
     "output_type": "display_data"
    }
   ],
   "source": [
    "model_name = 'bert-base-uncased' # original model\n",
    "# model_name = 'distilbert-base-uncased' # smaller model\n",
    "word_embedding = models.Transformer(model_name)\n",
    "\n",
    "# Set mean-pooling strategy\n",
    "pooling = models.Pooling(word_embedding.get_word_embedding_dimension(),\n",
    "                         pooling_mode_mean_tokens=True,\n",
    "                         pooling_mode_cls_token=False,\n",
    "                         pooling_mode_max_tokens=False)\n",
    "\n",
    "model = SentenceTransformer(modules=[word_embedding, pooling])"
   ]
  },
  {
   "cell_type": "code",
   "execution_count": 15,
   "metadata": {},
   "outputs": [],
   "source": [
    "# train_batch_size = 16\n",
    "train_batch_size = 32 # try to speed up the training\n",
    "\n",
    "learn_rate = 2e-5\n",
    "num_epochs = 1"
   ]
  },
  {
   "cell_type": "markdown",
   "metadata": {
    "id": "tNI9URmg4vCk"
   },
   "source": [
    "### Load the training set and define the loss function as the cosine similarity"
   ]
  },
  {
   "cell_type": "code",
   "execution_count": 16,
   "metadata": {
    "id": "iht5w4HJlhtt"
   },
   "outputs": [],
   "source": [
    "train_dataloader = DataLoader(train_samples, shuffle=True, batch_size=train_batch_size)\n",
    "\n",
    "train_loss = losses.CosineSimilarityLoss(model=model)"
   ]
  },
  {
   "cell_type": "markdown",
   "metadata": {
    "id": "NYZlyR-i6z3j"
   },
   "source": [
    "### Define the evaluator for the sentence embeddings"
   ]
  },
  {
   "cell_type": "code",
   "execution_count": 17,
   "metadata": {
    "id": "JchPxNSDT2f9"
   },
   "outputs": [],
   "source": [
    "evaluator = EmbeddingSimilarityEvaluator.from_input_examples(dev_samples, name='sts-dev')"
   ]
  },
  {
   "cell_type": "markdown",
   "metadata": {
    "id": "yQ2IPb4y7CVk"
   },
   "source": [
    "### Set 10% of training dataset for warm-up"
   ]
  },
  {
   "cell_type": "code",
   "execution_count": 18,
   "metadata": {
    "id": "g-nlK2kmUCve"
   },
   "outputs": [],
   "source": [
    "warmup_steps = math.ceil(len(train_dataloader) * num_epochs * 0.1)"
   ]
  },
  {
   "cell_type": "markdown",
   "metadata": {
    "id": "0jrrFM8r7Ly9"
   },
   "source": [
    "### **Training**"
   ]
  },
  {
   "cell_type": "code",
   "execution_count": 22,
   "metadata": {
    "colab": {
     "base_uri": "https://localhost:8080/",
     "height": 81,
     "referenced_widgets": [
      "ba25da94c38e4755a394b057a5c7fd58",
      "833c168297d84ac0adac52a246c7cd49",
      "87a780ce24484359a7df518b19024b55",
      "b14d88f448dd46d19900286169697c6a",
      "fba14dc5ff994d579f0c1b640f10e587",
      "884aea71873248ce9a0f6f0237156800",
      "3dc42c11231c4537b0d96b028dada121",
      "ef70e0a68f7b4d6398a45f52f3380abe",
      "dcf03c9bc746470ebf280843d01f02e3",
      "d186ee1f70684b358348b774cba9f1c0",
      "737941777520426aa5a2126df88ce26f",
      "84484e726b194077bf39b4003fdab2e6",
      "b157705019ac41a39d0dd28509291261",
      "76147d34b934402ebe6fa68a93fb236f",
      "70a9a5ef2f3f4130aaf3f2a30dd00524",
      "f788cf300a3c4264a5851508c72cf733",
      "8af6428bfda047cb952080c8b08210e3",
      "cfa3e34dfb784301ae5e2f22cba0342f",
      "aef56e174df5439695847fbbbd175d49",
      "7c308aae6c3e4a9eadf62c9c6b712244",
      "e623dfe017b940208dd7caa9f6964935",
      "b15f8a46ce6a40dc9296ad15e21e13d1"
     ]
    },
    "id": "TxEXdHtiUDXk",
    "outputId": "bcf7f893-b235-4ff4-fc68-cf01b82b1f16"
   },
   "outputs": [],
   "source": [
    "model_location = './lab2_files/saved_models/training_sts'\n",
    "\n",
    "if os.path.exists(model_location):\n",
    "    model = SentenceTransformer(model_location)\n",
    "else:\n",
    "    model.fit(train_objectives=[(train_dataloader, train_loss)],\n",
    "                optimizer_class=torch.optim.Adam,\n",
    "                optimizer_params={'lr': learn_rate},\n",
    "                evaluator=evaluator,\n",
    "                epochs=num_epochs,\n",
    "                evaluation_steps=1000,\n",
    "                warmup_steps=warmup_steps,\n",
    "                output_path=model_location)"
   ]
  },
  {
   "cell_type": "markdown",
   "metadata": {
    "id": "foas3A_I981K"
   },
   "source": [
    "### **Evaluation**"
   ]
  },
  {
   "cell_type": "markdown",
   "metadata": {},
   "source": [
    "### Evaluation on STS benchmark dataset"
   ]
  },
  {
   "cell_type": "code",
   "execution_count": 21,
   "metadata": {
    "colab": {
     "base_uri": "https://localhost:8080/"
    },
    "id": "Qv93RESm_tyi",
    "outputId": "20bec7b0-86ce-409e-8c75-fdf420de9f75"
   },
   "outputs": [
    {
     "name": "stdout",
     "output_type": "stream",
     "text": [
      "Cosine similarity with the sentence_transformers library =  0.4818116487039285\n"
     ]
    }
   ],
   "source": [
    "evaluation_location = \"./lab2_files/regression_results\"\n",
    "\n",
    "if not os.path.exists(evaluation_location):\n",
    "    os.makedirs(evaluation_location)\n",
    "\n",
    "test_eval = EmbeddingSimilarityEvaluator.from_input_examples(test_samples, batch_size=train_batch_size, name='sts-test')\n",
    "c_s = test_eval(model, output_path=evaluation_location)\n",
    "print('Cosine similarity with the sentence_transformers library = ', c_s)"
   ]
  },
  {
   "cell_type": "markdown",
   "metadata": {
    "id": "axyd6hqZ_a5p"
   },
   "source": [
    "### Embedding sentences"
   ]
  },
  {
   "cell_type": "code",
   "execution_count": 23,
   "metadata": {
    "id": "Vy0C_4qm_tsR"
   },
   "outputs": [],
   "source": [
    "embed_1 = model.encode(df_test['sentence1'], convert_to_numpy=True, batch_size=train_batch_size)\n",
    "embed_2 = model.encode(df_test['sentence2'], convert_to_numpy=True, batch_size=train_batch_size)"
   ]
  },
  {
   "cell_type": "markdown",
   "metadata": {
    "id": "iv3qFiDeB3uS"
   },
   "source": [
    "### Compute the cosine similarity\n",
    "\n",
    "Mathematical relationship: *cosine_similarity = 1 - cosine_distance*"
   ]
  },
  {
   "cell_type": "code",
   "execution_count": 24,
   "metadata": {
    "colab": {
     "base_uri": "https://localhost:8080/"
    },
    "id": "Y9oux_4b_tk_",
    "outputId": "18e8a104-0908-4930-a5c6-148a032eae80"
   },
   "outputs": [
    {
     "name": "stdout",
     "output_type": "stream",
     "text": [
      "Cosine similarity =  [ 0.4603076   0.8991027   0.5754015  ...  0.04050708  0.27599466\n",
      " -0.03714991]\n"
     ]
    }
   ],
   "source": [
    "cos_sim = 1 - sklearn.metrics.pairwise.paired_cosine_distances(embed_1, embed_2)\n",
    "print('Cosine similarity = ', cos_sim)"
   ]
  },
  {
   "cell_type": "markdown",
   "metadata": {
    "id": "U4d__O86B9DB"
   },
   "source": [
    "### Spearmean correlation coefficient"
   ]
  },
  {
   "cell_type": "code",
   "execution_count": 25,
   "metadata": {
    "colab": {
     "base_uri": "https://localhost:8080/"
    },
    "id": "oVziirO7-vHR",
    "outputId": "9e554495-c993-4c05-8770-16f77ed256bf"
   },
   "outputs": [
    {
     "name": "stdout",
     "output_type": "stream",
     "text": [
      "Spearmean correlation coefficient =  0.5624506124304559\n"
     ]
    }
   ],
   "source": [
    "spr_corr = scipy.stats.spearmanr(cos_sim, df_test['label'])\n",
    "print('Spearmean correlation coefficient = ', spr_corr[0])"
   ]
  },
  {
   "cell_type": "markdown",
   "metadata": {
    "id": "XW3C-qqGIcpc"
   },
   "source": [
    "**Comment:** the two results match each other"
   ]
  },
  {
   "cell_type": "markdown",
   "metadata": {
    "id": "fAnrAjHCEMqb"
   },
   "source": [
    "---"
   ]
  },
  {
   "cell_type": "markdown",
   "metadata": {
    "id": "MAUh76sD99Y8"
   },
   "source": [
    "## **CLASSIFICATION**"
   ]
  },
  {
   "cell_type": "markdown",
   "metadata": {},
   "source": [
    "### Setup"
   ]
  },
  {
   "cell_type": "code",
   "execution_count": 33,
   "metadata": {
    "colab": {
     "base_uri": "https://localhost:8080/"
    },
    "id": "RixFoG2q3EAV",
    "outputId": "0fa13f5c-ae99-44d8-aea1-64bbb9ae9c4c"
   },
   "outputs": [],
   "source": [
    "if not os.path.exists('./lab2_files/dataset/snli'):\n",
    "    print('Downloading dataset ...')\n",
    "    wget.download('https://nlp.stanford.edu/projects/snli/snli_1.0.zip', './snli.zip')\n",
    "    !unzip snli.zip"
   ]
  },
  {
   "cell_type": "markdown",
   "metadata": {},
   "source": [
    "### Loading the datasets"
   ]
  },
  {
   "cell_type": "code",
   "execution_count": 34,
   "metadata": {},
   "outputs": [],
   "source": [
    "train_class_path = './lab2_files/dataset/snli/snli_1.0_train.jsonl'\n",
    "train_class = spark.read.json(train_class_path)\n",
    "\n",
    "test_class_path = './lab2_files/dataset/snli/snli_1.0_test.jsonl'\n",
    "test_class = spark.read.json(test_class_path)\n",
    "\n",
    "dev_class_path = './lab2_files/dataset/snli/snli_1.0_dev.jsonl'\n",
    "dev_class = spark.read.json(dev_class_path)"
   ]
  },
  {
   "cell_type": "markdown",
   "metadata": {},
   "source": [
    "### StringIndexer"
   ]
  },
  {
   "cell_type": "code",
   "execution_count": 41,
   "metadata": {},
   "outputs": [],
   "source": [
    "indexer = StringIndexer(inputCol=\"gold_label\", outputCol=\"label\")"
   ]
  },
  {
   "cell_type": "markdown",
   "metadata": {},
   "source": [
    "### Create samples"
   ]
  },
  {
   "cell_type": "code",
   "execution_count": 43,
   "metadata": {},
   "outputs": [],
   "source": [
    "def CreatClassSamples(df):\n",
    "    df = df.filter(col(\"gold_label\") != \"-\")\n",
    "    df = indexer.fit(df).transform(df)\n",
    "    df = df.withColumn(\"label\", col(\"label\").cast('int'))\n",
    "\n",
    "    df_class = df.select(\"sentence1\", \"sentence2\", \"label\").toPandas()\n",
    "\n",
    "    samples = CreatInputExampleList(df_class)\n",
    "    return samples"
   ]
  },
  {
   "cell_type": "code",
   "execution_count": 44,
   "metadata": {
    "id": "afHN7VUd66aF"
   },
   "outputs": [],
   "source": [
    "train_class_samples = CreatClassSamples(train_class)\n",
    "test_class_samples = CreatClassSamples(test_class)\n",
    "dev_class_samples = CreatClassSamples(dev_class)"
   ]
  },
  {
   "cell_type": "markdown",
   "metadata": {},
   "source": [
    "### Load the training set and define the loss function as the cosine similarity¶"
   ]
  },
  {
   "cell_type": "code",
   "execution_count": 67,
   "metadata": {
    "id": "Ag3lU3dc_vWv"
   },
   "outputs": [],
   "source": [
    "train_dataloader_cl = DataLoader(train_class_samples, shuffle=True, batch_size=train_batch_size)\n",
    "\n",
    "num_lables = test_class.select('gold_label').distinct().count() - 1\n",
    "\n",
    "train_loss_cl = losses.SoftmaxLoss(model=model, sentence_embedding_dimension=model.get_sentence_embedding_dimension(), num_labels=num_lables)"
   ]
  },
  {
   "cell_type": "markdown",
   "metadata": {},
   "source": [
    "### Define the evaluator for the sentence embeddings"
   ]
  },
  {
   "cell_type": "code",
   "execution_count": 68,
   "metadata": {
    "id": "kG1JbqW5_vTn"
   },
   "outputs": [],
   "source": [
    "evaluator_cl = EmbeddingSimilarityEvaluator.from_input_examples(dev_class_samples, batch_size=train_batch_size, name='snli-dev')"
   ]
  },
  {
   "cell_type": "markdown",
   "metadata": {},
   "source": [
    "### Set 10% of training dataset for warm-up"
   ]
  },
  {
   "cell_type": "code",
   "execution_count": 70,
   "metadata": {
    "id": "5vBMSbRE8ReU"
   },
   "outputs": [],
   "source": [
    "warmup_steps_cl = math.ceil(len(train_dataloader_cl) * num_epochs * 0.1)"
   ]
  },
  {
   "cell_type": "markdown",
   "metadata": {},
   "source": [
    "### **Training**"
   ]
  },
  {
   "cell_type": "code",
   "execution_count": 71,
   "metadata": {
    "colab": {
     "base_uri": "https://localhost:8080/",
     "height": 81,
     "referenced_widgets": [
      "75ca2c40fa0b47588ed204c33ed63bc9",
      "f5ffa81e87b8428bb524be88c8b0369a",
      "7b11724581524a3da18e379bc4b929aa",
      "9650eb9ca49046ea9708b207d89303e4",
      "c2d7261b441a4d53be05ce37f9071d19",
      "eb7c496d8d1d417090528f61f6ec0bc0",
      "5239e03afc66470dbf11a5cbe2988690",
      "ffe68cc84da141449cd72273a58fbcc0",
      "fb49780850d54bd984164e181cc44212",
      "f26f492d329944d4a04e55034fcf4a22",
      "b08dbec935b04861ba063c2ecbfa8a5e",
      "396c91f6e19c42ec85becb2044f8f94b",
      "9fcb49816ac7452d95ac2899cb679a9b",
      "682fbd4aaa9a480c811e5eacfefaaf07",
      "9659a65cebe3431b82e228dd3a069a17",
      "3045b70d29704436b0cd9927cd1289a4",
      "943e6156d3b648538cad9904fcc0f4b8",
      "4ef5e3513ca041088f4f21d800963492",
      "5fd11a3c78c64d03adc69700723abb51",
      "7db9afff19e34fc6815bab82abe3ac05",
      "f017b1669b7343e480b0cd040fd31e9d",
      "869b1898464e4af89a27d14be889b952"
     ]
    },
    "id": "_ow0P5N98RbU",
    "outputId": "67e6acd9-5acc-4252-a3e5-d0fc18223b99"
   },
   "outputs": [],
   "source": [
    "model_class_location = './lab2_files/saved_models/training_snli'\n",
    "\n",
    "if os.path.exists(model_class_location):\n",
    "    model = SentenceTransformer(model_class_location)\n",
    "else:\n",
    "    model.fit(train_objectives=[(train_dataloader_cl, train_loss_cl)],\n",
    "                optimizer_class=torch.optim.Adam,\n",
    "                optimizer_params={'lr': learn_rate},\n",
    "                evaluator=evaluator_cl,\n",
    "                epochs=num_epochs,\n",
    "                evaluation_steps=1000,\n",
    "                warmup_steps=warmup_steps_cl,\n",
    "                output_path=model_class_location)"
   ]
  },
  {
   "cell_type": "markdown",
   "metadata": {},
   "source": [
    "### **Evaluation**"
   ]
  },
  {
   "cell_type": "markdown",
   "metadata": {
    "id": "4f8qHUIwl_-F"
   },
   "source": [
    "### Evaluation on SNLI dataset (with library)"
   ]
  },
  {
   "cell_type": "code",
   "execution_count": 72,
   "metadata": {
    "id": "gxvA9iEe8RX2"
   },
   "outputs": [
    {
     "name": "stdout",
     "output_type": "stream",
     "text": [
      "Cosine similarity with the sentence_transformers library =  -0.1377429903577867\n"
     ]
    }
   ],
   "source": [
    "evaluation_class_location = \"./lab2_files/classification_results\"\n",
    "\n",
    "if not os.path.exists(evaluation_class_location):\n",
    "    os.makedirs(evaluation_class_location)\n",
    "\n",
    "test_eval_cl = EmbeddingSimilarityEvaluator.from_input_examples(test_class_samples, batch_size=train_batch_size, name='snli-test')\n",
    "c_s_cl = test_eval_cl(model, output_path=evaluation_class_location)\n",
    "print('Cosine similarity with the sentence_transformers library = ', c_s_cl)"
   ]
  },
  {
   "cell_type": "markdown",
   "metadata": {
    "id": "C11EGRhZmgXp"
   },
   "source": [
    "### Evaluation on SNLI (no library)"
   ]
  },
  {
   "cell_type": "code",
   "execution_count": 78,
   "metadata": {
    "id": "YQpeWNY_8t4w"
   },
   "outputs": [],
   "source": [
    "embed_1_snli = model.encode(test_class['sentence1'], convert_to_numpy=True, batch_size=train_batch_size)\n",
    "embed_2_snli = model.encode(test_class['sentence2'], convert_to_numpy=True, batch_size=train_batch_size)"
   ]
  },
  {
   "cell_type": "markdown",
   "metadata": {},
   "source": [
    "### Compute the cosine similarity"
   ]
  },
  {
   "cell_type": "code",
   "execution_count": 80,
   "metadata": {
    "id": "aCWW2Jeo8t1C"
   },
   "outputs": [
    {
     "ename": "ValueError",
     "evalue": "Expected 2D array, got 1D array instead:\narray=[-0.7831247   0.4549554  -0.18050326 -0.8834193  -0.98975205 -0.0218299\n -0.1821609   0.04240327 -1.1159163   0.06437395  0.31649387 -0.45213908\n -0.4557953   0.49470592 -0.02979326  0.05826461  0.62036836 -0.05542984\n -0.10952187 -0.25751415  0.9380432   0.33971757 -0.44566312  0.07531576\n  0.85864913 -0.57405424 -0.1338306  -1.3226908  -0.3511453  -0.17811999\n  0.21194182 -0.38449562  0.42868    -0.08594999  0.8289736  -0.64386374\n -0.18183857  0.3092249   0.36962035 -0.27134442  0.13359241 -0.21066087\n  0.5202685   0.37361345 -0.34524313 -0.11992995  0.14197494  0.30954283\n -0.00807978  0.52306396 -0.94205606  0.30471778 -0.01529409 -0.48810443\n -0.08152298 -0.0339485  -0.4450692   0.31064188  0.04414835  0.15557396\n  1.3304791  -0.26838523 -0.6801238  -0.7364513   1.2000388  -0.01003959\n -0.30181155  0.07708559  0.13994446  1.3146102  -0.3571118  -0.32402343\n -0.2541786   0.01179093  0.20092848  0.6005711   0.08815725 -0.30331615\n  0.4100165  -0.32352248 -0.5901844  -0.19379653 -0.3521417   0.4322775\n  0.55751115  0.1056645   0.7455519  -0.37019223  0.28208652 -0.744493\n  0.2830272  -0.53009224 -0.8056808  -0.41483474 -0.21288976  0.70457834\n  0.15732554  0.17905198 -0.6999462   0.17951746 -1.2701101  -0.00270276\n  0.7244381   0.45466563  0.9737931  -0.22577323 -0.5089376  -0.0136077\n -0.3086429   0.27535886 -0.24914995 -0.7106227  -1.444071    0.92903984\n  0.05487944  1.0545408  -0.8219484  -0.62886024  0.46186057 -0.42175123\n -0.44145364  0.1576028   0.00864165  1.090139   -0.59979445  0.21223976\n -0.9308154   0.0856081  -0.24756989  0.9970091   0.06185905  0.9268754\n  0.49436432 -1.0598464  -0.23198377 -0.47363144 -0.00972698  0.16779034\n -0.9448743  -0.62149507  0.5562212   0.19010971  0.87349933 -1.0969161\n -0.48384476  0.42941508 -0.08937488  0.63821864 -0.94654596  0.00361431\n  0.27514383 -1.0901325   0.35941228 -0.57082725 -0.311739   -0.01310173\n -0.25297558 -0.7269698  -0.1532437  -0.5518305   0.37630174  0.78737664\n  0.1468086   0.954231   -0.54268324  0.4465298   0.42415088 -0.5621667\n  0.07995196 -0.11689647  0.6023722   0.8355031   0.57060164  0.4919674\n -0.48707622  0.2514777   0.8667168   0.07465694  0.11540522 -1.3838522\n  0.31772575 -0.27807823 -0.0756032   0.02697775  0.4456535   1.22091\n  0.49712935 -0.27934468  0.10304072 -0.60409933  0.30037257  0.29814526\n -0.5732626  -0.30007553  0.7611982   0.59587115  0.2357281   0.47951442\n  0.16337685  0.7662655   0.8838191   0.72412264 -0.04923657 -0.45732212\n -0.21223846 -0.416666    0.26764712  0.47501573 -1.2509868   0.76457834\n -0.07822176  0.33040756  0.36590162  0.15104263 -0.37334952 -0.49499977\n -0.60378134 -0.05088066 -0.5617619   0.0639093  -0.8398713  -0.1601849\n  0.9493454  -0.02085742 -0.6263782  -1.7588776   0.28049543 -0.26750582\n  0.99728876  0.09306018 -0.19671239 -0.75060385 -0.01367231 -0.6046673\n -0.35341462  0.36312115  0.5143022   0.3769524   0.72487384  0.02830217\n -0.54683536  0.00513171 -0.40902573 -0.35768923 -0.20567724 -0.2932124\n  0.19304603 -0.03033053 -0.7644177   0.35386488  0.15109062  0.46920228\n  0.03437784 -1.0928292   0.533508    0.15781385  0.40593362  0.38977796\n  0.96316195 -0.08449594 -0.9100848   0.03319896  0.3560101   0.03078845\n  0.52296937 -1.0131797  -0.44469333  0.12401899  0.3803895   0.08035349\n -0.22945185  0.09895956  0.03472495  0.7523914  -0.7749506  -1.1778642\n -0.38335267  0.5172255  -0.10754416 -0.44569844  0.28316873  0.30999544\n  0.9651786  -0.50870407 -0.22039308 -0.4897633  -0.30432355  0.40223196\n -0.3288588  -0.5975868  -0.40012288  0.6970961  -0.78364885  0.28544655\n  0.09711263  0.39220405 -0.806355   -0.63148814  0.72552764  0.08586186\n  0.06718839  0.6338189   0.22123516 -0.05764933 -2.1721363   0.5082889\n -0.29500902 -0.6727066   0.19791624  0.19831894  0.5625429  -0.5918427\n  0.18433866  0.04146859 -0.21778525  0.6230871   0.09942722 -0.5382171\n -0.05951116 -0.0985394   0.04473936 -0.16288911 -0.20978144  0.7095699\n  0.11621457  0.1405555  -0.3633554   0.25576356  0.31386337  0.18211842\n  0.25421384 -0.37374687  0.49710804  1.3289548  -0.41739324  0.0562719\n -0.21811606  0.06575476 -0.1676127  -0.4947582   0.18883754 -0.50352246\n -0.21987972  0.19633278  0.7234521   0.3144814   0.01246422 -0.02902675\n  0.21711689 -0.12333865  0.20177928 -1.6857203   0.27118605  0.06852977\n -0.15343282 -0.8305331   0.18763074 -0.13328019 -0.4587462   0.02864494\n -0.87058127 -0.2937329   0.6881531   0.3307746   0.3762514   1.4012731\n  0.30138743 -0.554641    0.4389571   0.21608123 -0.41143113 -0.9614658\n -0.14497513  0.3604532  -0.25247183  0.40810648  0.09588596  0.8067373\n -0.08269796 -0.5083213  -0.60871065 -0.2909327   0.65865386 -0.23055255\n  0.08655963 -0.0986428  -0.51387477 -0.532319   -0.7925604  -0.9992298\n -0.53878874 -0.02746501 -0.08867235  0.505254    0.4450323   0.5214394\n -1.5239617  -0.24086305 -0.15387812 -0.15475808  1.1068841   1.8726729\n  0.28845948 -1.1222175   0.6165806   0.54404837  0.5093029  -1.2194346\n -0.47018772 -0.26070893  0.20161259 -0.76475865 -1.1009752   0.8197907\n -1.6616334   0.8494746   0.6788552  -0.16963978  0.21068478 -0.04977551\n  0.30071118 -0.46921456 -0.34741682  0.5329776  -0.41189724  0.5922168\n  0.12271054 -0.3864319  -0.67494524  0.05643508 -0.7232486  -0.00710411\n -0.863828    0.8078726  -0.42112383  0.553384   -1.4400452  -0.03101581\n -0.3583298   0.11489075  0.11917315  0.5608795  -0.27480987  0.00665027\n  0.24354437  0.62742335  0.5002992  -0.38958192  0.27269188 -0.37567702\n  0.02537226 -0.43142834  0.76348364  0.24704854 -0.70275366 -0.4711464\n -0.9000859   0.5306059   0.5176495  -0.20388578 -0.48402828 -0.60286635\n  0.08022622 -0.51303     0.3364229   0.02316346  0.30087554 -0.21415831\n -0.6753079   0.43988153  1.2168015   0.03377174 -0.03149474 -0.21040584\n  0.4680967  -0.44967505 -0.88095003 -0.19206512  0.307644   -0.20323707\n -0.41895768  0.33031452  0.4962698  -0.20284122  0.48529485  0.02998609\n  0.12040221  0.8199991   0.20279793 -0.7489592  -0.9146697  -0.3306501\n -1.0789917   0.39964154 -0.4030369   0.20468223  0.18514366 -1.0527656\n -0.28656876 -1.1453272   0.43770844  0.49922848 -0.2824524   0.48252454\n  0.6912681  -0.0709976  -0.3638477  -0.16829039  1.139038    0.29094452\n -0.66530997 -0.03514474  0.12747085 -0.76797235  1.1138364   0.16433206\n -0.54593056  0.5861126  -0.4203133   0.30418545 -0.8407228  -0.4071041\n -0.3254756  -0.03630478  0.10394382  0.00681931  0.4404117  -1.2535197\n -0.6811113   0.15357482  0.6045427  -0.0615568  -0.44363004  0.6188359\n -0.04428485 -0.47248986  0.13340917 -0.6336994  -0.18708874 -0.01773444\n  0.23496656 -0.10387818 -0.1745943   0.2253339  -0.3485314  -0.97395706\n -0.08229309 -0.18588796  0.19328865 -0.374387   -0.70538455 -1.2227392\n  0.02146742  0.67409074  0.10763985 -0.28311414 -0.20762157  0.4569734\n  0.6564321  -0.4973797   0.02999736 -0.24711663  0.1181714  -0.34427568\n -1.0430039  -0.7694729  -0.71612924 -0.7286413   0.7732697  -0.71080226\n -0.5716044   1.1834544   1.2975634   0.5739843   0.00498661  0.8549113\n  0.25557834 -0.04970846 -0.25039363  0.21432176 -0.81022567 -0.55966973\n  0.06575292 -0.5260176  -0.15964818 -0.08254846  0.34436706  0.66177446\n -0.17538552  0.01446203 -0.77992564  0.66691417 -0.02243542  0.13561168\n  0.06783679 -0.3261931  -0.0341058   0.70846945 -0.39108118  0.23811373\n -0.29597333  0.06394101 -0.5358228   0.61842877  0.29682449  0.61486304\n  0.02112373  0.65983397 -0.21705103 -0.28196704  0.06947733 -0.673691\n -0.39949015  0.61055464  0.06651952 -0.78460926 -0.08462839  0.19571209\n -0.41158262 -0.14974351  0.61821574  1.0414135  -0.69232935 -1.4829131\n -0.9450211   0.02502935 -0.6266832  -0.10129402 -0.06279393 -0.7896694\n -0.55654746  0.30081856 -0.01134997 -0.31899518 -0.50879323  0.14699407\n -0.49171472  0.31191605 -0.02492693  0.3731206   0.6839627  -0.6419974\n -0.47376952 -0.6101415  -0.5198364   0.54683006  0.5301556   0.58505034\n  0.44352788  0.32653666 -0.04653851 -0.67198336 -0.25604838 -0.19558208\n -0.41145408  0.7081727   0.6514475   0.9446854  -0.09228715  0.60429287\n  0.330548    0.00854434 -0.01071106 -0.00578953 -0.2665614   0.03172356\n  0.6821834   0.45465735 -0.50834733 -0.8801511   0.06652676 -0.22942671\n -0.84239346  0.18104178  0.7483683  -0.09148354  0.73325557  0.10841411\n -0.17947553 -0.2002589  -0.25976932  0.4419315  -0.77336115  2.1971574\n  0.4263203   0.69660866 -0.21640454 -0.02591994  0.18538235  0.09285941\n  0.40578684  0.3909396   0.00731022  0.09294582 -0.03066809 -0.02630197\n  0.23279826  0.58732504 -0.46187165  0.99035746 -0.30393958 -0.29025596\n -0.7923755   0.4587615   0.29260176  0.37253147  0.09413981  0.99050796\n  0.06072022 -0.65915143 -0.00246564  0.78722996  0.3592772   0.46520814\n -0.5791351   0.27249524 -0.45523137  0.26826993 -0.12411464 -0.47149426\n -0.36528516  0.4385126  -0.52601534 -1.0779049  -0.23121992  0.41432846\n  0.2849208  -0.01323952  0.4623914   0.46821585 -0.3351274  -0.6470328\n -0.30172816  0.2038605   0.47190908  0.46636257 -0.66752833  0.10329148\n  0.06830227 -0.5161478   0.39557073 -0.4312775   0.5316569   0.62302965\n -0.12369127  0.79189616  0.15125233 -0.2851394   0.09168063  0.23746505\n  0.98163223  0.35702834 -0.03399962  0.04169524  0.92102134 -0.2893634\n -0.38282445  0.24563478  0.56738    -0.03096312 -0.56142366 -0.62593865\n  0.22920242  0.23540011  0.6236434  -0.03616571 -0.93283296  0.54225034].\nReshape your data either using array.reshape(-1, 1) if your data has a single feature or array.reshape(1, -1) if it contains a single sample.",
     "output_type": "error",
     "traceback": [
      "\u001b[1;31m---------------------------------------------------------------------------\u001b[0m",
      "\u001b[1;31mValueError\u001b[0m                                Traceback (most recent call last)",
      "\u001b[1;32m~\\AppData\\Local\\Temp/ipykernel_9364/305587639.py\u001b[0m in \u001b[0;36m<module>\u001b[1;34m\u001b[0m\n\u001b[1;32m----> 1\u001b[1;33m \u001b[0mcos_sim_cl\u001b[0m \u001b[1;33m=\u001b[0m \u001b[1;36m1\u001b[0m \u001b[1;33m-\u001b[0m \u001b[0msklearn\u001b[0m\u001b[1;33m.\u001b[0m\u001b[0mmetrics\u001b[0m\u001b[1;33m.\u001b[0m\u001b[0mpairwise\u001b[0m\u001b[1;33m.\u001b[0m\u001b[0mpaired_cosine_distances\u001b[0m\u001b[1;33m(\u001b[0m\u001b[0membed_1_snli\u001b[0m\u001b[1;33m,\u001b[0m \u001b[0membed_2_snli\u001b[0m\u001b[1;33m)\u001b[0m\u001b[1;33m\u001b[0m\u001b[1;33m\u001b[0m\u001b[0m\n\u001b[0m\u001b[0;32m      2\u001b[0m \u001b[0mprint\u001b[0m\u001b[1;33m(\u001b[0m\u001b[1;34m'SNLI-test: cosine similarity = '\u001b[0m\u001b[1;33m,\u001b[0m \u001b[0mcos_sim_cl\u001b[0m\u001b[1;33m)\u001b[0m\u001b[1;33m\u001b[0m\u001b[1;33m\u001b[0m\u001b[0m\n",
      "\u001b[1;32m~\\anaconda3\\lib\\site-packages\\sklearn\\metrics\\pairwise.py\u001b[0m in \u001b[0;36mpaired_cosine_distances\u001b[1;34m(X, Y)\u001b[0m\n\u001b[0;32m    970\u001b[0m     \u001b[0meuclidean\u001b[0m \u001b[0mdistance\u001b[0m \u001b[1;32mif\u001b[0m \u001b[0meach\u001b[0m \u001b[0msample\u001b[0m \u001b[1;32mis\u001b[0m \u001b[0mnormalized\u001b[0m \u001b[0mto\u001b[0m \u001b[0munit\u001b[0m \u001b[0mnorm\u001b[0m\u001b[1;33m.\u001b[0m\u001b[1;33m\u001b[0m\u001b[1;33m\u001b[0m\u001b[0m\n\u001b[0;32m    971\u001b[0m     \"\"\"\n\u001b[1;32m--> 972\u001b[1;33m     \u001b[0mX\u001b[0m\u001b[1;33m,\u001b[0m \u001b[0mY\u001b[0m \u001b[1;33m=\u001b[0m \u001b[0mcheck_paired_arrays\u001b[0m\u001b[1;33m(\u001b[0m\u001b[0mX\u001b[0m\u001b[1;33m,\u001b[0m \u001b[0mY\u001b[0m\u001b[1;33m)\u001b[0m\u001b[1;33m\u001b[0m\u001b[1;33m\u001b[0m\u001b[0m\n\u001b[0m\u001b[0;32m    973\u001b[0m     \u001b[1;32mreturn\u001b[0m \u001b[1;36m0.5\u001b[0m \u001b[1;33m*\u001b[0m \u001b[0mrow_norms\u001b[0m\u001b[1;33m(\u001b[0m\u001b[0mnormalize\u001b[0m\u001b[1;33m(\u001b[0m\u001b[0mX\u001b[0m\u001b[1;33m)\u001b[0m \u001b[1;33m-\u001b[0m \u001b[0mnormalize\u001b[0m\u001b[1;33m(\u001b[0m\u001b[0mY\u001b[0m\u001b[1;33m)\u001b[0m\u001b[1;33m,\u001b[0m \u001b[0msquared\u001b[0m\u001b[1;33m=\u001b[0m\u001b[1;32mTrue\u001b[0m\u001b[1;33m)\u001b[0m\u001b[1;33m\u001b[0m\u001b[1;33m\u001b[0m\u001b[0m\n\u001b[0;32m    974\u001b[0m \u001b[1;33m\u001b[0m\u001b[0m\n",
      "\u001b[1;32m~\\anaconda3\\lib\\site-packages\\sklearn\\metrics\\pairwise.py\u001b[0m in \u001b[0;36mcheck_paired_arrays\u001b[1;34m(X, Y)\u001b[0m\n\u001b[0;32m    214\u001b[0m \u001b[1;33m\u001b[0m\u001b[0m\n\u001b[0;32m    215\u001b[0m     \"\"\"\n\u001b[1;32m--> 216\u001b[1;33m     \u001b[0mX\u001b[0m\u001b[1;33m,\u001b[0m \u001b[0mY\u001b[0m \u001b[1;33m=\u001b[0m \u001b[0mcheck_pairwise_arrays\u001b[0m\u001b[1;33m(\u001b[0m\u001b[0mX\u001b[0m\u001b[1;33m,\u001b[0m \u001b[0mY\u001b[0m\u001b[1;33m)\u001b[0m\u001b[1;33m\u001b[0m\u001b[1;33m\u001b[0m\u001b[0m\n\u001b[0m\u001b[0;32m    217\u001b[0m     \u001b[1;32mif\u001b[0m \u001b[0mX\u001b[0m\u001b[1;33m.\u001b[0m\u001b[0mshape\u001b[0m \u001b[1;33m!=\u001b[0m \u001b[0mY\u001b[0m\u001b[1;33m.\u001b[0m\u001b[0mshape\u001b[0m\u001b[1;33m:\u001b[0m\u001b[1;33m\u001b[0m\u001b[1;33m\u001b[0m\u001b[0m\n\u001b[0;32m    218\u001b[0m         raise ValueError(\n",
      "\u001b[1;32m~\\anaconda3\\lib\\site-packages\\sklearn\\metrics\\pairwise.py\u001b[0m in \u001b[0;36mcheck_pairwise_arrays\u001b[1;34m(X, Y, precomputed, dtype, accept_sparse, force_all_finite, copy)\u001b[0m\n\u001b[0;32m    154\u001b[0m         )\n\u001b[0;32m    155\u001b[0m     \u001b[1;32melse\u001b[0m\u001b[1;33m:\u001b[0m\u001b[1;33m\u001b[0m\u001b[1;33m\u001b[0m\u001b[0m\n\u001b[1;32m--> 156\u001b[1;33m         X = check_array(\n\u001b[0m\u001b[0;32m    157\u001b[0m             \u001b[0mX\u001b[0m\u001b[1;33m,\u001b[0m\u001b[1;33m\u001b[0m\u001b[1;33m\u001b[0m\u001b[0m\n\u001b[0;32m    158\u001b[0m             \u001b[0maccept_sparse\u001b[0m\u001b[1;33m=\u001b[0m\u001b[0maccept_sparse\u001b[0m\u001b[1;33m,\u001b[0m\u001b[1;33m\u001b[0m\u001b[1;33m\u001b[0m\u001b[0m\n",
      "\u001b[1;32m~\\anaconda3\\lib\\site-packages\\sklearn\\utils\\validation.py\u001b[0m in \u001b[0;36mcheck_array\u001b[1;34m(array, accept_sparse, accept_large_sparse, dtype, order, copy, force_all_finite, ensure_2d, allow_nd, ensure_min_samples, ensure_min_features, estimator)\u001b[0m\n\u001b[0;32m    759\u001b[0m             \u001b[1;31m# If input is 1D raise error\u001b[0m\u001b[1;33m\u001b[0m\u001b[1;33m\u001b[0m\u001b[1;33m\u001b[0m\u001b[0m\n\u001b[0;32m    760\u001b[0m             \u001b[1;32mif\u001b[0m \u001b[0marray\u001b[0m\u001b[1;33m.\u001b[0m\u001b[0mndim\u001b[0m \u001b[1;33m==\u001b[0m \u001b[1;36m1\u001b[0m\u001b[1;33m:\u001b[0m\u001b[1;33m\u001b[0m\u001b[1;33m\u001b[0m\u001b[0m\n\u001b[1;32m--> 761\u001b[1;33m                 raise ValueError(\n\u001b[0m\u001b[0;32m    762\u001b[0m                     \u001b[1;34m\"Expected 2D array, got 1D array instead:\\narray={}.\\n\"\u001b[0m\u001b[1;33m\u001b[0m\u001b[1;33m\u001b[0m\u001b[0m\n\u001b[0;32m    763\u001b[0m                     \u001b[1;34m\"Reshape your data either using array.reshape(-1, 1) if \"\u001b[0m\u001b[1;33m\u001b[0m\u001b[1;33m\u001b[0m\u001b[0m\n",
      "\u001b[1;31mValueError\u001b[0m: Expected 2D array, got 1D array instead:\narray=[-0.7831247   0.4549554  -0.18050326 -0.8834193  -0.98975205 -0.0218299\n -0.1821609   0.04240327 -1.1159163   0.06437395  0.31649387 -0.45213908\n -0.4557953   0.49470592 -0.02979326  0.05826461  0.62036836 -0.05542984\n -0.10952187 -0.25751415  0.9380432   0.33971757 -0.44566312  0.07531576\n  0.85864913 -0.57405424 -0.1338306  -1.3226908  -0.3511453  -0.17811999\n  0.21194182 -0.38449562  0.42868    -0.08594999  0.8289736  -0.64386374\n -0.18183857  0.3092249   0.36962035 -0.27134442  0.13359241 -0.21066087\n  0.5202685   0.37361345 -0.34524313 -0.11992995  0.14197494  0.30954283\n -0.00807978  0.52306396 -0.94205606  0.30471778 -0.01529409 -0.48810443\n -0.08152298 -0.0339485  -0.4450692   0.31064188  0.04414835  0.15557396\n  1.3304791  -0.26838523 -0.6801238  -0.7364513   1.2000388  -0.01003959\n -0.30181155  0.07708559  0.13994446  1.3146102  -0.3571118  -0.32402343\n -0.2541786   0.01179093  0.20092848  0.6005711   0.08815725 -0.30331615\n  0.4100165  -0.32352248 -0.5901844  -0.19379653 -0.3521417   0.4322775\n  0.55751115  0.1056645   0.7455519  -0.37019223  0.28208652 -0.744493\n  0.2830272  -0.53009224 -0.8056808  -0.41483474 -0.21288976  0.70457834\n  0.15732554  0.17905198 -0.6999462   0.17951746 -1.2701101  -0.00270276\n  0.7244381   0.45466563  0.9737931  -0.22577323 -0.5089376  -0.0136077\n -0.3086429   0.27535886 -0.24914995 -0.7106227  -1.444071    0.92903984\n  0.05487944  1.0545408  -0.8219484  -0.62886024  0.46186057 -0.42175123\n -0.44145364  0.1576028   0.00864165  1.090139   -0.59979445  0.21223976\n -0.9308154   0.0856081  -0.24756989  0.9970091   0.06185905  0.9268754\n  0.49436432 -1.0598464  -0.23198377 -0.47363144 -0.00972698  0.16779034\n -0.9448743  -0.62149507  0.5562212   0.19010971  0.87349933 -1.0969161\n -0.48384476  0.42941508 -0.08937488  0.63821864 -0.94654596  0.00361431\n  0.27514383 -1.0901325   0.35941228 -0.57082725 -0.311739   -0.01310173\n -0.25297558 -0.7269698  -0.1532437  -0.5518305   0.37630174  0.78737664\n  0.1468086   0.954231   -0.54268324  0.4465298   0.42415088 -0.5621667\n  0.07995196 -0.11689647  0.6023722   0.8355031   0.57060164  0.4919674\n -0.48707622  0.2514777   0.8667168   0.07465694  0.11540522 -1.3838522\n  0.31772575 -0.27807823 -0.0756032   0.02697775  0.4456535   1.22091\n  0.49712935 -0.27934468  0.10304072 -0.60409933  0.30037257  0.29814526\n -0.5732626  -0.30007553  0.7611982   0.59587115  0.2357281   0.47951442\n  0.16337685  0.7662655   0.8838191   0.72412264 -0.04923657 -0.45732212\n -0.21223846 -0.416666    0.26764712  0.47501573 -1.2509868   0.76457834\n -0.07822176  0.33040756  0.36590162  0.15104263 -0.37334952 -0.49499977\n -0.60378134 -0.05088066 -0.5617619   0.0639093  -0.8398713  -0.1601849\n  0.9493454  -0.02085742 -0.6263782  -1.7588776   0.28049543 -0.26750582\n  0.99728876  0.09306018 -0.19671239 -0.75060385 -0.01367231 -0.6046673\n -0.35341462  0.36312115  0.5143022   0.3769524   0.72487384  0.02830217\n -0.54683536  0.00513171 -0.40902573 -0.35768923 -0.20567724 -0.2932124\n  0.19304603 -0.03033053 -0.7644177   0.35386488  0.15109062  0.46920228\n  0.03437784 -1.0928292   0.533508    0.15781385  0.40593362  0.38977796\n  0.96316195 -0.08449594 -0.9100848   0.03319896  0.3560101   0.03078845\n  0.52296937 -1.0131797  -0.44469333  0.12401899  0.3803895   0.08035349\n -0.22945185  0.09895956  0.03472495  0.7523914  -0.7749506  -1.1778642\n -0.38335267  0.5172255  -0.10754416 -0.44569844  0.28316873  0.30999544\n  0.9651786  -0.50870407 -0.22039308 -0.4897633  -0.30432355  0.40223196\n -0.3288588  -0.5975868  -0.40012288  0.6970961  -0.78364885  0.28544655\n  0.09711263  0.39220405 -0.806355   -0.63148814  0.72552764  0.08586186\n  0.06718839  0.6338189   0.22123516 -0.05764933 -2.1721363   0.5082889\n -0.29500902 -0.6727066   0.19791624  0.19831894  0.5625429  -0.5918427\n  0.18433866  0.04146859 -0.21778525  0.6230871   0.09942722 -0.5382171\n -0.05951116 -0.0985394   0.04473936 -0.16288911 -0.20978144  0.7095699\n  0.11621457  0.1405555  -0.3633554   0.25576356  0.31386337  0.18211842\n  0.25421384 -0.37374687  0.49710804  1.3289548  -0.41739324  0.0562719\n -0.21811606  0.06575476 -0.1676127  -0.4947582   0.18883754 -0.50352246\n -0.21987972  0.19633278  0.7234521   0.3144814   0.01246422 -0.02902675\n  0.21711689 -0.12333865  0.20177928 -1.6857203   0.27118605  0.06852977\n -0.15343282 -0.8305331   0.18763074 -0.13328019 -0.4587462   0.02864494\n -0.87058127 -0.2937329   0.6881531   0.3307746   0.3762514   1.4012731\n  0.30138743 -0.554641    0.4389571   0.21608123 -0.41143113 -0.9614658\n -0.14497513  0.3604532  -0.25247183  0.40810648  0.09588596  0.8067373\n -0.08269796 -0.5083213  -0.60871065 -0.2909327   0.65865386 -0.23055255\n  0.08655963 -0.0986428  -0.51387477 -0.532319   -0.7925604  -0.9992298\n -0.53878874 -0.02746501 -0.08867235  0.505254    0.4450323   0.5214394\n -1.5239617  -0.24086305 -0.15387812 -0.15475808  1.1068841   1.8726729\n  0.28845948 -1.1222175   0.6165806   0.54404837  0.5093029  -1.2194346\n -0.47018772 -0.26070893  0.20161259 -0.76475865 -1.1009752   0.8197907\n -1.6616334   0.8494746   0.6788552  -0.16963978  0.21068478 -0.04977551\n  0.30071118 -0.46921456 -0.34741682  0.5329776  -0.41189724  0.5922168\n  0.12271054 -0.3864319  -0.67494524  0.05643508 -0.7232486  -0.00710411\n -0.863828    0.8078726  -0.42112383  0.553384   -1.4400452  -0.03101581\n -0.3583298   0.11489075  0.11917315  0.5608795  -0.27480987  0.00665027\n  0.24354437  0.62742335  0.5002992  -0.38958192  0.27269188 -0.37567702\n  0.02537226 -0.43142834  0.76348364  0.24704854 -0.70275366 -0.4711464\n -0.9000859   0.5306059   0.5176495  -0.20388578 -0.48402828 -0.60286635\n  0.08022622 -0.51303     0.3364229   0.02316346  0.30087554 -0.21415831\n -0.6753079   0.43988153  1.2168015   0.03377174 -0.03149474 -0.21040584\n  0.4680967  -0.44967505 -0.88095003 -0.19206512  0.307644   -0.20323707\n -0.41895768  0.33031452  0.4962698  -0.20284122  0.48529485  0.02998609\n  0.12040221  0.8199991   0.20279793 -0.7489592  -0.9146697  -0.3306501\n -1.0789917   0.39964154 -0.4030369   0.20468223  0.18514366 -1.0527656\n -0.28656876 -1.1453272   0.43770844  0.49922848 -0.2824524   0.48252454\n  0.6912681  -0.0709976  -0.3638477  -0.16829039  1.139038    0.29094452\n -0.66530997 -0.03514474  0.12747085 -0.76797235  1.1138364   0.16433206\n -0.54593056  0.5861126  -0.4203133   0.30418545 -0.8407228  -0.4071041\n -0.3254756  -0.03630478  0.10394382  0.00681931  0.4404117  -1.2535197\n -0.6811113   0.15357482  0.6045427  -0.0615568  -0.44363004  0.6188359\n -0.04428485 -0.47248986  0.13340917 -0.6336994  -0.18708874 -0.01773444\n  0.23496656 -0.10387818 -0.1745943   0.2253339  -0.3485314  -0.97395706\n -0.08229309 -0.18588796  0.19328865 -0.374387   -0.70538455 -1.2227392\n  0.02146742  0.67409074  0.10763985 -0.28311414 -0.20762157  0.4569734\n  0.6564321  -0.4973797   0.02999736 -0.24711663  0.1181714  -0.34427568\n -1.0430039  -0.7694729  -0.71612924 -0.7286413   0.7732697  -0.71080226\n -0.5716044   1.1834544   1.2975634   0.5739843   0.00498661  0.8549113\n  0.25557834 -0.04970846 -0.25039363  0.21432176 -0.81022567 -0.55966973\n  0.06575292 -0.5260176  -0.15964818 -0.08254846  0.34436706  0.66177446\n -0.17538552  0.01446203 -0.77992564  0.66691417 -0.02243542  0.13561168\n  0.06783679 -0.3261931  -0.0341058   0.70846945 -0.39108118  0.23811373\n -0.29597333  0.06394101 -0.5358228   0.61842877  0.29682449  0.61486304\n  0.02112373  0.65983397 -0.21705103 -0.28196704  0.06947733 -0.673691\n -0.39949015  0.61055464  0.06651952 -0.78460926 -0.08462839  0.19571209\n -0.41158262 -0.14974351  0.61821574  1.0414135  -0.69232935 -1.4829131\n -0.9450211   0.02502935 -0.6266832  -0.10129402 -0.06279393 -0.7896694\n -0.55654746  0.30081856 -0.01134997 -0.31899518 -0.50879323  0.14699407\n -0.49171472  0.31191605 -0.02492693  0.3731206   0.6839627  -0.6419974\n -0.47376952 -0.6101415  -0.5198364   0.54683006  0.5301556   0.58505034\n  0.44352788  0.32653666 -0.04653851 -0.67198336 -0.25604838 -0.19558208\n -0.41145408  0.7081727   0.6514475   0.9446854  -0.09228715  0.60429287\n  0.330548    0.00854434 -0.01071106 -0.00578953 -0.2665614   0.03172356\n  0.6821834   0.45465735 -0.50834733 -0.8801511   0.06652676 -0.22942671\n -0.84239346  0.18104178  0.7483683  -0.09148354  0.73325557  0.10841411\n -0.17947553 -0.2002589  -0.25976932  0.4419315  -0.77336115  2.1971574\n  0.4263203   0.69660866 -0.21640454 -0.02591994  0.18538235  0.09285941\n  0.40578684  0.3909396   0.00731022  0.09294582 -0.03066809 -0.02630197\n  0.23279826  0.58732504 -0.46187165  0.99035746 -0.30393958 -0.29025596\n -0.7923755   0.4587615   0.29260176  0.37253147  0.09413981  0.99050796\n  0.06072022 -0.65915143 -0.00246564  0.78722996  0.3592772   0.46520814\n -0.5791351   0.27249524 -0.45523137  0.26826993 -0.12411464 -0.47149426\n -0.36528516  0.4385126  -0.52601534 -1.0779049  -0.23121992  0.41432846\n  0.2849208  -0.01323952  0.4623914   0.46821585 -0.3351274  -0.6470328\n -0.30172816  0.2038605   0.47190908  0.46636257 -0.66752833  0.10329148\n  0.06830227 -0.5161478   0.39557073 -0.4312775   0.5316569   0.62302965\n -0.12369127  0.79189616  0.15125233 -0.2851394   0.09168063  0.23746505\n  0.98163223  0.35702834 -0.03399962  0.04169524  0.92102134 -0.2893634\n -0.38282445  0.24563478  0.56738    -0.03096312 -0.56142366 -0.62593865\n  0.22920242  0.23540011  0.6236434  -0.03616571 -0.93283296  0.54225034].\nReshape your data either using array.reshape(-1, 1) if your data has a single feature or array.reshape(1, -1) if it contains a single sample."
     ]
    }
   ],
   "source": [
    "cos_sim_cl = 1 - sklearn.metrics.pairwise.paired_cosine_distances(embed_1_snli, embed_2_snli)\n",
    "print('SNLI-test: cosine similarity = ', cos_sim_cl)"
   ]
  },
  {
   "cell_type": "markdown",
   "metadata": {},
   "source": [
    "### Spearmean correlation coefficient"
   ]
  },
  {
   "cell_type": "code",
   "execution_count": 81,
   "metadata": {
    "id": "dlaeNPSo8tyG"
   },
   "outputs": [
    {
     "ename": "NameError",
     "evalue": "name 'cos_sim_cl' is not defined",
     "output_type": "error",
     "traceback": [
      "\u001b[1;31m---------------------------------------------------------------------------\u001b[0m",
      "\u001b[1;31mNameError\u001b[0m                                 Traceback (most recent call last)",
      "\u001b[1;32m~\\AppData\\Local\\Temp/ipykernel_9364/2914608639.py\u001b[0m in \u001b[0;36m<module>\u001b[1;34m\u001b[0m\n\u001b[1;32m----> 1\u001b[1;33m \u001b[0mspr_corr_cl\u001b[0m \u001b[1;33m=\u001b[0m \u001b[0mscipy\u001b[0m\u001b[1;33m.\u001b[0m\u001b[0mstats\u001b[0m\u001b[1;33m.\u001b[0m\u001b[0mspearmanr\u001b[0m\u001b[1;33m(\u001b[0m\u001b[0mcos_sim_cl\u001b[0m\u001b[1;33m,\u001b[0m \u001b[0mdf_class_test\u001b[0m\u001b[1;33m[\u001b[0m\u001b[1;34m'label'\u001b[0m\u001b[1;33m]\u001b[0m\u001b[1;33m)\u001b[0m\u001b[1;33m\u001b[0m\u001b[1;33m\u001b[0m\u001b[0m\n\u001b[0m\u001b[0;32m      2\u001b[0m \u001b[0mprint\u001b[0m\u001b[1;33m(\u001b[0m\u001b[1;34m'SNLI-test: Spearmean correlation coefficient = '\u001b[0m\u001b[1;33m,\u001b[0m \u001b[0mspr_corr_cl\u001b[0m\u001b[1;33m[\u001b[0m\u001b[1;36m0\u001b[0m\u001b[1;33m]\u001b[0m\u001b[1;33m)\u001b[0m\u001b[1;33m\u001b[0m\u001b[1;33m\u001b[0m\u001b[0m\n",
      "\u001b[1;31mNameError\u001b[0m: name 'cos_sim_cl' is not defined"
     ]
    }
   ],
   "source": [
    "spr_corr_cl = scipy.stats.spearmanr(cos_sim_cl, df_class_test['label'])\n",
    "print('SNLI-test: Spearmean correlation coefficient = ', spr_corr_cl[0])"
   ]
  },
  {
   "cell_type": "markdown",
   "metadata": {},
   "source": [
    "### **Train on SNLI dataset and fine-tuning with STS dataset**"
   ]
  },
  {
   "cell_type": "code",
   "execution_count": 83,
   "metadata": {},
   "outputs": [],
   "source": [
    "model_class_location = './lab2_files/saved_models/training_snli_32batch-evalSTS'\n",
    "\n",
    "if os.path.exists(model_class_location):\n",
    "    model = SentenceTransformer(model_class_location)\n",
    "else:\n",
    "    model.fit(train_objectives=[(train_dataloader_cl, train_loss_cl)],\n",
    "                optimizer_class=torch.optim.Adam,\n",
    "                optimizer_params={'lr': learn_rate},\n",
    "                evaluator=evaluator,\n",
    "                epochs=num_epochs,\n",
    "                evaluation_steps=1000,\n",
    "                warmup_steps=warmup_steps_cl,\n",
    "                output_path=model_class_location)"
   ]
  },
  {
   "cell_type": "markdown",
   "metadata": {},
   "source": [
    "### **Evaluation**"
   ]
  },
  {
   "cell_type": "markdown",
   "metadata": {},
   "source": [
    "### Evaluation on STS benchmark dataset (with library)"
   ]
  },
  {
   "cell_type": "code",
   "execution_count": 84,
   "metadata": {},
   "outputs": [
    {
     "name": "stdout",
     "output_type": "stream",
     "text": [
      "Cosine similarity with the sentence_transformers library =  0.6720169505392981\n"
     ]
    }
   ],
   "source": [
    "evaluation_class_location = \"./lab2_files/classification-STS_results\"\n",
    "\n",
    "if not os.path.exists(evaluation_class_location):\n",
    "    os.makedirs(evaluation_class_location)\n",
    "\n",
    "c_s_sts = test_eval(model, output_path=evaluation_class_location)\n",
    "print('Cosine similarity with the sentence_transformers library = ', c_s_sts)"
   ]
  },
  {
   "cell_type": "markdown",
   "metadata": {},
   "source": [
    "### Evaluation on STS (no library)"
   ]
  },
  {
   "cell_type": "code",
   "execution_count": 85,
   "metadata": {},
   "outputs": [],
   "source": [
    "embed_1 = model.encode(df_test['sentence1'], convert_to_numpy=True, batch_size=train_batch_size)\n",
    "embed_2 = model.encode(df_test['sentence2'], convert_to_numpy=True, batch_size=train_batch_size)"
   ]
  },
  {
   "cell_type": "markdown",
   "metadata": {},
   "source": [
    "### Compute the cosine similarity"
   ]
  },
  {
   "cell_type": "code",
   "execution_count": 86,
   "metadata": {},
   "outputs": [
    {
     "name": "stdout",
     "output_type": "stream",
     "text": [
      "STS benchmark: cosine similarity =  [0.9020396  0.96123344 0.8992804  ... 0.4095918  0.6290741  0.20586675]\n"
     ]
    }
   ],
   "source": [
    "cos_sim_sts = 1 - sklearn.metrics.pairwise.paired_cosine_distances(embed_1, embed_2)\n",
    "print('STS benchmark: cosine similarity = ', cos_sim_sts)"
   ]
  },
  {
   "cell_type": "markdown",
   "metadata": {},
   "source": [
    "### Spearmean correlation coefficient"
   ]
  },
  {
   "cell_type": "code",
   "execution_count": 87,
   "metadata": {},
   "outputs": [
    {
     "name": "stdout",
     "output_type": "stream",
     "text": [
      "STS benchmark: Spearmean correlation coefficient =  0.6667147963855763\n"
     ]
    }
   ],
   "source": [
    "spr_corr_sts = scipy.stats.spearmanr(cos_sim_sts, df_test['label'])\n",
    "print('STS benchmark: Spearmean correlation coefficient = ', spr_corr_sts[0])"
   ]
  },
  {
   "cell_type": "markdown",
   "metadata": {},
   "source": [
    "**Comment:** better result compared to regression task"
   ]
  },
  {
   "cell_type": "markdown",
   "metadata": {},
   "source": [
    "---"
   ]
  },
  {
   "cell_type": "markdown",
   "metadata": {
    "id": "3XblaOL55NaA"
   },
   "source": [
    "## **SEMANTIC SEARCH**"
   ]
  },
  {
   "cell_type": "markdown",
   "metadata": {
    "id": "qTVjUoV1_vDF"
   },
   "source": [
    "**Link to dataset:** https://www.kaggle.com/rmisra/news-category-dataset"
   ]
  },
  {
   "cell_type": "code",
   "execution_count": 101,
   "metadata": {
    "colab": {
     "base_uri": "https://localhost:8080/"
    },
    "id": "GzwW4zZi9Rjv",
    "outputId": "b8f88f18-adcf-4ca7-d42a-194e71752b3a"
   },
   "outputs": [],
   "source": [
    "news_path = './lab2_files/dataset/news.json'\n",
    "\n",
    "if os.path.exists(news_path):\n",
    "    news = spark.read.json(news_path)\n",
    "    news_samples = list(news.select('headline').toPandas()['headline'])"
   ]
  },
  {
   "cell_type": "markdown",
   "metadata": {},
   "source": [
    "### Embedding news"
   ]
  },
  {
   "cell_type": "code",
   "execution_count": 102,
   "metadata": {
    "id": "xLKQ7_oV9cFy"
   },
   "outputs": [],
   "source": [
    "news_samples_path = './lab2_files/embedding/embed_news.txt'\n",
    "\n",
    "if os.path.exists(news_samples_path):\n",
    "    with open(news_samples_path, \"rb\") as file:\n",
    "        embed_news = pickle.load(file)\n",
    "else:\n",
    "    embed_news = model.encode(news_samples, convert_to_tensor=True, show_progress_bar=True)\n",
    "    with open(news_samples_path, \"wb\") as file:\n",
    "        pickle.dump(embed_news, file)"
   ]
  },
  {
   "cell_type": "markdown",
   "metadata": {},
   "source": [
    "### Searching"
   ]
  },
  {
   "cell_type": "code",
   "execution_count": 103,
   "metadata": {
    "id": "4gVUum7W9cDI"
   },
   "outputs": [
    {
     "name": "stdout",
     "output_type": "stream",
     "text": [
      "Find close to: police arrests mexican\n"
     ]
    }
   ],
   "source": [
    "search = input(\"Find close to: \")\n",
    "\n",
    "embed_query = model.encode(search, convert_to_tensor=True)"
   ]
  },
  {
   "cell_type": "code",
   "execution_count": 104,
   "metadata": {},
   "outputs": [],
   "source": [
    "cos_sim = util.pytorch_cos_sim(embed_query, embed_news)[0]"
   ]
  },
  {
   "cell_type": "code",
   "execution_count": 105,
   "metadata": {
    "id": "DRmgOoNBrOqa"
   },
   "outputs": [],
   "source": [
    "n_close = 5 # number of similar record\n",
    "\n",
    "top_close = torch.topk(cos_sim, k=n_close)"
   ]
  },
  {
   "cell_type": "code",
   "execution_count": 106,
   "metadata": {
    "id": "BVdY0rctTM6m"
   },
   "outputs": [
    {
     "name": "stdout",
     "output_type": "stream",
     "text": [
      "Top 5 closest news in the dataset:\n",
      "\n",
      "Child Support Offender, Robert Sand, Arrested In Los Angeles (score: 0.2243)\n",
      "Police Arrest Suspect In Shooting Death Of Auburn Player (score: 0.2198)\n",
      "Police In Texas Kill Bat-Wielding Robbery Suspect Outside Head Shop (score: 0.2190)\n",
      "Fleeing Kidnapping Suspect Identified (score: 0.2189)\n",
      "Mexican Vigilantes: Caught Between Cartels and U.S. Drug Consumers (score: 0.2122)\n"
     ]
    }
   ],
   "source": [
    "print(f\"Top {n_close} closest news in the dataset:\\n\")\n",
    "\n",
    "for score, idx in zip(top_close[0], top_close[1]):\n",
    "    print(news_samples[idx], \"(score: {:.4f})\".format(score))"
   ]
  },
  {
   "cell_type": "markdown",
   "metadata": {},
   "source": [
    "---"
   ]
  }
 ],
 "metadata": {
  "accelerator": "GPU",
  "colab": {
   "collapsed_sections": [],
   "name": "LAB-2.ipynb",
   "provenance": []
  },
  "kernelspec": {
   "display_name": "Python 3 (ipykernel)",
   "language": "python",
   "name": "python3"
  },
  "language_info": {
   "codemirror_mode": {
    "name": "ipython",
    "version": 3
   },
   "file_extension": ".py",
   "mimetype": "text/x-python",
   "name": "python",
   "nbconvert_exporter": "python",
   "pygments_lexer": "ipython3",
   "version": "3.8.12"
  },
  "widgets": {
   "application/vnd.jupyter.widget-state+json": {
    "14fe35f8c9f34d778b1a3d7578b6e586": {
     "model_module": "@jupyter-widgets/controls",
     "model_module_version": "1.5.0",
     "model_name": "DescriptionStyleModel",
     "state": {
      "_model_module": "@jupyter-widgets/controls",
      "_model_module_version": "1.5.0",
      "_model_name": "DescriptionStyleModel",
      "_view_count": null,
      "_view_module": "@jupyter-widgets/base",
      "_view_module_version": "1.2.0",
      "_view_name": "StyleView",
      "description_width": ""
     }
    },
    "1c3f244880264a3dab923bfa7ae3e6db": {
     "model_module": "@jupyter-widgets/controls",
     "model_module_version": "1.5.0",
     "model_name": "HTMLModel",
     "state": {
      "_dom_classes": [],
      "_model_module": "@jupyter-widgets/controls",
      "_model_module_version": "1.5.0",
      "_model_name": "HTMLModel",
      "_view_count": null,
      "_view_module": "@jupyter-widgets/controls",
      "_view_module_version": "1.5.0",
      "_view_name": "HTMLView",
      "description": "",
      "description_tooltip": null,
      "layout": "IPY_MODEL_3cb4ab5492e14bc5865b9f04375f03c8",
      "placeholder": "​",
      "style": "IPY_MODEL_4a9fa6a1e9e2408d9db5f34605042fad",
      "value": "Batches: 100%"
     }
    },
    "3045b70d29704436b0cd9927cd1289a4": {
     "model_module": "@jupyter-widgets/base",
     "model_module_version": "1.2.0",
     "model_name": "LayoutModel",
     "state": {
      "_model_module": "@jupyter-widgets/base",
      "_model_module_version": "1.2.0",
      "_model_name": "LayoutModel",
      "_view_count": null,
      "_view_module": "@jupyter-widgets/base",
      "_view_module_version": "1.2.0",
      "_view_name": "LayoutView",
      "align_content": null,
      "align_items": null,
      "align_self": null,
      "border": null,
      "bottom": null,
      "display": null,
      "flex": null,
      "flex_flow": null,
      "grid_area": null,
      "grid_auto_columns": null,
      "grid_auto_flow": null,
      "grid_auto_rows": null,
      "grid_column": null,
      "grid_gap": null,
      "grid_row": null,
      "grid_template_areas": null,
      "grid_template_columns": null,
      "grid_template_rows": null,
      "height": null,
      "justify_content": null,
      "justify_items": null,
      "left": null,
      "margin": null,
      "max_height": null,
      "max_width": null,
      "min_height": null,
      "min_width": null,
      "object_fit": null,
      "object_position": null,
      "order": null,
      "overflow": null,
      "overflow_x": null,
      "overflow_y": null,
      "padding": null,
      "right": null,
      "top": null,
      "visibility": null,
      "width": null
     }
    },
    "396c91f6e19c42ec85becb2044f8f94b": {
     "model_module": "@jupyter-widgets/controls",
     "model_module_version": "1.5.0",
     "model_name": "HBoxModel",
     "state": {
      "_dom_classes": [],
      "_model_module": "@jupyter-widgets/controls",
      "_model_module_version": "1.5.0",
      "_model_name": "HBoxModel",
      "_view_count": null,
      "_view_module": "@jupyter-widgets/controls",
      "_view_module_version": "1.5.0",
      "_view_name": "HBoxView",
      "box_style": "",
      "children": [
       "IPY_MODEL_9fcb49816ac7452d95ac2899cb679a9b",
       "IPY_MODEL_682fbd4aaa9a480c811e5eacfefaaf07",
       "IPY_MODEL_9659a65cebe3431b82e228dd3a069a17"
      ],
      "layout": "IPY_MODEL_3045b70d29704436b0cd9927cd1289a4"
     }
    },
    "3a7e3dafd4cc425fab471324f1aec5fb": {
     "model_module": "@jupyter-widgets/controls",
     "model_module_version": "1.5.0",
     "model_name": "HTMLModel",
     "state": {
      "_dom_classes": [],
      "_model_module": "@jupyter-widgets/controls",
      "_model_module_version": "1.5.0",
      "_model_name": "HTMLModel",
      "_view_count": null,
      "_view_module": "@jupyter-widgets/controls",
      "_view_module_version": "1.5.0",
      "_view_name": "HTMLView",
      "description": "",
      "description_tooltip": null,
      "layout": "IPY_MODEL_45c6635ecb424bb2a490108e72a97743",
      "placeholder": "​",
      "style": "IPY_MODEL_14fe35f8c9f34d778b1a3d7578b6e586",
      "value": " 6277/6277 [20:22&lt;00:00, 18.86it/s]"
     }
    },
    "3cb4ab5492e14bc5865b9f04375f03c8": {
     "model_module": "@jupyter-widgets/base",
     "model_module_version": "1.2.0",
     "model_name": "LayoutModel",
     "state": {
      "_model_module": "@jupyter-widgets/base",
      "_model_module_version": "1.2.0",
      "_model_name": "LayoutModel",
      "_view_count": null,
      "_view_module": "@jupyter-widgets/base",
      "_view_module_version": "1.2.0",
      "_view_name": "LayoutView",
      "align_content": null,
      "align_items": null,
      "align_self": null,
      "border": null,
      "bottom": null,
      "display": null,
      "flex": null,
      "flex_flow": null,
      "grid_area": null,
      "grid_auto_columns": null,
      "grid_auto_flow": null,
      "grid_auto_rows": null,
      "grid_column": null,
      "grid_gap": null,
      "grid_row": null,
      "grid_template_areas": null,
      "grid_template_columns": null,
      "grid_template_rows": null,
      "height": null,
      "justify_content": null,
      "justify_items": null,
      "left": null,
      "margin": null,
      "max_height": null,
      "max_width": null,
      "min_height": null,
      "min_width": null,
      "object_fit": null,
      "object_position": null,
      "order": null,
      "overflow": null,
      "overflow_x": null,
      "overflow_y": null,
      "padding": null,
      "right": null,
      "top": null,
      "visibility": null,
      "width": null
     }
    },
    "3dc42c11231c4537b0d96b028dada121": {
     "model_module": "@jupyter-widgets/base",
     "model_module_version": "1.2.0",
     "model_name": "LayoutModel",
     "state": {
      "_model_module": "@jupyter-widgets/base",
      "_model_module_version": "1.2.0",
      "_model_name": "LayoutModel",
      "_view_count": null,
      "_view_module": "@jupyter-widgets/base",
      "_view_module_version": "1.2.0",
      "_view_name": "LayoutView",
      "align_content": null,
      "align_items": null,
      "align_self": null,
      "border": null,
      "bottom": null,
      "display": null,
      "flex": null,
      "flex_flow": null,
      "grid_area": null,
      "grid_auto_columns": null,
      "grid_auto_flow": null,
      "grid_auto_rows": null,
      "grid_column": null,
      "grid_gap": null,
      "grid_row": null,
      "grid_template_areas": null,
      "grid_template_columns": null,
      "grid_template_rows": null,
      "height": null,
      "justify_content": null,
      "justify_items": null,
      "left": null,
      "margin": null,
      "max_height": null,
      "max_width": null,
      "min_height": null,
      "min_width": null,
      "object_fit": null,
      "object_position": null,
      "order": null,
      "overflow": null,
      "overflow_x": null,
      "overflow_y": null,
      "padding": null,
      "right": null,
      "top": null,
      "visibility": null,
      "width": null
     }
    },
    "45c6635ecb424bb2a490108e72a97743": {
     "model_module": "@jupyter-widgets/base",
     "model_module_version": "1.2.0",
     "model_name": "LayoutModel",
     "state": {
      "_model_module": "@jupyter-widgets/base",
      "_model_module_version": "1.2.0",
      "_model_name": "LayoutModel",
      "_view_count": null,
      "_view_module": "@jupyter-widgets/base",
      "_view_module_version": "1.2.0",
      "_view_name": "LayoutView",
      "align_content": null,
      "align_items": null,
      "align_self": null,
      "border": null,
      "bottom": null,
      "display": null,
      "flex": null,
      "flex_flow": null,
      "grid_area": null,
      "grid_auto_columns": null,
      "grid_auto_flow": null,
      "grid_auto_rows": null,
      "grid_column": null,
      "grid_gap": null,
      "grid_row": null,
      "grid_template_areas": null,
      "grid_template_columns": null,
      "grid_template_rows": null,
      "height": null,
      "justify_content": null,
      "justify_items": null,
      "left": null,
      "margin": null,
      "max_height": null,
      "max_width": null,
      "min_height": null,
      "min_width": null,
      "object_fit": null,
      "object_position": null,
      "order": null,
      "overflow": null,
      "overflow_x": null,
      "overflow_y": null,
      "padding": null,
      "right": null,
      "top": null,
      "visibility": null,
      "width": null
     }
    },
    "4a9fa6a1e9e2408d9db5f34605042fad": {
     "model_module": "@jupyter-widgets/controls",
     "model_module_version": "1.5.0",
     "model_name": "DescriptionStyleModel",
     "state": {
      "_model_module": "@jupyter-widgets/controls",
      "_model_module_version": "1.5.0",
      "_model_name": "DescriptionStyleModel",
      "_view_count": null,
      "_view_module": "@jupyter-widgets/base",
      "_view_module_version": "1.2.0",
      "_view_name": "StyleView",
      "description_width": ""
     }
    },
    "4b6e7ab53f4f4e1aae525265806550f3": {
     "model_module": "@jupyter-widgets/base",
     "model_module_version": "1.2.0",
     "model_name": "LayoutModel",
     "state": {
      "_model_module": "@jupyter-widgets/base",
      "_model_module_version": "1.2.0",
      "_model_name": "LayoutModel",
      "_view_count": null,
      "_view_module": "@jupyter-widgets/base",
      "_view_module_version": "1.2.0",
      "_view_name": "LayoutView",
      "align_content": null,
      "align_items": null,
      "align_self": null,
      "border": null,
      "bottom": null,
      "display": null,
      "flex": null,
      "flex_flow": null,
      "grid_area": null,
      "grid_auto_columns": null,
      "grid_auto_flow": null,
      "grid_auto_rows": null,
      "grid_column": null,
      "grid_gap": null,
      "grid_row": null,
      "grid_template_areas": null,
      "grid_template_columns": null,
      "grid_template_rows": null,
      "height": null,
      "justify_content": null,
      "justify_items": null,
      "left": null,
      "margin": null,
      "max_height": null,
      "max_width": null,
      "min_height": null,
      "min_width": null,
      "object_fit": null,
      "object_position": null,
      "order": null,
      "overflow": null,
      "overflow_x": null,
      "overflow_y": null,
      "padding": null,
      "right": null,
      "top": null,
      "visibility": null,
      "width": null
     }
    },
    "4ef5e3513ca041088f4f21d800963492": {
     "model_module": "@jupyter-widgets/controls",
     "model_module_version": "1.5.0",
     "model_name": "DescriptionStyleModel",
     "state": {
      "_model_module": "@jupyter-widgets/controls",
      "_model_module_version": "1.5.0",
      "_model_name": "DescriptionStyleModel",
      "_view_count": null,
      "_view_module": "@jupyter-widgets/base",
      "_view_module_version": "1.2.0",
      "_view_name": "StyleView",
      "description_width": ""
     }
    },
    "5239e03afc66470dbf11a5cbe2988690": {
     "model_module": "@jupyter-widgets/controls",
     "model_module_version": "1.5.0",
     "model_name": "DescriptionStyleModel",
     "state": {
      "_model_module": "@jupyter-widgets/controls",
      "_model_module_version": "1.5.0",
      "_model_name": "DescriptionStyleModel",
      "_view_count": null,
      "_view_module": "@jupyter-widgets/base",
      "_view_module_version": "1.2.0",
      "_view_name": "StyleView",
      "description_width": ""
     }
    },
    "5fd11a3c78c64d03adc69700723abb51": {
     "model_module": "@jupyter-widgets/base",
     "model_module_version": "1.2.0",
     "model_name": "LayoutModel",
     "state": {
      "_model_module": "@jupyter-widgets/base",
      "_model_module_version": "1.2.0",
      "_model_name": "LayoutModel",
      "_view_count": null,
      "_view_module": "@jupyter-widgets/base",
      "_view_module_version": "1.2.0",
      "_view_name": "LayoutView",
      "align_content": null,
      "align_items": null,
      "align_self": null,
      "border": null,
      "bottom": null,
      "display": null,
      "flex": null,
      "flex_flow": null,
      "grid_area": null,
      "grid_auto_columns": null,
      "grid_auto_flow": null,
      "grid_auto_rows": null,
      "grid_column": null,
      "grid_gap": null,
      "grid_row": null,
      "grid_template_areas": null,
      "grid_template_columns": null,
      "grid_template_rows": null,
      "height": null,
      "justify_content": null,
      "justify_items": null,
      "left": null,
      "margin": null,
      "max_height": null,
      "max_width": null,
      "min_height": null,
      "min_width": null,
      "object_fit": null,
      "object_position": null,
      "order": null,
      "overflow": null,
      "overflow_x": null,
      "overflow_y": null,
      "padding": null,
      "right": null,
      "top": null,
      "visibility": null,
      "width": null
     }
    },
    "682fbd4aaa9a480c811e5eacfefaaf07": {
     "model_module": "@jupyter-widgets/controls",
     "model_module_version": "1.5.0",
     "model_name": "FloatProgressModel",
     "state": {
      "_dom_classes": [],
      "_model_module": "@jupyter-widgets/controls",
      "_model_module_version": "1.5.0",
      "_model_name": "FloatProgressModel",
      "_view_count": null,
      "_view_module": "@jupyter-widgets/controls",
      "_view_module_version": "1.5.0",
      "_view_name": "ProgressView",
      "bar_style": "",
      "description": "",
      "description_tooltip": null,
      "layout": "IPY_MODEL_5fd11a3c78c64d03adc69700723abb51",
      "max": 34385,
      "min": 0,
      "orientation": "horizontal",
      "style": "IPY_MODEL_7db9afff19e34fc6815bab82abe3ac05",
      "value": 34005
     }
    },
    "70a9a5ef2f3f4130aaf3f2a30dd00524": {
     "model_module": "@jupyter-widgets/controls",
     "model_module_version": "1.5.0",
     "model_name": "FloatProgressModel",
     "state": {
      "_dom_classes": [],
      "_model_module": "@jupyter-widgets/controls",
      "_model_module_version": "1.5.0",
      "_model_name": "FloatProgressModel",
      "_view_count": null,
      "_view_module": "@jupyter-widgets/controls",
      "_view_module_version": "1.5.0",
      "_view_name": "ProgressView",
      "bar_style": "success",
      "description": "",
      "description_tooltip": null,
      "layout": "IPY_MODEL_7c308aae6c3e4a9eadf62c9c6b712244",
      "max": 360,
      "min": 0,
      "orientation": "horizontal",
      "style": "IPY_MODEL_aef56e174df5439695847fbbbd175d49",
      "value": 360
     }
    },
    "737941777520426aa5a2126df88ce26f": {
     "model_module": "@jupyter-widgets/base",
     "model_module_version": "1.2.0",
     "model_name": "LayoutModel",
     "state": {
      "_model_module": "@jupyter-widgets/base",
      "_model_module_version": "1.2.0",
      "_model_name": "LayoutModel",
      "_view_count": null,
      "_view_module": "@jupyter-widgets/base",
      "_view_module_version": "1.2.0",
      "_view_name": "LayoutView",
      "align_content": null,
      "align_items": null,
      "align_self": null,
      "border": null,
      "bottom": null,
      "display": null,
      "flex": null,
      "flex_flow": null,
      "grid_area": null,
      "grid_auto_columns": null,
      "grid_auto_flow": null,
      "grid_auto_rows": null,
      "grid_column": null,
      "grid_gap": null,
      "grid_row": null,
      "grid_template_areas": null,
      "grid_template_columns": null,
      "grid_template_rows": null,
      "height": null,
      "justify_content": null,
      "justify_items": null,
      "left": null,
      "margin": null,
      "max_height": null,
      "max_width": null,
      "min_height": null,
      "min_width": null,
      "object_fit": null,
      "object_position": null,
      "order": null,
      "overflow": null,
      "overflow_x": null,
      "overflow_y": null,
      "padding": null,
      "right": null,
      "top": null,
      "visibility": null,
      "width": null
     }
    },
    "75ca2c40fa0b47588ed204c33ed63bc9": {
     "model_module": "@jupyter-widgets/controls",
     "model_module_version": "1.5.0",
     "model_name": "HBoxModel",
     "state": {
      "_dom_classes": [],
      "_model_module": "@jupyter-widgets/controls",
      "_model_module_version": "1.5.0",
      "_model_name": "HBoxModel",
      "_view_count": null,
      "_view_module": "@jupyter-widgets/controls",
      "_view_module_version": "1.5.0",
      "_view_name": "HBoxView",
      "box_style": "",
      "children": [
       "IPY_MODEL_f5ffa81e87b8428bb524be88c8b0369a",
       "IPY_MODEL_7b11724581524a3da18e379bc4b929aa",
       "IPY_MODEL_9650eb9ca49046ea9708b207d89303e4"
      ],
      "layout": "IPY_MODEL_c2d7261b441a4d53be05ce37f9071d19"
     }
    },
    "76147d34b934402ebe6fa68a93fb236f": {
     "model_module": "@jupyter-widgets/controls",
     "model_module_version": "1.5.0",
     "model_name": "HTMLModel",
     "state": {
      "_dom_classes": [],
      "_model_module": "@jupyter-widgets/controls",
      "_model_module_version": "1.5.0",
      "_model_name": "HTMLModel",
      "_view_count": null,
      "_view_module": "@jupyter-widgets/controls",
      "_view_module_version": "1.5.0",
      "_view_name": "HTMLView",
      "description": "",
      "description_tooltip": null,
      "layout": "IPY_MODEL_cfa3e34dfb784301ae5e2f22cba0342f",
      "placeholder": "​",
      "style": "IPY_MODEL_8af6428bfda047cb952080c8b08210e3",
      "value": "Iteration: 100%"
     }
    },
    "79a6375800fe443aaa370c315707b306": {
     "model_module": "@jupyter-widgets/controls",
     "model_module_version": "1.5.0",
     "model_name": "FloatProgressModel",
     "state": {
      "_dom_classes": [],
      "_model_module": "@jupyter-widgets/controls",
      "_model_module_version": "1.5.0",
      "_model_name": "FloatProgressModel",
      "_view_count": null,
      "_view_module": "@jupyter-widgets/controls",
      "_view_module_version": "1.5.0",
      "_view_name": "ProgressView",
      "bar_style": "success",
      "description": "",
      "description_tooltip": null,
      "layout": "IPY_MODEL_842136f0d5c24c9a96382bfac98ac2b5",
      "max": 6277,
      "min": 0,
      "orientation": "horizontal",
      "style": "IPY_MODEL_d5cc0e12416246d0a3d6325cbcc90dd1",
      "value": 6277
     }
    },
    "7b11724581524a3da18e379bc4b929aa": {
     "model_module": "@jupyter-widgets/controls",
     "model_module_version": "1.5.0",
     "model_name": "FloatProgressModel",
     "state": {
      "_dom_classes": [],
      "_model_module": "@jupyter-widgets/controls",
      "_model_module_version": "1.5.0",
      "_model_name": "FloatProgressModel",
      "_view_count": null,
      "_view_module": "@jupyter-widgets/controls",
      "_view_module_version": "1.5.0",
      "_view_name": "ProgressView",
      "bar_style": "",
      "description": "",
      "description_tooltip": null,
      "layout": "IPY_MODEL_ffe68cc84da141449cd72273a58fbcc0",
      "max": 1,
      "min": 0,
      "orientation": "horizontal",
      "style": "IPY_MODEL_fb49780850d54bd984164e181cc44212",
      "value": 0
     }
    },
    "7c308aae6c3e4a9eadf62c9c6b712244": {
     "model_module": "@jupyter-widgets/base",
     "model_module_version": "1.2.0",
     "model_name": "LayoutModel",
     "state": {
      "_model_module": "@jupyter-widgets/base",
      "_model_module_version": "1.2.0",
      "_model_name": "LayoutModel",
      "_view_count": null,
      "_view_module": "@jupyter-widgets/base",
      "_view_module_version": "1.2.0",
      "_view_name": "LayoutView",
      "align_content": null,
      "align_items": null,
      "align_self": null,
      "border": null,
      "bottom": null,
      "display": null,
      "flex": null,
      "flex_flow": null,
      "grid_area": null,
      "grid_auto_columns": null,
      "grid_auto_flow": null,
      "grid_auto_rows": null,
      "grid_column": null,
      "grid_gap": null,
      "grid_row": null,
      "grid_template_areas": null,
      "grid_template_columns": null,
      "grid_template_rows": null,
      "height": null,
      "justify_content": null,
      "justify_items": null,
      "left": null,
      "margin": null,
      "max_height": null,
      "max_width": null,
      "min_height": null,
      "min_width": null,
      "object_fit": null,
      "object_position": null,
      "order": null,
      "overflow": null,
      "overflow_x": null,
      "overflow_y": null,
      "padding": null,
      "right": null,
      "top": null,
      "visibility": null,
      "width": null
     }
    },
    "7db9afff19e34fc6815bab82abe3ac05": {
     "model_module": "@jupyter-widgets/controls",
     "model_module_version": "1.5.0",
     "model_name": "ProgressStyleModel",
     "state": {
      "_model_module": "@jupyter-widgets/controls",
      "_model_module_version": "1.5.0",
      "_model_name": "ProgressStyleModel",
      "_view_count": null,
      "_view_module": "@jupyter-widgets/base",
      "_view_module_version": "1.2.0",
      "_view_name": "StyleView",
      "bar_color": null,
      "description_width": ""
     }
    },
    "833c168297d84ac0adac52a246c7cd49": {
     "model_module": "@jupyter-widgets/base",
     "model_module_version": "1.2.0",
     "model_name": "LayoutModel",
     "state": {
      "_model_module": "@jupyter-widgets/base",
      "_model_module_version": "1.2.0",
      "_model_name": "LayoutModel",
      "_view_count": null,
      "_view_module": "@jupyter-widgets/base",
      "_view_module_version": "1.2.0",
      "_view_name": "LayoutView",
      "align_content": null,
      "align_items": null,
      "align_self": null,
      "border": null,
      "bottom": null,
      "display": null,
      "flex": null,
      "flex_flow": null,
      "grid_area": null,
      "grid_auto_columns": null,
      "grid_auto_flow": null,
      "grid_auto_rows": null,
      "grid_column": null,
      "grid_gap": null,
      "grid_row": null,
      "grid_template_areas": null,
      "grid_template_columns": null,
      "grid_template_rows": null,
      "height": null,
      "justify_content": null,
      "justify_items": null,
      "left": null,
      "margin": null,
      "max_height": null,
      "max_width": null,
      "min_height": null,
      "min_width": null,
      "object_fit": null,
      "object_position": null,
      "order": null,
      "overflow": null,
      "overflow_x": null,
      "overflow_y": null,
      "padding": null,
      "right": null,
      "top": null,
      "visibility": null,
      "width": null
     }
    },
    "842136f0d5c24c9a96382bfac98ac2b5": {
     "model_module": "@jupyter-widgets/base",
     "model_module_version": "1.2.0",
     "model_name": "LayoutModel",
     "state": {
      "_model_module": "@jupyter-widgets/base",
      "_model_module_version": "1.2.0",
      "_model_name": "LayoutModel",
      "_view_count": null,
      "_view_module": "@jupyter-widgets/base",
      "_view_module_version": "1.2.0",
      "_view_name": "LayoutView",
      "align_content": null,
      "align_items": null,
      "align_self": null,
      "border": null,
      "bottom": null,
      "display": null,
      "flex": null,
      "flex_flow": null,
      "grid_area": null,
      "grid_auto_columns": null,
      "grid_auto_flow": null,
      "grid_auto_rows": null,
      "grid_column": null,
      "grid_gap": null,
      "grid_row": null,
      "grid_template_areas": null,
      "grid_template_columns": null,
      "grid_template_rows": null,
      "height": null,
      "justify_content": null,
      "justify_items": null,
      "left": null,
      "margin": null,
      "max_height": null,
      "max_width": null,
      "min_height": null,
      "min_width": null,
      "object_fit": null,
      "object_position": null,
      "order": null,
      "overflow": null,
      "overflow_x": null,
      "overflow_y": null,
      "padding": null,
      "right": null,
      "top": null,
      "visibility": null,
      "width": null
     }
    },
    "84484e726b194077bf39b4003fdab2e6": {
     "model_module": "@jupyter-widgets/controls",
     "model_module_version": "1.5.0",
     "model_name": "HBoxModel",
     "state": {
      "_dom_classes": [],
      "_model_module": "@jupyter-widgets/controls",
      "_model_module_version": "1.5.0",
      "_model_name": "HBoxModel",
      "_view_count": null,
      "_view_module": "@jupyter-widgets/controls",
      "_view_module_version": "1.5.0",
      "_view_name": "HBoxView",
      "box_style": "",
      "children": [
       "IPY_MODEL_76147d34b934402ebe6fa68a93fb236f",
       "IPY_MODEL_70a9a5ef2f3f4130aaf3f2a30dd00524",
       "IPY_MODEL_f788cf300a3c4264a5851508c72cf733"
      ],
      "layout": "IPY_MODEL_b157705019ac41a39d0dd28509291261"
     }
    },
    "869b1898464e4af89a27d14be889b952": {
     "model_module": "@jupyter-widgets/controls",
     "model_module_version": "1.5.0",
     "model_name": "DescriptionStyleModel",
     "state": {
      "_model_module": "@jupyter-widgets/controls",
      "_model_module_version": "1.5.0",
      "_model_name": "DescriptionStyleModel",
      "_view_count": null,
      "_view_module": "@jupyter-widgets/base",
      "_view_module_version": "1.2.0",
      "_view_name": "StyleView",
      "description_width": ""
     }
    },
    "87a780ce24484359a7df518b19024b55": {
     "model_module": "@jupyter-widgets/controls",
     "model_module_version": "1.5.0",
     "model_name": "HTMLModel",
     "state": {
      "_dom_classes": [],
      "_model_module": "@jupyter-widgets/controls",
      "_model_module_version": "1.5.0",
      "_model_name": "HTMLModel",
      "_view_count": null,
      "_view_module": "@jupyter-widgets/controls",
      "_view_module_version": "1.5.0",
      "_view_name": "HTMLView",
      "description": "",
      "description_tooltip": null,
      "layout": "IPY_MODEL_3dc42c11231c4537b0d96b028dada121",
      "placeholder": "​",
      "style": "IPY_MODEL_884aea71873248ce9a0f6f0237156800",
      "value": "Epoch: 100%"
     }
    },
    "884aea71873248ce9a0f6f0237156800": {
     "model_module": "@jupyter-widgets/controls",
     "model_module_version": "1.5.0",
     "model_name": "DescriptionStyleModel",
     "state": {
      "_model_module": "@jupyter-widgets/controls",
      "_model_module_version": "1.5.0",
      "_model_name": "DescriptionStyleModel",
      "_view_count": null,
      "_view_module": "@jupyter-widgets/base",
      "_view_module_version": "1.2.0",
      "_view_name": "StyleView",
      "description_width": ""
     }
    },
    "8af6428bfda047cb952080c8b08210e3": {
     "model_module": "@jupyter-widgets/controls",
     "model_module_version": "1.5.0",
     "model_name": "DescriptionStyleModel",
     "state": {
      "_model_module": "@jupyter-widgets/controls",
      "_model_module_version": "1.5.0",
      "_model_name": "DescriptionStyleModel",
      "_view_count": null,
      "_view_module": "@jupyter-widgets/base",
      "_view_module_version": "1.2.0",
      "_view_name": "StyleView",
      "description_width": ""
     }
    },
    "943e6156d3b648538cad9904fcc0f4b8": {
     "model_module": "@jupyter-widgets/base",
     "model_module_version": "1.2.0",
     "model_name": "LayoutModel",
     "state": {
      "_model_module": "@jupyter-widgets/base",
      "_model_module_version": "1.2.0",
      "_model_name": "LayoutModel",
      "_view_count": null,
      "_view_module": "@jupyter-widgets/base",
      "_view_module_version": "1.2.0",
      "_view_name": "LayoutView",
      "align_content": null,
      "align_items": null,
      "align_self": null,
      "border": null,
      "bottom": null,
      "display": null,
      "flex": null,
      "flex_flow": null,
      "grid_area": null,
      "grid_auto_columns": null,
      "grid_auto_flow": null,
      "grid_auto_rows": null,
      "grid_column": null,
      "grid_gap": null,
      "grid_row": null,
      "grid_template_areas": null,
      "grid_template_columns": null,
      "grid_template_rows": null,
      "height": null,
      "justify_content": null,
      "justify_items": null,
      "left": null,
      "margin": null,
      "max_height": null,
      "max_width": null,
      "min_height": null,
      "min_width": null,
      "object_fit": null,
      "object_position": null,
      "order": null,
      "overflow": null,
      "overflow_x": null,
      "overflow_y": null,
      "padding": null,
      "right": null,
      "top": null,
      "visibility": null,
      "width": null
     }
    },
    "9650eb9ca49046ea9708b207d89303e4": {
     "model_module": "@jupyter-widgets/controls",
     "model_module_version": "1.5.0",
     "model_name": "HTMLModel",
     "state": {
      "_dom_classes": [],
      "_model_module": "@jupyter-widgets/controls",
      "_model_module_version": "1.5.0",
      "_model_name": "HTMLModel",
      "_view_count": null,
      "_view_module": "@jupyter-widgets/controls",
      "_view_module_version": "1.5.0",
      "_view_name": "HTMLView",
      "description": "",
      "description_tooltip": null,
      "layout": "IPY_MODEL_f26f492d329944d4a04e55034fcf4a22",
      "placeholder": "​",
      "style": "IPY_MODEL_b08dbec935b04861ba063c2ecbfa8a5e",
      "value": " 0/1 [00:00&lt;?, ?it/s]"
     }
    },
    "9659a65cebe3431b82e228dd3a069a17": {
     "model_module": "@jupyter-widgets/controls",
     "model_module_version": "1.5.0",
     "model_name": "HTMLModel",
     "state": {
      "_dom_classes": [],
      "_model_module": "@jupyter-widgets/controls",
      "_model_module_version": "1.5.0",
      "_model_name": "HTMLModel",
      "_view_count": null,
      "_view_module": "@jupyter-widgets/controls",
      "_view_module_version": "1.5.0",
      "_view_name": "HTMLView",
      "description": "",
      "description_tooltip": null,
      "layout": "IPY_MODEL_f017b1669b7343e480b0cd040fd31e9d",
      "placeholder": "​",
      "style": "IPY_MODEL_869b1898464e4af89a27d14be889b952",
      "value": " 34005/34385 [4:27:35&lt;18:09,  2.87s/it]"
     }
    },
    "9fcb49816ac7452d95ac2899cb679a9b": {
     "model_module": "@jupyter-widgets/controls",
     "model_module_version": "1.5.0",
     "model_name": "HTMLModel",
     "state": {
      "_dom_classes": [],
      "_model_module": "@jupyter-widgets/controls",
      "_model_module_version": "1.5.0",
      "_model_name": "HTMLModel",
      "_view_count": null,
      "_view_module": "@jupyter-widgets/controls",
      "_view_module_version": "1.5.0",
      "_view_name": "HTMLView",
      "description": "",
      "description_tooltip": null,
      "layout": "IPY_MODEL_943e6156d3b648538cad9904fcc0f4b8",
      "placeholder": "​",
      "style": "IPY_MODEL_4ef5e3513ca041088f4f21d800963492",
      "value": "Iteration:  99%"
     }
    },
    "aef56e174df5439695847fbbbd175d49": {
     "model_module": "@jupyter-widgets/controls",
     "model_module_version": "1.5.0",
     "model_name": "ProgressStyleModel",
     "state": {
      "_model_module": "@jupyter-widgets/controls",
      "_model_module_version": "1.5.0",
      "_model_name": "ProgressStyleModel",
      "_view_count": null,
      "_view_module": "@jupyter-widgets/base",
      "_view_module_version": "1.2.0",
      "_view_name": "StyleView",
      "bar_color": null,
      "description_width": ""
     }
    },
    "b08dbec935b04861ba063c2ecbfa8a5e": {
     "model_module": "@jupyter-widgets/controls",
     "model_module_version": "1.5.0",
     "model_name": "DescriptionStyleModel",
     "state": {
      "_model_module": "@jupyter-widgets/controls",
      "_model_module_version": "1.5.0",
      "_model_name": "DescriptionStyleModel",
      "_view_count": null,
      "_view_module": "@jupyter-widgets/base",
      "_view_module_version": "1.2.0",
      "_view_name": "StyleView",
      "description_width": ""
     }
    },
    "b14d88f448dd46d19900286169697c6a": {
     "model_module": "@jupyter-widgets/controls",
     "model_module_version": "1.5.0",
     "model_name": "FloatProgressModel",
     "state": {
      "_dom_classes": [],
      "_model_module": "@jupyter-widgets/controls",
      "_model_module_version": "1.5.0",
      "_model_name": "FloatProgressModel",
      "_view_count": null,
      "_view_module": "@jupyter-widgets/controls",
      "_view_module_version": "1.5.0",
      "_view_name": "ProgressView",
      "bar_style": "success",
      "description": "",
      "description_tooltip": null,
      "layout": "IPY_MODEL_dcf03c9bc746470ebf280843d01f02e3",
      "max": 1,
      "min": 0,
      "orientation": "horizontal",
      "style": "IPY_MODEL_ef70e0a68f7b4d6398a45f52f3380abe",
      "value": 1
     }
    },
    "b157705019ac41a39d0dd28509291261": {
     "model_module": "@jupyter-widgets/base",
     "model_module_version": "1.2.0",
     "model_name": "LayoutModel",
     "state": {
      "_model_module": "@jupyter-widgets/base",
      "_model_module_version": "1.2.0",
      "_model_name": "LayoutModel",
      "_view_count": null,
      "_view_module": "@jupyter-widgets/base",
      "_view_module_version": "1.2.0",
      "_view_name": "LayoutView",
      "align_content": null,
      "align_items": null,
      "align_self": null,
      "border": null,
      "bottom": null,
      "display": null,
      "flex": null,
      "flex_flow": null,
      "grid_area": null,
      "grid_auto_columns": null,
      "grid_auto_flow": null,
      "grid_auto_rows": null,
      "grid_column": null,
      "grid_gap": null,
      "grid_row": null,
      "grid_template_areas": null,
      "grid_template_columns": null,
      "grid_template_rows": null,
      "height": null,
      "justify_content": null,
      "justify_items": null,
      "left": null,
      "margin": null,
      "max_height": null,
      "max_width": null,
      "min_height": null,
      "min_width": null,
      "object_fit": null,
      "object_position": null,
      "order": null,
      "overflow": null,
      "overflow_x": null,
      "overflow_y": null,
      "padding": null,
      "right": null,
      "top": null,
      "visibility": null,
      "width": null
     }
    },
    "b15f8a46ce6a40dc9296ad15e21e13d1": {
     "model_module": "@jupyter-widgets/base",
     "model_module_version": "1.2.0",
     "model_name": "LayoutModel",
     "state": {
      "_model_module": "@jupyter-widgets/base",
      "_model_module_version": "1.2.0",
      "_model_name": "LayoutModel",
      "_view_count": null,
      "_view_module": "@jupyter-widgets/base",
      "_view_module_version": "1.2.0",
      "_view_name": "LayoutView",
      "align_content": null,
      "align_items": null,
      "align_self": null,
      "border": null,
      "bottom": null,
      "display": null,
      "flex": null,
      "flex_flow": null,
      "grid_area": null,
      "grid_auto_columns": null,
      "grid_auto_flow": null,
      "grid_auto_rows": null,
      "grid_column": null,
      "grid_gap": null,
      "grid_row": null,
      "grid_template_areas": null,
      "grid_template_columns": null,
      "grid_template_rows": null,
      "height": null,
      "justify_content": null,
      "justify_items": null,
      "left": null,
      "margin": null,
      "max_height": null,
      "max_width": null,
      "min_height": null,
      "min_width": null,
      "object_fit": null,
      "object_position": null,
      "order": null,
      "overflow": null,
      "overflow_x": null,
      "overflow_y": null,
      "padding": null,
      "right": null,
      "top": null,
      "visibility": null,
      "width": null
     }
    },
    "ba25da94c38e4755a394b057a5c7fd58": {
     "model_module": "@jupyter-widgets/controls",
     "model_module_version": "1.5.0",
     "model_name": "HBoxModel",
     "state": {
      "_dom_classes": [],
      "_model_module": "@jupyter-widgets/controls",
      "_model_module_version": "1.5.0",
      "_model_name": "HBoxModel",
      "_view_count": null,
      "_view_module": "@jupyter-widgets/controls",
      "_view_module_version": "1.5.0",
      "_view_name": "HBoxView",
      "box_style": "",
      "children": [
       "IPY_MODEL_87a780ce24484359a7df518b19024b55",
       "IPY_MODEL_b14d88f448dd46d19900286169697c6a",
       "IPY_MODEL_fba14dc5ff994d579f0c1b640f10e587"
      ],
      "layout": "IPY_MODEL_833c168297d84ac0adac52a246c7cd49"
     }
    },
    "c2d7261b441a4d53be05ce37f9071d19": {
     "model_module": "@jupyter-widgets/base",
     "model_module_version": "1.2.0",
     "model_name": "LayoutModel",
     "state": {
      "_model_module": "@jupyter-widgets/base",
      "_model_module_version": "1.2.0",
      "_model_name": "LayoutModel",
      "_view_count": null,
      "_view_module": "@jupyter-widgets/base",
      "_view_module_version": "1.2.0",
      "_view_name": "LayoutView",
      "align_content": null,
      "align_items": null,
      "align_self": null,
      "border": null,
      "bottom": null,
      "display": null,
      "flex": null,
      "flex_flow": null,
      "grid_area": null,
      "grid_auto_columns": null,
      "grid_auto_flow": null,
      "grid_auto_rows": null,
      "grid_column": null,
      "grid_gap": null,
      "grid_row": null,
      "grid_template_areas": null,
      "grid_template_columns": null,
      "grid_template_rows": null,
      "height": null,
      "justify_content": null,
      "justify_items": null,
      "left": null,
      "margin": null,
      "max_height": null,
      "max_width": null,
      "min_height": null,
      "min_width": null,
      "object_fit": null,
      "object_position": null,
      "order": null,
      "overflow": null,
      "overflow_x": null,
      "overflow_y": null,
      "padding": null,
      "right": null,
      "top": null,
      "visibility": null,
      "width": null
     }
    },
    "cfa3e34dfb784301ae5e2f22cba0342f": {
     "model_module": "@jupyter-widgets/base",
     "model_module_version": "1.2.0",
     "model_name": "LayoutModel",
     "state": {
      "_model_module": "@jupyter-widgets/base",
      "_model_module_version": "1.2.0",
      "_model_name": "LayoutModel",
      "_view_count": null,
      "_view_module": "@jupyter-widgets/base",
      "_view_module_version": "1.2.0",
      "_view_name": "LayoutView",
      "align_content": null,
      "align_items": null,
      "align_self": null,
      "border": null,
      "bottom": null,
      "display": null,
      "flex": null,
      "flex_flow": null,
      "grid_area": null,
      "grid_auto_columns": null,
      "grid_auto_flow": null,
      "grid_auto_rows": null,
      "grid_column": null,
      "grid_gap": null,
      "grid_row": null,
      "grid_template_areas": null,
      "grid_template_columns": null,
      "grid_template_rows": null,
      "height": null,
      "justify_content": null,
      "justify_items": null,
      "left": null,
      "margin": null,
      "max_height": null,
      "max_width": null,
      "min_height": null,
      "min_width": null,
      "object_fit": null,
      "object_position": null,
      "order": null,
      "overflow": null,
      "overflow_x": null,
      "overflow_y": null,
      "padding": null,
      "right": null,
      "top": null,
      "visibility": null,
      "width": null
     }
    },
    "cff091248223440bb57a170c36a10ae0": {
     "model_module": "@jupyter-widgets/controls",
     "model_module_version": "1.5.0",
     "model_name": "HBoxModel",
     "state": {
      "_dom_classes": [],
      "_model_module": "@jupyter-widgets/controls",
      "_model_module_version": "1.5.0",
      "_model_name": "HBoxModel",
      "_view_count": null,
      "_view_module": "@jupyter-widgets/controls",
      "_view_module_version": "1.5.0",
      "_view_name": "HBoxView",
      "box_style": "",
      "children": [
       "IPY_MODEL_1c3f244880264a3dab923bfa7ae3e6db",
       "IPY_MODEL_79a6375800fe443aaa370c315707b306",
       "IPY_MODEL_3a7e3dafd4cc425fab471324f1aec5fb"
      ],
      "layout": "IPY_MODEL_4b6e7ab53f4f4e1aae525265806550f3"
     }
    },
    "d186ee1f70684b358348b774cba9f1c0": {
     "model_module": "@jupyter-widgets/controls",
     "model_module_version": "1.5.0",
     "model_name": "DescriptionStyleModel",
     "state": {
      "_model_module": "@jupyter-widgets/controls",
      "_model_module_version": "1.5.0",
      "_model_name": "DescriptionStyleModel",
      "_view_count": null,
      "_view_module": "@jupyter-widgets/base",
      "_view_module_version": "1.2.0",
      "_view_name": "StyleView",
      "description_width": ""
     }
    },
    "d5cc0e12416246d0a3d6325cbcc90dd1": {
     "model_module": "@jupyter-widgets/controls",
     "model_module_version": "1.5.0",
     "model_name": "ProgressStyleModel",
     "state": {
      "_model_module": "@jupyter-widgets/controls",
      "_model_module_version": "1.5.0",
      "_model_name": "ProgressStyleModel",
      "_view_count": null,
      "_view_module": "@jupyter-widgets/base",
      "_view_module_version": "1.2.0",
      "_view_name": "StyleView",
      "bar_color": null,
      "description_width": ""
     }
    },
    "dcf03c9bc746470ebf280843d01f02e3": {
     "model_module": "@jupyter-widgets/base",
     "model_module_version": "1.2.0",
     "model_name": "LayoutModel",
     "state": {
      "_model_module": "@jupyter-widgets/base",
      "_model_module_version": "1.2.0",
      "_model_name": "LayoutModel",
      "_view_count": null,
      "_view_module": "@jupyter-widgets/base",
      "_view_module_version": "1.2.0",
      "_view_name": "LayoutView",
      "align_content": null,
      "align_items": null,
      "align_self": null,
      "border": null,
      "bottom": null,
      "display": null,
      "flex": null,
      "flex_flow": null,
      "grid_area": null,
      "grid_auto_columns": null,
      "grid_auto_flow": null,
      "grid_auto_rows": null,
      "grid_column": null,
      "grid_gap": null,
      "grid_row": null,
      "grid_template_areas": null,
      "grid_template_columns": null,
      "grid_template_rows": null,
      "height": null,
      "justify_content": null,
      "justify_items": null,
      "left": null,
      "margin": null,
      "max_height": null,
      "max_width": null,
      "min_height": null,
      "min_width": null,
      "object_fit": null,
      "object_position": null,
      "order": null,
      "overflow": null,
      "overflow_x": null,
      "overflow_y": null,
      "padding": null,
      "right": null,
      "top": null,
      "visibility": null,
      "width": null
     }
    },
    "e623dfe017b940208dd7caa9f6964935": {
     "model_module": "@jupyter-widgets/controls",
     "model_module_version": "1.5.0",
     "model_name": "DescriptionStyleModel",
     "state": {
      "_model_module": "@jupyter-widgets/controls",
      "_model_module_version": "1.5.0",
      "_model_name": "DescriptionStyleModel",
      "_view_count": null,
      "_view_module": "@jupyter-widgets/base",
      "_view_module_version": "1.2.0",
      "_view_name": "StyleView",
      "description_width": ""
     }
    },
    "eb7c496d8d1d417090528f61f6ec0bc0": {
     "model_module": "@jupyter-widgets/base",
     "model_module_version": "1.2.0",
     "model_name": "LayoutModel",
     "state": {
      "_model_module": "@jupyter-widgets/base",
      "_model_module_version": "1.2.0",
      "_model_name": "LayoutModel",
      "_view_count": null,
      "_view_module": "@jupyter-widgets/base",
      "_view_module_version": "1.2.0",
      "_view_name": "LayoutView",
      "align_content": null,
      "align_items": null,
      "align_self": null,
      "border": null,
      "bottom": null,
      "display": null,
      "flex": null,
      "flex_flow": null,
      "grid_area": null,
      "grid_auto_columns": null,
      "grid_auto_flow": null,
      "grid_auto_rows": null,
      "grid_column": null,
      "grid_gap": null,
      "grid_row": null,
      "grid_template_areas": null,
      "grid_template_columns": null,
      "grid_template_rows": null,
      "height": null,
      "justify_content": null,
      "justify_items": null,
      "left": null,
      "margin": null,
      "max_height": null,
      "max_width": null,
      "min_height": null,
      "min_width": null,
      "object_fit": null,
      "object_position": null,
      "order": null,
      "overflow": null,
      "overflow_x": null,
      "overflow_y": null,
      "padding": null,
      "right": null,
      "top": null,
      "visibility": null,
      "width": null
     }
    },
    "ef70e0a68f7b4d6398a45f52f3380abe": {
     "model_module": "@jupyter-widgets/controls",
     "model_module_version": "1.5.0",
     "model_name": "ProgressStyleModel",
     "state": {
      "_model_module": "@jupyter-widgets/controls",
      "_model_module_version": "1.5.0",
      "_model_name": "ProgressStyleModel",
      "_view_count": null,
      "_view_module": "@jupyter-widgets/base",
      "_view_module_version": "1.2.0",
      "_view_name": "StyleView",
      "bar_color": null,
      "description_width": ""
     }
    },
    "f017b1669b7343e480b0cd040fd31e9d": {
     "model_module": "@jupyter-widgets/base",
     "model_module_version": "1.2.0",
     "model_name": "LayoutModel",
     "state": {
      "_model_module": "@jupyter-widgets/base",
      "_model_module_version": "1.2.0",
      "_model_name": "LayoutModel",
      "_view_count": null,
      "_view_module": "@jupyter-widgets/base",
      "_view_module_version": "1.2.0",
      "_view_name": "LayoutView",
      "align_content": null,
      "align_items": null,
      "align_self": null,
      "border": null,
      "bottom": null,
      "display": null,
      "flex": null,
      "flex_flow": null,
      "grid_area": null,
      "grid_auto_columns": null,
      "grid_auto_flow": null,
      "grid_auto_rows": null,
      "grid_column": null,
      "grid_gap": null,
      "grid_row": null,
      "grid_template_areas": null,
      "grid_template_columns": null,
      "grid_template_rows": null,
      "height": null,
      "justify_content": null,
      "justify_items": null,
      "left": null,
      "margin": null,
      "max_height": null,
      "max_width": null,
      "min_height": null,
      "min_width": null,
      "object_fit": null,
      "object_position": null,
      "order": null,
      "overflow": null,
      "overflow_x": null,
      "overflow_y": null,
      "padding": null,
      "right": null,
      "top": null,
      "visibility": null,
      "width": null
     }
    },
    "f26f492d329944d4a04e55034fcf4a22": {
     "model_module": "@jupyter-widgets/base",
     "model_module_version": "1.2.0",
     "model_name": "LayoutModel",
     "state": {
      "_model_module": "@jupyter-widgets/base",
      "_model_module_version": "1.2.0",
      "_model_name": "LayoutModel",
      "_view_count": null,
      "_view_module": "@jupyter-widgets/base",
      "_view_module_version": "1.2.0",
      "_view_name": "LayoutView",
      "align_content": null,
      "align_items": null,
      "align_self": null,
      "border": null,
      "bottom": null,
      "display": null,
      "flex": null,
      "flex_flow": null,
      "grid_area": null,
      "grid_auto_columns": null,
      "grid_auto_flow": null,
      "grid_auto_rows": null,
      "grid_column": null,
      "grid_gap": null,
      "grid_row": null,
      "grid_template_areas": null,
      "grid_template_columns": null,
      "grid_template_rows": null,
      "height": null,
      "justify_content": null,
      "justify_items": null,
      "left": null,
      "margin": null,
      "max_height": null,
      "max_width": null,
      "min_height": null,
      "min_width": null,
      "object_fit": null,
      "object_position": null,
      "order": null,
      "overflow": null,
      "overflow_x": null,
      "overflow_y": null,
      "padding": null,
      "right": null,
      "top": null,
      "visibility": null,
      "width": null
     }
    },
    "f5ffa81e87b8428bb524be88c8b0369a": {
     "model_module": "@jupyter-widgets/controls",
     "model_module_version": "1.5.0",
     "model_name": "HTMLModel",
     "state": {
      "_dom_classes": [],
      "_model_module": "@jupyter-widgets/controls",
      "_model_module_version": "1.5.0",
      "_model_name": "HTMLModel",
      "_view_count": null,
      "_view_module": "@jupyter-widgets/controls",
      "_view_module_version": "1.5.0",
      "_view_name": "HTMLView",
      "description": "",
      "description_tooltip": null,
      "layout": "IPY_MODEL_eb7c496d8d1d417090528f61f6ec0bc0",
      "placeholder": "​",
      "style": "IPY_MODEL_5239e03afc66470dbf11a5cbe2988690",
      "value": "Epoch:   0%"
     }
    },
    "f788cf300a3c4264a5851508c72cf733": {
     "model_module": "@jupyter-widgets/controls",
     "model_module_version": "1.5.0",
     "model_name": "HTMLModel",
     "state": {
      "_dom_classes": [],
      "_model_module": "@jupyter-widgets/controls",
      "_model_module_version": "1.5.0",
      "_model_name": "HTMLModel",
      "_view_count": null,
      "_view_module": "@jupyter-widgets/controls",
      "_view_module_version": "1.5.0",
      "_view_name": "HTMLView",
      "description": "",
      "description_tooltip": null,
      "layout": "IPY_MODEL_b15f8a46ce6a40dc9296ad15e21e13d1",
      "placeholder": "​",
      "style": "IPY_MODEL_e623dfe017b940208dd7caa9f6964935",
      "value": " 360/360 [02:51&lt;00:00,  2.06it/s]"
     }
    },
    "fb49780850d54bd984164e181cc44212": {
     "model_module": "@jupyter-widgets/controls",
     "model_module_version": "1.5.0",
     "model_name": "ProgressStyleModel",
     "state": {
      "_model_module": "@jupyter-widgets/controls",
      "_model_module_version": "1.5.0",
      "_model_name": "ProgressStyleModel",
      "_view_count": null,
      "_view_module": "@jupyter-widgets/base",
      "_view_module_version": "1.2.0",
      "_view_name": "StyleView",
      "bar_color": null,
      "description_width": ""
     }
    },
    "fba14dc5ff994d579f0c1b640f10e587": {
     "model_module": "@jupyter-widgets/controls",
     "model_module_version": "1.5.0",
     "model_name": "HTMLModel",
     "state": {
      "_dom_classes": [],
      "_model_module": "@jupyter-widgets/controls",
      "_model_module_version": "1.5.0",
      "_model_name": "HTMLModel",
      "_view_count": null,
      "_view_module": "@jupyter-widgets/controls",
      "_view_module_version": "1.5.0",
      "_view_name": "HTMLView",
      "description": "",
      "description_tooltip": null,
      "layout": "IPY_MODEL_737941777520426aa5a2126df88ce26f",
      "placeholder": "​",
      "style": "IPY_MODEL_d186ee1f70684b358348b774cba9f1c0",
      "value": " 1/1 [03:03&lt;00:00, 183.97s/it]"
     }
    },
    "ffe68cc84da141449cd72273a58fbcc0": {
     "model_module": "@jupyter-widgets/base",
     "model_module_version": "1.2.0",
     "model_name": "LayoutModel",
     "state": {
      "_model_module": "@jupyter-widgets/base",
      "_model_module_version": "1.2.0",
      "_model_name": "LayoutModel",
      "_view_count": null,
      "_view_module": "@jupyter-widgets/base",
      "_view_module_version": "1.2.0",
      "_view_name": "LayoutView",
      "align_content": null,
      "align_items": null,
      "align_self": null,
      "border": null,
      "bottom": null,
      "display": null,
      "flex": null,
      "flex_flow": null,
      "grid_area": null,
      "grid_auto_columns": null,
      "grid_auto_flow": null,
      "grid_auto_rows": null,
      "grid_column": null,
      "grid_gap": null,
      "grid_row": null,
      "grid_template_areas": null,
      "grid_template_columns": null,
      "grid_template_rows": null,
      "height": null,
      "justify_content": null,
      "justify_items": null,
      "left": null,
      "margin": null,
      "max_height": null,
      "max_width": null,
      "min_height": null,
      "min_width": null,
      "object_fit": null,
      "object_position": null,
      "order": null,
      "overflow": null,
      "overflow_x": null,
      "overflow_y": null,
      "padding": null,
      "right": null,
      "top": null,
      "visibility": null,
      "width": null
     }
    }
   }
  }
 },
 "nbformat": 4,
 "nbformat_minor": 1
}
