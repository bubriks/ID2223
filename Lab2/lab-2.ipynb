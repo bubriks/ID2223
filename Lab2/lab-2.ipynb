{
 "cells": [
  {
   "cell_type": "markdown",
   "metadata": {
    "id": "ZXAsTICnCOE8"
   },
   "source": [
    "# **LAB-2: Scalable Machine Learning and Deep Learning**\n",
    "\n",
    "## **Paolo Teta & Ralfs Zangis**\n",
    "---\n",
    "**TASK:** Implement **S-BERT** model\n",
    "\n",
    "**Outline:**\n",
    "- Load the dataset\n",
    "- Regression\n",
    "- Classification\n",
    "- Evaluation with STS benchmark dataset (cosine similarity and Spearmean correlation)\n",
    "- Semantic search\n",
    "---"
   ]
  },
  {
   "cell_type": "markdown",
   "metadata": {},
   "source": [
    "### **Download and extract the following Google Drive folder:**\n",
    "https://drive.google.com/drive/folders/1SbiN2jpliKi_9B0gsRTKDbMRgsFJTOjV?usp=sharing"
   ]
  },
  {
   "cell_type": "markdown",
   "metadata": {
    "id": "rnSVIDnel6l1"
   },
   "source": [
    "## **Requirements**"
   ]
  },
  {
   "cell_type": "markdown",
   "metadata": {},
   "source": [
    "### Install dependencies"
   ]
  },
  {
   "cell_type": "code",
   "execution_count": 1,
   "metadata": {},
   "outputs": [
    {
     "name": "stdout",
     "output_type": "stream",
     "text": [
      "Requirement already satisfied: sentence_transformers in c:\\users\\utente\\anaconda3\\lib\\site-packages (2.1.0)\n",
      "Requirement already satisfied: transformers<5.0.0,>=4.6.0 in c:\\users\\utente\\anaconda3\\lib\\site-packages (from sentence_transformers) (4.13.0)\n",
      "Requirement already satisfied: sentencepiece in c:\\users\\utente\\anaconda3\\lib\\site-packages (from sentence_transformers) (0.1.96)\n",
      "Requirement already satisfied: nltk in c:\\users\\utente\\anaconda3\\lib\\site-packages (from sentence_transformers) (3.6.5)\n",
      "Requirement already satisfied: tokenizers>=0.10.3 in c:\\users\\utente\\anaconda3\\lib\\site-packages (from sentence_transformers) (0.10.3)\n",
      "Requirement already satisfied: torchvision in c:\\users\\utente\\anaconda3\\lib\\site-packages (from sentence_transformers) (0.10.0)\n",
      "Requirement already satisfied: scipy in c:\\users\\utente\\anaconda3\\lib\\site-packages (from sentence_transformers) (1.7.1)\n",
      "Requirement already satisfied: huggingface-hub in c:\\users\\utente\\anaconda3\\lib\\site-packages (from sentence_transformers) (0.2.1)\n",
      "Requirement already satisfied: numpy in c:\\users\\utente\\anaconda3\\lib\\site-packages (from sentence_transformers) (1.18.5)\n",
      "Requirement already satisfied: tqdm in c:\\users\\utente\\anaconda3\\lib\\site-packages (from sentence_transformers) (4.62.3)\n",
      "Requirement already satisfied: scikit-learn in c:\\users\\utente\\anaconda3\\lib\\site-packages (from sentence_transformers) (1.0.1)\n",
      "Requirement already satisfied: torch>=1.6.0 in c:\\users\\utente\\anaconda3\\lib\\site-packages (from sentence_transformers) (1.9.0)\n",
      "Requirement already satisfied: typing_extensions in c:\\users\\utente\\anaconda3\\lib\\site-packages (from torch>=1.6.0->sentence_transformers) (3.10.0.2)\n",
      "Requirement already satisfied: requests in c:\\users\\utente\\anaconda3\\lib\\site-packages (from transformers<5.0.0,>=4.6.0->sentence_transformers) (2.26.0)\n",
      "Requirement already satisfied: packaging>=20.0 in c:\\users\\utente\\anaconda3\\lib\\site-packages (from transformers<5.0.0,>=4.6.0->sentence_transformers) (21.0)\n",
      "Requirement already satisfied: sacremoses in c:\\users\\utente\\anaconda3\\lib\\site-packages (from transformers<5.0.0,>=4.6.0->sentence_transformers) (0.0.46)\n",
      "Requirement already satisfied: filelock in c:\\users\\utente\\anaconda3\\lib\\site-packages (from transformers<5.0.0,>=4.6.0->sentence_transformers) (3.3.1)\n",
      "Requirement already satisfied: regex!=2019.12.17 in c:\\users\\utente\\anaconda3\\lib\\site-packages (from transformers<5.0.0,>=4.6.0->sentence_transformers) (2021.8.3)\n",
      "Requirement already satisfied: pyyaml>=5.1 in c:\\users\\utente\\anaconda3\\lib\\site-packages (from transformers<5.0.0,>=4.6.0->sentence_transformers) (6.0)\n",
      "Requirement already satisfied: pyparsing>=2.0.2 in c:\\users\\utente\\anaconda3\\lib\\site-packages (from packaging>=20.0->transformers<5.0.0,>=4.6.0->sentence_transformers) (3.0.4)\n",
      "Requirement already satisfied: colorama in c:\\users\\utente\\anaconda3\\lib\\site-packages (from tqdm->sentence_transformers) (0.4.4)\n",
      "Requirement already satisfied: click in c:\\users\\utente\\anaconda3\\lib\\site-packages (from nltk->sentence_transformers) (8.0.3)\n",
      "Requirement already satisfied: joblib in c:\\users\\utente\\anaconda3\\lib\\site-packages (from nltk->sentence_transformers) (1.1.0)\n",
      "Requirement already satisfied: charset-normalizer~=2.0.0 in c:\\users\\utente\\anaconda3\\lib\\site-packages (from requests->transformers<5.0.0,>=4.6.0->sentence_transformers) (2.0.4)\n",
      "Requirement already satisfied: idna<4,>=2.5 in c:\\users\\utente\\anaconda3\\lib\\site-packages (from requests->transformers<5.0.0,>=4.6.0->sentence_transformers) (3.2)\n",
      "Requirement already satisfied: urllib3<1.27,>=1.21.1 in c:\\users\\utente\\anaconda3\\lib\\site-packages (from requests->transformers<5.0.0,>=4.6.0->sentence_transformers) (1.26.7)\n",
      "Requirement already satisfied: certifi>=2017.4.17 in c:\\users\\utente\\anaconda3\\lib\\site-packages (from requests->transformers<5.0.0,>=4.6.0->sentence_transformers) (2021.10.8)\n",
      "Requirement already satisfied: six in c:\\users\\utente\\anaconda3\\lib\\site-packages (from sacremoses->transformers<5.0.0,>=4.6.0->sentence_transformers) (1.16.0)\n",
      "Requirement already satisfied: threadpoolctl>=2.0.0 in c:\\users\\utente\\anaconda3\\lib\\site-packages (from scikit-learn->sentence_transformers) (2.2.0)\n",
      "Requirement already satisfied: pillow>=5.3.0 in c:\\users\\utente\\anaconda3\\lib\\site-packages (from torchvision->sentence_transformers) (8.4.0)\n",
      "Requirement already satisfied: transformers in c:\\users\\utente\\anaconda3\\lib\\site-packages (4.13.0)\n",
      "Requirement already satisfied: tokenizers<0.11,>=0.10.1 in c:\\users\\utente\\anaconda3\\lib\\site-packages (from transformers) (0.10.3)\n",
      "Requirement already satisfied: regex!=2019.12.17 in c:\\users\\utente\\anaconda3\\lib\\site-packages (from transformers) (2021.8.3)\n",
      "Requirement already satisfied: requests in c:\\users\\utente\\anaconda3\\lib\\site-packages (from transformers) (2.26.0)\n",
      "Requirement already satisfied: sacremoses in c:\\users\\utente\\anaconda3\\lib\\site-packages (from transformers) (0.0.46)\n",
      "Requirement already satisfied: pyyaml>=5.1 in c:\\users\\utente\\anaconda3\\lib\\site-packages (from transformers) (6.0)\n",
      "Requirement already satisfied: numpy>=1.17 in c:\\users\\utente\\anaconda3\\lib\\site-packages (from transformers) (1.18.5)\n",
      "Requirement already satisfied: packaging>=20.0 in c:\\users\\utente\\anaconda3\\lib\\site-packages (from transformers) (21.0)\n",
      "Requirement already satisfied: huggingface-hub<1.0,>=0.1.0 in c:\\users\\utente\\anaconda3\\lib\\site-packages (from transformers) (0.2.1)\n",
      "Requirement already satisfied: filelock in c:\\users\\utente\\anaconda3\\lib\\site-packages (from transformers) (3.3.1)\n",
      "Requirement already satisfied: tqdm>=4.27 in c:\\users\\utente\\anaconda3\\lib\\site-packages (from transformers) (4.62.3)\n",
      "Requirement already satisfied: typing-extensions>=3.7.4.3 in c:\\users\\utente\\anaconda3\\lib\\site-packages (from huggingface-hub<1.0,>=0.1.0->transformers) (3.10.0.2)\n",
      "Requirement already satisfied: pyparsing>=2.0.2 in c:\\users\\utente\\anaconda3\\lib\\site-packages (from packaging>=20.0->transformers) (3.0.4)\n",
      "Requirement already satisfied: colorama in c:\\users\\utente\\anaconda3\\lib\\site-packages (from tqdm>=4.27->transformers) (0.4.4)\n",
      "Requirement already satisfied: charset-normalizer~=2.0.0 in c:\\users\\utente\\anaconda3\\lib\\site-packages (from requests->transformers) (2.0.4)\n",
      "Requirement already satisfied: urllib3<1.27,>=1.21.1 in c:\\users\\utente\\anaconda3\\lib\\site-packages (from requests->transformers) (1.26.7)\n",
      "Requirement already satisfied: certifi>=2017.4.17 in c:\\users\\utente\\anaconda3\\lib\\site-packages (from requests->transformers) (2021.10.8)\n",
      "Requirement already satisfied: idna<4,>=2.5 in c:\\users\\utente\\anaconda3\\lib\\site-packages (from requests->transformers) (3.2)\n",
      "Requirement already satisfied: click in c:\\users\\utente\\anaconda3\\lib\\site-packages (from sacremoses->transformers) (8.0.3)\n",
      "Requirement already satisfied: six in c:\\users\\utente\\anaconda3\\lib\\site-packages (from sacremoses->transformers) (1.16.0)\n",
      "Requirement already satisfied: joblib in c:\\users\\utente\\anaconda3\\lib\\site-packages (from sacremoses->transformers) (1.1.0)\n",
      "Requirement already satisfied: tokenizers in c:\\users\\utente\\anaconda3\\lib\\site-packages (0.10.3)\n",
      "Requirement already satisfied: pyspark in c:\\users\\utente\\anaconda3\\lib\\site-packages (3.2.0)\n",
      "Requirement already satisfied: py4j==0.10.9.2 in c:\\users\\utente\\anaconda3\\lib\\site-packages (from pyspark) (0.10.9.2)\n",
      "Requirement already satisfied: torch in c:\\users\\utente\\anaconda3\\lib\\site-packages (1.9.0)\n",
      "Requirement already satisfied: typing_extensions in c:\\users\\utente\\anaconda3\\lib\\site-packages (from torch) (3.10.0.2)\n",
      "Requirement already satisfied: wget in c:\\users\\utente\\anaconda3\\lib\\site-packages (3.2)\n"
     ]
    }
   ],
   "source": [
    "!pip install sentence_transformers\n",
    "!pip install transformers\n",
    "!pip install tokenizers\n",
    "!pip install pyspark\n",
    "!pip install torch\n",
    "!pip install wget"
   ]
  },
  {
   "cell_type": "markdown",
   "metadata": {},
   "source": [
    "### Spark"
   ]
  },
  {
   "cell_type": "code",
   "execution_count": 2,
   "metadata": {},
   "outputs": [],
   "source": [
    "from pyspark.sql import SparkSession\n",
    "from pyspark.ml.feature import *\n",
    "from pyspark.sql.functions import *\n",
    "from pyspark.sql.types import *\n",
    "\n",
    "spark = SparkSession.builder.getOrCreate()"
   ]
  },
  {
   "cell_type": "markdown",
   "metadata": {},
   "source": [
    "### ML"
   ]
  },
  {
   "cell_type": "code",
   "execution_count": 3,
   "metadata": {},
   "outputs": [],
   "source": [
    "import tensorflow as tf\n",
    "\n",
    "from tensorflow import keras\n",
    "from tensorflow.keras import layers\n",
    "from tensorflow.keras.layers import Input\n",
    "\n",
    "from sentence_transformers import SentenceTransformer\n",
    "from sentence_transformers import LoggingHandler\n",
    "from sentence_transformers import models, losses, util\n",
    "from sentence_transformers.evaluation import EmbeddingSimilarityEvaluator\n",
    "from sentence_transformers.readers import InputExample\n",
    "\n",
    "from transformers import BertTokenizer, TFBertModel, BertConfig\n",
    "# from transformers import DistilBertTokenizer, DistilBertModel # -> smaller model"
   ]
  },
  {
   "cell_type": "markdown",
   "metadata": {},
   "source": [
    "### Other"
   ]
  },
  {
   "cell_type": "code",
   "execution_count": 4,
   "metadata": {
    "id": "yugvCJ05CMg9"
   },
   "outputs": [],
   "source": [
    "import os\n",
    "import re\n",
    "import csv\n",
    "import wget\n",
    "import json\n",
    "import math\n",
    "import scipy\n",
    "import torch\n",
    "import pickle\n",
    "import string\n",
    "import sklearn\n",
    "\n",
    "import numpy as np\n",
    "import pandas as pd\n",
    "\n",
    "from tokenizers import BertWordPieceTokenizer\n",
    "from torch.utils.data import DataLoader\n",
    "from datetime import datetime"
   ]
  },
  {
   "cell_type": "markdown",
   "metadata": {},
   "source": [
    "---"
   ]
  },
  {
   "cell_type": "markdown",
   "metadata": {
    "id": "BHTmDfTnpiYW"
   },
   "source": [
    "## **REGRESSION**"
   ]
  },
  {
   "cell_type": "markdown",
   "metadata": {
    "id": "DKMoZfeDqHOY"
   },
   "source": [
    "### Loading the datasets"
   ]
  },
  {
   "cell_type": "code",
   "execution_count": 5,
   "metadata": {},
   "outputs": [
    {
     "name": "stdout",
     "output_type": "stream",
     "text": [
      "+-------------+--------+--------+-------+-----+--------------------+--------------------+\n",
      "|        genre|filename|    year|year_id|score|           sentence1|           sentence2|\n",
      "+-------------+--------+--------+-------+-----+--------------------+--------------------+\n",
      "|main-captions|  MSRvid|2012test|      1|  5.0|A plane is taking...|An air plane is t...|\n",
      "|main-captions|  MSRvid|2012test|      4|  3.8|A man is playing ...|A man is playing ...|\n",
      "|main-captions|  MSRvid|2012test|      5|  3.8|A man is spreadin...|A man is spreadin...|\n",
      "|main-captions|  MSRvid|2012test|      6|  2.6|Three men are pla...|Two men are playi...|\n",
      "|main-captions|  MSRvid|2012test|      9| 4.25|A man is playing ...|A man seated is p...|\n",
      "|main-captions|  MSRvid|2012test|     11| 4.25|Some men are figh...|Two men are fight...|\n",
      "|main-captions|  MSRvid|2012test|     12|  0.5|   A man is smoking.|   A man is skating.|\n",
      "|main-captions|  MSRvid|2012test|     13|  1.6|The man is playin...|The man is playin...|\n",
      "|main-captions|  MSRvid|2012test|     14|  2.2|A man is playing ...|A woman is playin...|\n",
      "|main-captions|  MSRvid|2012test|     16|  5.0|A person is throw...|A person throws a...|\n",
      "|main-captions|  MSRvid|2012test|     17|  4.2|The man hit the o...|The man spanked t...|\n",
      "|main-captions|  MSRvid|2012test|     18|  4.6|A woman picks up ...|A woman picks up ...|\n",
      "|main-captions|  MSRvid|2012test|     19|3.867|A man is playing ...|A man is playing ...|\n",
      "|main-captions|  MSRvid|2012test|     20|4.667|A person is foldi...|Someone is foldin...|\n",
      "|main-captions|  MSRvid|2012test|     21|1.667|A man is running ...|A panda dog is ru...|\n",
      "|main-captions|  MSRvid|2012test|     22| 3.75|A dog is trying t...|A dog is trying t...|\n",
      "|main-captions|  MSRvid|2012test|     25|  5.0|The polar bear is...|A polar bear is s...|\n",
      "|main-captions|  MSRvid|2012test|     26|  0.5| A woman is writing.|A woman is swimming.|\n",
      "|main-captions|  MSRvid|2012test|     28|  3.8|A cat is rubbing ...|A cat is rubbing ...|\n",
      "|main-captions|  MSRvid|2012test|     29|  5.0|The man is riding...|A man is riding o...|\n",
      "+-------------+--------+--------+-------+-----+--------------------+--------------------+\n",
      "only showing top 20 rows\n",
      "\n"
     ]
    }
   ],
   "source": [
    "schema = StructType([\n",
    "    StructField(\"genre\", StringType(), True),\n",
    "    StructField(\"filename\", StringType(), True),\n",
    "    StructField(\"year\", StringType(), True),\n",
    "    StructField(\"year_id\", IntegerType(), True),\n",
    "    StructField(\"score\", FloatType(), True),\n",
    "    StructField(\"sentence1\", StringType(), True),\n",
    "    StructField(\"sentence2\", StringType(), True)])\n",
    "\n",
    "train = spark.read.csv(\"./lab2_files/dataset/stsbenchmark/sts-train.csv\", sep ='\\t', header=False, schema=schema)\n",
    "test = spark.read.csv(\"./lab2_files/dataset/stsbenchmark/sts-test.csv\", sep ='\\t', header=False, schema=schema)\n",
    "dev = spark.read.csv(\"./lab2_files/dataset/stsbenchmark/sts-dev.csv\", sep ='\\t', header=False, schema=schema)\n",
    "\n",
    "train.show()"
   ]
  },
  {
   "cell_type": "markdown",
   "metadata": {},
   "source": [
    "### Normalize"
   ]
  },
  {
   "cell_type": "code",
   "execution_count": 6,
   "metadata": {},
   "outputs": [
    {
     "name": "stdout",
     "output_type": "stream",
     "text": [
      "+-------+--------------------+\n",
      "|summary|               label|\n",
      "+-------+--------------------+\n",
      "|  count|                1500|\n",
      "|   mean|-0.05443697837591158|\n",
      "| stddev|  0.6001942581590352|\n",
      "|    min|                -1.0|\n",
      "|    max|                 1.0|\n",
      "+-------+--------------------+\n",
      "\n"
     ]
    }
   ],
   "source": [
    "train = train.withColumn(\"label\", col(\"score\")/2.5-1)\n",
    "test = test.withColumn(\"label\", col(\"score\")/2.5-1)\n",
    "dev = dev.withColumn(\"label\", col(\"score\")/2.5-1)\n",
    "\n",
    "dev.select(\"label\").describe().show()"
   ]
  },
  {
   "cell_type": "markdown",
   "metadata": {},
   "source": [
    "### Fill NAN"
   ]
  },
  {
   "cell_type": "code",
   "execution_count": 7,
   "metadata": {},
   "outputs": [],
   "source": [
    "train = train.na.fill(value=\"\",subset=[\"sentence1\", \"sentence2\"])\n",
    "test = test.na.fill(value=\"\",subset=[\"sentence1\", \"sentence2\"])\n",
    "dev = dev.na.fill(value=\"\",subset=[\"sentence1\", \"sentence2\"])"
   ]
  },
  {
   "cell_type": "markdown",
   "metadata": {},
   "source": [
    "### Create samples"
   ]
  },
  {
   "cell_type": "code",
   "execution_count": 8,
   "metadata": {},
   "outputs": [],
   "source": [
    "def CreatInputExampleList(df):\n",
    "    samples = []\n",
    "    for index, row in df.iterrows():\n",
    "        input_example = InputExample(texts=[row['sentence1'], row['sentence2']], label=row['label'])\n",
    "        samples.append(input_example)\n",
    "    return samples"
   ]
  },
  {
   "cell_type": "code",
   "execution_count": 9,
   "metadata": {
    "id": "wFbZbwrhAmQf"
   },
   "outputs": [],
   "source": [
    "df_train = train.select(\"sentence1\", \"sentence2\", \"label\").toPandas()\n",
    "\n",
    "train_samples = CreatInputExampleList(df_train)"
   ]
  },
  {
   "cell_type": "code",
   "execution_count": 10,
   "metadata": {
    "id": "NqwOffUzOCIh"
   },
   "outputs": [],
   "source": [
    "df_test = test.select(\"sentence1\", \"sentence2\", \"label\").toPandas()\n",
    "\n",
    "test_samples = CreatInputExampleList(df_test)"
   ]
  },
  {
   "cell_type": "code",
   "execution_count": 11,
   "metadata": {
    "id": "s2u5HRNUN9Po"
   },
   "outputs": [],
   "source": [
    "df_dev = dev.select(\"sentence1\", \"sentence2\", \"label\").toPandas()\n",
    "\n",
    "dev_samples = CreatInputExampleList(df_dev)"
   ]
  },
  {
   "cell_type": "markdown",
   "metadata": {
    "id": "Fc11KhHR2nH4"
   },
   "source": [
    "### **Define the model**"
   ]
  },
  {
   "cell_type": "code",
   "execution_count": 12,
   "metadata": {
    "id": "RozMxge52jC7"
   },
   "outputs": [
    {
     "name": "stderr",
     "output_type": "stream",
     "text": [
      "Some weights of the model checkpoint at bert-base-uncased were not used when initializing BertModel: ['cls.predictions.transform.dense.bias', 'cls.predictions.bias', 'cls.predictions.transform.dense.weight', 'cls.seq_relationship.bias', 'cls.seq_relationship.weight', 'cls.predictions.transform.LayerNorm.bias', 'cls.predictions.decoder.weight', 'cls.predictions.transform.LayerNorm.weight']\n",
      "- This IS expected if you are initializing BertModel from the checkpoint of a model trained on another task or with another architecture (e.g. initializing a BertForSequenceClassification model from a BertForPreTraining model).\n",
      "- This IS NOT expected if you are initializing BertModel from the checkpoint of a model that you expect to be exactly identical (initializing a BertForSequenceClassification model from a BertForSequenceClassification model).\n"
     ]
    }
   ],
   "source": [
    "model_name = 'bert-base-uncased' # original model\n",
    "# model_name = 'distilbert-base-uncased' # smaller model\n",
    "word_embedding = models.Transformer(model_name)\n",
    "\n",
    "# Set mean-pooling strategy\n",
    "pooling = models.Pooling(word_embedding.get_word_embedding_dimension(),\n",
    "                         pooling_mode_mean_tokens=True,\n",
    "                         pooling_mode_cls_token=False,\n",
    "                         pooling_mode_max_tokens=False)\n",
    "\n",
    "model_reg = SentenceTransformer(modules=[word_embedding, pooling])"
   ]
  },
  {
   "cell_type": "code",
   "execution_count": 13,
   "metadata": {},
   "outputs": [],
   "source": [
    "# train_batch_size = 16\n",
    "train_batch_size = 32 # try to speed up the training\n",
    "\n",
    "learn_rate = 2e-5\n",
    "num_epochs = 1"
   ]
  },
  {
   "cell_type": "markdown",
   "metadata": {
    "id": "tNI9URmg4vCk"
   },
   "source": [
    "### Load the training set and define the loss function as the cosine similarity"
   ]
  },
  {
   "cell_type": "code",
   "execution_count": 14,
   "metadata": {
    "id": "iht5w4HJlhtt"
   },
   "outputs": [],
   "source": [
    "train_dataloader = DataLoader(train_samples, shuffle=True, batch_size=train_batch_size)\n",
    "\n",
    "train_loss = losses.CosineSimilarityLoss(model=model_reg)"
   ]
  },
  {
   "cell_type": "markdown",
   "metadata": {
    "id": "NYZlyR-i6z3j"
   },
   "source": [
    "### Define the evaluator for the sentence embeddings"
   ]
  },
  {
   "cell_type": "code",
   "execution_count": 15,
   "metadata": {
    "id": "JchPxNSDT2f9"
   },
   "outputs": [],
   "source": [
    "evaluator = EmbeddingSimilarityEvaluator.from_input_examples(dev_samples, name='sts-dev')"
   ]
  },
  {
   "cell_type": "markdown",
   "metadata": {
    "id": "yQ2IPb4y7CVk"
   },
   "source": [
    "### Set 10% of training dataset for warm-up"
   ]
  },
  {
   "cell_type": "code",
   "execution_count": 16,
   "metadata": {
    "id": "g-nlK2kmUCve"
   },
   "outputs": [],
   "source": [
    "warmup_steps = math.ceil(len(train_dataloader) * num_epochs * 0.1)"
   ]
  },
  {
   "cell_type": "markdown",
   "metadata": {
    "id": "0jrrFM8r7Ly9"
   },
   "source": [
    "### **Training**"
   ]
  },
  {
   "cell_type": "code",
   "execution_count": 17,
   "metadata": {
    "colab": {
     "base_uri": "https://localhost:8080/",
     "height": 81,
     "referenced_widgets": [
      "ba25da94c38e4755a394b057a5c7fd58",
      "833c168297d84ac0adac52a246c7cd49",
      "87a780ce24484359a7df518b19024b55",
      "b14d88f448dd46d19900286169697c6a",
      "fba14dc5ff994d579f0c1b640f10e587",
      "884aea71873248ce9a0f6f0237156800",
      "3dc42c11231c4537b0d96b028dada121",
      "ef70e0a68f7b4d6398a45f52f3380abe",
      "dcf03c9bc746470ebf280843d01f02e3",
      "d186ee1f70684b358348b774cba9f1c0",
      "737941777520426aa5a2126df88ce26f",
      "84484e726b194077bf39b4003fdab2e6",
      "b157705019ac41a39d0dd28509291261",
      "76147d34b934402ebe6fa68a93fb236f",
      "70a9a5ef2f3f4130aaf3f2a30dd00524",
      "f788cf300a3c4264a5851508c72cf733",
      "8af6428bfda047cb952080c8b08210e3",
      "cfa3e34dfb784301ae5e2f22cba0342f",
      "aef56e174df5439695847fbbbd175d49",
      "7c308aae6c3e4a9eadf62c9c6b712244",
      "e623dfe017b940208dd7caa9f6964935",
      "b15f8a46ce6a40dc9296ad15e21e13d1"
     ]
    },
    "id": "TxEXdHtiUDXk",
    "outputId": "bcf7f893-b235-4ff4-fc68-cf01b82b1f16"
   },
   "outputs": [],
   "source": [
    "model_location = './lab2_files/saved_models/training_sts'\n",
    "\n",
    "if os.path.exists(model_location):\n",
    "    model_reg = SentenceTransformer(model_location)\n",
    "else:\n",
    "    model_reg.fit(train_objectives=[(train_dataloader, train_loss)],\n",
    "                    optimizer_class=torch.optim.Adam,\n",
    "                    optimizer_params={'lr': learn_rate},\n",
    "                    evaluator=evaluator,\n",
    "                    epochs=num_epochs,\n",
    "                    evaluation_steps=1000,\n",
    "                    warmup_steps=warmup_steps,\n",
    "                    output_path=model_location)"
   ]
  },
  {
   "cell_type": "markdown",
   "metadata": {
    "id": "foas3A_I981K"
   },
   "source": [
    "### **Evaluation**"
   ]
  },
  {
   "cell_type": "markdown",
   "metadata": {},
   "source": [
    "#### Evaluation on STS benchmark dataset (with library)"
   ]
  },
  {
   "cell_type": "code",
   "execution_count": 18,
   "metadata": {
    "colab": {
     "base_uri": "https://localhost:8080/"
    },
    "id": "Qv93RESm_tyi",
    "outputId": "20bec7b0-86ce-409e-8c75-fdf420de9f75"
   },
   "outputs": [
    {
     "name": "stdout",
     "output_type": "stream",
     "text": [
      "Cosine similarity with the sentence_transformers library =  0.5624506124304559\n"
     ]
    }
   ],
   "source": [
    "evaluation_location = \"./lab2_files/regression_results\"\n",
    "\n",
    "if not os.path.exists(evaluation_location):\n",
    "    os.makedirs(evaluation_location)\n",
    "\n",
    "test_eval = EmbeddingSimilarityEvaluator.from_input_examples(test_samples, batch_size=train_batch_size, name='sts-test')\n",
    "c_s = test_eval(model_reg, output_path=evaluation_location)\n",
    "print('Cosine similarity with the sentence_transformers library = ', c_s)"
   ]
  },
  {
   "cell_type": "markdown",
   "metadata": {},
   "source": [
    "#### Evaluation on STS benchmark dataset (no library)"
   ]
  },
  {
   "cell_type": "markdown",
   "metadata": {
    "id": "axyd6hqZ_a5p"
   },
   "source": [
    "##### Embedding sentences"
   ]
  },
  {
   "cell_type": "code",
   "execution_count": 19,
   "metadata": {
    "id": "Vy0C_4qm_tsR"
   },
   "outputs": [],
   "source": [
    "embed_1 = model_reg.encode(df_test['sentence1'], convert_to_numpy=True, batch_size=train_batch_size)\n",
    "embed_2 = model_reg.encode(df_test['sentence2'], convert_to_numpy=True, batch_size=train_batch_size)"
   ]
  },
  {
   "cell_type": "markdown",
   "metadata": {
    "id": "iv3qFiDeB3uS"
   },
   "source": [
    "##### Compute the cosine similarity\n",
    "\n",
    "Mathematical relationship: *cosine_similarity = 1 - cosine_distance*"
   ]
  },
  {
   "cell_type": "code",
   "execution_count": 20,
   "metadata": {
    "colab": {
     "base_uri": "https://localhost:8080/"
    },
    "id": "Y9oux_4b_tk_",
    "outputId": "18e8a104-0908-4930-a5c6-148a032eae80"
   },
   "outputs": [
    {
     "name": "stdout",
     "output_type": "stream",
     "text": [
      "Cosine similarity =  [ 0.4603076   0.8991027   0.5754015  ...  0.04050708  0.27599466\n",
      " -0.03714991]\n"
     ]
    }
   ],
   "source": [
    "cos_sim = 1 - sklearn.metrics.pairwise.paired_cosine_distances(embed_1, embed_2)\n",
    "print('Cosine similarity = ', cos_sim)"
   ]
  },
  {
   "cell_type": "markdown",
   "metadata": {
    "id": "U4d__O86B9DB"
   },
   "source": [
    "##### Spearmean correlation coefficient"
   ]
  },
  {
   "cell_type": "code",
   "execution_count": 21,
   "metadata": {
    "colab": {
     "base_uri": "https://localhost:8080/"
    },
    "id": "oVziirO7-vHR",
    "outputId": "9e554495-c993-4c05-8770-16f77ed256bf"
   },
   "outputs": [
    {
     "name": "stdout",
     "output_type": "stream",
     "text": [
      "Spearmean correlation coefficient =  0.5624506124304559\n"
     ]
    }
   ],
   "source": [
    "spr_corr = scipy.stats.spearmanr(cos_sim, df_test['label'])\n",
    "print('Spearmean correlation coefficient = ', spr_corr[0])"
   ]
  },
  {
   "cell_type": "markdown",
   "metadata": {
    "id": "XW3C-qqGIcpc"
   },
   "source": [
    "**Comment:** the two results match each other"
   ]
  },
  {
   "cell_type": "markdown",
   "metadata": {
    "id": "fAnrAjHCEMqb"
   },
   "source": [
    "---"
   ]
  },
  {
   "cell_type": "markdown",
   "metadata": {
    "id": "MAUh76sD99Y8"
   },
   "source": [
    "## **CLASSIFICATION**"
   ]
  },
  {
   "cell_type": "markdown",
   "metadata": {},
   "source": [
    "### Setup"
   ]
  },
  {
   "cell_type": "code",
   "execution_count": 22,
   "metadata": {
    "colab": {
     "base_uri": "https://localhost:8080/"
    },
    "id": "RixFoG2q3EAV",
    "outputId": "0fa13f5c-ae99-44d8-aea1-64bbb9ae9c4c"
   },
   "outputs": [],
   "source": [
    "if not os.path.exists('./lab2_files/dataset/snli'):\n",
    "    print('Downloading dataset ...')\n",
    "    wget.download('https://nlp.stanford.edu/projects/snli/snli_1.0.zip', './lab2_files/dataset/snli.zip')\n",
    "    !unzip ./lab2_files/dataset/snli.zip -d ./lab2_files/dataset\n",
    "    !mv ./lab2_files/dataset/snli_1.0 ./lab2_files/dataset/snli"
   ]
  },
  {
   "cell_type": "markdown",
   "metadata": {},
   "source": [
    "### Loading the datasets"
   ]
  },
  {
   "cell_type": "code",
   "execution_count": 23,
   "metadata": {},
   "outputs": [],
   "source": [
    "train_class_path = './lab2_files/dataset/snli/snli_1.0_train.jsonl'\n",
    "train_class = spark.read.json(train_class_path)\n",
    "\n",
    "test_class_path = './lab2_files/dataset/snli/snli_1.0_test.jsonl'\n",
    "test_class = spark.read.json(test_class_path)\n",
    "\n",
    "dev_class_path = './lab2_files/dataset/snli/snli_1.0_dev.jsonl'\n",
    "dev_class = spark.read.json(dev_class_path)"
   ]
  },
  {
   "cell_type": "markdown",
   "metadata": {},
   "source": [
    "### String-2-Integer"
   ]
  },
  {
   "cell_type": "code",
   "execution_count": 24,
   "metadata": {},
   "outputs": [],
   "source": [
    "indexer = StringIndexer(inputCol=\"gold_label\", outputCol=\"label\")"
   ]
  },
  {
   "cell_type": "markdown",
   "metadata": {},
   "source": [
    "### Create samples"
   ]
  },
  {
   "cell_type": "code",
   "execution_count": 25,
   "metadata": {},
   "outputs": [],
   "source": [
    "def CreatClassSamples(df):\n",
    "    df = df.filter(col(\"gold_label\") != \"-\")\n",
    "    df = indexer.fit(df).transform(df)\n",
    "    df = df.withColumn(\"label\", col(\"label\").cast('int'))\n",
    "\n",
    "    df_class = df.select(\"sentence1\", \"sentence2\", \"label\").toPandas()\n",
    "\n",
    "    samples = CreatInputExampleList(df_class)\n",
    "    return samples"
   ]
  },
  {
   "cell_type": "code",
   "execution_count": 26,
   "metadata": {
    "id": "afHN7VUd66aF"
   },
   "outputs": [],
   "source": [
    "train_class_samples = CreatClassSamples(train_class)\n",
    "test_class_samples = CreatClassSamples(test_class)\n",
    "dev_class_samples = CreatClassSamples(dev_class)"
   ]
  },
  {
   "cell_type": "markdown",
   "metadata": {},
   "source": [
    "### **Define the model**"
   ]
  },
  {
   "cell_type": "code",
   "execution_count": 27,
   "metadata": {},
   "outputs": [],
   "source": [
    "model_class = SentenceTransformer(modules=[word_embedding, pooling])"
   ]
  },
  {
   "cell_type": "markdown",
   "metadata": {},
   "source": [
    "### Load the training set and define the loss function as the cosine similarity"
   ]
  },
  {
   "cell_type": "code",
   "execution_count": 28,
   "metadata": {
    "id": "Ag3lU3dc_vWv"
   },
   "outputs": [],
   "source": [
    "train_dataloader_cl = DataLoader(train_class_samples, shuffle=True, batch_size=train_batch_size)\n",
    "\n",
    "num_lables = test_class.select('gold_label').distinct().count() - 1\n",
    "\n",
    "train_loss_cl = losses.SoftmaxLoss(model=model_class, sentence_embedding_dimension=model_class.get_sentence_embedding_dimension(), num_labels=num_lables)"
   ]
  },
  {
   "cell_type": "markdown",
   "metadata": {},
   "source": [
    "### Define the evaluator for the sentence embeddings"
   ]
  },
  {
   "cell_type": "code",
   "execution_count": 29,
   "metadata": {
    "id": "kG1JbqW5_vTn"
   },
   "outputs": [],
   "source": [
    "evaluator_cl = EmbeddingSimilarityEvaluator.from_input_examples(dev_class_samples, batch_size=train_batch_size, name='snli-dev')"
   ]
  },
  {
   "cell_type": "markdown",
   "metadata": {},
   "source": [
    "### Set 10% of training dataset for warm-up"
   ]
  },
  {
   "cell_type": "code",
   "execution_count": 30,
   "metadata": {
    "id": "5vBMSbRE8ReU"
   },
   "outputs": [],
   "source": [
    "warmup_steps_cl = math.ceil(len(train_dataloader_cl) * num_epochs * 0.1)"
   ]
  },
  {
   "cell_type": "markdown",
   "metadata": {},
   "source": [
    "### **Training**"
   ]
  },
  {
   "cell_type": "code",
   "execution_count": 31,
   "metadata": {
    "colab": {
     "base_uri": "https://localhost:8080/",
     "height": 81,
     "referenced_widgets": [
      "75ca2c40fa0b47588ed204c33ed63bc9",
      "f5ffa81e87b8428bb524be88c8b0369a",
      "7b11724581524a3da18e379bc4b929aa",
      "9650eb9ca49046ea9708b207d89303e4",
      "c2d7261b441a4d53be05ce37f9071d19",
      "eb7c496d8d1d417090528f61f6ec0bc0",
      "5239e03afc66470dbf11a5cbe2988690",
      "ffe68cc84da141449cd72273a58fbcc0",
      "fb49780850d54bd984164e181cc44212",
      "f26f492d329944d4a04e55034fcf4a22",
      "b08dbec935b04861ba063c2ecbfa8a5e",
      "396c91f6e19c42ec85becb2044f8f94b",
      "9fcb49816ac7452d95ac2899cb679a9b",
      "682fbd4aaa9a480c811e5eacfefaaf07",
      "9659a65cebe3431b82e228dd3a069a17",
      "3045b70d29704436b0cd9927cd1289a4",
      "943e6156d3b648538cad9904fcc0f4b8",
      "4ef5e3513ca041088f4f21d800963492",
      "5fd11a3c78c64d03adc69700723abb51",
      "7db9afff19e34fc6815bab82abe3ac05",
      "f017b1669b7343e480b0cd040fd31e9d",
      "869b1898464e4af89a27d14be889b952"
     ]
    },
    "id": "_ow0P5N98RbU",
    "outputId": "67e6acd9-5acc-4252-a3e5-d0fc18223b99"
   },
   "outputs": [],
   "source": [
    "model_class_location = './lab2_files/saved_models/training_snli'\n",
    "\n",
    "if os.path.exists(model_class_location):\n",
    "    model_class = SentenceTransformer(model_class_location)\n",
    "else:\n",
    "    model_class.fit(train_objectives=[(train_dataloader_cl, train_loss_cl)],\n",
    "                        optimizer_class=torch.optim.Adam,\n",
    "                        optimizer_params={'lr': learn_rate},\n",
    "                        evaluator=evaluator_cl,\n",
    "                        epochs=num_epochs,\n",
    "                        evaluation_steps=1000,\n",
    "                        warmup_steps=warmup_steps_cl,\n",
    "                        output_path=model_class_location)"
   ]
  },
  {
   "cell_type": "markdown",
   "metadata": {},
   "source": [
    "### **Evaluation**"
   ]
  },
  {
   "cell_type": "markdown",
   "metadata": {},
   "source": [
    "#### Evaluation on STS benchmark dataset (with library)"
   ]
  },
  {
   "cell_type": "code",
   "execution_count": 32,
   "metadata": {},
   "outputs": [
    {
     "name": "stdout",
     "output_type": "stream",
     "text": [
      "Cosine similarity with the sentence_transformers library =  0.6720169505392981\n"
     ]
    }
   ],
   "source": [
    "evaluation_class_location = \"./lab2_files/classification_results\"\n",
    "\n",
    "if not os.path.exists(evaluation_class_location):\n",
    "    os.makedirs(evaluation_class_location)\n",
    "\n",
    "test_eval_cl = EmbeddingSimilarityEvaluator.from_input_examples(test_samples, batch_size=train_batch_size, name='sts-test')\n",
    "c_s_cl = test_eval_cl(model_class, output_path=evaluation_class_location)\n",
    "print('Cosine similarity with the sentence_transformers library = ', c_s_cl)"
   ]
  },
  {
   "cell_type": "markdown",
   "metadata": {},
   "source": [
    "#### Evaluation on STS benchmark dataset (no library)"
   ]
  },
  {
   "cell_type": "markdown",
   "metadata": {},
   "source": [
    "##### Embedding sentences"
   ]
  },
  {
   "cell_type": "code",
   "execution_count": 33,
   "metadata": {},
   "outputs": [],
   "source": [
    "embed_1_sts = model_class.encode(df_test['sentence1'], convert_to_numpy=True, batch_size=train_batch_size)\n",
    "embed_2_sts = model_class.encode(df_test['sentence2'], convert_to_numpy=True, batch_size=train_batch_size)"
   ]
  },
  {
   "cell_type": "markdown",
   "metadata": {},
   "source": [
    "##### Compute the cosine similarity"
   ]
  },
  {
   "cell_type": "code",
   "execution_count": 34,
   "metadata": {},
   "outputs": [
    {
     "name": "stdout",
     "output_type": "stream",
     "text": [
      "STS-test: cosine similarity =  [0.9020396  0.96123344 0.8992804  ... 0.4095918  0.6290741  0.20586675]\n"
     ]
    }
   ],
   "source": [
    "cos_sim_cl = 1 - sklearn.metrics.pairwise.paired_cosine_distances(embed_1_sts, embed_2_sts)\n",
    "print('STS-test: cosine similarity = ', cos_sim_cl)"
   ]
  },
  {
   "cell_type": "markdown",
   "metadata": {},
   "source": [
    "##### Spearmean correlation coefficient"
   ]
  },
  {
   "cell_type": "code",
   "execution_count": 35,
   "metadata": {},
   "outputs": [
    {
     "name": "stdout",
     "output_type": "stream",
     "text": [
      "STS-test: Spearmean correlation coefficient =  0.6667147963855763\n"
     ]
    }
   ],
   "source": [
    "spr_corr_cl = scipy.stats.spearmanr(cos_sim_cl, df_test['label'])\n",
    "print('STS-test: Spearmean correlation coefficient = ', spr_corr_cl[0])"
   ]
  },
  {
   "cell_type": "markdown",
   "metadata": {},
   "source": [
    "### **Train on SNLI dataset and fine-tuning with STS dataset**"
   ]
  },
  {
   "cell_type": "code",
   "execution_count": 36,
   "metadata": {},
   "outputs": [],
   "source": [
    "model_class_location = './lab2_files/saved_models/training_snli_32batch-evalSTS'\n",
    "\n",
    "if os.path.exists(model_class_location):\n",
    "    model_class = SentenceTransformer(model_class_location)\n",
    "else:\n",
    "    model_class.fit(train_objectives=[(train_dataloader_cl, train_loss_cl)],\n",
    "                        optimizer_class=torch.optim.Adam,\n",
    "                        optimizer_params={'lr': learn_rate},\n",
    "                        evaluator=evaluator,\n",
    "                        epochs=num_epochs,\n",
    "                        evaluation_steps=1000,\n",
    "                        warmup_steps=warmup_steps_cl,\n",
    "                        output_path=model_class_location)"
   ]
  },
  {
   "cell_type": "markdown",
   "metadata": {},
   "source": [
    "### **Evaluation**"
   ]
  },
  {
   "cell_type": "markdown",
   "metadata": {},
   "source": [
    "#### Evaluation on STS benchmark dataset (with library)"
   ]
  },
  {
   "cell_type": "code",
   "execution_count": 37,
   "metadata": {},
   "outputs": [
    {
     "name": "stdout",
     "output_type": "stream",
     "text": [
      "Cosine similarity with the sentence_transformers library =  0.7230449331218566\n"
     ]
    }
   ],
   "source": [
    "evaluation_class_location = \"./lab2_files/classification-STS_results\"\n",
    "\n",
    "if not os.path.exists(evaluation_class_location):\n",
    "    os.makedirs(evaluation_class_location)\n",
    "\n",
    "c_s_sts = test_eval(model_class, output_path=evaluation_class_location)\n",
    "print('Cosine similarity with the sentence_transformers library = ', c_s_sts)"
   ]
  },
  {
   "cell_type": "markdown",
   "metadata": {},
   "source": [
    "#### Evaluation on STS (no library)"
   ]
  },
  {
   "cell_type": "markdown",
   "metadata": {},
   "source": [
    "##### Embedding sentences"
   ]
  },
  {
   "cell_type": "code",
   "execution_count": 38,
   "metadata": {},
   "outputs": [],
   "source": [
    "embed_1 = model_class.encode(df_test['sentence1'], convert_to_numpy=True, batch_size=train_batch_size)\n",
    "embed_2 = model_class.encode(df_test['sentence2'], convert_to_numpy=True, batch_size=train_batch_size)"
   ]
  },
  {
   "cell_type": "markdown",
   "metadata": {},
   "source": [
    "##### Compute the cosine similarity"
   ]
  },
  {
   "cell_type": "code",
   "execution_count": 39,
   "metadata": {},
   "outputs": [
    {
     "name": "stdout",
     "output_type": "stream",
     "text": [
      "STS benchmark: cosine similarity =  [0.94786173 0.9772165  0.95169765 ... 0.58654845 0.63525337 0.2881629 ]\n"
     ]
    }
   ],
   "source": [
    "cos_sim_sts = 1 - sklearn.metrics.pairwise.paired_cosine_distances(embed_1, embed_2)\n",
    "print('STS benchmark: cosine similarity = ', cos_sim_sts)"
   ]
  },
  {
   "cell_type": "markdown",
   "metadata": {},
   "source": [
    "##### Spearmean correlation coefficient"
   ]
  },
  {
   "cell_type": "code",
   "execution_count": 40,
   "metadata": {},
   "outputs": [
    {
     "name": "stdout",
     "output_type": "stream",
     "text": [
      "STS benchmark: Spearmean correlation coefficient =  0.7230449331218566\n"
     ]
    }
   ],
   "source": [
    "spr_corr_sts = scipy.stats.spearmanr(cos_sim_sts, df_test['label'])\n",
    "print('STS benchmark: Spearmean correlation coefficient = ', spr_corr_sts[0])"
   ]
  },
  {
   "cell_type": "markdown",
   "metadata": {},
   "source": [
    "**Comment:** better result compared to regression task and when first training on SNLI dataset"
   ]
  },
  {
   "cell_type": "code",
   "execution_count": 41,
   "metadata": {},
   "outputs": [
    {
     "name": "stdout",
     "output_type": "stream",
     "text": [
      "Difference after fine-tuning =  0.05633013673628029\n"
     ]
    }
   ],
   "source": [
    "print('Difference after fine-tuning = ', spr_corr_sts[0] - spr_corr_cl[0])"
   ]
  },
  {
   "cell_type": "markdown",
   "metadata": {},
   "source": [
    "---"
   ]
  },
  {
   "cell_type": "markdown",
   "metadata": {},
   "source": [
    "### **Evaluation EXTRA**"
   ]
  },
  {
   "cell_type": "code",
   "execution_count": 42,
   "metadata": {},
   "outputs": [
    {
     "data": {
      "text/plain": [
       "\"\\nmodel_class_location = './lab2_files/saved_models/training_snli'\\n\\nif os.path.exists(model_class_location):\\n    model = SentenceTransformer(model_class_location)\\n\""
      ]
     },
     "execution_count": 42,
     "metadata": {},
     "output_type": "execute_result"
    }
   ],
   "source": [
    "'''\n",
    "model_class_location = './lab2_files/saved_models/training_snli'\n",
    "\n",
    "if os.path.exists(model_class_location):\n",
    "    model = SentenceTransformer(model_class_location)\n",
    "'''"
   ]
  },
  {
   "cell_type": "markdown",
   "metadata": {
    "id": "4f8qHUIwl_-F"
   },
   "source": [
    "#### Evaluation on SNLI dataset (with library)"
   ]
  },
  {
   "cell_type": "code",
   "execution_count": 43,
   "metadata": {
    "id": "4f8qHUIwl_-F"
   },
   "outputs": [
    {
     "data": {
      "text/plain": [
       "'\\nevaluation_class_location = \"./lab2_files/classification-SNLI_results\"\\n\\nif not os.path.exists(evaluation_class_location):\\n    os.makedirs(evaluation_class_location)\\n\\ntest_eval_cl = EmbeddingSimilarityEvaluator.from_input_examples(test_class_samples, batch_size=train_batch_size, name=\\'snli-test\\')\\nc_s_cl = test_eval_cl(model, output_path=evaluation_class_location)\\nprint(\\'Cosine similarity with the sentence_transformers library = \\', c_s_cl)\\n'"
      ]
     },
     "execution_count": 43,
     "metadata": {},
     "output_type": "execute_result"
    }
   ],
   "source": [
    "'''\n",
    "evaluation_class_location = \"./lab2_files/classification-SNLI_results\"\n",
    "\n",
    "if not os.path.exists(evaluation_class_location):\n",
    "    os.makedirs(evaluation_class_location)\n",
    "\n",
    "test_eval_cl = EmbeddingSimilarityEvaluator.from_input_examples(test_class_samples, batch_size=train_batch_size, name='snli-test')\n",
    "c_s_cl = test_eval_cl(model, output_path=evaluation_class_location)\n",
    "print('Cosine similarity with the sentence_transformers library = ', c_s_cl)\n",
    "'''"
   ]
  },
  {
   "cell_type": "markdown",
   "metadata": {
    "id": "C11EGRhZmgXp"
   },
   "source": [
    "#### Evaluation on SNLI (no library)"
   ]
  },
  {
   "cell_type": "markdown",
   "metadata": {},
   "source": [
    "##### Embedding sentences"
   ]
  },
  {
   "cell_type": "code",
   "execution_count": 44,
   "metadata": {
    "id": "YQpeWNY_8t4w"
   },
   "outputs": [
    {
     "data": {
      "text/plain": [
       "\"\\nembed_1_snli = model.encode(test_class['sentence1'], convert_to_numpy=True, batch_size=train_batch_size)\\nembed_2_snli = model.encode(test_class['sentence2'], convert_to_numpy=True, batch_size=train_batch_size)\\n\""
      ]
     },
     "execution_count": 44,
     "metadata": {},
     "output_type": "execute_result"
    }
   ],
   "source": [
    "'''\n",
    "embed_1_snli = model.encode(test_class['sentence1'], convert_to_numpy=True, batch_size=train_batch_size)\n",
    "embed_2_snli = model.encode(test_class['sentence2'], convert_to_numpy=True, batch_size=train_batch_size)\n",
    "'''"
   ]
  },
  {
   "cell_type": "markdown",
   "metadata": {},
   "source": [
    "##### Compute the cosine similarity"
   ]
  },
  {
   "cell_type": "code",
   "execution_count": 45,
   "metadata": {
    "id": "aCWW2Jeo8t1C"
   },
   "outputs": [
    {
     "data": {
      "text/plain": [
       "\"\\ncos_sim_cl = 1 - sklearn.metrics.pairwise.paired_cosine_distances(embed_1_snli, embed_2_snli)\\nprint('SNLI-test: cosine similarity = ', cos_sim_cl)\\n\""
      ]
     },
     "execution_count": 45,
     "metadata": {},
     "output_type": "execute_result"
    }
   ],
   "source": [
    "'''\n",
    "cos_sim_cl = 1 - sklearn.metrics.pairwise.paired_cosine_distances(embed_1_snli, embed_2_snli)\n",
    "print('SNLI-test: cosine similarity = ', cos_sim_cl)\n",
    "'''"
   ]
  },
  {
   "cell_type": "markdown",
   "metadata": {},
   "source": [
    "##### Spearmean correlation coefficient"
   ]
  },
  {
   "cell_type": "code",
   "execution_count": 46,
   "metadata": {
    "id": "dlaeNPSo8tyG"
   },
   "outputs": [
    {
     "data": {
      "text/plain": [
       "\"\\nspr_corr_cl = scipy.stats.spearmanr(cos_sim_cl, df_class_test['label'])\\nprint('SNLI-test: Spearmean correlation coefficient = ', spr_corr_cl[0])\\n\""
      ]
     },
     "execution_count": 46,
     "metadata": {},
     "output_type": "execute_result"
    }
   ],
   "source": [
    "'''\n",
    "spr_corr_cl = scipy.stats.spearmanr(cos_sim_cl, df_class_test['label'])\n",
    "print('SNLI-test: Spearmean correlation coefficient = ', spr_corr_cl[0])\n",
    "'''"
   ]
  },
  {
   "cell_type": "markdown",
   "metadata": {},
   "source": [
    "---"
   ]
  },
  {
   "cell_type": "markdown",
   "metadata": {
    "id": "3XblaOL55NaA"
   },
   "source": [
    "## **SEMANTIC SEARCH**"
   ]
  },
  {
   "cell_type": "markdown",
   "metadata": {
    "id": "qTVjUoV1_vDF"
   },
   "source": [
    "**Link to dataset:** https://www.kaggle.com/rmisra/news-category-dataset"
   ]
  },
  {
   "cell_type": "markdown",
   "metadata": {},
   "source": [
    "### Create samples"
   ]
  },
  {
   "cell_type": "code",
   "execution_count": 47,
   "metadata": {
    "colab": {
     "base_uri": "https://localhost:8080/"
    },
    "id": "GzwW4zZi9Rjv",
    "outputId": "b8f88f18-adcf-4ca7-d42a-194e71752b3a"
   },
   "outputs": [],
   "source": [
    "news_path = './lab2_files/dataset/news.json'\n",
    "\n",
    "if os.path.exists(news_path):\n",
    "    news = spark.read.json(news_path)\n",
    "    news_samples = list(news.select('headline').toPandas()['headline'])"
   ]
  },
  {
   "cell_type": "markdown",
   "metadata": {},
   "source": [
    "### Define the model"
   ]
  },
  {
   "cell_type": "code",
   "execution_count": 48,
   "metadata": {},
   "outputs": [],
   "source": [
    "best_model_location = './lab2_files/saved_models/training_snli_32batch-evalSTS'\n",
    "\n",
    "if os.path.exists(best_model_location):\n",
    "    model_best = SentenceTransformer(best_model_location)"
   ]
  },
  {
   "cell_type": "markdown",
   "metadata": {},
   "source": [
    "### Embedding news"
   ]
  },
  {
   "cell_type": "code",
   "execution_count": 49,
   "metadata": {
    "id": "xLKQ7_oV9cFy"
   },
   "outputs": [],
   "source": [
    "news_samples_path = './lab2_files/embedding/embed_news.txt'\n",
    "\n",
    "if os.path.exists(news_samples_path):\n",
    "    with open(news_samples_path, \"rb\") as file:\n",
    "        embed_news = pickle.load(file)\n",
    "else:\n",
    "    embed_news = model_best.encode(news_samples, convert_to_tensor=True, show_progress_bar=True)\n",
    "    with open(news_samples_path, \"wb\") as file:\n",
    "        pickle.dump(embed_news, file)"
   ]
  },
  {
   "cell_type": "markdown",
   "metadata": {},
   "source": [
    "### Searching"
   ]
  },
  {
   "cell_type": "code",
   "execution_count": 50,
   "metadata": {
    "id": "4gVUum7W9cDI"
   },
   "outputs": [
    {
     "name": "stdout",
     "output_type": "stream",
     "text": [
      "Find news close to: nba results\n"
     ]
    }
   ],
   "source": [
    "search = input(\"Find news close to: \")\n",
    "\n",
    "embed_query = model_best.encode(search, convert_to_tensor=True)"
   ]
  },
  {
   "cell_type": "code",
   "execution_count": 51,
   "metadata": {},
   "outputs": [],
   "source": [
    "cos_sim = util.pytorch_cos_sim(embed_query, embed_news)[0]"
   ]
  },
  {
   "cell_type": "code",
   "execution_count": 52,
   "metadata": {
    "id": "DRmgOoNBrOqa"
   },
   "outputs": [],
   "source": [
    "n_close = 10 # number of similar records\n",
    "\n",
    "top_close = torch.topk(cos_sim, k=n_close)"
   ]
  },
  {
   "cell_type": "markdown",
   "metadata": {},
   "source": [
    "### **Results**"
   ]
  },
  {
   "cell_type": "code",
   "execution_count": 53,
   "metadata": {
    "id": "BVdY0rctTM6m"
   },
   "outputs": [
    {
     "name": "stdout",
     "output_type": "stream",
     "text": [
      "Top 10 closest news in the dataset:\n",
      "\n",
      "NBA Game 7 Score (score: 0.828)\n",
      "Amar'e Stoudemire And Jermaine O'Neal Among NBA Players With Clothing Collections (PHOTOS) (score: 0.803)\n",
      "International Intrigue and the NBA (score: 0.796)\n",
      "Of All Things NBA All-Star 2013 (score: 0.795)\n",
      "Marv Albert On The Knicks, Brad Stevens And The State Of The NBA (score: 0.779)\n",
      "College Basketball and Your Kidneys (score: 0.768)\n",
      "NBA: Kevin Love Goes East. Now What? (score: 0.768)\n",
      "GPS Guide: Austin Rivers, NBA Player, Shares His Off-Court Routine (score: 0.765)\n",
      "Andrew Wiggins Shows Why NBA Tanking Is A Thing (VIDEO) (score: 0.765)\n",
      "NBA Says Draymond Green And Dahntay Jones Situations Are 'Completely Different' (score: 0.765)\n"
     ]
    }
   ],
   "source": [
    "print(f\"Top {n_close} closest news in the dataset:\\n\")\n",
    "\n",
    "for score, idx in zip(top_close[0], top_close[1]):\n",
    "    print(news_samples[idx], \"(score: {:.3f})\".format(score))"
   ]
  },
  {
   "cell_type": "markdown",
   "metadata": {},
   "source": [
    "---"
   ]
  }
 ],
 "metadata": {
  "accelerator": "GPU",
  "colab": {
   "collapsed_sections": [],
   "name": "LAB-2.ipynb",
   "provenance": []
  },
  "kernelspec": {
   "display_name": "Python 3 (ipykernel)",
   "language": "python",
   "name": "python3"
  },
  "language_info": {
   "codemirror_mode": {
    "name": "ipython",
    "version": 3
   },
   "file_extension": ".py",
   "mimetype": "text/x-python",
   "name": "python",
   "nbconvert_exporter": "python",
   "pygments_lexer": "ipython3",
   "version": "3.8.12"
  },
  "widgets": {
   "application/vnd.jupyter.widget-state+json": {
    "14fe35f8c9f34d778b1a3d7578b6e586": {
     "model_module": "@jupyter-widgets/controls",
     "model_module_version": "1.5.0",
     "model_name": "DescriptionStyleModel",
     "state": {
      "_model_module": "@jupyter-widgets/controls",
      "_model_module_version": "1.5.0",
      "_model_name": "DescriptionStyleModel",
      "_view_count": null,
      "_view_module": "@jupyter-widgets/base",
      "_view_module_version": "1.2.0",
      "_view_name": "StyleView",
      "description_width": ""
     }
    },
    "1c3f244880264a3dab923bfa7ae3e6db": {
     "model_module": "@jupyter-widgets/controls",
     "model_module_version": "1.5.0",
     "model_name": "HTMLModel",
     "state": {
      "_dom_classes": [],
      "_model_module": "@jupyter-widgets/controls",
      "_model_module_version": "1.5.0",
      "_model_name": "HTMLModel",
      "_view_count": null,
      "_view_module": "@jupyter-widgets/controls",
      "_view_module_version": "1.5.0",
      "_view_name": "HTMLView",
      "description": "",
      "description_tooltip": null,
      "layout": "IPY_MODEL_3cb4ab5492e14bc5865b9f04375f03c8",
      "placeholder": "​",
      "style": "IPY_MODEL_4a9fa6a1e9e2408d9db5f34605042fad",
      "value": "Batches: 100%"
     }
    },
    "3045b70d29704436b0cd9927cd1289a4": {
     "model_module": "@jupyter-widgets/base",
     "model_module_version": "1.2.0",
     "model_name": "LayoutModel",
     "state": {
      "_model_module": "@jupyter-widgets/base",
      "_model_module_version": "1.2.0",
      "_model_name": "LayoutModel",
      "_view_count": null,
      "_view_module": "@jupyter-widgets/base",
      "_view_module_version": "1.2.0",
      "_view_name": "LayoutView",
      "align_content": null,
      "align_items": null,
      "align_self": null,
      "border": null,
      "bottom": null,
      "display": null,
      "flex": null,
      "flex_flow": null,
      "grid_area": null,
      "grid_auto_columns": null,
      "grid_auto_flow": null,
      "grid_auto_rows": null,
      "grid_column": null,
      "grid_gap": null,
      "grid_row": null,
      "grid_template_areas": null,
      "grid_template_columns": null,
      "grid_template_rows": null,
      "height": null,
      "justify_content": null,
      "justify_items": null,
      "left": null,
      "margin": null,
      "max_height": null,
      "max_width": null,
      "min_height": null,
      "min_width": null,
      "object_fit": null,
      "object_position": null,
      "order": null,
      "overflow": null,
      "overflow_x": null,
      "overflow_y": null,
      "padding": null,
      "right": null,
      "top": null,
      "visibility": null,
      "width": null
     }
    },
    "396c91f6e19c42ec85becb2044f8f94b": {
     "model_module": "@jupyter-widgets/controls",
     "model_module_version": "1.5.0",
     "model_name": "HBoxModel",
     "state": {
      "_dom_classes": [],
      "_model_module": "@jupyter-widgets/controls",
      "_model_module_version": "1.5.0",
      "_model_name": "HBoxModel",
      "_view_count": null,
      "_view_module": "@jupyter-widgets/controls",
      "_view_module_version": "1.5.0",
      "_view_name": "HBoxView",
      "box_style": "",
      "children": [
       "IPY_MODEL_9fcb49816ac7452d95ac2899cb679a9b",
       "IPY_MODEL_682fbd4aaa9a480c811e5eacfefaaf07",
       "IPY_MODEL_9659a65cebe3431b82e228dd3a069a17"
      ],
      "layout": "IPY_MODEL_3045b70d29704436b0cd9927cd1289a4"
     }
    },
    "3a7e3dafd4cc425fab471324f1aec5fb": {
     "model_module": "@jupyter-widgets/controls",
     "model_module_version": "1.5.0",
     "model_name": "HTMLModel",
     "state": {
      "_dom_classes": [],
      "_model_module": "@jupyter-widgets/controls",
      "_model_module_version": "1.5.0",
      "_model_name": "HTMLModel",
      "_view_count": null,
      "_view_module": "@jupyter-widgets/controls",
      "_view_module_version": "1.5.0",
      "_view_name": "HTMLView",
      "description": "",
      "description_tooltip": null,
      "layout": "IPY_MODEL_45c6635ecb424bb2a490108e72a97743",
      "placeholder": "​",
      "style": "IPY_MODEL_14fe35f8c9f34d778b1a3d7578b6e586",
      "value": " 6277/6277 [20:22&lt;00:00, 18.86it/s]"
     }
    },
    "3cb4ab5492e14bc5865b9f04375f03c8": {
     "model_module": "@jupyter-widgets/base",
     "model_module_version": "1.2.0",
     "model_name": "LayoutModel",
     "state": {
      "_model_module": "@jupyter-widgets/base",
      "_model_module_version": "1.2.0",
      "_model_name": "LayoutModel",
      "_view_count": null,
      "_view_module": "@jupyter-widgets/base",
      "_view_module_version": "1.2.0",
      "_view_name": "LayoutView",
      "align_content": null,
      "align_items": null,
      "align_self": null,
      "border": null,
      "bottom": null,
      "display": null,
      "flex": null,
      "flex_flow": null,
      "grid_area": null,
      "grid_auto_columns": null,
      "grid_auto_flow": null,
      "grid_auto_rows": null,
      "grid_column": null,
      "grid_gap": null,
      "grid_row": null,
      "grid_template_areas": null,
      "grid_template_columns": null,
      "grid_template_rows": null,
      "height": null,
      "justify_content": null,
      "justify_items": null,
      "left": null,
      "margin": null,
      "max_height": null,
      "max_width": null,
      "min_height": null,
      "min_width": null,
      "object_fit": null,
      "object_position": null,
      "order": null,
      "overflow": null,
      "overflow_x": null,
      "overflow_y": null,
      "padding": null,
      "right": null,
      "top": null,
      "visibility": null,
      "width": null
     }
    },
    "3dc42c11231c4537b0d96b028dada121": {
     "model_module": "@jupyter-widgets/base",
     "model_module_version": "1.2.0",
     "model_name": "LayoutModel",
     "state": {
      "_model_module": "@jupyter-widgets/base",
      "_model_module_version": "1.2.0",
      "_model_name": "LayoutModel",
      "_view_count": null,
      "_view_module": "@jupyter-widgets/base",
      "_view_module_version": "1.2.0",
      "_view_name": "LayoutView",
      "align_content": null,
      "align_items": null,
      "align_self": null,
      "border": null,
      "bottom": null,
      "display": null,
      "flex": null,
      "flex_flow": null,
      "grid_area": null,
      "grid_auto_columns": null,
      "grid_auto_flow": null,
      "grid_auto_rows": null,
      "grid_column": null,
      "grid_gap": null,
      "grid_row": null,
      "grid_template_areas": null,
      "grid_template_columns": null,
      "grid_template_rows": null,
      "height": null,
      "justify_content": null,
      "justify_items": null,
      "left": null,
      "margin": null,
      "max_height": null,
      "max_width": null,
      "min_height": null,
      "min_width": null,
      "object_fit": null,
      "object_position": null,
      "order": null,
      "overflow": null,
      "overflow_x": null,
      "overflow_y": null,
      "padding": null,
      "right": null,
      "top": null,
      "visibility": null,
      "width": null
     }
    },
    "45c6635ecb424bb2a490108e72a97743": {
     "model_module": "@jupyter-widgets/base",
     "model_module_version": "1.2.0",
     "model_name": "LayoutModel",
     "state": {
      "_model_module": "@jupyter-widgets/base",
      "_model_module_version": "1.2.0",
      "_model_name": "LayoutModel",
      "_view_count": null,
      "_view_module": "@jupyter-widgets/base",
      "_view_module_version": "1.2.0",
      "_view_name": "LayoutView",
      "align_content": null,
      "align_items": null,
      "align_self": null,
      "border": null,
      "bottom": null,
      "display": null,
      "flex": null,
      "flex_flow": null,
      "grid_area": null,
      "grid_auto_columns": null,
      "grid_auto_flow": null,
      "grid_auto_rows": null,
      "grid_column": null,
      "grid_gap": null,
      "grid_row": null,
      "grid_template_areas": null,
      "grid_template_columns": null,
      "grid_template_rows": null,
      "height": null,
      "justify_content": null,
      "justify_items": null,
      "left": null,
      "margin": null,
      "max_height": null,
      "max_width": null,
      "min_height": null,
      "min_width": null,
      "object_fit": null,
      "object_position": null,
      "order": null,
      "overflow": null,
      "overflow_x": null,
      "overflow_y": null,
      "padding": null,
      "right": null,
      "top": null,
      "visibility": null,
      "width": null
     }
    },
    "4a9fa6a1e9e2408d9db5f34605042fad": {
     "model_module": "@jupyter-widgets/controls",
     "model_module_version": "1.5.0",
     "model_name": "DescriptionStyleModel",
     "state": {
      "_model_module": "@jupyter-widgets/controls",
      "_model_module_version": "1.5.0",
      "_model_name": "DescriptionStyleModel",
      "_view_count": null,
      "_view_module": "@jupyter-widgets/base",
      "_view_module_version": "1.2.0",
      "_view_name": "StyleView",
      "description_width": ""
     }
    },
    "4b6e7ab53f4f4e1aae525265806550f3": {
     "model_module": "@jupyter-widgets/base",
     "model_module_version": "1.2.0",
     "model_name": "LayoutModel",
     "state": {
      "_model_module": "@jupyter-widgets/base",
      "_model_module_version": "1.2.0",
      "_model_name": "LayoutModel",
      "_view_count": null,
      "_view_module": "@jupyter-widgets/base",
      "_view_module_version": "1.2.0",
      "_view_name": "LayoutView",
      "align_content": null,
      "align_items": null,
      "align_self": null,
      "border": null,
      "bottom": null,
      "display": null,
      "flex": null,
      "flex_flow": null,
      "grid_area": null,
      "grid_auto_columns": null,
      "grid_auto_flow": null,
      "grid_auto_rows": null,
      "grid_column": null,
      "grid_gap": null,
      "grid_row": null,
      "grid_template_areas": null,
      "grid_template_columns": null,
      "grid_template_rows": null,
      "height": null,
      "justify_content": null,
      "justify_items": null,
      "left": null,
      "margin": null,
      "max_height": null,
      "max_width": null,
      "min_height": null,
      "min_width": null,
      "object_fit": null,
      "object_position": null,
      "order": null,
      "overflow": null,
      "overflow_x": null,
      "overflow_y": null,
      "padding": null,
      "right": null,
      "top": null,
      "visibility": null,
      "width": null
     }
    },
    "4ef5e3513ca041088f4f21d800963492": {
     "model_module": "@jupyter-widgets/controls",
     "model_module_version": "1.5.0",
     "model_name": "DescriptionStyleModel",
     "state": {
      "_model_module": "@jupyter-widgets/controls",
      "_model_module_version": "1.5.0",
      "_model_name": "DescriptionStyleModel",
      "_view_count": null,
      "_view_module": "@jupyter-widgets/base",
      "_view_module_version": "1.2.0",
      "_view_name": "StyleView",
      "description_width": ""
     }
    },
    "5239e03afc66470dbf11a5cbe2988690": {
     "model_module": "@jupyter-widgets/controls",
     "model_module_version": "1.5.0",
     "model_name": "DescriptionStyleModel",
     "state": {
      "_model_module": "@jupyter-widgets/controls",
      "_model_module_version": "1.5.0",
      "_model_name": "DescriptionStyleModel",
      "_view_count": null,
      "_view_module": "@jupyter-widgets/base",
      "_view_module_version": "1.2.0",
      "_view_name": "StyleView",
      "description_width": ""
     }
    },
    "5fd11a3c78c64d03adc69700723abb51": {
     "model_module": "@jupyter-widgets/base",
     "model_module_version": "1.2.0",
     "model_name": "LayoutModel",
     "state": {
      "_model_module": "@jupyter-widgets/base",
      "_model_module_version": "1.2.0",
      "_model_name": "LayoutModel",
      "_view_count": null,
      "_view_module": "@jupyter-widgets/base",
      "_view_module_version": "1.2.0",
      "_view_name": "LayoutView",
      "align_content": null,
      "align_items": null,
      "align_self": null,
      "border": null,
      "bottom": null,
      "display": null,
      "flex": null,
      "flex_flow": null,
      "grid_area": null,
      "grid_auto_columns": null,
      "grid_auto_flow": null,
      "grid_auto_rows": null,
      "grid_column": null,
      "grid_gap": null,
      "grid_row": null,
      "grid_template_areas": null,
      "grid_template_columns": null,
      "grid_template_rows": null,
      "height": null,
      "justify_content": null,
      "justify_items": null,
      "left": null,
      "margin": null,
      "max_height": null,
      "max_width": null,
      "min_height": null,
      "min_width": null,
      "object_fit": null,
      "object_position": null,
      "order": null,
      "overflow": null,
      "overflow_x": null,
      "overflow_y": null,
      "padding": null,
      "right": null,
      "top": null,
      "visibility": null,
      "width": null
     }
    },
    "682fbd4aaa9a480c811e5eacfefaaf07": {
     "model_module": "@jupyter-widgets/controls",
     "model_module_version": "1.5.0",
     "model_name": "FloatProgressModel",
     "state": {
      "_dom_classes": [],
      "_model_module": "@jupyter-widgets/controls",
      "_model_module_version": "1.5.0",
      "_model_name": "FloatProgressModel",
      "_view_count": null,
      "_view_module": "@jupyter-widgets/controls",
      "_view_module_version": "1.5.0",
      "_view_name": "ProgressView",
      "bar_style": "",
      "description": "",
      "description_tooltip": null,
      "layout": "IPY_MODEL_5fd11a3c78c64d03adc69700723abb51",
      "max": 34385,
      "min": 0,
      "orientation": "horizontal",
      "style": "IPY_MODEL_7db9afff19e34fc6815bab82abe3ac05",
      "value": 34005
     }
    },
    "70a9a5ef2f3f4130aaf3f2a30dd00524": {
     "model_module": "@jupyter-widgets/controls",
     "model_module_version": "1.5.0",
     "model_name": "FloatProgressModel",
     "state": {
      "_dom_classes": [],
      "_model_module": "@jupyter-widgets/controls",
      "_model_module_version": "1.5.0",
      "_model_name": "FloatProgressModel",
      "_view_count": null,
      "_view_module": "@jupyter-widgets/controls",
      "_view_module_version": "1.5.0",
      "_view_name": "ProgressView",
      "bar_style": "success",
      "description": "",
      "description_tooltip": null,
      "layout": "IPY_MODEL_7c308aae6c3e4a9eadf62c9c6b712244",
      "max": 360,
      "min": 0,
      "orientation": "horizontal",
      "style": "IPY_MODEL_aef56e174df5439695847fbbbd175d49",
      "value": 360
     }
    },
    "737941777520426aa5a2126df88ce26f": {
     "model_module": "@jupyter-widgets/base",
     "model_module_version": "1.2.0",
     "model_name": "LayoutModel",
     "state": {
      "_model_module": "@jupyter-widgets/base",
      "_model_module_version": "1.2.0",
      "_model_name": "LayoutModel",
      "_view_count": null,
      "_view_module": "@jupyter-widgets/base",
      "_view_module_version": "1.2.0",
      "_view_name": "LayoutView",
      "align_content": null,
      "align_items": null,
      "align_self": null,
      "border": null,
      "bottom": null,
      "display": null,
      "flex": null,
      "flex_flow": null,
      "grid_area": null,
      "grid_auto_columns": null,
      "grid_auto_flow": null,
      "grid_auto_rows": null,
      "grid_column": null,
      "grid_gap": null,
      "grid_row": null,
      "grid_template_areas": null,
      "grid_template_columns": null,
      "grid_template_rows": null,
      "height": null,
      "justify_content": null,
      "justify_items": null,
      "left": null,
      "margin": null,
      "max_height": null,
      "max_width": null,
      "min_height": null,
      "min_width": null,
      "object_fit": null,
      "object_position": null,
      "order": null,
      "overflow": null,
      "overflow_x": null,
      "overflow_y": null,
      "padding": null,
      "right": null,
      "top": null,
      "visibility": null,
      "width": null
     }
    },
    "75ca2c40fa0b47588ed204c33ed63bc9": {
     "model_module": "@jupyter-widgets/controls",
     "model_module_version": "1.5.0",
     "model_name": "HBoxModel",
     "state": {
      "_dom_classes": [],
      "_model_module": "@jupyter-widgets/controls",
      "_model_module_version": "1.5.0",
      "_model_name": "HBoxModel",
      "_view_count": null,
      "_view_module": "@jupyter-widgets/controls",
      "_view_module_version": "1.5.0",
      "_view_name": "HBoxView",
      "box_style": "",
      "children": [
       "IPY_MODEL_f5ffa81e87b8428bb524be88c8b0369a",
       "IPY_MODEL_7b11724581524a3da18e379bc4b929aa",
       "IPY_MODEL_9650eb9ca49046ea9708b207d89303e4"
      ],
      "layout": "IPY_MODEL_c2d7261b441a4d53be05ce37f9071d19"
     }
    },
    "76147d34b934402ebe6fa68a93fb236f": {
     "model_module": "@jupyter-widgets/controls",
     "model_module_version": "1.5.0",
     "model_name": "HTMLModel",
     "state": {
      "_dom_classes": [],
      "_model_module": "@jupyter-widgets/controls",
      "_model_module_version": "1.5.0",
      "_model_name": "HTMLModel",
      "_view_count": null,
      "_view_module": "@jupyter-widgets/controls",
      "_view_module_version": "1.5.0",
      "_view_name": "HTMLView",
      "description": "",
      "description_tooltip": null,
      "layout": "IPY_MODEL_cfa3e34dfb784301ae5e2f22cba0342f",
      "placeholder": "​",
      "style": "IPY_MODEL_8af6428bfda047cb952080c8b08210e3",
      "value": "Iteration: 100%"
     }
    },
    "79a6375800fe443aaa370c315707b306": {
     "model_module": "@jupyter-widgets/controls",
     "model_module_version": "1.5.0",
     "model_name": "FloatProgressModel",
     "state": {
      "_dom_classes": [],
      "_model_module": "@jupyter-widgets/controls",
      "_model_module_version": "1.5.0",
      "_model_name": "FloatProgressModel",
      "_view_count": null,
      "_view_module": "@jupyter-widgets/controls",
      "_view_module_version": "1.5.0",
      "_view_name": "ProgressView",
      "bar_style": "success",
      "description": "",
      "description_tooltip": null,
      "layout": "IPY_MODEL_842136f0d5c24c9a96382bfac98ac2b5",
      "max": 6277,
      "min": 0,
      "orientation": "horizontal",
      "style": "IPY_MODEL_d5cc0e12416246d0a3d6325cbcc90dd1",
      "value": 6277
     }
    },
    "7b11724581524a3da18e379bc4b929aa": {
     "model_module": "@jupyter-widgets/controls",
     "model_module_version": "1.5.0",
     "model_name": "FloatProgressModel",
     "state": {
      "_dom_classes": [],
      "_model_module": "@jupyter-widgets/controls",
      "_model_module_version": "1.5.0",
      "_model_name": "FloatProgressModel",
      "_view_count": null,
      "_view_module": "@jupyter-widgets/controls",
      "_view_module_version": "1.5.0",
      "_view_name": "ProgressView",
      "bar_style": "",
      "description": "",
      "description_tooltip": null,
      "layout": "IPY_MODEL_ffe68cc84da141449cd72273a58fbcc0",
      "max": 1,
      "min": 0,
      "orientation": "horizontal",
      "style": "IPY_MODEL_fb49780850d54bd984164e181cc44212",
      "value": 0
     }
    },
    "7c308aae6c3e4a9eadf62c9c6b712244": {
     "model_module": "@jupyter-widgets/base",
     "model_module_version": "1.2.0",
     "model_name": "LayoutModel",
     "state": {
      "_model_module": "@jupyter-widgets/base",
      "_model_module_version": "1.2.0",
      "_model_name": "LayoutModel",
      "_view_count": null,
      "_view_module": "@jupyter-widgets/base",
      "_view_module_version": "1.2.0",
      "_view_name": "LayoutView",
      "align_content": null,
      "align_items": null,
      "align_self": null,
      "border": null,
      "bottom": null,
      "display": null,
      "flex": null,
      "flex_flow": null,
      "grid_area": null,
      "grid_auto_columns": null,
      "grid_auto_flow": null,
      "grid_auto_rows": null,
      "grid_column": null,
      "grid_gap": null,
      "grid_row": null,
      "grid_template_areas": null,
      "grid_template_columns": null,
      "grid_template_rows": null,
      "height": null,
      "justify_content": null,
      "justify_items": null,
      "left": null,
      "margin": null,
      "max_height": null,
      "max_width": null,
      "min_height": null,
      "min_width": null,
      "object_fit": null,
      "object_position": null,
      "order": null,
      "overflow": null,
      "overflow_x": null,
      "overflow_y": null,
      "padding": null,
      "right": null,
      "top": null,
      "visibility": null,
      "width": null
     }
    },
    "7db9afff19e34fc6815bab82abe3ac05": {
     "model_module": "@jupyter-widgets/controls",
     "model_module_version": "1.5.0",
     "model_name": "ProgressStyleModel",
     "state": {
      "_model_module": "@jupyter-widgets/controls",
      "_model_module_version": "1.5.0",
      "_model_name": "ProgressStyleModel",
      "_view_count": null,
      "_view_module": "@jupyter-widgets/base",
      "_view_module_version": "1.2.0",
      "_view_name": "StyleView",
      "bar_color": null,
      "description_width": ""
     }
    },
    "833c168297d84ac0adac52a246c7cd49": {
     "model_module": "@jupyter-widgets/base",
     "model_module_version": "1.2.0",
     "model_name": "LayoutModel",
     "state": {
      "_model_module": "@jupyter-widgets/base",
      "_model_module_version": "1.2.0",
      "_model_name": "LayoutModel",
      "_view_count": null,
      "_view_module": "@jupyter-widgets/base",
      "_view_module_version": "1.2.0",
      "_view_name": "LayoutView",
      "align_content": null,
      "align_items": null,
      "align_self": null,
      "border": null,
      "bottom": null,
      "display": null,
      "flex": null,
      "flex_flow": null,
      "grid_area": null,
      "grid_auto_columns": null,
      "grid_auto_flow": null,
      "grid_auto_rows": null,
      "grid_column": null,
      "grid_gap": null,
      "grid_row": null,
      "grid_template_areas": null,
      "grid_template_columns": null,
      "grid_template_rows": null,
      "height": null,
      "justify_content": null,
      "justify_items": null,
      "left": null,
      "margin": null,
      "max_height": null,
      "max_width": null,
      "min_height": null,
      "min_width": null,
      "object_fit": null,
      "object_position": null,
      "order": null,
      "overflow": null,
      "overflow_x": null,
      "overflow_y": null,
      "padding": null,
      "right": null,
      "top": null,
      "visibility": null,
      "width": null
     }
    },
    "842136f0d5c24c9a96382bfac98ac2b5": {
     "model_module": "@jupyter-widgets/base",
     "model_module_version": "1.2.0",
     "model_name": "LayoutModel",
     "state": {
      "_model_module": "@jupyter-widgets/base",
      "_model_module_version": "1.2.0",
      "_model_name": "LayoutModel",
      "_view_count": null,
      "_view_module": "@jupyter-widgets/base",
      "_view_module_version": "1.2.0",
      "_view_name": "LayoutView",
      "align_content": null,
      "align_items": null,
      "align_self": null,
      "border": null,
      "bottom": null,
      "display": null,
      "flex": null,
      "flex_flow": null,
      "grid_area": null,
      "grid_auto_columns": null,
      "grid_auto_flow": null,
      "grid_auto_rows": null,
      "grid_column": null,
      "grid_gap": null,
      "grid_row": null,
      "grid_template_areas": null,
      "grid_template_columns": null,
      "grid_template_rows": null,
      "height": null,
      "justify_content": null,
      "justify_items": null,
      "left": null,
      "margin": null,
      "max_height": null,
      "max_width": null,
      "min_height": null,
      "min_width": null,
      "object_fit": null,
      "object_position": null,
      "order": null,
      "overflow": null,
      "overflow_x": null,
      "overflow_y": null,
      "padding": null,
      "right": null,
      "top": null,
      "visibility": null,
      "width": null
     }
    },
    "84484e726b194077bf39b4003fdab2e6": {
     "model_module": "@jupyter-widgets/controls",
     "model_module_version": "1.5.0",
     "model_name": "HBoxModel",
     "state": {
      "_dom_classes": [],
      "_model_module": "@jupyter-widgets/controls",
      "_model_module_version": "1.5.0",
      "_model_name": "HBoxModel",
      "_view_count": null,
      "_view_module": "@jupyter-widgets/controls",
      "_view_module_version": "1.5.0",
      "_view_name": "HBoxView",
      "box_style": "",
      "children": [
       "IPY_MODEL_76147d34b934402ebe6fa68a93fb236f",
       "IPY_MODEL_70a9a5ef2f3f4130aaf3f2a30dd00524",
       "IPY_MODEL_f788cf300a3c4264a5851508c72cf733"
      ],
      "layout": "IPY_MODEL_b157705019ac41a39d0dd28509291261"
     }
    },
    "869b1898464e4af89a27d14be889b952": {
     "model_module": "@jupyter-widgets/controls",
     "model_module_version": "1.5.0",
     "model_name": "DescriptionStyleModel",
     "state": {
      "_model_module": "@jupyter-widgets/controls",
      "_model_module_version": "1.5.0",
      "_model_name": "DescriptionStyleModel",
      "_view_count": null,
      "_view_module": "@jupyter-widgets/base",
      "_view_module_version": "1.2.0",
      "_view_name": "StyleView",
      "description_width": ""
     }
    },
    "87a780ce24484359a7df518b19024b55": {
     "model_module": "@jupyter-widgets/controls",
     "model_module_version": "1.5.0",
     "model_name": "HTMLModel",
     "state": {
      "_dom_classes": [],
      "_model_module": "@jupyter-widgets/controls",
      "_model_module_version": "1.5.0",
      "_model_name": "HTMLModel",
      "_view_count": null,
      "_view_module": "@jupyter-widgets/controls",
      "_view_module_version": "1.5.0",
      "_view_name": "HTMLView",
      "description": "",
      "description_tooltip": null,
      "layout": "IPY_MODEL_3dc42c11231c4537b0d96b028dada121",
      "placeholder": "​",
      "style": "IPY_MODEL_884aea71873248ce9a0f6f0237156800",
      "value": "Epoch: 100%"
     }
    },
    "884aea71873248ce9a0f6f0237156800": {
     "model_module": "@jupyter-widgets/controls",
     "model_module_version": "1.5.0",
     "model_name": "DescriptionStyleModel",
     "state": {
      "_model_module": "@jupyter-widgets/controls",
      "_model_module_version": "1.5.0",
      "_model_name": "DescriptionStyleModel",
      "_view_count": null,
      "_view_module": "@jupyter-widgets/base",
      "_view_module_version": "1.2.0",
      "_view_name": "StyleView",
      "description_width": ""
     }
    },
    "8af6428bfda047cb952080c8b08210e3": {
     "model_module": "@jupyter-widgets/controls",
     "model_module_version": "1.5.0",
     "model_name": "DescriptionStyleModel",
     "state": {
      "_model_module": "@jupyter-widgets/controls",
      "_model_module_version": "1.5.0",
      "_model_name": "DescriptionStyleModel",
      "_view_count": null,
      "_view_module": "@jupyter-widgets/base",
      "_view_module_version": "1.2.0",
      "_view_name": "StyleView",
      "description_width": ""
     }
    },
    "943e6156d3b648538cad9904fcc0f4b8": {
     "model_module": "@jupyter-widgets/base",
     "model_module_version": "1.2.0",
     "model_name": "LayoutModel",
     "state": {
      "_model_module": "@jupyter-widgets/base",
      "_model_module_version": "1.2.0",
      "_model_name": "LayoutModel",
      "_view_count": null,
      "_view_module": "@jupyter-widgets/base",
      "_view_module_version": "1.2.0",
      "_view_name": "LayoutView",
      "align_content": null,
      "align_items": null,
      "align_self": null,
      "border": null,
      "bottom": null,
      "display": null,
      "flex": null,
      "flex_flow": null,
      "grid_area": null,
      "grid_auto_columns": null,
      "grid_auto_flow": null,
      "grid_auto_rows": null,
      "grid_column": null,
      "grid_gap": null,
      "grid_row": null,
      "grid_template_areas": null,
      "grid_template_columns": null,
      "grid_template_rows": null,
      "height": null,
      "justify_content": null,
      "justify_items": null,
      "left": null,
      "margin": null,
      "max_height": null,
      "max_width": null,
      "min_height": null,
      "min_width": null,
      "object_fit": null,
      "object_position": null,
      "order": null,
      "overflow": null,
      "overflow_x": null,
      "overflow_y": null,
      "padding": null,
      "right": null,
      "top": null,
      "visibility": null,
      "width": null
     }
    },
    "9650eb9ca49046ea9708b207d89303e4": {
     "model_module": "@jupyter-widgets/controls",
     "model_module_version": "1.5.0",
     "model_name": "HTMLModel",
     "state": {
      "_dom_classes": [],
      "_model_module": "@jupyter-widgets/controls",
      "_model_module_version": "1.5.0",
      "_model_name": "HTMLModel",
      "_view_count": null,
      "_view_module": "@jupyter-widgets/controls",
      "_view_module_version": "1.5.0",
      "_view_name": "HTMLView",
      "description": "",
      "description_tooltip": null,
      "layout": "IPY_MODEL_f26f492d329944d4a04e55034fcf4a22",
      "placeholder": "​",
      "style": "IPY_MODEL_b08dbec935b04861ba063c2ecbfa8a5e",
      "value": " 0/1 [00:00&lt;?, ?it/s]"
     }
    },
    "9659a65cebe3431b82e228dd3a069a17": {
     "model_module": "@jupyter-widgets/controls",
     "model_module_version": "1.5.0",
     "model_name": "HTMLModel",
     "state": {
      "_dom_classes": [],
      "_model_module": "@jupyter-widgets/controls",
      "_model_module_version": "1.5.0",
      "_model_name": "HTMLModel",
      "_view_count": null,
      "_view_module": "@jupyter-widgets/controls",
      "_view_module_version": "1.5.0",
      "_view_name": "HTMLView",
      "description": "",
      "description_tooltip": null,
      "layout": "IPY_MODEL_f017b1669b7343e480b0cd040fd31e9d",
      "placeholder": "​",
      "style": "IPY_MODEL_869b1898464e4af89a27d14be889b952",
      "value": " 34005/34385 [4:27:35&lt;18:09,  2.87s/it]"
     }
    },
    "9fcb49816ac7452d95ac2899cb679a9b": {
     "model_module": "@jupyter-widgets/controls",
     "model_module_version": "1.5.0",
     "model_name": "HTMLModel",
     "state": {
      "_dom_classes": [],
      "_model_module": "@jupyter-widgets/controls",
      "_model_module_version": "1.5.0",
      "_model_name": "HTMLModel",
      "_view_count": null,
      "_view_module": "@jupyter-widgets/controls",
      "_view_module_version": "1.5.0",
      "_view_name": "HTMLView",
      "description": "",
      "description_tooltip": null,
      "layout": "IPY_MODEL_943e6156d3b648538cad9904fcc0f4b8",
      "placeholder": "​",
      "style": "IPY_MODEL_4ef5e3513ca041088f4f21d800963492",
      "value": "Iteration:  99%"
     }
    },
    "aef56e174df5439695847fbbbd175d49": {
     "model_module": "@jupyter-widgets/controls",
     "model_module_version": "1.5.0",
     "model_name": "ProgressStyleModel",
     "state": {
      "_model_module": "@jupyter-widgets/controls",
      "_model_module_version": "1.5.0",
      "_model_name": "ProgressStyleModel",
      "_view_count": null,
      "_view_module": "@jupyter-widgets/base",
      "_view_module_version": "1.2.0",
      "_view_name": "StyleView",
      "bar_color": null,
      "description_width": ""
     }
    },
    "b08dbec935b04861ba063c2ecbfa8a5e": {
     "model_module": "@jupyter-widgets/controls",
     "model_module_version": "1.5.0",
     "model_name": "DescriptionStyleModel",
     "state": {
      "_model_module": "@jupyter-widgets/controls",
      "_model_module_version": "1.5.0",
      "_model_name": "DescriptionStyleModel",
      "_view_count": null,
      "_view_module": "@jupyter-widgets/base",
      "_view_module_version": "1.2.0",
      "_view_name": "StyleView",
      "description_width": ""
     }
    },
    "b14d88f448dd46d19900286169697c6a": {
     "model_module": "@jupyter-widgets/controls",
     "model_module_version": "1.5.0",
     "model_name": "FloatProgressModel",
     "state": {
      "_dom_classes": [],
      "_model_module": "@jupyter-widgets/controls",
      "_model_module_version": "1.5.0",
      "_model_name": "FloatProgressModel",
      "_view_count": null,
      "_view_module": "@jupyter-widgets/controls",
      "_view_module_version": "1.5.0",
      "_view_name": "ProgressView",
      "bar_style": "success",
      "description": "",
      "description_tooltip": null,
      "layout": "IPY_MODEL_dcf03c9bc746470ebf280843d01f02e3",
      "max": 1,
      "min": 0,
      "orientation": "horizontal",
      "style": "IPY_MODEL_ef70e0a68f7b4d6398a45f52f3380abe",
      "value": 1
     }
    },
    "b157705019ac41a39d0dd28509291261": {
     "model_module": "@jupyter-widgets/base",
     "model_module_version": "1.2.0",
     "model_name": "LayoutModel",
     "state": {
      "_model_module": "@jupyter-widgets/base",
      "_model_module_version": "1.2.0",
      "_model_name": "LayoutModel",
      "_view_count": null,
      "_view_module": "@jupyter-widgets/base",
      "_view_module_version": "1.2.0",
      "_view_name": "LayoutView",
      "align_content": null,
      "align_items": null,
      "align_self": null,
      "border": null,
      "bottom": null,
      "display": null,
      "flex": null,
      "flex_flow": null,
      "grid_area": null,
      "grid_auto_columns": null,
      "grid_auto_flow": null,
      "grid_auto_rows": null,
      "grid_column": null,
      "grid_gap": null,
      "grid_row": null,
      "grid_template_areas": null,
      "grid_template_columns": null,
      "grid_template_rows": null,
      "height": null,
      "justify_content": null,
      "justify_items": null,
      "left": null,
      "margin": null,
      "max_height": null,
      "max_width": null,
      "min_height": null,
      "min_width": null,
      "object_fit": null,
      "object_position": null,
      "order": null,
      "overflow": null,
      "overflow_x": null,
      "overflow_y": null,
      "padding": null,
      "right": null,
      "top": null,
      "visibility": null,
      "width": null
     }
    },
    "b15f8a46ce6a40dc9296ad15e21e13d1": {
     "model_module": "@jupyter-widgets/base",
     "model_module_version": "1.2.0",
     "model_name": "LayoutModel",
     "state": {
      "_model_module": "@jupyter-widgets/base",
      "_model_module_version": "1.2.0",
      "_model_name": "LayoutModel",
      "_view_count": null,
      "_view_module": "@jupyter-widgets/base",
      "_view_module_version": "1.2.0",
      "_view_name": "LayoutView",
      "align_content": null,
      "align_items": null,
      "align_self": null,
      "border": null,
      "bottom": null,
      "display": null,
      "flex": null,
      "flex_flow": null,
      "grid_area": null,
      "grid_auto_columns": null,
      "grid_auto_flow": null,
      "grid_auto_rows": null,
      "grid_column": null,
      "grid_gap": null,
      "grid_row": null,
      "grid_template_areas": null,
      "grid_template_columns": null,
      "grid_template_rows": null,
      "height": null,
      "justify_content": null,
      "justify_items": null,
      "left": null,
      "margin": null,
      "max_height": null,
      "max_width": null,
      "min_height": null,
      "min_width": null,
      "object_fit": null,
      "object_position": null,
      "order": null,
      "overflow": null,
      "overflow_x": null,
      "overflow_y": null,
      "padding": null,
      "right": null,
      "top": null,
      "visibility": null,
      "width": null
     }
    },
    "ba25da94c38e4755a394b057a5c7fd58": {
     "model_module": "@jupyter-widgets/controls",
     "model_module_version": "1.5.0",
     "model_name": "HBoxModel",
     "state": {
      "_dom_classes": [],
      "_model_module": "@jupyter-widgets/controls",
      "_model_module_version": "1.5.0",
      "_model_name": "HBoxModel",
      "_view_count": null,
      "_view_module": "@jupyter-widgets/controls",
      "_view_module_version": "1.5.0",
      "_view_name": "HBoxView",
      "box_style": "",
      "children": [
       "IPY_MODEL_87a780ce24484359a7df518b19024b55",
       "IPY_MODEL_b14d88f448dd46d19900286169697c6a",
       "IPY_MODEL_fba14dc5ff994d579f0c1b640f10e587"
      ],
      "layout": "IPY_MODEL_833c168297d84ac0adac52a246c7cd49"
     }
    },
    "c2d7261b441a4d53be05ce37f9071d19": {
     "model_module": "@jupyter-widgets/base",
     "model_module_version": "1.2.0",
     "model_name": "LayoutModel",
     "state": {
      "_model_module": "@jupyter-widgets/base",
      "_model_module_version": "1.2.0",
      "_model_name": "LayoutModel",
      "_view_count": null,
      "_view_module": "@jupyter-widgets/base",
      "_view_module_version": "1.2.0",
      "_view_name": "LayoutView",
      "align_content": null,
      "align_items": null,
      "align_self": null,
      "border": null,
      "bottom": null,
      "display": null,
      "flex": null,
      "flex_flow": null,
      "grid_area": null,
      "grid_auto_columns": null,
      "grid_auto_flow": null,
      "grid_auto_rows": null,
      "grid_column": null,
      "grid_gap": null,
      "grid_row": null,
      "grid_template_areas": null,
      "grid_template_columns": null,
      "grid_template_rows": null,
      "height": null,
      "justify_content": null,
      "justify_items": null,
      "left": null,
      "margin": null,
      "max_height": null,
      "max_width": null,
      "min_height": null,
      "min_width": null,
      "object_fit": null,
      "object_position": null,
      "order": null,
      "overflow": null,
      "overflow_x": null,
      "overflow_y": null,
      "padding": null,
      "right": null,
      "top": null,
      "visibility": null,
      "width": null
     }
    },
    "cfa3e34dfb784301ae5e2f22cba0342f": {
     "model_module": "@jupyter-widgets/base",
     "model_module_version": "1.2.0",
     "model_name": "LayoutModel",
     "state": {
      "_model_module": "@jupyter-widgets/base",
      "_model_module_version": "1.2.0",
      "_model_name": "LayoutModel",
      "_view_count": null,
      "_view_module": "@jupyter-widgets/base",
      "_view_module_version": "1.2.0",
      "_view_name": "LayoutView",
      "align_content": null,
      "align_items": null,
      "align_self": null,
      "border": null,
      "bottom": null,
      "display": null,
      "flex": null,
      "flex_flow": null,
      "grid_area": null,
      "grid_auto_columns": null,
      "grid_auto_flow": null,
      "grid_auto_rows": null,
      "grid_column": null,
      "grid_gap": null,
      "grid_row": null,
      "grid_template_areas": null,
      "grid_template_columns": null,
      "grid_template_rows": null,
      "height": null,
      "justify_content": null,
      "justify_items": null,
      "left": null,
      "margin": null,
      "max_height": null,
      "max_width": null,
      "min_height": null,
      "min_width": null,
      "object_fit": null,
      "object_position": null,
      "order": null,
      "overflow": null,
      "overflow_x": null,
      "overflow_y": null,
      "padding": null,
      "right": null,
      "top": null,
      "visibility": null,
      "width": null
     }
    },
    "cff091248223440bb57a170c36a10ae0": {
     "model_module": "@jupyter-widgets/controls",
     "model_module_version": "1.5.0",
     "model_name": "HBoxModel",
     "state": {
      "_dom_classes": [],
      "_model_module": "@jupyter-widgets/controls",
      "_model_module_version": "1.5.0",
      "_model_name": "HBoxModel",
      "_view_count": null,
      "_view_module": "@jupyter-widgets/controls",
      "_view_module_version": "1.5.0",
      "_view_name": "HBoxView",
      "box_style": "",
      "children": [
       "IPY_MODEL_1c3f244880264a3dab923bfa7ae3e6db",
       "IPY_MODEL_79a6375800fe443aaa370c315707b306",
       "IPY_MODEL_3a7e3dafd4cc425fab471324f1aec5fb"
      ],
      "layout": "IPY_MODEL_4b6e7ab53f4f4e1aae525265806550f3"
     }
    },
    "d186ee1f70684b358348b774cba9f1c0": {
     "model_module": "@jupyter-widgets/controls",
     "model_module_version": "1.5.0",
     "model_name": "DescriptionStyleModel",
     "state": {
      "_model_module": "@jupyter-widgets/controls",
      "_model_module_version": "1.5.0",
      "_model_name": "DescriptionStyleModel",
      "_view_count": null,
      "_view_module": "@jupyter-widgets/base",
      "_view_module_version": "1.2.0",
      "_view_name": "StyleView",
      "description_width": ""
     }
    },
    "d5cc0e12416246d0a3d6325cbcc90dd1": {
     "model_module": "@jupyter-widgets/controls",
     "model_module_version": "1.5.0",
     "model_name": "ProgressStyleModel",
     "state": {
      "_model_module": "@jupyter-widgets/controls",
      "_model_module_version": "1.5.0",
      "_model_name": "ProgressStyleModel",
      "_view_count": null,
      "_view_module": "@jupyter-widgets/base",
      "_view_module_version": "1.2.0",
      "_view_name": "StyleView",
      "bar_color": null,
      "description_width": ""
     }
    },
    "dcf03c9bc746470ebf280843d01f02e3": {
     "model_module": "@jupyter-widgets/base",
     "model_module_version": "1.2.0",
     "model_name": "LayoutModel",
     "state": {
      "_model_module": "@jupyter-widgets/base",
      "_model_module_version": "1.2.0",
      "_model_name": "LayoutModel",
      "_view_count": null,
      "_view_module": "@jupyter-widgets/base",
      "_view_module_version": "1.2.0",
      "_view_name": "LayoutView",
      "align_content": null,
      "align_items": null,
      "align_self": null,
      "border": null,
      "bottom": null,
      "display": null,
      "flex": null,
      "flex_flow": null,
      "grid_area": null,
      "grid_auto_columns": null,
      "grid_auto_flow": null,
      "grid_auto_rows": null,
      "grid_column": null,
      "grid_gap": null,
      "grid_row": null,
      "grid_template_areas": null,
      "grid_template_columns": null,
      "grid_template_rows": null,
      "height": null,
      "justify_content": null,
      "justify_items": null,
      "left": null,
      "margin": null,
      "max_height": null,
      "max_width": null,
      "min_height": null,
      "min_width": null,
      "object_fit": null,
      "object_position": null,
      "order": null,
      "overflow": null,
      "overflow_x": null,
      "overflow_y": null,
      "padding": null,
      "right": null,
      "top": null,
      "visibility": null,
      "width": null
     }
    },
    "e623dfe017b940208dd7caa9f6964935": {
     "model_module": "@jupyter-widgets/controls",
     "model_module_version": "1.5.0",
     "model_name": "DescriptionStyleModel",
     "state": {
      "_model_module": "@jupyter-widgets/controls",
      "_model_module_version": "1.5.0",
      "_model_name": "DescriptionStyleModel",
      "_view_count": null,
      "_view_module": "@jupyter-widgets/base",
      "_view_module_version": "1.2.0",
      "_view_name": "StyleView",
      "description_width": ""
     }
    },
    "eb7c496d8d1d417090528f61f6ec0bc0": {
     "model_module": "@jupyter-widgets/base",
     "model_module_version": "1.2.0",
     "model_name": "LayoutModel",
     "state": {
      "_model_module": "@jupyter-widgets/base",
      "_model_module_version": "1.2.0",
      "_model_name": "LayoutModel",
      "_view_count": null,
      "_view_module": "@jupyter-widgets/base",
      "_view_module_version": "1.2.0",
      "_view_name": "LayoutView",
      "align_content": null,
      "align_items": null,
      "align_self": null,
      "border": null,
      "bottom": null,
      "display": null,
      "flex": null,
      "flex_flow": null,
      "grid_area": null,
      "grid_auto_columns": null,
      "grid_auto_flow": null,
      "grid_auto_rows": null,
      "grid_column": null,
      "grid_gap": null,
      "grid_row": null,
      "grid_template_areas": null,
      "grid_template_columns": null,
      "grid_template_rows": null,
      "height": null,
      "justify_content": null,
      "justify_items": null,
      "left": null,
      "margin": null,
      "max_height": null,
      "max_width": null,
      "min_height": null,
      "min_width": null,
      "object_fit": null,
      "object_position": null,
      "order": null,
      "overflow": null,
      "overflow_x": null,
      "overflow_y": null,
      "padding": null,
      "right": null,
      "top": null,
      "visibility": null,
      "width": null
     }
    },
    "ef70e0a68f7b4d6398a45f52f3380abe": {
     "model_module": "@jupyter-widgets/controls",
     "model_module_version": "1.5.0",
     "model_name": "ProgressStyleModel",
     "state": {
      "_model_module": "@jupyter-widgets/controls",
      "_model_module_version": "1.5.0",
      "_model_name": "ProgressStyleModel",
      "_view_count": null,
      "_view_module": "@jupyter-widgets/base",
      "_view_module_version": "1.2.0",
      "_view_name": "StyleView",
      "bar_color": null,
      "description_width": ""
     }
    },
    "f017b1669b7343e480b0cd040fd31e9d": {
     "model_module": "@jupyter-widgets/base",
     "model_module_version": "1.2.0",
     "model_name": "LayoutModel",
     "state": {
      "_model_module": "@jupyter-widgets/base",
      "_model_module_version": "1.2.0",
      "_model_name": "LayoutModel",
      "_view_count": null,
      "_view_module": "@jupyter-widgets/base",
      "_view_module_version": "1.2.0",
      "_view_name": "LayoutView",
      "align_content": null,
      "align_items": null,
      "align_self": null,
      "border": null,
      "bottom": null,
      "display": null,
      "flex": null,
      "flex_flow": null,
      "grid_area": null,
      "grid_auto_columns": null,
      "grid_auto_flow": null,
      "grid_auto_rows": null,
      "grid_column": null,
      "grid_gap": null,
      "grid_row": null,
      "grid_template_areas": null,
      "grid_template_columns": null,
      "grid_template_rows": null,
      "height": null,
      "justify_content": null,
      "justify_items": null,
      "left": null,
      "margin": null,
      "max_height": null,
      "max_width": null,
      "min_height": null,
      "min_width": null,
      "object_fit": null,
      "object_position": null,
      "order": null,
      "overflow": null,
      "overflow_x": null,
      "overflow_y": null,
      "padding": null,
      "right": null,
      "top": null,
      "visibility": null,
      "width": null
     }
    },
    "f26f492d329944d4a04e55034fcf4a22": {
     "model_module": "@jupyter-widgets/base",
     "model_module_version": "1.2.0",
     "model_name": "LayoutModel",
     "state": {
      "_model_module": "@jupyter-widgets/base",
      "_model_module_version": "1.2.0",
      "_model_name": "LayoutModel",
      "_view_count": null,
      "_view_module": "@jupyter-widgets/base",
      "_view_module_version": "1.2.0",
      "_view_name": "LayoutView",
      "align_content": null,
      "align_items": null,
      "align_self": null,
      "border": null,
      "bottom": null,
      "display": null,
      "flex": null,
      "flex_flow": null,
      "grid_area": null,
      "grid_auto_columns": null,
      "grid_auto_flow": null,
      "grid_auto_rows": null,
      "grid_column": null,
      "grid_gap": null,
      "grid_row": null,
      "grid_template_areas": null,
      "grid_template_columns": null,
      "grid_template_rows": null,
      "height": null,
      "justify_content": null,
      "justify_items": null,
      "left": null,
      "margin": null,
      "max_height": null,
      "max_width": null,
      "min_height": null,
      "min_width": null,
      "object_fit": null,
      "object_position": null,
      "order": null,
      "overflow": null,
      "overflow_x": null,
      "overflow_y": null,
      "padding": null,
      "right": null,
      "top": null,
      "visibility": null,
      "width": null
     }
    },
    "f5ffa81e87b8428bb524be88c8b0369a": {
     "model_module": "@jupyter-widgets/controls",
     "model_module_version": "1.5.0",
     "model_name": "HTMLModel",
     "state": {
      "_dom_classes": [],
      "_model_module": "@jupyter-widgets/controls",
      "_model_module_version": "1.5.0",
      "_model_name": "HTMLModel",
      "_view_count": null,
      "_view_module": "@jupyter-widgets/controls",
      "_view_module_version": "1.5.0",
      "_view_name": "HTMLView",
      "description": "",
      "description_tooltip": null,
      "layout": "IPY_MODEL_eb7c496d8d1d417090528f61f6ec0bc0",
      "placeholder": "​",
      "style": "IPY_MODEL_5239e03afc66470dbf11a5cbe2988690",
      "value": "Epoch:   0%"
     }
    },
    "f788cf300a3c4264a5851508c72cf733": {
     "model_module": "@jupyter-widgets/controls",
     "model_module_version": "1.5.0",
     "model_name": "HTMLModel",
     "state": {
      "_dom_classes": [],
      "_model_module": "@jupyter-widgets/controls",
      "_model_module_version": "1.5.0",
      "_model_name": "HTMLModel",
      "_view_count": null,
      "_view_module": "@jupyter-widgets/controls",
      "_view_module_version": "1.5.0",
      "_view_name": "HTMLView",
      "description": "",
      "description_tooltip": null,
      "layout": "IPY_MODEL_b15f8a46ce6a40dc9296ad15e21e13d1",
      "placeholder": "​",
      "style": "IPY_MODEL_e623dfe017b940208dd7caa9f6964935",
      "value": " 360/360 [02:51&lt;00:00,  2.06it/s]"
     }
    },
    "fb49780850d54bd984164e181cc44212": {
     "model_module": "@jupyter-widgets/controls",
     "model_module_version": "1.5.0",
     "model_name": "ProgressStyleModel",
     "state": {
      "_model_module": "@jupyter-widgets/controls",
      "_model_module_version": "1.5.0",
      "_model_name": "ProgressStyleModel",
      "_view_count": null,
      "_view_module": "@jupyter-widgets/base",
      "_view_module_version": "1.2.0",
      "_view_name": "StyleView",
      "bar_color": null,
      "description_width": ""
     }
    },
    "fba14dc5ff994d579f0c1b640f10e587": {
     "model_module": "@jupyter-widgets/controls",
     "model_module_version": "1.5.0",
     "model_name": "HTMLModel",
     "state": {
      "_dom_classes": [],
      "_model_module": "@jupyter-widgets/controls",
      "_model_module_version": "1.5.0",
      "_model_name": "HTMLModel",
      "_view_count": null,
      "_view_module": "@jupyter-widgets/controls",
      "_view_module_version": "1.5.0",
      "_view_name": "HTMLView",
      "description": "",
      "description_tooltip": null,
      "layout": "IPY_MODEL_737941777520426aa5a2126df88ce26f",
      "placeholder": "​",
      "style": "IPY_MODEL_d186ee1f70684b358348b774cba9f1c0",
      "value": " 1/1 [03:03&lt;00:00, 183.97s/it]"
     }
    },
    "ffe68cc84da141449cd72273a58fbcc0": {
     "model_module": "@jupyter-widgets/base",
     "model_module_version": "1.2.0",
     "model_name": "LayoutModel",
     "state": {
      "_model_module": "@jupyter-widgets/base",
      "_model_module_version": "1.2.0",
      "_model_name": "LayoutModel",
      "_view_count": null,
      "_view_module": "@jupyter-widgets/base",
      "_view_module_version": "1.2.0",
      "_view_name": "LayoutView",
      "align_content": null,
      "align_items": null,
      "align_self": null,
      "border": null,
      "bottom": null,
      "display": null,
      "flex": null,
      "flex_flow": null,
      "grid_area": null,
      "grid_auto_columns": null,
      "grid_auto_flow": null,
      "grid_auto_rows": null,
      "grid_column": null,
      "grid_gap": null,
      "grid_row": null,
      "grid_template_areas": null,
      "grid_template_columns": null,
      "grid_template_rows": null,
      "height": null,
      "justify_content": null,
      "justify_items": null,
      "left": null,
      "margin": null,
      "max_height": null,
      "max_width": null,
      "min_height": null,
      "min_width": null,
      "object_fit": null,
      "object_position": null,
      "order": null,
      "overflow": null,
      "overflow_x": null,
      "overflow_y": null,
      "padding": null,
      "right": null,
      "top": null,
      "visibility": null,
      "width": null
     }
    }
   }
  }
 },
 "nbformat": 4,
 "nbformat_minor": 1
}
