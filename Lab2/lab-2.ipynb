{
 "cells": [
  {
   "cell_type": "markdown",
   "metadata": {
    "id": "ZXAsTICnCOE8"
   },
   "source": [
    "# **LAB-2: Scalable Machine Learning and Deep Learning**\n",
    "\n",
    "## **Paolo Teta & Ralfs Zangis**\n",
    "---\n",
    "**TASK:** Implement **S-BERT** model\n",
    "\n",
    "**Outline:**\n",
    "- Load the dataset\n",
    "- Regression\n",
    "- Classification\n",
    "- Evaluation with STS benchmark dataset (cosine similarity and Spearmean correlation)\n",
    "- Semantic search\n",
    "---\n"
   ]
  },
  {
   "cell_type": "markdown",
   "metadata": {
    "id": "rnSVIDnel6l1"
   },
   "source": [
    "## **Requirements**"
   ]
  },
  {
   "cell_type": "markdown",
   "metadata": {},
   "source": [
    "### Install dependencies"
   ]
  },
  {
   "cell_type": "code",
   "execution_count": null,
   "metadata": {},
   "outputs": [],
   "source": [
    "!pip install sentence_transformers\n",
    "!pip install transformers\n",
    "!pip install tokenizers\n",
    "!pip install wget\n",
    "!pip install torch"
   ]
  },
  {
   "cell_type": "markdown",
   "metadata": {},
   "source": [
    "### Spark"
   ]
  },
  {
   "cell_type": "code",
   "execution_count": null,
   "metadata": {},
   "outputs": [],
   "source": [
    "from pyspark.sql import SparkSession\n",
    "from pyspark.sql.functions import *\n",
    "from pyspark.sql.types import *\n",
    "\n",
    "spark = SparkSession.builder.getOrCreate()"
   ]
  },
  {
   "cell_type": "markdown",
   "metadata": {},
   "source": [
    "### ML"
   ]
  },
  {
   "cell_type": "code",
   "execution_count": null,
   "metadata": {},
   "outputs": [],
   "source": [
    "import tensorflow as tf\n",
    "\n",
    "from tensorflow import keras\n",
    "from tensorflow.keras import layers\n",
    "from tensorflow.keras.layers import Input\n",
    "\n",
    "from sentence_transformers import SentenceTransformer\n",
    "from sentence_transformers import LoggingHandler\n",
    "from sentence_transformers import models, losses, util\n",
    "from sentence_transformers.evaluation import EmbeddingSimilarityEvaluator\n",
    "from sentence_transformers.readers import InputExample\n",
    "\n",
    "from transformers import BertTokenizer, TFBertModel, BertConfig\n",
    "# from transformers import DistilBertTokenizer, DistilBertModel # smaller model"
   ]
  },
  {
   "cell_type": "markdown",
   "metadata": {},
   "source": [
    "### Other"
   ]
  },
  {
   "cell_type": "code",
   "execution_count": null,
   "metadata": {
    "id": "yugvCJ05CMg9"
   },
   "outputs": [],
   "source": [
    "import os\n",
    "import re\n",
    "import csv\n",
    "import wget\n",
    "import json\n",
    "import math\n",
    "import scipy\n",
    "import torch\n",
    "import string\n",
    "import sklearn\n",
    "\n",
    "import numpy as np\n",
    "import pandas as pd\n",
    "\n",
    "from tokenizers import BertWordPieceTokenizer\n",
    "from torch.utils.data import DataLoader\n",
    "from datetime import datetime"
   ]
  },
  {
   "cell_type": "markdown",
   "metadata": {
    "id": "HR1aiNbSpaAa"
   },
   "source": [
    "**Mount Google Drive to load saved models**"
   ]
  },
  {
   "cell_type": "code",
   "execution_count": null,
   "metadata": {
    "id": "TlNVUAMfpXko"
   },
   "outputs": [],
   "source": [
    "# from google.colab import drive\n",
    "# drive.mount('/content/drive')"
   ]
  },
  {
   "cell_type": "markdown",
   "metadata": {
    "id": "BHTmDfTnpiYW"
   },
   "source": [
    "## **REGRESSION**"
   ]
  },
  {
   "cell_type": "markdown",
   "metadata": {
    "id": "DKMoZfeDqHOY"
   },
   "source": [
    "### Loading the datasets"
   ]
  },
  {
   "cell_type": "code",
   "execution_count": null,
   "metadata": {},
   "outputs": [],
   "source": [
    "schema = StructType([\n",
    "    StructField(\"genre\", StringType(), True),\n",
    "    StructField(\"filename\", StringType(), True),\n",
    "    StructField(\"year\", StringType(), True),\n",
    "    StructField(\"year_id\", IntegerType(), True),\n",
    "    StructField(\"score\", FloatType(), True),\n",
    "    StructField(\"sentence1\", StringType(), True),\n",
    "    StructField(\"sentence2\", StringType(), True)])\n",
    "\n",
    "train = spark.read.csv(\"stsbenchmark/sts-train.csv\", sep ='\\t', header=False, schema=schema)\n",
    "test = spark.read.csv(\"stsbenchmark/sts-test.csv\", sep ='\\t', header=False, schema=schema)\n",
    "dev = spark.read.csv(\"stsbenchmark/sts-dev.csv\", sep ='\\t', header=False, schema=schema)\n",
    "\n",
    "train.show()"
   ]
  },
  {
   "cell_type": "markdown",
   "metadata": {},
   "source": [
    "### Normalize"
   ]
  },
  {
   "cell_type": "code",
   "execution_count": null,
   "metadata": {},
   "outputs": [],
   "source": [
    "train = train.withColumn(\"score\", col(\"score\")/2.5-1)\n",
    "test = test.withColumn(\"score\", col(\"score\")/2.5-1)\n",
    "dev = dev.withColumn(\"score\", col(\"score\")/2.5-1)\n",
    "\n",
    "dev.select(\"score\").describe().show()"
   ]
  },
  {
   "cell_type": "markdown",
   "metadata": {},
   "source": [
    "### Create samples"
   ]
  },
  {
   "cell_type": "code",
   "execution_count": null,
   "metadata": {
    "id": "wFbZbwrhAmQf"
   },
   "outputs": [],
   "source": [
    "df_train = train.select(\"sentence1\", \"sentence2\", \"score\").toPandas()\n",
    "\n",
    "train_samples = []\n",
    "for index, row in df_train.iterrows():\n",
    "    input_example = InputExample(texts=[row['sentence1'], row['sentence2']], label=row['score'])\n",
    "    train_samples.append(input_example)"
   ]
  },
  {
   "cell_type": "code",
   "execution_count": null,
   "metadata": {
    "id": "NqwOffUzOCIh"
   },
   "outputs": [],
   "source": [
    "df_test = test.select(\"sentence1\", \"sentence2\", \"score\").toPandas()\n",
    "\n",
    "test_samples = []\n",
    "for index, row in df_test.iterrows():\n",
    "    input_example = InputExample(texts=[row['sentence1'], row['sentence2']], label=row['score'])\n",
    "    test_samples.append(input_example)"
   ]
  },
  {
   "cell_type": "code",
   "execution_count": null,
   "metadata": {
    "id": "s2u5HRNUN9Po"
   },
   "outputs": [],
   "source": [
    "df_dev = dev.select(\"sentence1\", \"sentence2\", \"score\").toPandas()\n",
    "\n",
    "dev_samples = []\n",
    "for index, row in df_dev.iterrows():\n",
    "    input_example = InputExample(texts=[row['sentence1'], row['sentence2']], label=row['score'])\n",
    "    dev_samples.append(input_example)"
   ]
  },
  {
   "cell_type": "markdown",
   "metadata": {
    "id": "HOdKI-S91Yb5"
   },
   "source": [
    "## Considering the given paper \"*Sentence-BERT: Sentence Embeddings using Siamese BERT-Networks*\""
   ]
  },
  {
   "cell_type": "markdown",
   "metadata": {
    "id": "IMpYMvXM0Iru"
   },
   "source": [
    "### Get pre-trained model \"*bert-base-uncased*\" and word embedding model"
   ]
  },
  {
   "cell_type": "code",
   "execution_count": null,
   "metadata": {
    "id": "YOi6F9ps0biy"
   },
   "outputs": [],
   "source": [
    "model_name = 'bert-base-uncased'\n",
    "word_embedding_model = models.Transformer(model_name)"
   ]
  },
  {
   "cell_type": "markdown",
   "metadata": {
    "id": "WP5UDhSi2RFh"
   },
   "source": [
    "### Set mean-pooling strategy"
   ]
  },
  {
   "cell_type": "code",
   "execution_count": null,
   "metadata": {
    "id": "fIRLPEnrGhG6"
   },
   "outputs": [],
   "source": [
    "pooling_model = models.Pooling(word_embedding_model.get_word_embedding_dimension(),\n",
    "                               pooling_mode_mean_tokens=True,\n",
    "                               pooling_mode_cls_token=False,\n",
    "                               pooling_mode_max_tokens=False)"
   ]
  },
  {
   "cell_type": "markdown",
   "metadata": {
    "id": "Fc11KhHR2nH4"
   },
   "source": [
    "## Define the model"
   ]
  },
  {
   "cell_type": "code",
   "execution_count": null,
   "metadata": {
    "id": "RozMxge52jC7"
   },
   "outputs": [],
   "source": [
    "model = SentenceTransformer(modules=[word_embedding_model, pooling_model])"
   ]
  },
  {
   "cell_type": "markdown",
   "metadata": {
    "id": "tNI9URmg4vCk"
   },
   "source": [
    "### Load the training set and define the loss function as the cosine similarity"
   ]
  },
  {
   "cell_type": "code",
   "execution_count": null,
   "metadata": {
    "id": "iht5w4HJlhtt"
   },
   "outputs": [],
   "source": [
    "train_batch_size = 16\n",
    "# train_batch_size = 32 # try to speed up the training\n",
    "\n",
    "train_dataloader = DataLoader(train_samples, shuffle=True, batch_size=train_batch_size)\n",
    "train_loss = losses.CosineSimilarityLoss(model=model)"
   ]
  },
  {
   "cell_type": "markdown",
   "metadata": {
    "id": "NYZlyR-i6z3j"
   },
   "source": [
    "### Define the evaluator for the sentence embeddings"
   ]
  },
  {
   "cell_type": "code",
   "execution_count": null,
   "metadata": {
    "id": "JchPxNSDT2f9"
   },
   "outputs": [],
   "source": [
    "evaluator = EmbeddingSimilarityEvaluator.from_input_examples(dev_samples, name='sts-dev')"
   ]
  },
  {
   "cell_type": "markdown",
   "metadata": {
    "id": "yQ2IPb4y7CVk"
   },
   "source": [
    "10% of train dataset for warm-up"
   ]
  },
  {
   "cell_type": "code",
   "execution_count": null,
   "metadata": {
    "id": "g-nlK2kmUCve"
   },
   "outputs": [],
   "source": [
    "num_epochs = 1\n",
    "\n",
    "warmup_steps = math.ceil(len(train_dataloader) * num_epochs * 0.1)"
   ]
  },
  {
   "cell_type": "markdown",
   "metadata": {
    "id": "0jrrFM8r7Ly9"
   },
   "source": [
    "**Training**"
   ]
  },
  {
   "cell_type": "code",
   "execution_count": null,
   "metadata": {
    "id": "ZbMrmq-11tt-"
   },
   "outputs": [],
   "source": [
    "save_path = './training_sts_reg_'+model_name+'-'+datetime.now().strftime(\"%Y-%m-%d_%H-%M-%S\")"
   ]
  },
  {
   "cell_type": "code",
   "execution_count": null,
   "metadata": {
    "colab": {
     "base_uri": "https://localhost:8080/",
     "height": 81,
     "referenced_widgets": [
      "ba25da94c38e4755a394b057a5c7fd58",
      "833c168297d84ac0adac52a246c7cd49",
      "87a780ce24484359a7df518b19024b55",
      "b14d88f448dd46d19900286169697c6a",
      "fba14dc5ff994d579f0c1b640f10e587",
      "884aea71873248ce9a0f6f0237156800",
      "3dc42c11231c4537b0d96b028dada121",
      "ef70e0a68f7b4d6398a45f52f3380abe",
      "dcf03c9bc746470ebf280843d01f02e3",
      "d186ee1f70684b358348b774cba9f1c0",
      "737941777520426aa5a2126df88ce26f",
      "84484e726b194077bf39b4003fdab2e6",
      "b157705019ac41a39d0dd28509291261",
      "76147d34b934402ebe6fa68a93fb236f",
      "70a9a5ef2f3f4130aaf3f2a30dd00524",
      "f788cf300a3c4264a5851508c72cf733",
      "8af6428bfda047cb952080c8b08210e3",
      "cfa3e34dfb784301ae5e2f22cba0342f",
      "aef56e174df5439695847fbbbd175d49",
      "7c308aae6c3e4a9eadf62c9c6b712244",
      "e623dfe017b940208dd7caa9f6964935",
      "b15f8a46ce6a40dc9296ad15e21e13d1"
     ]
    },
    "id": "TxEXdHtiUDXk",
    "outputId": "bcf7f893-b235-4ff4-fc68-cf01b82b1f16"
   },
   "outputs": [],
   "source": [
    "learn_rate = 2e-5\n",
    "\n",
    "model.fit(train_objectives=[(train_dataloader, train_loss)],\n",
    "            optimizer_class=torch.optim.Adam,\n",
    "            optimizer_params={'lr': learn_rate},\n",
    "            evaluator=evaluator,\n",
    "            epochs=num_epochs,\n",
    "            evaluation_steps=1000,\n",
    "            warmup_steps=warmup_steps,\n",
    "            output_path=save_path)"
   ]
  },
  {
   "cell_type": "markdown",
   "metadata": {
    "id": "foas3A_I981K"
   },
   "source": [
    "**Evaluation on STS benchmark dataset**\n",
    "\n",
    "Mathematical relationship: *cosine_similarity = 1 - cosine_distance*"
   ]
  },
  {
   "cell_type": "code",
   "execution_count": null,
   "metadata": {
    "id": "oz0B_1KpUi3S"
   },
   "outputs": [],
   "source": [
    "print('Loading the stored model ...')\n",
    "model = SentenceTransformer(save_path)"
   ]
  },
  {
   "cell_type": "code",
   "execution_count": null,
   "metadata": {
    "colab": {
     "base_uri": "https://localhost:8080/"
    },
    "id": "Qv93RESm_tyi",
    "outputId": "20bec7b0-86ce-409e-8c75-fdf420de9f75"
   },
   "outputs": [],
   "source": [
    "test_eval = EmbeddingSimilarityEvaluator.from_input_examples(test_samples, name='sts-test')\n",
    "c_s = test_eval(model, output_path=save_path)\n",
    "print('Cosine similarity with the sentence_transformers library = ', c_s)"
   ]
  },
  {
   "cell_type": "markdown",
   "metadata": {
    "id": "eWX6CH37-p1S"
   },
   "source": [
    "Usually the result is between 0.7 and 0.8"
   ]
  },
  {
   "cell_type": "markdown",
   "metadata": {
    "id": "axyd6hqZ_a5p"
   },
   "source": [
    "Embedding sentences"
   ]
  },
  {
   "cell_type": "code",
   "execution_count": null,
   "metadata": {
    "id": "Vy0C_4qm_tsR"
   },
   "outputs": [],
   "source": [
    "embed_1 = model.encode(df_test['sentence1'], convert_to_numpy=True, batch_size=train_batch_size)\n",
    "embed_2 = model.encode(df_test['sentence2'], convert_to_numpy=True, batch_size=train_batch_size)"
   ]
  },
  {
   "cell_type": "markdown",
   "metadata": {
    "id": "iv3qFiDeB3uS"
   },
   "source": [
    "Compute the cosine similarity"
   ]
  },
  {
   "cell_type": "code",
   "execution_count": null,
   "metadata": {
    "colab": {
     "base_uri": "https://localhost:8080/"
    },
    "id": "Y9oux_4b_tk_",
    "outputId": "18e8a104-0908-4930-a5c6-148a032eae80"
   },
   "outputs": [],
   "source": [
    "cos_sim = 1 - sklearn.metrics.pairwise.paired_cosine_distances(embed_1, embed_2)\n",
    "print('Cosine similarity = ', cos_sim)"
   ]
  },
  {
   "cell_type": "markdown",
   "metadata": {
    "id": "U4d__O86B9DB"
   },
   "source": [
    "Spearmean correlation coefficient"
   ]
  },
  {
   "cell_type": "code",
   "execution_count": null,
   "metadata": {
    "colab": {
     "base_uri": "https://localhost:8080/"
    },
    "id": "oVziirO7-vHR",
    "outputId": "9e554495-c993-4c05-8770-16f77ed256bf"
   },
   "outputs": [],
   "source": [
    "spr_corr = scipy.stats.spearmanr(cos_sim, df_test['score'])\n",
    "print('Spearmean correlation coefficient = ', spr_corr[0])"
   ]
  },
  {
   "cell_type": "markdown",
   "metadata": {
    "id": "XW3C-qqGIcpc"
   },
   "source": [
    "**Comment:** the two results match each other"
   ]
  },
  {
   "cell_type": "markdown",
   "metadata": {
    "id": "fAnrAjHCEMqb"
   },
   "source": [
    "---"
   ]
  },
  {
   "cell_type": "markdown",
   "metadata": {
    "id": "MAUh76sD99Y8"
   },
   "source": [
    "## **CLASSIFICATION**"
   ]
  },
  {
   "cell_type": "code",
   "execution_count": null,
   "metadata": {
    "colab": {
     "base_uri": "https://localhost:8080/"
    },
    "id": "RixFoG2q3EAV",
    "outputId": "0fa13f5c-ae99-44d8-aea1-64bbb9ae9c4c"
   },
   "outputs": [],
   "source": [
    "print('***** Downloading dataset ...')\n",
    "\n",
    "# The URL for the dataset zip file.\n",
    "url = 'https://nlp.stanford.edu/projects/snli/snli_1.0.zip'\n",
    "\n",
    "# Download the file (if we haven't already)\n",
    "if not os.path.exists('./snli_1.0.zip'):\n",
    "    wget.download(url, './snli_1.0.zip')"
   ]
  },
  {
   "cell_type": "code",
   "execution_count": null,
   "metadata": {
    "colab": {
     "base_uri": "https://localhost:8080/"
    },
    "id": "xnvaCK3w3D36",
    "outputId": "d4858aea-cf58-46cd-bde3-baf1b9f6c6f7"
   },
   "outputs": [],
   "source": [
    "!unzip snli_1.0.zip"
   ]
  },
  {
   "cell_type": "code",
   "execution_count": null,
   "metadata": {
    "id": "HWDQJpqaBu9y"
   },
   "outputs": [],
   "source": [
    "label2int = {\"contradiction\": 0,\n",
    "             \"entailment\": 1,\n",
    "             \"neutral\": 2,\n",
    "             \"-\": 3}"
   ]
  },
  {
   "cell_type": "markdown",
   "metadata": {},
   "source": [
    "### Create samples"
   ]
  },
  {
   "cell_type": "code",
   "execution_count": null,
   "metadata": {
    "id": "afHN7VUd66aF"
   },
   "outputs": [],
   "source": [
    "train_path = 'snli_1.0/snli_1.0_train.jsonl'\n",
    "df_class_train = pd.read_json(train_path, lines=True)\n",
    "\n",
    "#print(df_class_train['gold_label'])\n",
    "#print(df_class_train.gold_label.value_counts())\n",
    "#print(len(df_class_train.gold_label.index))\n",
    "#print(df_class_train['gold_label'].unique())\n",
    "\n",
    "train_class = []\n",
    "for index, row in df_class_train.iterrows():\n",
    "    input_example = InputExample(texts=[row['sentence1'], row['sentence2']], label=label2int[row['gold_label']])\n",
    "    train_class.append(input_example)"
   ]
  },
  {
   "cell_type": "code",
   "execution_count": null,
   "metadata": {
    "id": "nFMg7FqT_vgv"
   },
   "outputs": [],
   "source": [
    "test_path = 'snli_1.0/snli_1.0_test.jsonl'\n",
    "df_class_test = pd.read_json(test_path, lines=True)\n",
    "\n",
    "test_class=[]\n",
    "\n",
    "for index, row in df_class_test.iterrows():\n",
    "    input_example = InputExample(texts=[row['sentence1'], row['sentence2']], label=label2int[row['gold_label']])\n",
    "    test_class.append(input_example)"
   ]
  },
  {
   "cell_type": "code",
   "execution_count": null,
   "metadata": {
    "id": "_sOlgRsu_vcO"
   },
   "outputs": [],
   "source": [
    "dev_path = 'snli_1.0/snli_1.0_dev.jsonl'\n",
    "df_class_dev = pd.read_json(dev_path, lines=True)\n",
    "\n",
    "dev_class = []\n",
    "\n",
    "for index, row in df_class_dev.iterrows():\n",
    "    input_example = InputExample(texts=[row['sentence1'], row['sentence2']], label=label2int[row['gold_label']])\n",
    "    dev_class.append(input_example)"
   ]
  },
  {
   "cell_type": "code",
   "execution_count": null,
   "metadata": {
    "id": "Sa_0LhJk_vY9"
   },
   "outputs": [],
   "source": [
    "model_save_path = './training_nli_'+model_name.replace(\"/\", \"-\")+'-'+datetime.now().strftime(\"%Y-%m-%d_%H-%M-%S\")"
   ]
  },
  {
   "cell_type": "code",
   "execution_count": null,
   "metadata": {
    "id": "Ag3lU3dc_vWv"
   },
   "outputs": [],
   "source": [
    "train_batch_size = 16\n",
    "\n",
    "## DOING IT WITH ALL THE DATASET\n",
    "#train_dataloader = DataLoader(train_class, shuffle=True, batch_size=train_batch_size)\n",
    "\n",
    "## DOING IT WITH A SUBSET\n",
    "train_dataloader = DataLoader(train_class[0:200000], shuffle=True, batch_size=train_batch_size)\n",
    "\n",
    "model = SentenceTransformer(modules=[word_embedding_model, pooling_model])\n",
    "\n",
    "train_loss = losses.SoftmaxLoss(model=model, sentence_embedding_dimension=model.get_sentence_embedding_dimension(), num_labels=3)"
   ]
  },
  {
   "cell_type": "code",
   "execution_count": null,
   "metadata": {
    "id": "kG1JbqW5_vTn"
   },
   "outputs": [],
   "source": [
    "dev_evaluator = EmbeddingSimilarityEvaluator.from_input_examples(dev_class, batch_size=train_batch_size, name='snli-dev')"
   ]
  },
  {
   "cell_type": "code",
   "execution_count": null,
   "metadata": {
    "id": "5vBMSbRE8ReU"
   },
   "outputs": [],
   "source": [
    "# Configure the training\n",
    "num_epochs = 1\n",
    "\n",
    "warmup_steps = math.ceil(len(train_dataloader) * num_epochs * 0.1) # 10% of train data for warm-up"
   ]
  },
  {
   "cell_type": "code",
   "execution_count": null,
   "metadata": {
    "colab": {
     "base_uri": "https://localhost:8080/",
     "height": 81,
     "referenced_widgets": [
      "75ca2c40fa0b47588ed204c33ed63bc9",
      "f5ffa81e87b8428bb524be88c8b0369a",
      "7b11724581524a3da18e379bc4b929aa",
      "9650eb9ca49046ea9708b207d89303e4",
      "c2d7261b441a4d53be05ce37f9071d19",
      "eb7c496d8d1d417090528f61f6ec0bc0",
      "5239e03afc66470dbf11a5cbe2988690",
      "ffe68cc84da141449cd72273a58fbcc0",
      "fb49780850d54bd984164e181cc44212",
      "f26f492d329944d4a04e55034fcf4a22",
      "b08dbec935b04861ba063c2ecbfa8a5e",
      "396c91f6e19c42ec85becb2044f8f94b",
      "9fcb49816ac7452d95ac2899cb679a9b",
      "682fbd4aaa9a480c811e5eacfefaaf07",
      "9659a65cebe3431b82e228dd3a069a17",
      "3045b70d29704436b0cd9927cd1289a4",
      "943e6156d3b648538cad9904fcc0f4b8",
      "4ef5e3513ca041088f4f21d800963492",
      "5fd11a3c78c64d03adc69700723abb51",
      "7db9afff19e34fc6815bab82abe3ac05",
      "f017b1669b7343e480b0cd040fd31e9d",
      "869b1898464e4af89a27d14be889b952"
     ]
    },
    "id": "_ow0P5N98RbU",
    "outputId": "67e6acd9-5acc-4252-a3e5-d0fc18223b99"
   },
   "outputs": [],
   "source": [
    "# Train the model\n",
    "model.fit(train_objectives=[(train_dataloader, train_loss)],\n",
    "          evaluator=dev_evaluator,\n",
    "          epochs=num_epochs,\n",
    "          evaluation_steps=1000,\n",
    "          warmup_steps=warmup_steps,\n",
    "          output_path=model_save_path\n",
    "          )"
   ]
  },
  {
   "cell_type": "markdown",
   "metadata": {
    "id": "4f8qHUIwl_-F"
   },
   "source": [
    "## Evaluation with snli-test"
   ]
  },
  {
   "cell_type": "code",
   "execution_count": null,
   "metadata": {
    "id": "gxvA9iEe8RX2"
   },
   "outputs": [],
   "source": [
    "model = SentenceTransformer(model_save_path)\n",
    "test_evaluator = EmbeddingSimilarityEvaluator.from_input_examples(test_class, name='snli-test')\n",
    "test_evaluator(model, output_path=model_save_path)"
   ]
  },
  {
   "cell_type": "markdown",
   "metadata": {
    "id": "lUKVhKDUvKcc"
   },
   "source": [
    "Result with 200000 -> 0.3378714236743856"
   ]
  },
  {
   "cell_type": "markdown",
   "metadata": {
    "id": "C11EGRhZmgXp"
   },
   "source": [
    "## Evaluation with STS-benchmark test and dev for eval"
   ]
  },
  {
   "cell_type": "code",
   "execution_count": null,
   "metadata": {
    "id": "YQpeWNY_8t4w"
   },
   "outputs": [],
   "source": [
    "#dev_evaluator = EmbeddingSimilarityEvaluator.from_input_examples(dev_samples, batch_size=train_batch_size, main_similarity='Cosine', name='sts-dev')\n",
    "dev_evaluator = EmbeddingSimilarityEvaluator.from_input_examples(dev_samples, batch_size=train_batch_size, name='sts-dev')\n",
    "\n",
    "## to be implemented!!!\n",
    "dev_evaluator = scipy.stats.spearmanr(a, b=None, axis=0, nan_policy='propagate', alternative='two-sided')"
   ]
  },
  {
   "cell_type": "code",
   "execution_count": null,
   "metadata": {
    "id": "aCWW2Jeo8t1C"
   },
   "outputs": [],
   "source": [
    "# Train the model\n",
    "model.fit(train_objectives=[(train_dataloader, train_loss)],\n",
    "          evaluator=dev_evaluator,\n",
    "          epochs=num_epochs,\n",
    "          evaluation_steps=1000,\n",
    "          warmup_steps=warmup_steps,\n",
    "          output_path=model_save_path\n",
    "          )\n"
   ]
  },
  {
   "cell_type": "code",
   "execution_count": null,
   "metadata": {
    "id": "dlaeNPSo8tyG"
   },
   "outputs": [],
   "source": [
    "model = SentenceTransformer(model_save_path)\n",
    "test_evaluator = EmbeddingSimilarityEvaluator.from_input_examples(test_samples, name='sts-test')\n",
    "test_evaluator(model, output_path=model_save_path)"
   ]
  },
  {
   "cell_type": "markdown",
   "metadata": {
    "id": "QmBEht5ivSW5"
   },
   "source": [
    "Result with 200000 -> 0.7167475547347155"
   ]
  },
  {
   "cell_type": "code",
   "execution_count": null,
   "metadata": {
    "id": "8Nz8nuDH_vIS"
   },
   "outputs": [],
   "source": []
  },
  {
   "cell_type": "code",
   "execution_count": null,
   "metadata": {
    "id": "aEkBeqRR_vFu"
   },
   "outputs": [],
   "source": []
  },
  {
   "cell_type": "code",
   "execution_count": null,
   "metadata": {
    "id": "BPMWwz6RurRy"
   },
   "outputs": [],
   "source": []
  },
  {
   "cell_type": "markdown",
   "metadata": {
    "id": "3XblaOL55NaA"
   },
   "source": [
    "## Semantic search"
   ]
  },
  {
   "cell_type": "code",
   "execution_count": null,
   "metadata": {
    "id": "qTVjUoV1_vDF"
   },
   "outputs": [],
   "source": [
    "## LINK\n",
    "# https://www.kaggle.com/rmisra/news-category-dataset/download"
   ]
  },
  {
   "cell_type": "code",
   "execution_count": null,
   "metadata": {
    "colab": {
     "base_uri": "https://localhost:8080/"
    },
    "id": "TIgELftc9Rsq",
    "outputId": "50c42f17-b014-40e6-e8d3-f2e11d8fca88"
   },
   "outputs": [],
   "source": [
    "## DOESN'T WORK WITH LINK\n",
    "\n",
    "# print('Downloading dataset...')\n",
    "\n",
    "# # The URL for the dataset zip file.\n",
    "# url = 'https://www.kaggle.com/rmisra/news-category-dataset?select=News_Category_Dataset_v2.json'\n",
    "\n",
    "# # Download the file (if we haven't already)\n",
    "# if not os.path.exists('./news.zip'):\n",
    "#     wget.download(url,'./news.zip')\n",
    "\n",
    "print('Uploading dataset to directory...')"
   ]
  },
  {
   "cell_type": "code",
   "execution_count": null,
   "metadata": {
    "colab": {
     "base_uri": "https://localhost:8080/"
    },
    "id": "GzwW4zZi9Rjv",
    "outputId": "b8f88f18-adcf-4ca7-d42a-194e71752b3a"
   },
   "outputs": [],
   "source": [
    "!unzip news.zip"
   ]
  },
  {
   "cell_type": "code",
   "execution_count": null,
   "metadata": {
    "id": "xLKQ7_oV9cFy"
   },
   "outputs": [],
   "source": [
    "# We use the best model to encode all passages, so that we can use it with sematic search\n",
    "#model_name = '/content/best_models/2.3-task'\n",
    "model_name = '/content/drive/MyDrive/Colab Notebooks/training_nli_'\n",
    "encoder = SentenceTransformer(model_name)\n",
    "top_k = 5  # number of passages we want to retrieve with the bi-encoder"
   ]
  },
  {
   "cell_type": "code",
   "execution_count": null,
   "metadata": {
    "id": "4gVUum7W9cDI"
   },
   "outputs": [],
   "source": [
    "# import gzip\n",
    "\n",
    "# news = []\n",
    "# with gzip.open(url, 'rt', encoding='utf8') as fIn:\n",
    "#     for line in fIn:\n",
    "#         data = json.loads(line.strip())\n",
    "#         for paragraph in data['short_description']:\n",
    "#             # We encode the passages as [title, text]\n",
    "#             news.append([data['headlines'], paragraph])"
   ]
  },
  {
   "cell_type": "code",
   "execution_count": null,
   "metadata": {
    "id": "DRmgOoNBrOqa"
   },
   "outputs": [],
   "source": [
    "# news = []\n",
    "\n",
    "# with open('/content/News_Category_Dataset_v2.json') as fIn:\n",
    "#     for line in fIn:\n",
    "#         data = json.loads(line.strip())\n",
    "#         #print(data)\n",
    "#         for paragraph in data['short_description']:\n",
    "#             # We encode the passages as [title, text]\n",
    "#             news.append([data['headline'], paragraph]) # --> wrong"
   ]
  },
  {
   "cell_type": "code",
   "execution_count": null,
   "metadata": {
    "id": "BVdY0rctTM6m"
   },
   "outputs": [],
   "source": [
    "news = []\n",
    "\n",
    "with open('/content/News_Category_Dataset_v2.json') as fIn:\n",
    "    for line in fIn:\n",
    "        data = json.loads(line.strip())\n",
    "        # We encode the passages as [title, text]\n",
    "        news.append([data['headline'], data['short_description']])"
   ]
  },
  {
   "cell_type": "code",
   "execution_count": null,
   "metadata": {
    "colab": {
     "base_uri": "https://localhost:8080/"
    },
    "id": "P9JfSIxZNx51",
    "outputId": "202c7b97-44fc-4ab2-de1e-35609e42a7f4"
   },
   "outputs": [],
   "source": [
    "print(news[-1])\n",
    "print(data)"
   ]
  },
  {
   "cell_type": "code",
   "execution_count": null,
   "metadata": {
    "colab": {
     "base_uri": "https://localhost:8080/",
     "height": 49,
     "referenced_widgets": [
      "cff091248223440bb57a170c36a10ae0",
      "4b6e7ab53f4f4e1aae525265806550f3",
      "1c3f244880264a3dab923bfa7ae3e6db",
      "79a6375800fe443aaa370c315707b306",
      "3a7e3dafd4cc425fab471324f1aec5fb",
      "4a9fa6a1e9e2408d9db5f34605042fad",
      "3cb4ab5492e14bc5865b9f04375f03c8",
      "d5cc0e12416246d0a3d6325cbcc90dd1",
      "842136f0d5c24c9a96382bfac98ac2b5",
      "14fe35f8c9f34d778b1a3d7578b6e586",
      "45c6635ecb424bb2a490108e72a97743"
     ]
    },
    "id": "BEITJI8D9b-4",
    "outputId": "0d60808c-b9d9-4088-907a-c0f9db251d3c"
   },
   "outputs": [],
   "source": [
    "#corpus_embeddings = encoder.encode(passages, convert_to_tensor=True, show_progress_bar=True)\n",
    "corpus_embeddings = encoder.encode(news, convert_to_tensor=True, show_progress_bar=True)"
   ]
  },
  {
   "cell_type": "code",
   "execution_count": null,
   "metadata": {
    "id": "xfD0HCyb9b7i"
   },
   "outputs": [],
   "source": [
    "## COMMENT THIS\n",
    "\n",
    "# while True:\n",
    "#     input = input(\"Please enter a question: \")\n",
    "\n",
    "#     # Encode the query using the encoder and find potentially relevant passages\n",
    "#     start_time = time.time()\n",
    "#     question_embedding = encoder.encode(input, convert_to_tensor=True)\n",
    "#     hits = util.semantic_search(question_embedding, corpus_embeddings, top_k=top_k)\n",
    "#     hits = hits[0]  # Get the hits for the first query\n",
    "\n",
    "#     end_time = time.time()\n",
    "\n",
    "#     # Output of top-k hits\n",
    "#     print(\"Input question:\", query)\n",
    "#     print(\"Results (after {:.3f} seconds):\".format(end_time - start_time))\n",
    "#     for hit in hits:\n",
    "#         print(\"\\t{:.3f}\\t{}\".format(hit['score'], passages[hit['corpus_id']]))\n",
    "\n",
    "#     print(\"\\n\\n========\\n\")"
   ]
  },
  {
   "cell_type": "code",
   "execution_count": null,
   "metadata": {
    "id": "dm2Uvq0R9m1R"
   },
   "outputs": [],
   "source": [
    "top_k = min(5, len(corpus))\n",
    "\n",
    "input = input(\"Please enter a question: \")\n",
    "\n",
    "query_embedding = encoder.encode(input, convert_to_tensor=True)\n",
    "\n",
    "# We use cosine-similarity and torch.topk to find the highest 5 scores\n",
    "cos_scores = util.pytorch_cos_sim(query_embedding, corpus_embeddings)[0]\n",
    "top_results = torch.topk(cos_scores, k=top_k)\n",
    "\n",
    "print(\"\\n======================\\n\\n\")\n",
    "print(\"Input:\", input)\n",
    "print(\"\\nTop 5 most similar sentences in corpus:\")\n",
    "\n",
    "for score, idx in zip(top_results[0], top_results[1]):\n",
    "      print(news[idx], \"(Score: {:.4f})\".format(score))"
   ]
  },
  {
   "cell_type": "code",
   "execution_count": null,
   "metadata": {
    "id": "sFREe1SS9mkL"
   },
   "outputs": [],
   "source": []
  },
  {
   "cell_type": "code",
   "execution_count": null,
   "metadata": {
    "id": "Og-Xdo1P90h2"
   },
   "outputs": [],
   "source": []
  },
  {
   "cell_type": "code",
   "execution_count": null,
   "metadata": {
    "id": "RyuDPSnM90W2"
   },
   "outputs": [],
   "source": []
  }
 ],
 "metadata": {
  "accelerator": "GPU",
  "colab": {
   "collapsed_sections": [],
   "name": "LAB-2.ipynb",
   "provenance": []
  },
  "kernelspec": {
   "display_name": "Python 3",
   "language": "python",
   "name": "python3"
  },
  "language_info": {
   "codemirror_mode": {
    "name": "ipython",
    "version": 3
   },
   "file_extension": ".py",
   "mimetype": "text/x-python",
   "name": "python",
   "nbconvert_exporter": "python",
   "pygments_lexer": "ipython3",
   "version": "3.8.10"
  },
  "widgets": {
   "application/vnd.jupyter.widget-state+json": {
    "14fe35f8c9f34d778b1a3d7578b6e586": {
     "model_module": "@jupyter-widgets/controls",
     "model_module_version": "1.5.0",
     "model_name": "DescriptionStyleModel",
     "state": {
      "_model_module": "@jupyter-widgets/controls",
      "_model_module_version": "1.5.0",
      "_model_name": "DescriptionStyleModel",
      "_view_count": null,
      "_view_module": "@jupyter-widgets/base",
      "_view_module_version": "1.2.0",
      "_view_name": "StyleView",
      "description_width": ""
     }
    },
    "1c3f244880264a3dab923bfa7ae3e6db": {
     "model_module": "@jupyter-widgets/controls",
     "model_module_version": "1.5.0",
     "model_name": "HTMLModel",
     "state": {
      "_dom_classes": [],
      "_model_module": "@jupyter-widgets/controls",
      "_model_module_version": "1.5.0",
      "_model_name": "HTMLModel",
      "_view_count": null,
      "_view_module": "@jupyter-widgets/controls",
      "_view_module_version": "1.5.0",
      "_view_name": "HTMLView",
      "description": "",
      "description_tooltip": null,
      "layout": "IPY_MODEL_3cb4ab5492e14bc5865b9f04375f03c8",
      "placeholder": "​",
      "style": "IPY_MODEL_4a9fa6a1e9e2408d9db5f34605042fad",
      "value": "Batches: 100%"
     }
    },
    "3045b70d29704436b0cd9927cd1289a4": {
     "model_module": "@jupyter-widgets/base",
     "model_module_version": "1.2.0",
     "model_name": "LayoutModel",
     "state": {
      "_model_module": "@jupyter-widgets/base",
      "_model_module_version": "1.2.0",
      "_model_name": "LayoutModel",
      "_view_count": null,
      "_view_module": "@jupyter-widgets/base",
      "_view_module_version": "1.2.0",
      "_view_name": "LayoutView",
      "align_content": null,
      "align_items": null,
      "align_self": null,
      "border": null,
      "bottom": null,
      "display": null,
      "flex": null,
      "flex_flow": null,
      "grid_area": null,
      "grid_auto_columns": null,
      "grid_auto_flow": null,
      "grid_auto_rows": null,
      "grid_column": null,
      "grid_gap": null,
      "grid_row": null,
      "grid_template_areas": null,
      "grid_template_columns": null,
      "grid_template_rows": null,
      "height": null,
      "justify_content": null,
      "justify_items": null,
      "left": null,
      "margin": null,
      "max_height": null,
      "max_width": null,
      "min_height": null,
      "min_width": null,
      "object_fit": null,
      "object_position": null,
      "order": null,
      "overflow": null,
      "overflow_x": null,
      "overflow_y": null,
      "padding": null,
      "right": null,
      "top": null,
      "visibility": null,
      "width": null
     }
    },
    "396c91f6e19c42ec85becb2044f8f94b": {
     "model_module": "@jupyter-widgets/controls",
     "model_module_version": "1.5.0",
     "model_name": "HBoxModel",
     "state": {
      "_dom_classes": [],
      "_model_module": "@jupyter-widgets/controls",
      "_model_module_version": "1.5.0",
      "_model_name": "HBoxModel",
      "_view_count": null,
      "_view_module": "@jupyter-widgets/controls",
      "_view_module_version": "1.5.0",
      "_view_name": "HBoxView",
      "box_style": "",
      "children": [
       "IPY_MODEL_9fcb49816ac7452d95ac2899cb679a9b",
       "IPY_MODEL_682fbd4aaa9a480c811e5eacfefaaf07",
       "IPY_MODEL_9659a65cebe3431b82e228dd3a069a17"
      ],
      "layout": "IPY_MODEL_3045b70d29704436b0cd9927cd1289a4"
     }
    },
    "3a7e3dafd4cc425fab471324f1aec5fb": {
     "model_module": "@jupyter-widgets/controls",
     "model_module_version": "1.5.0",
     "model_name": "HTMLModel",
     "state": {
      "_dom_classes": [],
      "_model_module": "@jupyter-widgets/controls",
      "_model_module_version": "1.5.0",
      "_model_name": "HTMLModel",
      "_view_count": null,
      "_view_module": "@jupyter-widgets/controls",
      "_view_module_version": "1.5.0",
      "_view_name": "HTMLView",
      "description": "",
      "description_tooltip": null,
      "layout": "IPY_MODEL_45c6635ecb424bb2a490108e72a97743",
      "placeholder": "​",
      "style": "IPY_MODEL_14fe35f8c9f34d778b1a3d7578b6e586",
      "value": " 6277/6277 [20:22&lt;00:00, 18.86it/s]"
     }
    },
    "3cb4ab5492e14bc5865b9f04375f03c8": {
     "model_module": "@jupyter-widgets/base",
     "model_module_version": "1.2.0",
     "model_name": "LayoutModel",
     "state": {
      "_model_module": "@jupyter-widgets/base",
      "_model_module_version": "1.2.0",
      "_model_name": "LayoutModel",
      "_view_count": null,
      "_view_module": "@jupyter-widgets/base",
      "_view_module_version": "1.2.0",
      "_view_name": "LayoutView",
      "align_content": null,
      "align_items": null,
      "align_self": null,
      "border": null,
      "bottom": null,
      "display": null,
      "flex": null,
      "flex_flow": null,
      "grid_area": null,
      "grid_auto_columns": null,
      "grid_auto_flow": null,
      "grid_auto_rows": null,
      "grid_column": null,
      "grid_gap": null,
      "grid_row": null,
      "grid_template_areas": null,
      "grid_template_columns": null,
      "grid_template_rows": null,
      "height": null,
      "justify_content": null,
      "justify_items": null,
      "left": null,
      "margin": null,
      "max_height": null,
      "max_width": null,
      "min_height": null,
      "min_width": null,
      "object_fit": null,
      "object_position": null,
      "order": null,
      "overflow": null,
      "overflow_x": null,
      "overflow_y": null,
      "padding": null,
      "right": null,
      "top": null,
      "visibility": null,
      "width": null
     }
    },
    "3dc42c11231c4537b0d96b028dada121": {
     "model_module": "@jupyter-widgets/base",
     "model_module_version": "1.2.0",
     "model_name": "LayoutModel",
     "state": {
      "_model_module": "@jupyter-widgets/base",
      "_model_module_version": "1.2.0",
      "_model_name": "LayoutModel",
      "_view_count": null,
      "_view_module": "@jupyter-widgets/base",
      "_view_module_version": "1.2.0",
      "_view_name": "LayoutView",
      "align_content": null,
      "align_items": null,
      "align_self": null,
      "border": null,
      "bottom": null,
      "display": null,
      "flex": null,
      "flex_flow": null,
      "grid_area": null,
      "grid_auto_columns": null,
      "grid_auto_flow": null,
      "grid_auto_rows": null,
      "grid_column": null,
      "grid_gap": null,
      "grid_row": null,
      "grid_template_areas": null,
      "grid_template_columns": null,
      "grid_template_rows": null,
      "height": null,
      "justify_content": null,
      "justify_items": null,
      "left": null,
      "margin": null,
      "max_height": null,
      "max_width": null,
      "min_height": null,
      "min_width": null,
      "object_fit": null,
      "object_position": null,
      "order": null,
      "overflow": null,
      "overflow_x": null,
      "overflow_y": null,
      "padding": null,
      "right": null,
      "top": null,
      "visibility": null,
      "width": null
     }
    },
    "45c6635ecb424bb2a490108e72a97743": {
     "model_module": "@jupyter-widgets/base",
     "model_module_version": "1.2.0",
     "model_name": "LayoutModel",
     "state": {
      "_model_module": "@jupyter-widgets/base",
      "_model_module_version": "1.2.0",
      "_model_name": "LayoutModel",
      "_view_count": null,
      "_view_module": "@jupyter-widgets/base",
      "_view_module_version": "1.2.0",
      "_view_name": "LayoutView",
      "align_content": null,
      "align_items": null,
      "align_self": null,
      "border": null,
      "bottom": null,
      "display": null,
      "flex": null,
      "flex_flow": null,
      "grid_area": null,
      "grid_auto_columns": null,
      "grid_auto_flow": null,
      "grid_auto_rows": null,
      "grid_column": null,
      "grid_gap": null,
      "grid_row": null,
      "grid_template_areas": null,
      "grid_template_columns": null,
      "grid_template_rows": null,
      "height": null,
      "justify_content": null,
      "justify_items": null,
      "left": null,
      "margin": null,
      "max_height": null,
      "max_width": null,
      "min_height": null,
      "min_width": null,
      "object_fit": null,
      "object_position": null,
      "order": null,
      "overflow": null,
      "overflow_x": null,
      "overflow_y": null,
      "padding": null,
      "right": null,
      "top": null,
      "visibility": null,
      "width": null
     }
    },
    "4a9fa6a1e9e2408d9db5f34605042fad": {
     "model_module": "@jupyter-widgets/controls",
     "model_module_version": "1.5.0",
     "model_name": "DescriptionStyleModel",
     "state": {
      "_model_module": "@jupyter-widgets/controls",
      "_model_module_version": "1.5.0",
      "_model_name": "DescriptionStyleModel",
      "_view_count": null,
      "_view_module": "@jupyter-widgets/base",
      "_view_module_version": "1.2.0",
      "_view_name": "StyleView",
      "description_width": ""
     }
    },
    "4b6e7ab53f4f4e1aae525265806550f3": {
     "model_module": "@jupyter-widgets/base",
     "model_module_version": "1.2.0",
     "model_name": "LayoutModel",
     "state": {
      "_model_module": "@jupyter-widgets/base",
      "_model_module_version": "1.2.0",
      "_model_name": "LayoutModel",
      "_view_count": null,
      "_view_module": "@jupyter-widgets/base",
      "_view_module_version": "1.2.0",
      "_view_name": "LayoutView",
      "align_content": null,
      "align_items": null,
      "align_self": null,
      "border": null,
      "bottom": null,
      "display": null,
      "flex": null,
      "flex_flow": null,
      "grid_area": null,
      "grid_auto_columns": null,
      "grid_auto_flow": null,
      "grid_auto_rows": null,
      "grid_column": null,
      "grid_gap": null,
      "grid_row": null,
      "grid_template_areas": null,
      "grid_template_columns": null,
      "grid_template_rows": null,
      "height": null,
      "justify_content": null,
      "justify_items": null,
      "left": null,
      "margin": null,
      "max_height": null,
      "max_width": null,
      "min_height": null,
      "min_width": null,
      "object_fit": null,
      "object_position": null,
      "order": null,
      "overflow": null,
      "overflow_x": null,
      "overflow_y": null,
      "padding": null,
      "right": null,
      "top": null,
      "visibility": null,
      "width": null
     }
    },
    "4ef5e3513ca041088f4f21d800963492": {
     "model_module": "@jupyter-widgets/controls",
     "model_module_version": "1.5.0",
     "model_name": "DescriptionStyleModel",
     "state": {
      "_model_module": "@jupyter-widgets/controls",
      "_model_module_version": "1.5.0",
      "_model_name": "DescriptionStyleModel",
      "_view_count": null,
      "_view_module": "@jupyter-widgets/base",
      "_view_module_version": "1.2.0",
      "_view_name": "StyleView",
      "description_width": ""
     }
    },
    "5239e03afc66470dbf11a5cbe2988690": {
     "model_module": "@jupyter-widgets/controls",
     "model_module_version": "1.5.0",
     "model_name": "DescriptionStyleModel",
     "state": {
      "_model_module": "@jupyter-widgets/controls",
      "_model_module_version": "1.5.0",
      "_model_name": "DescriptionStyleModel",
      "_view_count": null,
      "_view_module": "@jupyter-widgets/base",
      "_view_module_version": "1.2.0",
      "_view_name": "StyleView",
      "description_width": ""
     }
    },
    "5fd11a3c78c64d03adc69700723abb51": {
     "model_module": "@jupyter-widgets/base",
     "model_module_version": "1.2.0",
     "model_name": "LayoutModel",
     "state": {
      "_model_module": "@jupyter-widgets/base",
      "_model_module_version": "1.2.0",
      "_model_name": "LayoutModel",
      "_view_count": null,
      "_view_module": "@jupyter-widgets/base",
      "_view_module_version": "1.2.0",
      "_view_name": "LayoutView",
      "align_content": null,
      "align_items": null,
      "align_self": null,
      "border": null,
      "bottom": null,
      "display": null,
      "flex": null,
      "flex_flow": null,
      "grid_area": null,
      "grid_auto_columns": null,
      "grid_auto_flow": null,
      "grid_auto_rows": null,
      "grid_column": null,
      "grid_gap": null,
      "grid_row": null,
      "grid_template_areas": null,
      "grid_template_columns": null,
      "grid_template_rows": null,
      "height": null,
      "justify_content": null,
      "justify_items": null,
      "left": null,
      "margin": null,
      "max_height": null,
      "max_width": null,
      "min_height": null,
      "min_width": null,
      "object_fit": null,
      "object_position": null,
      "order": null,
      "overflow": null,
      "overflow_x": null,
      "overflow_y": null,
      "padding": null,
      "right": null,
      "top": null,
      "visibility": null,
      "width": null
     }
    },
    "682fbd4aaa9a480c811e5eacfefaaf07": {
     "model_module": "@jupyter-widgets/controls",
     "model_module_version": "1.5.0",
     "model_name": "FloatProgressModel",
     "state": {
      "_dom_classes": [],
      "_model_module": "@jupyter-widgets/controls",
      "_model_module_version": "1.5.0",
      "_model_name": "FloatProgressModel",
      "_view_count": null,
      "_view_module": "@jupyter-widgets/controls",
      "_view_module_version": "1.5.0",
      "_view_name": "ProgressView",
      "bar_style": "",
      "description": "",
      "description_tooltip": null,
      "layout": "IPY_MODEL_5fd11a3c78c64d03adc69700723abb51",
      "max": 34385,
      "min": 0,
      "orientation": "horizontal",
      "style": "IPY_MODEL_7db9afff19e34fc6815bab82abe3ac05",
      "value": 34005
     }
    },
    "70a9a5ef2f3f4130aaf3f2a30dd00524": {
     "model_module": "@jupyter-widgets/controls",
     "model_module_version": "1.5.0",
     "model_name": "FloatProgressModel",
     "state": {
      "_dom_classes": [],
      "_model_module": "@jupyter-widgets/controls",
      "_model_module_version": "1.5.0",
      "_model_name": "FloatProgressModel",
      "_view_count": null,
      "_view_module": "@jupyter-widgets/controls",
      "_view_module_version": "1.5.0",
      "_view_name": "ProgressView",
      "bar_style": "success",
      "description": "",
      "description_tooltip": null,
      "layout": "IPY_MODEL_7c308aae6c3e4a9eadf62c9c6b712244",
      "max": 360,
      "min": 0,
      "orientation": "horizontal",
      "style": "IPY_MODEL_aef56e174df5439695847fbbbd175d49",
      "value": 360
     }
    },
    "737941777520426aa5a2126df88ce26f": {
     "model_module": "@jupyter-widgets/base",
     "model_module_version": "1.2.0",
     "model_name": "LayoutModel",
     "state": {
      "_model_module": "@jupyter-widgets/base",
      "_model_module_version": "1.2.0",
      "_model_name": "LayoutModel",
      "_view_count": null,
      "_view_module": "@jupyter-widgets/base",
      "_view_module_version": "1.2.0",
      "_view_name": "LayoutView",
      "align_content": null,
      "align_items": null,
      "align_self": null,
      "border": null,
      "bottom": null,
      "display": null,
      "flex": null,
      "flex_flow": null,
      "grid_area": null,
      "grid_auto_columns": null,
      "grid_auto_flow": null,
      "grid_auto_rows": null,
      "grid_column": null,
      "grid_gap": null,
      "grid_row": null,
      "grid_template_areas": null,
      "grid_template_columns": null,
      "grid_template_rows": null,
      "height": null,
      "justify_content": null,
      "justify_items": null,
      "left": null,
      "margin": null,
      "max_height": null,
      "max_width": null,
      "min_height": null,
      "min_width": null,
      "object_fit": null,
      "object_position": null,
      "order": null,
      "overflow": null,
      "overflow_x": null,
      "overflow_y": null,
      "padding": null,
      "right": null,
      "top": null,
      "visibility": null,
      "width": null
     }
    },
    "75ca2c40fa0b47588ed204c33ed63bc9": {
     "model_module": "@jupyter-widgets/controls",
     "model_module_version": "1.5.0",
     "model_name": "HBoxModel",
     "state": {
      "_dom_classes": [],
      "_model_module": "@jupyter-widgets/controls",
      "_model_module_version": "1.5.0",
      "_model_name": "HBoxModel",
      "_view_count": null,
      "_view_module": "@jupyter-widgets/controls",
      "_view_module_version": "1.5.0",
      "_view_name": "HBoxView",
      "box_style": "",
      "children": [
       "IPY_MODEL_f5ffa81e87b8428bb524be88c8b0369a",
       "IPY_MODEL_7b11724581524a3da18e379bc4b929aa",
       "IPY_MODEL_9650eb9ca49046ea9708b207d89303e4"
      ],
      "layout": "IPY_MODEL_c2d7261b441a4d53be05ce37f9071d19"
     }
    },
    "76147d34b934402ebe6fa68a93fb236f": {
     "model_module": "@jupyter-widgets/controls",
     "model_module_version": "1.5.0",
     "model_name": "HTMLModel",
     "state": {
      "_dom_classes": [],
      "_model_module": "@jupyter-widgets/controls",
      "_model_module_version": "1.5.0",
      "_model_name": "HTMLModel",
      "_view_count": null,
      "_view_module": "@jupyter-widgets/controls",
      "_view_module_version": "1.5.0",
      "_view_name": "HTMLView",
      "description": "",
      "description_tooltip": null,
      "layout": "IPY_MODEL_cfa3e34dfb784301ae5e2f22cba0342f",
      "placeholder": "​",
      "style": "IPY_MODEL_8af6428bfda047cb952080c8b08210e3",
      "value": "Iteration: 100%"
     }
    },
    "79a6375800fe443aaa370c315707b306": {
     "model_module": "@jupyter-widgets/controls",
     "model_module_version": "1.5.0",
     "model_name": "FloatProgressModel",
     "state": {
      "_dom_classes": [],
      "_model_module": "@jupyter-widgets/controls",
      "_model_module_version": "1.5.0",
      "_model_name": "FloatProgressModel",
      "_view_count": null,
      "_view_module": "@jupyter-widgets/controls",
      "_view_module_version": "1.5.0",
      "_view_name": "ProgressView",
      "bar_style": "success",
      "description": "",
      "description_tooltip": null,
      "layout": "IPY_MODEL_842136f0d5c24c9a96382bfac98ac2b5",
      "max": 6277,
      "min": 0,
      "orientation": "horizontal",
      "style": "IPY_MODEL_d5cc0e12416246d0a3d6325cbcc90dd1",
      "value": 6277
     }
    },
    "7b11724581524a3da18e379bc4b929aa": {
     "model_module": "@jupyter-widgets/controls",
     "model_module_version": "1.5.0",
     "model_name": "FloatProgressModel",
     "state": {
      "_dom_classes": [],
      "_model_module": "@jupyter-widgets/controls",
      "_model_module_version": "1.5.0",
      "_model_name": "FloatProgressModel",
      "_view_count": null,
      "_view_module": "@jupyter-widgets/controls",
      "_view_module_version": "1.5.0",
      "_view_name": "ProgressView",
      "bar_style": "",
      "description": "",
      "description_tooltip": null,
      "layout": "IPY_MODEL_ffe68cc84da141449cd72273a58fbcc0",
      "max": 1,
      "min": 0,
      "orientation": "horizontal",
      "style": "IPY_MODEL_fb49780850d54bd984164e181cc44212",
      "value": 0
     }
    },
    "7c308aae6c3e4a9eadf62c9c6b712244": {
     "model_module": "@jupyter-widgets/base",
     "model_module_version": "1.2.0",
     "model_name": "LayoutModel",
     "state": {
      "_model_module": "@jupyter-widgets/base",
      "_model_module_version": "1.2.0",
      "_model_name": "LayoutModel",
      "_view_count": null,
      "_view_module": "@jupyter-widgets/base",
      "_view_module_version": "1.2.0",
      "_view_name": "LayoutView",
      "align_content": null,
      "align_items": null,
      "align_self": null,
      "border": null,
      "bottom": null,
      "display": null,
      "flex": null,
      "flex_flow": null,
      "grid_area": null,
      "grid_auto_columns": null,
      "grid_auto_flow": null,
      "grid_auto_rows": null,
      "grid_column": null,
      "grid_gap": null,
      "grid_row": null,
      "grid_template_areas": null,
      "grid_template_columns": null,
      "grid_template_rows": null,
      "height": null,
      "justify_content": null,
      "justify_items": null,
      "left": null,
      "margin": null,
      "max_height": null,
      "max_width": null,
      "min_height": null,
      "min_width": null,
      "object_fit": null,
      "object_position": null,
      "order": null,
      "overflow": null,
      "overflow_x": null,
      "overflow_y": null,
      "padding": null,
      "right": null,
      "top": null,
      "visibility": null,
      "width": null
     }
    },
    "7db9afff19e34fc6815bab82abe3ac05": {
     "model_module": "@jupyter-widgets/controls",
     "model_module_version": "1.5.0",
     "model_name": "ProgressStyleModel",
     "state": {
      "_model_module": "@jupyter-widgets/controls",
      "_model_module_version": "1.5.0",
      "_model_name": "ProgressStyleModel",
      "_view_count": null,
      "_view_module": "@jupyter-widgets/base",
      "_view_module_version": "1.2.0",
      "_view_name": "StyleView",
      "bar_color": null,
      "description_width": ""
     }
    },
    "833c168297d84ac0adac52a246c7cd49": {
     "model_module": "@jupyter-widgets/base",
     "model_module_version": "1.2.0",
     "model_name": "LayoutModel",
     "state": {
      "_model_module": "@jupyter-widgets/base",
      "_model_module_version": "1.2.0",
      "_model_name": "LayoutModel",
      "_view_count": null,
      "_view_module": "@jupyter-widgets/base",
      "_view_module_version": "1.2.0",
      "_view_name": "LayoutView",
      "align_content": null,
      "align_items": null,
      "align_self": null,
      "border": null,
      "bottom": null,
      "display": null,
      "flex": null,
      "flex_flow": null,
      "grid_area": null,
      "grid_auto_columns": null,
      "grid_auto_flow": null,
      "grid_auto_rows": null,
      "grid_column": null,
      "grid_gap": null,
      "grid_row": null,
      "grid_template_areas": null,
      "grid_template_columns": null,
      "grid_template_rows": null,
      "height": null,
      "justify_content": null,
      "justify_items": null,
      "left": null,
      "margin": null,
      "max_height": null,
      "max_width": null,
      "min_height": null,
      "min_width": null,
      "object_fit": null,
      "object_position": null,
      "order": null,
      "overflow": null,
      "overflow_x": null,
      "overflow_y": null,
      "padding": null,
      "right": null,
      "top": null,
      "visibility": null,
      "width": null
     }
    },
    "842136f0d5c24c9a96382bfac98ac2b5": {
     "model_module": "@jupyter-widgets/base",
     "model_module_version": "1.2.0",
     "model_name": "LayoutModel",
     "state": {
      "_model_module": "@jupyter-widgets/base",
      "_model_module_version": "1.2.0",
      "_model_name": "LayoutModel",
      "_view_count": null,
      "_view_module": "@jupyter-widgets/base",
      "_view_module_version": "1.2.0",
      "_view_name": "LayoutView",
      "align_content": null,
      "align_items": null,
      "align_self": null,
      "border": null,
      "bottom": null,
      "display": null,
      "flex": null,
      "flex_flow": null,
      "grid_area": null,
      "grid_auto_columns": null,
      "grid_auto_flow": null,
      "grid_auto_rows": null,
      "grid_column": null,
      "grid_gap": null,
      "grid_row": null,
      "grid_template_areas": null,
      "grid_template_columns": null,
      "grid_template_rows": null,
      "height": null,
      "justify_content": null,
      "justify_items": null,
      "left": null,
      "margin": null,
      "max_height": null,
      "max_width": null,
      "min_height": null,
      "min_width": null,
      "object_fit": null,
      "object_position": null,
      "order": null,
      "overflow": null,
      "overflow_x": null,
      "overflow_y": null,
      "padding": null,
      "right": null,
      "top": null,
      "visibility": null,
      "width": null
     }
    },
    "84484e726b194077bf39b4003fdab2e6": {
     "model_module": "@jupyter-widgets/controls",
     "model_module_version": "1.5.0",
     "model_name": "HBoxModel",
     "state": {
      "_dom_classes": [],
      "_model_module": "@jupyter-widgets/controls",
      "_model_module_version": "1.5.0",
      "_model_name": "HBoxModel",
      "_view_count": null,
      "_view_module": "@jupyter-widgets/controls",
      "_view_module_version": "1.5.0",
      "_view_name": "HBoxView",
      "box_style": "",
      "children": [
       "IPY_MODEL_76147d34b934402ebe6fa68a93fb236f",
       "IPY_MODEL_70a9a5ef2f3f4130aaf3f2a30dd00524",
       "IPY_MODEL_f788cf300a3c4264a5851508c72cf733"
      ],
      "layout": "IPY_MODEL_b157705019ac41a39d0dd28509291261"
     }
    },
    "869b1898464e4af89a27d14be889b952": {
     "model_module": "@jupyter-widgets/controls",
     "model_module_version": "1.5.0",
     "model_name": "DescriptionStyleModel",
     "state": {
      "_model_module": "@jupyter-widgets/controls",
      "_model_module_version": "1.5.0",
      "_model_name": "DescriptionStyleModel",
      "_view_count": null,
      "_view_module": "@jupyter-widgets/base",
      "_view_module_version": "1.2.0",
      "_view_name": "StyleView",
      "description_width": ""
     }
    },
    "87a780ce24484359a7df518b19024b55": {
     "model_module": "@jupyter-widgets/controls",
     "model_module_version": "1.5.0",
     "model_name": "HTMLModel",
     "state": {
      "_dom_classes": [],
      "_model_module": "@jupyter-widgets/controls",
      "_model_module_version": "1.5.0",
      "_model_name": "HTMLModel",
      "_view_count": null,
      "_view_module": "@jupyter-widgets/controls",
      "_view_module_version": "1.5.0",
      "_view_name": "HTMLView",
      "description": "",
      "description_tooltip": null,
      "layout": "IPY_MODEL_3dc42c11231c4537b0d96b028dada121",
      "placeholder": "​",
      "style": "IPY_MODEL_884aea71873248ce9a0f6f0237156800",
      "value": "Epoch: 100%"
     }
    },
    "884aea71873248ce9a0f6f0237156800": {
     "model_module": "@jupyter-widgets/controls",
     "model_module_version": "1.5.0",
     "model_name": "DescriptionStyleModel",
     "state": {
      "_model_module": "@jupyter-widgets/controls",
      "_model_module_version": "1.5.0",
      "_model_name": "DescriptionStyleModel",
      "_view_count": null,
      "_view_module": "@jupyter-widgets/base",
      "_view_module_version": "1.2.0",
      "_view_name": "StyleView",
      "description_width": ""
     }
    },
    "8af6428bfda047cb952080c8b08210e3": {
     "model_module": "@jupyter-widgets/controls",
     "model_module_version": "1.5.0",
     "model_name": "DescriptionStyleModel",
     "state": {
      "_model_module": "@jupyter-widgets/controls",
      "_model_module_version": "1.5.0",
      "_model_name": "DescriptionStyleModel",
      "_view_count": null,
      "_view_module": "@jupyter-widgets/base",
      "_view_module_version": "1.2.0",
      "_view_name": "StyleView",
      "description_width": ""
     }
    },
    "943e6156d3b648538cad9904fcc0f4b8": {
     "model_module": "@jupyter-widgets/base",
     "model_module_version": "1.2.0",
     "model_name": "LayoutModel",
     "state": {
      "_model_module": "@jupyter-widgets/base",
      "_model_module_version": "1.2.0",
      "_model_name": "LayoutModel",
      "_view_count": null,
      "_view_module": "@jupyter-widgets/base",
      "_view_module_version": "1.2.0",
      "_view_name": "LayoutView",
      "align_content": null,
      "align_items": null,
      "align_self": null,
      "border": null,
      "bottom": null,
      "display": null,
      "flex": null,
      "flex_flow": null,
      "grid_area": null,
      "grid_auto_columns": null,
      "grid_auto_flow": null,
      "grid_auto_rows": null,
      "grid_column": null,
      "grid_gap": null,
      "grid_row": null,
      "grid_template_areas": null,
      "grid_template_columns": null,
      "grid_template_rows": null,
      "height": null,
      "justify_content": null,
      "justify_items": null,
      "left": null,
      "margin": null,
      "max_height": null,
      "max_width": null,
      "min_height": null,
      "min_width": null,
      "object_fit": null,
      "object_position": null,
      "order": null,
      "overflow": null,
      "overflow_x": null,
      "overflow_y": null,
      "padding": null,
      "right": null,
      "top": null,
      "visibility": null,
      "width": null
     }
    },
    "9650eb9ca49046ea9708b207d89303e4": {
     "model_module": "@jupyter-widgets/controls",
     "model_module_version": "1.5.0",
     "model_name": "HTMLModel",
     "state": {
      "_dom_classes": [],
      "_model_module": "@jupyter-widgets/controls",
      "_model_module_version": "1.5.0",
      "_model_name": "HTMLModel",
      "_view_count": null,
      "_view_module": "@jupyter-widgets/controls",
      "_view_module_version": "1.5.0",
      "_view_name": "HTMLView",
      "description": "",
      "description_tooltip": null,
      "layout": "IPY_MODEL_f26f492d329944d4a04e55034fcf4a22",
      "placeholder": "​",
      "style": "IPY_MODEL_b08dbec935b04861ba063c2ecbfa8a5e",
      "value": " 0/1 [00:00&lt;?, ?it/s]"
     }
    },
    "9659a65cebe3431b82e228dd3a069a17": {
     "model_module": "@jupyter-widgets/controls",
     "model_module_version": "1.5.0",
     "model_name": "HTMLModel",
     "state": {
      "_dom_classes": [],
      "_model_module": "@jupyter-widgets/controls",
      "_model_module_version": "1.5.0",
      "_model_name": "HTMLModel",
      "_view_count": null,
      "_view_module": "@jupyter-widgets/controls",
      "_view_module_version": "1.5.0",
      "_view_name": "HTMLView",
      "description": "",
      "description_tooltip": null,
      "layout": "IPY_MODEL_f017b1669b7343e480b0cd040fd31e9d",
      "placeholder": "​",
      "style": "IPY_MODEL_869b1898464e4af89a27d14be889b952",
      "value": " 34005/34385 [4:27:35&lt;18:09,  2.87s/it]"
     }
    },
    "9fcb49816ac7452d95ac2899cb679a9b": {
     "model_module": "@jupyter-widgets/controls",
     "model_module_version": "1.5.0",
     "model_name": "HTMLModel",
     "state": {
      "_dom_classes": [],
      "_model_module": "@jupyter-widgets/controls",
      "_model_module_version": "1.5.0",
      "_model_name": "HTMLModel",
      "_view_count": null,
      "_view_module": "@jupyter-widgets/controls",
      "_view_module_version": "1.5.0",
      "_view_name": "HTMLView",
      "description": "",
      "description_tooltip": null,
      "layout": "IPY_MODEL_943e6156d3b648538cad9904fcc0f4b8",
      "placeholder": "​",
      "style": "IPY_MODEL_4ef5e3513ca041088f4f21d800963492",
      "value": "Iteration:  99%"
     }
    },
    "aef56e174df5439695847fbbbd175d49": {
     "model_module": "@jupyter-widgets/controls",
     "model_module_version": "1.5.0",
     "model_name": "ProgressStyleModel",
     "state": {
      "_model_module": "@jupyter-widgets/controls",
      "_model_module_version": "1.5.0",
      "_model_name": "ProgressStyleModel",
      "_view_count": null,
      "_view_module": "@jupyter-widgets/base",
      "_view_module_version": "1.2.0",
      "_view_name": "StyleView",
      "bar_color": null,
      "description_width": ""
     }
    },
    "b08dbec935b04861ba063c2ecbfa8a5e": {
     "model_module": "@jupyter-widgets/controls",
     "model_module_version": "1.5.0",
     "model_name": "DescriptionStyleModel",
     "state": {
      "_model_module": "@jupyter-widgets/controls",
      "_model_module_version": "1.5.0",
      "_model_name": "DescriptionStyleModel",
      "_view_count": null,
      "_view_module": "@jupyter-widgets/base",
      "_view_module_version": "1.2.0",
      "_view_name": "StyleView",
      "description_width": ""
     }
    },
    "b14d88f448dd46d19900286169697c6a": {
     "model_module": "@jupyter-widgets/controls",
     "model_module_version": "1.5.0",
     "model_name": "FloatProgressModel",
     "state": {
      "_dom_classes": [],
      "_model_module": "@jupyter-widgets/controls",
      "_model_module_version": "1.5.0",
      "_model_name": "FloatProgressModel",
      "_view_count": null,
      "_view_module": "@jupyter-widgets/controls",
      "_view_module_version": "1.5.0",
      "_view_name": "ProgressView",
      "bar_style": "success",
      "description": "",
      "description_tooltip": null,
      "layout": "IPY_MODEL_dcf03c9bc746470ebf280843d01f02e3",
      "max": 1,
      "min": 0,
      "orientation": "horizontal",
      "style": "IPY_MODEL_ef70e0a68f7b4d6398a45f52f3380abe",
      "value": 1
     }
    },
    "b157705019ac41a39d0dd28509291261": {
     "model_module": "@jupyter-widgets/base",
     "model_module_version": "1.2.0",
     "model_name": "LayoutModel",
     "state": {
      "_model_module": "@jupyter-widgets/base",
      "_model_module_version": "1.2.0",
      "_model_name": "LayoutModel",
      "_view_count": null,
      "_view_module": "@jupyter-widgets/base",
      "_view_module_version": "1.2.0",
      "_view_name": "LayoutView",
      "align_content": null,
      "align_items": null,
      "align_self": null,
      "border": null,
      "bottom": null,
      "display": null,
      "flex": null,
      "flex_flow": null,
      "grid_area": null,
      "grid_auto_columns": null,
      "grid_auto_flow": null,
      "grid_auto_rows": null,
      "grid_column": null,
      "grid_gap": null,
      "grid_row": null,
      "grid_template_areas": null,
      "grid_template_columns": null,
      "grid_template_rows": null,
      "height": null,
      "justify_content": null,
      "justify_items": null,
      "left": null,
      "margin": null,
      "max_height": null,
      "max_width": null,
      "min_height": null,
      "min_width": null,
      "object_fit": null,
      "object_position": null,
      "order": null,
      "overflow": null,
      "overflow_x": null,
      "overflow_y": null,
      "padding": null,
      "right": null,
      "top": null,
      "visibility": null,
      "width": null
     }
    },
    "b15f8a46ce6a40dc9296ad15e21e13d1": {
     "model_module": "@jupyter-widgets/base",
     "model_module_version": "1.2.0",
     "model_name": "LayoutModel",
     "state": {
      "_model_module": "@jupyter-widgets/base",
      "_model_module_version": "1.2.0",
      "_model_name": "LayoutModel",
      "_view_count": null,
      "_view_module": "@jupyter-widgets/base",
      "_view_module_version": "1.2.0",
      "_view_name": "LayoutView",
      "align_content": null,
      "align_items": null,
      "align_self": null,
      "border": null,
      "bottom": null,
      "display": null,
      "flex": null,
      "flex_flow": null,
      "grid_area": null,
      "grid_auto_columns": null,
      "grid_auto_flow": null,
      "grid_auto_rows": null,
      "grid_column": null,
      "grid_gap": null,
      "grid_row": null,
      "grid_template_areas": null,
      "grid_template_columns": null,
      "grid_template_rows": null,
      "height": null,
      "justify_content": null,
      "justify_items": null,
      "left": null,
      "margin": null,
      "max_height": null,
      "max_width": null,
      "min_height": null,
      "min_width": null,
      "object_fit": null,
      "object_position": null,
      "order": null,
      "overflow": null,
      "overflow_x": null,
      "overflow_y": null,
      "padding": null,
      "right": null,
      "top": null,
      "visibility": null,
      "width": null
     }
    },
    "ba25da94c38e4755a394b057a5c7fd58": {
     "model_module": "@jupyter-widgets/controls",
     "model_module_version": "1.5.0",
     "model_name": "HBoxModel",
     "state": {
      "_dom_classes": [],
      "_model_module": "@jupyter-widgets/controls",
      "_model_module_version": "1.5.0",
      "_model_name": "HBoxModel",
      "_view_count": null,
      "_view_module": "@jupyter-widgets/controls",
      "_view_module_version": "1.5.0",
      "_view_name": "HBoxView",
      "box_style": "",
      "children": [
       "IPY_MODEL_87a780ce24484359a7df518b19024b55",
       "IPY_MODEL_b14d88f448dd46d19900286169697c6a",
       "IPY_MODEL_fba14dc5ff994d579f0c1b640f10e587"
      ],
      "layout": "IPY_MODEL_833c168297d84ac0adac52a246c7cd49"
     }
    },
    "c2d7261b441a4d53be05ce37f9071d19": {
     "model_module": "@jupyter-widgets/base",
     "model_module_version": "1.2.0",
     "model_name": "LayoutModel",
     "state": {
      "_model_module": "@jupyter-widgets/base",
      "_model_module_version": "1.2.0",
      "_model_name": "LayoutModel",
      "_view_count": null,
      "_view_module": "@jupyter-widgets/base",
      "_view_module_version": "1.2.0",
      "_view_name": "LayoutView",
      "align_content": null,
      "align_items": null,
      "align_self": null,
      "border": null,
      "bottom": null,
      "display": null,
      "flex": null,
      "flex_flow": null,
      "grid_area": null,
      "grid_auto_columns": null,
      "grid_auto_flow": null,
      "grid_auto_rows": null,
      "grid_column": null,
      "grid_gap": null,
      "grid_row": null,
      "grid_template_areas": null,
      "grid_template_columns": null,
      "grid_template_rows": null,
      "height": null,
      "justify_content": null,
      "justify_items": null,
      "left": null,
      "margin": null,
      "max_height": null,
      "max_width": null,
      "min_height": null,
      "min_width": null,
      "object_fit": null,
      "object_position": null,
      "order": null,
      "overflow": null,
      "overflow_x": null,
      "overflow_y": null,
      "padding": null,
      "right": null,
      "top": null,
      "visibility": null,
      "width": null
     }
    },
    "cfa3e34dfb784301ae5e2f22cba0342f": {
     "model_module": "@jupyter-widgets/base",
     "model_module_version": "1.2.0",
     "model_name": "LayoutModel",
     "state": {
      "_model_module": "@jupyter-widgets/base",
      "_model_module_version": "1.2.0",
      "_model_name": "LayoutModel",
      "_view_count": null,
      "_view_module": "@jupyter-widgets/base",
      "_view_module_version": "1.2.0",
      "_view_name": "LayoutView",
      "align_content": null,
      "align_items": null,
      "align_self": null,
      "border": null,
      "bottom": null,
      "display": null,
      "flex": null,
      "flex_flow": null,
      "grid_area": null,
      "grid_auto_columns": null,
      "grid_auto_flow": null,
      "grid_auto_rows": null,
      "grid_column": null,
      "grid_gap": null,
      "grid_row": null,
      "grid_template_areas": null,
      "grid_template_columns": null,
      "grid_template_rows": null,
      "height": null,
      "justify_content": null,
      "justify_items": null,
      "left": null,
      "margin": null,
      "max_height": null,
      "max_width": null,
      "min_height": null,
      "min_width": null,
      "object_fit": null,
      "object_position": null,
      "order": null,
      "overflow": null,
      "overflow_x": null,
      "overflow_y": null,
      "padding": null,
      "right": null,
      "top": null,
      "visibility": null,
      "width": null
     }
    },
    "cff091248223440bb57a170c36a10ae0": {
     "model_module": "@jupyter-widgets/controls",
     "model_module_version": "1.5.0",
     "model_name": "HBoxModel",
     "state": {
      "_dom_classes": [],
      "_model_module": "@jupyter-widgets/controls",
      "_model_module_version": "1.5.0",
      "_model_name": "HBoxModel",
      "_view_count": null,
      "_view_module": "@jupyter-widgets/controls",
      "_view_module_version": "1.5.0",
      "_view_name": "HBoxView",
      "box_style": "",
      "children": [
       "IPY_MODEL_1c3f244880264a3dab923bfa7ae3e6db",
       "IPY_MODEL_79a6375800fe443aaa370c315707b306",
       "IPY_MODEL_3a7e3dafd4cc425fab471324f1aec5fb"
      ],
      "layout": "IPY_MODEL_4b6e7ab53f4f4e1aae525265806550f3"
     }
    },
    "d186ee1f70684b358348b774cba9f1c0": {
     "model_module": "@jupyter-widgets/controls",
     "model_module_version": "1.5.0",
     "model_name": "DescriptionStyleModel",
     "state": {
      "_model_module": "@jupyter-widgets/controls",
      "_model_module_version": "1.5.0",
      "_model_name": "DescriptionStyleModel",
      "_view_count": null,
      "_view_module": "@jupyter-widgets/base",
      "_view_module_version": "1.2.0",
      "_view_name": "StyleView",
      "description_width": ""
     }
    },
    "d5cc0e12416246d0a3d6325cbcc90dd1": {
     "model_module": "@jupyter-widgets/controls",
     "model_module_version": "1.5.0",
     "model_name": "ProgressStyleModel",
     "state": {
      "_model_module": "@jupyter-widgets/controls",
      "_model_module_version": "1.5.0",
      "_model_name": "ProgressStyleModel",
      "_view_count": null,
      "_view_module": "@jupyter-widgets/base",
      "_view_module_version": "1.2.0",
      "_view_name": "StyleView",
      "bar_color": null,
      "description_width": ""
     }
    },
    "dcf03c9bc746470ebf280843d01f02e3": {
     "model_module": "@jupyter-widgets/base",
     "model_module_version": "1.2.0",
     "model_name": "LayoutModel",
     "state": {
      "_model_module": "@jupyter-widgets/base",
      "_model_module_version": "1.2.0",
      "_model_name": "LayoutModel",
      "_view_count": null,
      "_view_module": "@jupyter-widgets/base",
      "_view_module_version": "1.2.0",
      "_view_name": "LayoutView",
      "align_content": null,
      "align_items": null,
      "align_self": null,
      "border": null,
      "bottom": null,
      "display": null,
      "flex": null,
      "flex_flow": null,
      "grid_area": null,
      "grid_auto_columns": null,
      "grid_auto_flow": null,
      "grid_auto_rows": null,
      "grid_column": null,
      "grid_gap": null,
      "grid_row": null,
      "grid_template_areas": null,
      "grid_template_columns": null,
      "grid_template_rows": null,
      "height": null,
      "justify_content": null,
      "justify_items": null,
      "left": null,
      "margin": null,
      "max_height": null,
      "max_width": null,
      "min_height": null,
      "min_width": null,
      "object_fit": null,
      "object_position": null,
      "order": null,
      "overflow": null,
      "overflow_x": null,
      "overflow_y": null,
      "padding": null,
      "right": null,
      "top": null,
      "visibility": null,
      "width": null
     }
    },
    "e623dfe017b940208dd7caa9f6964935": {
     "model_module": "@jupyter-widgets/controls",
     "model_module_version": "1.5.0",
     "model_name": "DescriptionStyleModel",
     "state": {
      "_model_module": "@jupyter-widgets/controls",
      "_model_module_version": "1.5.0",
      "_model_name": "DescriptionStyleModel",
      "_view_count": null,
      "_view_module": "@jupyter-widgets/base",
      "_view_module_version": "1.2.0",
      "_view_name": "StyleView",
      "description_width": ""
     }
    },
    "eb7c496d8d1d417090528f61f6ec0bc0": {
     "model_module": "@jupyter-widgets/base",
     "model_module_version": "1.2.0",
     "model_name": "LayoutModel",
     "state": {
      "_model_module": "@jupyter-widgets/base",
      "_model_module_version": "1.2.0",
      "_model_name": "LayoutModel",
      "_view_count": null,
      "_view_module": "@jupyter-widgets/base",
      "_view_module_version": "1.2.0",
      "_view_name": "LayoutView",
      "align_content": null,
      "align_items": null,
      "align_self": null,
      "border": null,
      "bottom": null,
      "display": null,
      "flex": null,
      "flex_flow": null,
      "grid_area": null,
      "grid_auto_columns": null,
      "grid_auto_flow": null,
      "grid_auto_rows": null,
      "grid_column": null,
      "grid_gap": null,
      "grid_row": null,
      "grid_template_areas": null,
      "grid_template_columns": null,
      "grid_template_rows": null,
      "height": null,
      "justify_content": null,
      "justify_items": null,
      "left": null,
      "margin": null,
      "max_height": null,
      "max_width": null,
      "min_height": null,
      "min_width": null,
      "object_fit": null,
      "object_position": null,
      "order": null,
      "overflow": null,
      "overflow_x": null,
      "overflow_y": null,
      "padding": null,
      "right": null,
      "top": null,
      "visibility": null,
      "width": null
     }
    },
    "ef70e0a68f7b4d6398a45f52f3380abe": {
     "model_module": "@jupyter-widgets/controls",
     "model_module_version": "1.5.0",
     "model_name": "ProgressStyleModel",
     "state": {
      "_model_module": "@jupyter-widgets/controls",
      "_model_module_version": "1.5.0",
      "_model_name": "ProgressStyleModel",
      "_view_count": null,
      "_view_module": "@jupyter-widgets/base",
      "_view_module_version": "1.2.0",
      "_view_name": "StyleView",
      "bar_color": null,
      "description_width": ""
     }
    },
    "f017b1669b7343e480b0cd040fd31e9d": {
     "model_module": "@jupyter-widgets/base",
     "model_module_version": "1.2.0",
     "model_name": "LayoutModel",
     "state": {
      "_model_module": "@jupyter-widgets/base",
      "_model_module_version": "1.2.0",
      "_model_name": "LayoutModel",
      "_view_count": null,
      "_view_module": "@jupyter-widgets/base",
      "_view_module_version": "1.2.0",
      "_view_name": "LayoutView",
      "align_content": null,
      "align_items": null,
      "align_self": null,
      "border": null,
      "bottom": null,
      "display": null,
      "flex": null,
      "flex_flow": null,
      "grid_area": null,
      "grid_auto_columns": null,
      "grid_auto_flow": null,
      "grid_auto_rows": null,
      "grid_column": null,
      "grid_gap": null,
      "grid_row": null,
      "grid_template_areas": null,
      "grid_template_columns": null,
      "grid_template_rows": null,
      "height": null,
      "justify_content": null,
      "justify_items": null,
      "left": null,
      "margin": null,
      "max_height": null,
      "max_width": null,
      "min_height": null,
      "min_width": null,
      "object_fit": null,
      "object_position": null,
      "order": null,
      "overflow": null,
      "overflow_x": null,
      "overflow_y": null,
      "padding": null,
      "right": null,
      "top": null,
      "visibility": null,
      "width": null
     }
    },
    "f26f492d329944d4a04e55034fcf4a22": {
     "model_module": "@jupyter-widgets/base",
     "model_module_version": "1.2.0",
     "model_name": "LayoutModel",
     "state": {
      "_model_module": "@jupyter-widgets/base",
      "_model_module_version": "1.2.0",
      "_model_name": "LayoutModel",
      "_view_count": null,
      "_view_module": "@jupyter-widgets/base",
      "_view_module_version": "1.2.0",
      "_view_name": "LayoutView",
      "align_content": null,
      "align_items": null,
      "align_self": null,
      "border": null,
      "bottom": null,
      "display": null,
      "flex": null,
      "flex_flow": null,
      "grid_area": null,
      "grid_auto_columns": null,
      "grid_auto_flow": null,
      "grid_auto_rows": null,
      "grid_column": null,
      "grid_gap": null,
      "grid_row": null,
      "grid_template_areas": null,
      "grid_template_columns": null,
      "grid_template_rows": null,
      "height": null,
      "justify_content": null,
      "justify_items": null,
      "left": null,
      "margin": null,
      "max_height": null,
      "max_width": null,
      "min_height": null,
      "min_width": null,
      "object_fit": null,
      "object_position": null,
      "order": null,
      "overflow": null,
      "overflow_x": null,
      "overflow_y": null,
      "padding": null,
      "right": null,
      "top": null,
      "visibility": null,
      "width": null
     }
    },
    "f5ffa81e87b8428bb524be88c8b0369a": {
     "model_module": "@jupyter-widgets/controls",
     "model_module_version": "1.5.0",
     "model_name": "HTMLModel",
     "state": {
      "_dom_classes": [],
      "_model_module": "@jupyter-widgets/controls",
      "_model_module_version": "1.5.0",
      "_model_name": "HTMLModel",
      "_view_count": null,
      "_view_module": "@jupyter-widgets/controls",
      "_view_module_version": "1.5.0",
      "_view_name": "HTMLView",
      "description": "",
      "description_tooltip": null,
      "layout": "IPY_MODEL_eb7c496d8d1d417090528f61f6ec0bc0",
      "placeholder": "​",
      "style": "IPY_MODEL_5239e03afc66470dbf11a5cbe2988690",
      "value": "Epoch:   0%"
     }
    },
    "f788cf300a3c4264a5851508c72cf733": {
     "model_module": "@jupyter-widgets/controls",
     "model_module_version": "1.5.0",
     "model_name": "HTMLModel",
     "state": {
      "_dom_classes": [],
      "_model_module": "@jupyter-widgets/controls",
      "_model_module_version": "1.5.0",
      "_model_name": "HTMLModel",
      "_view_count": null,
      "_view_module": "@jupyter-widgets/controls",
      "_view_module_version": "1.5.0",
      "_view_name": "HTMLView",
      "description": "",
      "description_tooltip": null,
      "layout": "IPY_MODEL_b15f8a46ce6a40dc9296ad15e21e13d1",
      "placeholder": "​",
      "style": "IPY_MODEL_e623dfe017b940208dd7caa9f6964935",
      "value": " 360/360 [02:51&lt;00:00,  2.06it/s]"
     }
    },
    "fb49780850d54bd984164e181cc44212": {
     "model_module": "@jupyter-widgets/controls",
     "model_module_version": "1.5.0",
     "model_name": "ProgressStyleModel",
     "state": {
      "_model_module": "@jupyter-widgets/controls",
      "_model_module_version": "1.5.0",
      "_model_name": "ProgressStyleModel",
      "_view_count": null,
      "_view_module": "@jupyter-widgets/base",
      "_view_module_version": "1.2.0",
      "_view_name": "StyleView",
      "bar_color": null,
      "description_width": ""
     }
    },
    "fba14dc5ff994d579f0c1b640f10e587": {
     "model_module": "@jupyter-widgets/controls",
     "model_module_version": "1.5.0",
     "model_name": "HTMLModel",
     "state": {
      "_dom_classes": [],
      "_model_module": "@jupyter-widgets/controls",
      "_model_module_version": "1.5.0",
      "_model_name": "HTMLModel",
      "_view_count": null,
      "_view_module": "@jupyter-widgets/controls",
      "_view_module_version": "1.5.0",
      "_view_name": "HTMLView",
      "description": "",
      "description_tooltip": null,
      "layout": "IPY_MODEL_737941777520426aa5a2126df88ce26f",
      "placeholder": "​",
      "style": "IPY_MODEL_d186ee1f70684b358348b774cba9f1c0",
      "value": " 1/1 [03:03&lt;00:00, 183.97s/it]"
     }
    },
    "ffe68cc84da141449cd72273a58fbcc0": {
     "model_module": "@jupyter-widgets/base",
     "model_module_version": "1.2.0",
     "model_name": "LayoutModel",
     "state": {
      "_model_module": "@jupyter-widgets/base",
      "_model_module_version": "1.2.0",
      "_model_name": "LayoutModel",
      "_view_count": null,
      "_view_module": "@jupyter-widgets/base",
      "_view_module_version": "1.2.0",
      "_view_name": "LayoutView",
      "align_content": null,
      "align_items": null,
      "align_self": null,
      "border": null,
      "bottom": null,
      "display": null,
      "flex": null,
      "flex_flow": null,
      "grid_area": null,
      "grid_auto_columns": null,
      "grid_auto_flow": null,
      "grid_auto_rows": null,
      "grid_column": null,
      "grid_gap": null,
      "grid_row": null,
      "grid_template_areas": null,
      "grid_template_columns": null,
      "grid_template_rows": null,
      "height": null,
      "justify_content": null,
      "justify_items": null,
      "left": null,
      "margin": null,
      "max_height": null,
      "max_width": null,
      "min_height": null,
      "min_width": null,
      "object_fit": null,
      "object_position": null,
      "order": null,
      "overflow": null,
      "overflow_x": null,
      "overflow_y": null,
      "padding": null,
      "right": null,
      "top": null,
      "visibility": null,
      "width": null
     }
    }
   }
  }
 },
 "nbformat": 4,
 "nbformat_minor": 1
}
